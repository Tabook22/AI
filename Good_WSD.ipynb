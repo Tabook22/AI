{
  "nbformat": 4,
  "nbformat_minor": 0,
  "metadata": {
    "colab": {
      "provenance": [],
      "gpuType": "T4",
      "toc_visible": true,
      "mount_file_id": "1tlnd2_FI5HirZCOBlTHX-lfbl4V6Thuz",
      "authorship_tag": "ABX9TyNG04MwVBE+qV1jxtV+fvsW",
      "include_colab_link": true
    },
    "kernelspec": {
      "name": "python3",
      "display_name": "Python 3"
    },
    "language_info": {
      "name": "python"
    },
    "accelerator": "GPU",
    "widgets": {
      "application/vnd.jupyter.widget-state+json": {
        "8baa68a8b12f4629a1c08f314705cac8": {
          "model_module": "@jupyter-widgets/controls",
          "model_name": "HBoxModel",
          "model_module_version": "1.5.0",
          "state": {
            "_dom_classes": [],
            "_model_module": "@jupyter-widgets/controls",
            "_model_module_version": "1.5.0",
            "_model_name": "HBoxModel",
            "_view_count": null,
            "_view_module": "@jupyter-widgets/controls",
            "_view_module_version": "1.5.0",
            "_view_name": "HBoxView",
            "box_style": "",
            "children": [
              "IPY_MODEL_23e92059fb91443e80ab1f2729714b8d",
              "IPY_MODEL_26a8664686df401db014479fea22647a",
              "IPY_MODEL_8a10f5883e4a468ab04122eba7e2d845"
            ],
            "layout": "IPY_MODEL_32d68c6885624e378a751a7356d54941"
          }
        },
        "23e92059fb91443e80ab1f2729714b8d": {
          "model_module": "@jupyter-widgets/controls",
          "model_name": "HTMLModel",
          "model_module_version": "1.5.0",
          "state": {
            "_dom_classes": [],
            "_model_module": "@jupyter-widgets/controls",
            "_model_module_version": "1.5.0",
            "_model_name": "HTMLModel",
            "_view_count": null,
            "_view_module": "@jupyter-widgets/controls",
            "_view_module_version": "1.5.0",
            "_view_name": "HTMLView",
            "description": "",
            "description_tooltip": null,
            "layout": "IPY_MODEL_0b000d29b5554a83b1612496e4e546cd",
            "placeholder": "​",
            "style": "IPY_MODEL_69557d6b4e6e453d9d35c5426d591856",
            "value": "tokenizer_config.json: 100%"
          }
        },
        "26a8664686df401db014479fea22647a": {
          "model_module": "@jupyter-widgets/controls",
          "model_name": "FloatProgressModel",
          "model_module_version": "1.5.0",
          "state": {
            "_dom_classes": [],
            "_model_module": "@jupyter-widgets/controls",
            "_model_module_version": "1.5.0",
            "_model_name": "FloatProgressModel",
            "_view_count": null,
            "_view_module": "@jupyter-widgets/controls",
            "_view_module_version": "1.5.0",
            "_view_name": "ProgressView",
            "bar_style": "success",
            "description": "",
            "description_tooltip": null,
            "layout": "IPY_MODEL_7d434891ca03401bad49bbd6438d5565",
            "max": 86,
            "min": 0,
            "orientation": "horizontal",
            "style": "IPY_MODEL_0f6f6562ff8f4f1a8bff840a2b919d87",
            "value": 86
          }
        },
        "8a10f5883e4a468ab04122eba7e2d845": {
          "model_module": "@jupyter-widgets/controls",
          "model_name": "HTMLModel",
          "model_module_version": "1.5.0",
          "state": {
            "_dom_classes": [],
            "_model_module": "@jupyter-widgets/controls",
            "_model_module_version": "1.5.0",
            "_model_name": "HTMLModel",
            "_view_count": null,
            "_view_module": "@jupyter-widgets/controls",
            "_view_module_version": "1.5.0",
            "_view_name": "HTMLView",
            "description": "",
            "description_tooltip": null,
            "layout": "IPY_MODEL_8d337bd278eb4b6f85e823b9126d7ba2",
            "placeholder": "​",
            "style": "IPY_MODEL_488ce194df1643eaa45f8671a2b9b930",
            "value": " 86.0/86.0 [00:00&lt;00:00, 4.26kB/s]"
          }
        },
        "32d68c6885624e378a751a7356d54941": {
          "model_module": "@jupyter-widgets/base",
          "model_name": "LayoutModel",
          "model_module_version": "1.2.0",
          "state": {
            "_model_module": "@jupyter-widgets/base",
            "_model_module_version": "1.2.0",
            "_model_name": "LayoutModel",
            "_view_count": null,
            "_view_module": "@jupyter-widgets/base",
            "_view_module_version": "1.2.0",
            "_view_name": "LayoutView",
            "align_content": null,
            "align_items": null,
            "align_self": null,
            "border": null,
            "bottom": null,
            "display": null,
            "flex": null,
            "flex_flow": null,
            "grid_area": null,
            "grid_auto_columns": null,
            "grid_auto_flow": null,
            "grid_auto_rows": null,
            "grid_column": null,
            "grid_gap": null,
            "grid_row": null,
            "grid_template_areas": null,
            "grid_template_columns": null,
            "grid_template_rows": null,
            "height": null,
            "justify_content": null,
            "justify_items": null,
            "left": null,
            "margin": null,
            "max_height": null,
            "max_width": null,
            "min_height": null,
            "min_width": null,
            "object_fit": null,
            "object_position": null,
            "order": null,
            "overflow": null,
            "overflow_x": null,
            "overflow_y": null,
            "padding": null,
            "right": null,
            "top": null,
            "visibility": null,
            "width": null
          }
        },
        "0b000d29b5554a83b1612496e4e546cd": {
          "model_module": "@jupyter-widgets/base",
          "model_name": "LayoutModel",
          "model_module_version": "1.2.0",
          "state": {
            "_model_module": "@jupyter-widgets/base",
            "_model_module_version": "1.2.0",
            "_model_name": "LayoutModel",
            "_view_count": null,
            "_view_module": "@jupyter-widgets/base",
            "_view_module_version": "1.2.0",
            "_view_name": "LayoutView",
            "align_content": null,
            "align_items": null,
            "align_self": null,
            "border": null,
            "bottom": null,
            "display": null,
            "flex": null,
            "flex_flow": null,
            "grid_area": null,
            "grid_auto_columns": null,
            "grid_auto_flow": null,
            "grid_auto_rows": null,
            "grid_column": null,
            "grid_gap": null,
            "grid_row": null,
            "grid_template_areas": null,
            "grid_template_columns": null,
            "grid_template_rows": null,
            "height": null,
            "justify_content": null,
            "justify_items": null,
            "left": null,
            "margin": null,
            "max_height": null,
            "max_width": null,
            "min_height": null,
            "min_width": null,
            "object_fit": null,
            "object_position": null,
            "order": null,
            "overflow": null,
            "overflow_x": null,
            "overflow_y": null,
            "padding": null,
            "right": null,
            "top": null,
            "visibility": null,
            "width": null
          }
        },
        "69557d6b4e6e453d9d35c5426d591856": {
          "model_module": "@jupyter-widgets/controls",
          "model_name": "DescriptionStyleModel",
          "model_module_version": "1.5.0",
          "state": {
            "_model_module": "@jupyter-widgets/controls",
            "_model_module_version": "1.5.0",
            "_model_name": "DescriptionStyleModel",
            "_view_count": null,
            "_view_module": "@jupyter-widgets/base",
            "_view_module_version": "1.2.0",
            "_view_name": "StyleView",
            "description_width": ""
          }
        },
        "7d434891ca03401bad49bbd6438d5565": {
          "model_module": "@jupyter-widgets/base",
          "model_name": "LayoutModel",
          "model_module_version": "1.2.0",
          "state": {
            "_model_module": "@jupyter-widgets/base",
            "_model_module_version": "1.2.0",
            "_model_name": "LayoutModel",
            "_view_count": null,
            "_view_module": "@jupyter-widgets/base",
            "_view_module_version": "1.2.0",
            "_view_name": "LayoutView",
            "align_content": null,
            "align_items": null,
            "align_self": null,
            "border": null,
            "bottom": null,
            "display": null,
            "flex": null,
            "flex_flow": null,
            "grid_area": null,
            "grid_auto_columns": null,
            "grid_auto_flow": null,
            "grid_auto_rows": null,
            "grid_column": null,
            "grid_gap": null,
            "grid_row": null,
            "grid_template_areas": null,
            "grid_template_columns": null,
            "grid_template_rows": null,
            "height": null,
            "justify_content": null,
            "justify_items": null,
            "left": null,
            "margin": null,
            "max_height": null,
            "max_width": null,
            "min_height": null,
            "min_width": null,
            "object_fit": null,
            "object_position": null,
            "order": null,
            "overflow": null,
            "overflow_x": null,
            "overflow_y": null,
            "padding": null,
            "right": null,
            "top": null,
            "visibility": null,
            "width": null
          }
        },
        "0f6f6562ff8f4f1a8bff840a2b919d87": {
          "model_module": "@jupyter-widgets/controls",
          "model_name": "ProgressStyleModel",
          "model_module_version": "1.5.0",
          "state": {
            "_model_module": "@jupyter-widgets/controls",
            "_model_module_version": "1.5.0",
            "_model_name": "ProgressStyleModel",
            "_view_count": null,
            "_view_module": "@jupyter-widgets/base",
            "_view_module_version": "1.2.0",
            "_view_name": "StyleView",
            "bar_color": null,
            "description_width": ""
          }
        },
        "8d337bd278eb4b6f85e823b9126d7ba2": {
          "model_module": "@jupyter-widgets/base",
          "model_name": "LayoutModel",
          "model_module_version": "1.2.0",
          "state": {
            "_model_module": "@jupyter-widgets/base",
            "_model_module_version": "1.2.0",
            "_model_name": "LayoutModel",
            "_view_count": null,
            "_view_module": "@jupyter-widgets/base",
            "_view_module_version": "1.2.0",
            "_view_name": "LayoutView",
            "align_content": null,
            "align_items": null,
            "align_self": null,
            "border": null,
            "bottom": null,
            "display": null,
            "flex": null,
            "flex_flow": null,
            "grid_area": null,
            "grid_auto_columns": null,
            "grid_auto_flow": null,
            "grid_auto_rows": null,
            "grid_column": null,
            "grid_gap": null,
            "grid_row": null,
            "grid_template_areas": null,
            "grid_template_columns": null,
            "grid_template_rows": null,
            "height": null,
            "justify_content": null,
            "justify_items": null,
            "left": null,
            "margin": null,
            "max_height": null,
            "max_width": null,
            "min_height": null,
            "min_width": null,
            "object_fit": null,
            "object_position": null,
            "order": null,
            "overflow": null,
            "overflow_x": null,
            "overflow_y": null,
            "padding": null,
            "right": null,
            "top": null,
            "visibility": null,
            "width": null
          }
        },
        "488ce194df1643eaa45f8671a2b9b930": {
          "model_module": "@jupyter-widgets/controls",
          "model_name": "DescriptionStyleModel",
          "model_module_version": "1.5.0",
          "state": {
            "_model_module": "@jupyter-widgets/controls",
            "_model_module_version": "1.5.0",
            "_model_name": "DescriptionStyleModel",
            "_view_count": null,
            "_view_module": "@jupyter-widgets/base",
            "_view_module_version": "1.2.0",
            "_view_name": "StyleView",
            "description_width": ""
          }
        },
        "079686b7fa39401eac356b7f55571a6f": {
          "model_module": "@jupyter-widgets/controls",
          "model_name": "HBoxModel",
          "model_module_version": "1.5.0",
          "state": {
            "_dom_classes": [],
            "_model_module": "@jupyter-widgets/controls",
            "_model_module_version": "1.5.0",
            "_model_name": "HBoxModel",
            "_view_count": null,
            "_view_module": "@jupyter-widgets/controls",
            "_view_module_version": "1.5.0",
            "_view_name": "HBoxView",
            "box_style": "",
            "children": [
              "IPY_MODEL_e7f57c0adec14ec6a3a29420cecda41d",
              "IPY_MODEL_a86406ec85d941ccbd0f55a68d4f089a",
              "IPY_MODEL_f313a96967004da2abb3f38cc434cfdd"
            ],
            "layout": "IPY_MODEL_af93cd738b4c436daa2bd72306e40dcd"
          }
        },
        "e7f57c0adec14ec6a3a29420cecda41d": {
          "model_module": "@jupyter-widgets/controls",
          "model_name": "HTMLModel",
          "model_module_version": "1.5.0",
          "state": {
            "_dom_classes": [],
            "_model_module": "@jupyter-widgets/controls",
            "_model_module_version": "1.5.0",
            "_model_name": "HTMLModel",
            "_view_count": null,
            "_view_module": "@jupyter-widgets/controls",
            "_view_module_version": "1.5.0",
            "_view_name": "HTMLView",
            "description": "",
            "description_tooltip": null,
            "layout": "IPY_MODEL_fd816d9b3cdb4b32b585888b1c0afd36",
            "placeholder": "​",
            "style": "IPY_MODEL_a32ed0de40f548bda090020fa51702d9",
            "value": "config.json: 100%"
          }
        },
        "a86406ec85d941ccbd0f55a68d4f089a": {
          "model_module": "@jupyter-widgets/controls",
          "model_name": "FloatProgressModel",
          "model_module_version": "1.5.0",
          "state": {
            "_dom_classes": [],
            "_model_module": "@jupyter-widgets/controls",
            "_model_module_version": "1.5.0",
            "_model_name": "FloatProgressModel",
            "_view_count": null,
            "_view_module": "@jupyter-widgets/controls",
            "_view_module_version": "1.5.0",
            "_view_name": "ProgressView",
            "bar_style": "success",
            "description": "",
            "description_tooltip": null,
            "layout": "IPY_MODEL_fe66ff12708940f180444878e067bd83",
            "max": 468,
            "min": 0,
            "orientation": "horizontal",
            "style": "IPY_MODEL_35f40d5440a74baaa8aae74ac644e3bd",
            "value": 468
          }
        },
        "f313a96967004da2abb3f38cc434cfdd": {
          "model_module": "@jupyter-widgets/controls",
          "model_name": "HTMLModel",
          "model_module_version": "1.5.0",
          "state": {
            "_dom_classes": [],
            "_model_module": "@jupyter-widgets/controls",
            "_model_module_version": "1.5.0",
            "_model_name": "HTMLModel",
            "_view_count": null,
            "_view_module": "@jupyter-widgets/controls",
            "_view_module_version": "1.5.0",
            "_view_name": "HTMLView",
            "description": "",
            "description_tooltip": null,
            "layout": "IPY_MODEL_ad93fb790444410d932cf629fe5d9a24",
            "placeholder": "​",
            "style": "IPY_MODEL_ac60ac2c4fa04e76b25deeb893bfe49b",
            "value": " 468/468 [00:00&lt;00:00, 27.4kB/s]"
          }
        },
        "af93cd738b4c436daa2bd72306e40dcd": {
          "model_module": "@jupyter-widgets/base",
          "model_name": "LayoutModel",
          "model_module_version": "1.2.0",
          "state": {
            "_model_module": "@jupyter-widgets/base",
            "_model_module_version": "1.2.0",
            "_model_name": "LayoutModel",
            "_view_count": null,
            "_view_module": "@jupyter-widgets/base",
            "_view_module_version": "1.2.0",
            "_view_name": "LayoutView",
            "align_content": null,
            "align_items": null,
            "align_self": null,
            "border": null,
            "bottom": null,
            "display": null,
            "flex": null,
            "flex_flow": null,
            "grid_area": null,
            "grid_auto_columns": null,
            "grid_auto_flow": null,
            "grid_auto_rows": null,
            "grid_column": null,
            "grid_gap": null,
            "grid_row": null,
            "grid_template_areas": null,
            "grid_template_columns": null,
            "grid_template_rows": null,
            "height": null,
            "justify_content": null,
            "justify_items": null,
            "left": null,
            "margin": null,
            "max_height": null,
            "max_width": null,
            "min_height": null,
            "min_width": null,
            "object_fit": null,
            "object_position": null,
            "order": null,
            "overflow": null,
            "overflow_x": null,
            "overflow_y": null,
            "padding": null,
            "right": null,
            "top": null,
            "visibility": null,
            "width": null
          }
        },
        "fd816d9b3cdb4b32b585888b1c0afd36": {
          "model_module": "@jupyter-widgets/base",
          "model_name": "LayoutModel",
          "model_module_version": "1.2.0",
          "state": {
            "_model_module": "@jupyter-widgets/base",
            "_model_module_version": "1.2.0",
            "_model_name": "LayoutModel",
            "_view_count": null,
            "_view_module": "@jupyter-widgets/base",
            "_view_module_version": "1.2.0",
            "_view_name": "LayoutView",
            "align_content": null,
            "align_items": null,
            "align_self": null,
            "border": null,
            "bottom": null,
            "display": null,
            "flex": null,
            "flex_flow": null,
            "grid_area": null,
            "grid_auto_columns": null,
            "grid_auto_flow": null,
            "grid_auto_rows": null,
            "grid_column": null,
            "grid_gap": null,
            "grid_row": null,
            "grid_template_areas": null,
            "grid_template_columns": null,
            "grid_template_rows": null,
            "height": null,
            "justify_content": null,
            "justify_items": null,
            "left": null,
            "margin": null,
            "max_height": null,
            "max_width": null,
            "min_height": null,
            "min_width": null,
            "object_fit": null,
            "object_position": null,
            "order": null,
            "overflow": null,
            "overflow_x": null,
            "overflow_y": null,
            "padding": null,
            "right": null,
            "top": null,
            "visibility": null,
            "width": null
          }
        },
        "a32ed0de40f548bda090020fa51702d9": {
          "model_module": "@jupyter-widgets/controls",
          "model_name": "DescriptionStyleModel",
          "model_module_version": "1.5.0",
          "state": {
            "_model_module": "@jupyter-widgets/controls",
            "_model_module_version": "1.5.0",
            "_model_name": "DescriptionStyleModel",
            "_view_count": null,
            "_view_module": "@jupyter-widgets/base",
            "_view_module_version": "1.2.0",
            "_view_name": "StyleView",
            "description_width": ""
          }
        },
        "fe66ff12708940f180444878e067bd83": {
          "model_module": "@jupyter-widgets/base",
          "model_name": "LayoutModel",
          "model_module_version": "1.2.0",
          "state": {
            "_model_module": "@jupyter-widgets/base",
            "_model_module_version": "1.2.0",
            "_model_name": "LayoutModel",
            "_view_count": null,
            "_view_module": "@jupyter-widgets/base",
            "_view_module_version": "1.2.0",
            "_view_name": "LayoutView",
            "align_content": null,
            "align_items": null,
            "align_self": null,
            "border": null,
            "bottom": null,
            "display": null,
            "flex": null,
            "flex_flow": null,
            "grid_area": null,
            "grid_auto_columns": null,
            "grid_auto_flow": null,
            "grid_auto_rows": null,
            "grid_column": null,
            "grid_gap": null,
            "grid_row": null,
            "grid_template_areas": null,
            "grid_template_columns": null,
            "grid_template_rows": null,
            "height": null,
            "justify_content": null,
            "justify_items": null,
            "left": null,
            "margin": null,
            "max_height": null,
            "max_width": null,
            "min_height": null,
            "min_width": null,
            "object_fit": null,
            "object_position": null,
            "order": null,
            "overflow": null,
            "overflow_x": null,
            "overflow_y": null,
            "padding": null,
            "right": null,
            "top": null,
            "visibility": null,
            "width": null
          }
        },
        "35f40d5440a74baaa8aae74ac644e3bd": {
          "model_module": "@jupyter-widgets/controls",
          "model_name": "ProgressStyleModel",
          "model_module_version": "1.5.0",
          "state": {
            "_model_module": "@jupyter-widgets/controls",
            "_model_module_version": "1.5.0",
            "_model_name": "ProgressStyleModel",
            "_view_count": null,
            "_view_module": "@jupyter-widgets/base",
            "_view_module_version": "1.2.0",
            "_view_name": "StyleView",
            "bar_color": null,
            "description_width": ""
          }
        },
        "ad93fb790444410d932cf629fe5d9a24": {
          "model_module": "@jupyter-widgets/base",
          "model_name": "LayoutModel",
          "model_module_version": "1.2.0",
          "state": {
            "_model_module": "@jupyter-widgets/base",
            "_model_module_version": "1.2.0",
            "_model_name": "LayoutModel",
            "_view_count": null,
            "_view_module": "@jupyter-widgets/base",
            "_view_module_version": "1.2.0",
            "_view_name": "LayoutView",
            "align_content": null,
            "align_items": null,
            "align_self": null,
            "border": null,
            "bottom": null,
            "display": null,
            "flex": null,
            "flex_flow": null,
            "grid_area": null,
            "grid_auto_columns": null,
            "grid_auto_flow": null,
            "grid_auto_rows": null,
            "grid_column": null,
            "grid_gap": null,
            "grid_row": null,
            "grid_template_areas": null,
            "grid_template_columns": null,
            "grid_template_rows": null,
            "height": null,
            "justify_content": null,
            "justify_items": null,
            "left": null,
            "margin": null,
            "max_height": null,
            "max_width": null,
            "min_height": null,
            "min_width": null,
            "object_fit": null,
            "object_position": null,
            "order": null,
            "overflow": null,
            "overflow_x": null,
            "overflow_y": null,
            "padding": null,
            "right": null,
            "top": null,
            "visibility": null,
            "width": null
          }
        },
        "ac60ac2c4fa04e76b25deeb893bfe49b": {
          "model_module": "@jupyter-widgets/controls",
          "model_name": "DescriptionStyleModel",
          "model_module_version": "1.5.0",
          "state": {
            "_model_module": "@jupyter-widgets/controls",
            "_model_module_version": "1.5.0",
            "_model_name": "DescriptionStyleModel",
            "_view_count": null,
            "_view_module": "@jupyter-widgets/base",
            "_view_module_version": "1.2.0",
            "_view_name": "StyleView",
            "description_width": ""
          }
        },
        "f66c83ed35d940d9a7a3c01d71e3440d": {
          "model_module": "@jupyter-widgets/controls",
          "model_name": "HBoxModel",
          "model_module_version": "1.5.0",
          "state": {
            "_dom_classes": [],
            "_model_module": "@jupyter-widgets/controls",
            "_model_module_version": "1.5.0",
            "_model_name": "HBoxModel",
            "_view_count": null,
            "_view_module": "@jupyter-widgets/controls",
            "_view_module_version": "1.5.0",
            "_view_name": "HBoxView",
            "box_style": "",
            "children": [
              "IPY_MODEL_f313870279ad4f79b0a70d2e89f79beb",
              "IPY_MODEL_871f92da1476442991487ea2507099f7",
              "IPY_MODEL_3431e45f7b5b40d3afb671781f59ebd4"
            ],
            "layout": "IPY_MODEL_6c5c893cc8b141259e593d6d60b7387b"
          }
        },
        "f313870279ad4f79b0a70d2e89f79beb": {
          "model_module": "@jupyter-widgets/controls",
          "model_name": "HTMLModel",
          "model_module_version": "1.5.0",
          "state": {
            "_dom_classes": [],
            "_model_module": "@jupyter-widgets/controls",
            "_model_module_version": "1.5.0",
            "_model_name": "HTMLModel",
            "_view_count": null,
            "_view_module": "@jupyter-widgets/controls",
            "_view_module_version": "1.5.0",
            "_view_name": "HTMLView",
            "description": "",
            "description_tooltip": null,
            "layout": "IPY_MODEL_bb545bd59b3a456ab616397c2126b96b",
            "placeholder": "​",
            "style": "IPY_MODEL_0155923a8b0143fd81d0b308bded3527",
            "value": "vocab.txt: 100%"
          }
        },
        "871f92da1476442991487ea2507099f7": {
          "model_module": "@jupyter-widgets/controls",
          "model_name": "FloatProgressModel",
          "model_module_version": "1.5.0",
          "state": {
            "_dom_classes": [],
            "_model_module": "@jupyter-widgets/controls",
            "_model_module_version": "1.5.0",
            "_model_name": "FloatProgressModel",
            "_view_count": null,
            "_view_module": "@jupyter-widgets/controls",
            "_view_module_version": "1.5.0",
            "_view_name": "ProgressView",
            "bar_style": "success",
            "description": "",
            "description_tooltip": null,
            "layout": "IPY_MODEL_d50ead11a2bc48468837f51171c4b1f5",
            "max": 304561,
            "min": 0,
            "orientation": "horizontal",
            "style": "IPY_MODEL_4051ef6d8b80433c9a91927a0ae13e0a",
            "value": 304561
          }
        },
        "3431e45f7b5b40d3afb671781f59ebd4": {
          "model_module": "@jupyter-widgets/controls",
          "model_name": "HTMLModel",
          "model_module_version": "1.5.0",
          "state": {
            "_dom_classes": [],
            "_model_module": "@jupyter-widgets/controls",
            "_model_module_version": "1.5.0",
            "_model_name": "HTMLModel",
            "_view_count": null,
            "_view_module": "@jupyter-widgets/controls",
            "_view_module_version": "1.5.0",
            "_view_name": "HTMLView",
            "description": "",
            "description_tooltip": null,
            "layout": "IPY_MODEL_8cb3b90fd97e4786a8b383b34dcc61ed",
            "placeholder": "​",
            "style": "IPY_MODEL_c52a375ae59c48bfadbe634e837d6f78",
            "value": " 305k/305k [00:00&lt;00:00, 7.07MB/s]"
          }
        },
        "6c5c893cc8b141259e593d6d60b7387b": {
          "model_module": "@jupyter-widgets/base",
          "model_name": "LayoutModel",
          "model_module_version": "1.2.0",
          "state": {
            "_model_module": "@jupyter-widgets/base",
            "_model_module_version": "1.2.0",
            "_model_name": "LayoutModel",
            "_view_count": null,
            "_view_module": "@jupyter-widgets/base",
            "_view_module_version": "1.2.0",
            "_view_name": "LayoutView",
            "align_content": null,
            "align_items": null,
            "align_self": null,
            "border": null,
            "bottom": null,
            "display": null,
            "flex": null,
            "flex_flow": null,
            "grid_area": null,
            "grid_auto_columns": null,
            "grid_auto_flow": null,
            "grid_auto_rows": null,
            "grid_column": null,
            "grid_gap": null,
            "grid_row": null,
            "grid_template_areas": null,
            "grid_template_columns": null,
            "grid_template_rows": null,
            "height": null,
            "justify_content": null,
            "justify_items": null,
            "left": null,
            "margin": null,
            "max_height": null,
            "max_width": null,
            "min_height": null,
            "min_width": null,
            "object_fit": null,
            "object_position": null,
            "order": null,
            "overflow": null,
            "overflow_x": null,
            "overflow_y": null,
            "padding": null,
            "right": null,
            "top": null,
            "visibility": null,
            "width": null
          }
        },
        "bb545bd59b3a456ab616397c2126b96b": {
          "model_module": "@jupyter-widgets/base",
          "model_name": "LayoutModel",
          "model_module_version": "1.2.0",
          "state": {
            "_model_module": "@jupyter-widgets/base",
            "_model_module_version": "1.2.0",
            "_model_name": "LayoutModel",
            "_view_count": null,
            "_view_module": "@jupyter-widgets/base",
            "_view_module_version": "1.2.0",
            "_view_name": "LayoutView",
            "align_content": null,
            "align_items": null,
            "align_self": null,
            "border": null,
            "bottom": null,
            "display": null,
            "flex": null,
            "flex_flow": null,
            "grid_area": null,
            "grid_auto_columns": null,
            "grid_auto_flow": null,
            "grid_auto_rows": null,
            "grid_column": null,
            "grid_gap": null,
            "grid_row": null,
            "grid_template_areas": null,
            "grid_template_columns": null,
            "grid_template_rows": null,
            "height": null,
            "justify_content": null,
            "justify_items": null,
            "left": null,
            "margin": null,
            "max_height": null,
            "max_width": null,
            "min_height": null,
            "min_width": null,
            "object_fit": null,
            "object_position": null,
            "order": null,
            "overflow": null,
            "overflow_x": null,
            "overflow_y": null,
            "padding": null,
            "right": null,
            "top": null,
            "visibility": null,
            "width": null
          }
        },
        "0155923a8b0143fd81d0b308bded3527": {
          "model_module": "@jupyter-widgets/controls",
          "model_name": "DescriptionStyleModel",
          "model_module_version": "1.5.0",
          "state": {
            "_model_module": "@jupyter-widgets/controls",
            "_model_module_version": "1.5.0",
            "_model_name": "DescriptionStyleModel",
            "_view_count": null,
            "_view_module": "@jupyter-widgets/base",
            "_view_module_version": "1.2.0",
            "_view_name": "StyleView",
            "description_width": ""
          }
        },
        "d50ead11a2bc48468837f51171c4b1f5": {
          "model_module": "@jupyter-widgets/base",
          "model_name": "LayoutModel",
          "model_module_version": "1.2.0",
          "state": {
            "_model_module": "@jupyter-widgets/base",
            "_model_module_version": "1.2.0",
            "_model_name": "LayoutModel",
            "_view_count": null,
            "_view_module": "@jupyter-widgets/base",
            "_view_module_version": "1.2.0",
            "_view_name": "LayoutView",
            "align_content": null,
            "align_items": null,
            "align_self": null,
            "border": null,
            "bottom": null,
            "display": null,
            "flex": null,
            "flex_flow": null,
            "grid_area": null,
            "grid_auto_columns": null,
            "grid_auto_flow": null,
            "grid_auto_rows": null,
            "grid_column": null,
            "grid_gap": null,
            "grid_row": null,
            "grid_template_areas": null,
            "grid_template_columns": null,
            "grid_template_rows": null,
            "height": null,
            "justify_content": null,
            "justify_items": null,
            "left": null,
            "margin": null,
            "max_height": null,
            "max_width": null,
            "min_height": null,
            "min_width": null,
            "object_fit": null,
            "object_position": null,
            "order": null,
            "overflow": null,
            "overflow_x": null,
            "overflow_y": null,
            "padding": null,
            "right": null,
            "top": null,
            "visibility": null,
            "width": null
          }
        },
        "4051ef6d8b80433c9a91927a0ae13e0a": {
          "model_module": "@jupyter-widgets/controls",
          "model_name": "ProgressStyleModel",
          "model_module_version": "1.5.0",
          "state": {
            "_model_module": "@jupyter-widgets/controls",
            "_model_module_version": "1.5.0",
            "_model_name": "ProgressStyleModel",
            "_view_count": null,
            "_view_module": "@jupyter-widgets/base",
            "_view_module_version": "1.2.0",
            "_view_name": "StyleView",
            "bar_color": null,
            "description_width": ""
          }
        },
        "8cb3b90fd97e4786a8b383b34dcc61ed": {
          "model_module": "@jupyter-widgets/base",
          "model_name": "LayoutModel",
          "model_module_version": "1.2.0",
          "state": {
            "_model_module": "@jupyter-widgets/base",
            "_model_module_version": "1.2.0",
            "_model_name": "LayoutModel",
            "_view_count": null,
            "_view_module": "@jupyter-widgets/base",
            "_view_module_version": "1.2.0",
            "_view_name": "LayoutView",
            "align_content": null,
            "align_items": null,
            "align_self": null,
            "border": null,
            "bottom": null,
            "display": null,
            "flex": null,
            "flex_flow": null,
            "grid_area": null,
            "grid_auto_columns": null,
            "grid_auto_flow": null,
            "grid_auto_rows": null,
            "grid_column": null,
            "grid_gap": null,
            "grid_row": null,
            "grid_template_areas": null,
            "grid_template_columns": null,
            "grid_template_rows": null,
            "height": null,
            "justify_content": null,
            "justify_items": null,
            "left": null,
            "margin": null,
            "max_height": null,
            "max_width": null,
            "min_height": null,
            "min_width": null,
            "object_fit": null,
            "object_position": null,
            "order": null,
            "overflow": null,
            "overflow_x": null,
            "overflow_y": null,
            "padding": null,
            "right": null,
            "top": null,
            "visibility": null,
            "width": null
          }
        },
        "c52a375ae59c48bfadbe634e837d6f78": {
          "model_module": "@jupyter-widgets/controls",
          "model_name": "DescriptionStyleModel",
          "model_module_version": "1.5.0",
          "state": {
            "_model_module": "@jupyter-widgets/controls",
            "_model_module_version": "1.5.0",
            "_model_name": "DescriptionStyleModel",
            "_view_count": null,
            "_view_module": "@jupyter-widgets/base",
            "_view_module_version": "1.2.0",
            "_view_name": "StyleView",
            "description_width": ""
          }
        },
        "7e9ea54893a04dd780ad3c9c8425b6e8": {
          "model_module": "@jupyter-widgets/controls",
          "model_name": "HBoxModel",
          "model_module_version": "1.5.0",
          "state": {
            "_dom_classes": [],
            "_model_module": "@jupyter-widgets/controls",
            "_model_module_version": "1.5.0",
            "_model_name": "HBoxModel",
            "_view_count": null,
            "_view_module": "@jupyter-widgets/controls",
            "_view_module_version": "1.5.0",
            "_view_name": "HBoxView",
            "box_style": "",
            "children": [
              "IPY_MODEL_825caf132af64aca86c8a9268adb5569",
              "IPY_MODEL_ba3fe0377de34465be91a9df88e364e2",
              "IPY_MODEL_e8613234a1014c09853a9d0445c5ca17"
            ],
            "layout": "IPY_MODEL_ce5f2144fbd641e8ae8bdb691124d623"
          }
        },
        "825caf132af64aca86c8a9268adb5569": {
          "model_module": "@jupyter-widgets/controls",
          "model_name": "HTMLModel",
          "model_module_version": "1.5.0",
          "state": {
            "_dom_classes": [],
            "_model_module": "@jupyter-widgets/controls",
            "_model_module_version": "1.5.0",
            "_model_name": "HTMLModel",
            "_view_count": null,
            "_view_module": "@jupyter-widgets/controls",
            "_view_module_version": "1.5.0",
            "_view_name": "HTMLView",
            "description": "",
            "description_tooltip": null,
            "layout": "IPY_MODEL_5e8d5a1dfd4d49c28fe1e29b4af5d67e",
            "placeholder": "​",
            "style": "IPY_MODEL_94a2bf4d8c904f26b17cecb743905eb5",
            "value": "special_tokens_map.json: 100%"
          }
        },
        "ba3fe0377de34465be91a9df88e364e2": {
          "model_module": "@jupyter-widgets/controls",
          "model_name": "FloatProgressModel",
          "model_module_version": "1.5.0",
          "state": {
            "_dom_classes": [],
            "_model_module": "@jupyter-widgets/controls",
            "_model_module_version": "1.5.0",
            "_model_name": "FloatProgressModel",
            "_view_count": null,
            "_view_module": "@jupyter-widgets/controls",
            "_view_module_version": "1.5.0",
            "_view_name": "ProgressView",
            "bar_style": "success",
            "description": "",
            "description_tooltip": null,
            "layout": "IPY_MODEL_02710005bbfb493fa198147b4c3dc830",
            "max": 112,
            "min": 0,
            "orientation": "horizontal",
            "style": "IPY_MODEL_170281cbd66c47fc9230ee335052268d",
            "value": 112
          }
        },
        "e8613234a1014c09853a9d0445c5ca17": {
          "model_module": "@jupyter-widgets/controls",
          "model_name": "HTMLModel",
          "model_module_version": "1.5.0",
          "state": {
            "_dom_classes": [],
            "_model_module": "@jupyter-widgets/controls",
            "_model_module_version": "1.5.0",
            "_model_name": "HTMLModel",
            "_view_count": null,
            "_view_module": "@jupyter-widgets/controls",
            "_view_module_version": "1.5.0",
            "_view_name": "HTMLView",
            "description": "",
            "description_tooltip": null,
            "layout": "IPY_MODEL_2b84ee9c26cc4ce4845c9209f1e93fd1",
            "placeholder": "​",
            "style": "IPY_MODEL_ab56e84819d4445083cbf319fa01cf6b",
            "value": " 112/112 [00:00&lt;00:00, 4.97kB/s]"
          }
        },
        "ce5f2144fbd641e8ae8bdb691124d623": {
          "model_module": "@jupyter-widgets/base",
          "model_name": "LayoutModel",
          "model_module_version": "1.2.0",
          "state": {
            "_model_module": "@jupyter-widgets/base",
            "_model_module_version": "1.2.0",
            "_model_name": "LayoutModel",
            "_view_count": null,
            "_view_module": "@jupyter-widgets/base",
            "_view_module_version": "1.2.0",
            "_view_name": "LayoutView",
            "align_content": null,
            "align_items": null,
            "align_self": null,
            "border": null,
            "bottom": null,
            "display": null,
            "flex": null,
            "flex_flow": null,
            "grid_area": null,
            "grid_auto_columns": null,
            "grid_auto_flow": null,
            "grid_auto_rows": null,
            "grid_column": null,
            "grid_gap": null,
            "grid_row": null,
            "grid_template_areas": null,
            "grid_template_columns": null,
            "grid_template_rows": null,
            "height": null,
            "justify_content": null,
            "justify_items": null,
            "left": null,
            "margin": null,
            "max_height": null,
            "max_width": null,
            "min_height": null,
            "min_width": null,
            "object_fit": null,
            "object_position": null,
            "order": null,
            "overflow": null,
            "overflow_x": null,
            "overflow_y": null,
            "padding": null,
            "right": null,
            "top": null,
            "visibility": null,
            "width": null
          }
        },
        "5e8d5a1dfd4d49c28fe1e29b4af5d67e": {
          "model_module": "@jupyter-widgets/base",
          "model_name": "LayoutModel",
          "model_module_version": "1.2.0",
          "state": {
            "_model_module": "@jupyter-widgets/base",
            "_model_module_version": "1.2.0",
            "_model_name": "LayoutModel",
            "_view_count": null,
            "_view_module": "@jupyter-widgets/base",
            "_view_module_version": "1.2.0",
            "_view_name": "LayoutView",
            "align_content": null,
            "align_items": null,
            "align_self": null,
            "border": null,
            "bottom": null,
            "display": null,
            "flex": null,
            "flex_flow": null,
            "grid_area": null,
            "grid_auto_columns": null,
            "grid_auto_flow": null,
            "grid_auto_rows": null,
            "grid_column": null,
            "grid_gap": null,
            "grid_row": null,
            "grid_template_areas": null,
            "grid_template_columns": null,
            "grid_template_rows": null,
            "height": null,
            "justify_content": null,
            "justify_items": null,
            "left": null,
            "margin": null,
            "max_height": null,
            "max_width": null,
            "min_height": null,
            "min_width": null,
            "object_fit": null,
            "object_position": null,
            "order": null,
            "overflow": null,
            "overflow_x": null,
            "overflow_y": null,
            "padding": null,
            "right": null,
            "top": null,
            "visibility": null,
            "width": null
          }
        },
        "94a2bf4d8c904f26b17cecb743905eb5": {
          "model_module": "@jupyter-widgets/controls",
          "model_name": "DescriptionStyleModel",
          "model_module_version": "1.5.0",
          "state": {
            "_model_module": "@jupyter-widgets/controls",
            "_model_module_version": "1.5.0",
            "_model_name": "DescriptionStyleModel",
            "_view_count": null,
            "_view_module": "@jupyter-widgets/base",
            "_view_module_version": "1.2.0",
            "_view_name": "StyleView",
            "description_width": ""
          }
        },
        "02710005bbfb493fa198147b4c3dc830": {
          "model_module": "@jupyter-widgets/base",
          "model_name": "LayoutModel",
          "model_module_version": "1.2.0",
          "state": {
            "_model_module": "@jupyter-widgets/base",
            "_model_module_version": "1.2.0",
            "_model_name": "LayoutModel",
            "_view_count": null,
            "_view_module": "@jupyter-widgets/base",
            "_view_module_version": "1.2.0",
            "_view_name": "LayoutView",
            "align_content": null,
            "align_items": null,
            "align_self": null,
            "border": null,
            "bottom": null,
            "display": null,
            "flex": null,
            "flex_flow": null,
            "grid_area": null,
            "grid_auto_columns": null,
            "grid_auto_flow": null,
            "grid_auto_rows": null,
            "grid_column": null,
            "grid_gap": null,
            "grid_row": null,
            "grid_template_areas": null,
            "grid_template_columns": null,
            "grid_template_rows": null,
            "height": null,
            "justify_content": null,
            "justify_items": null,
            "left": null,
            "margin": null,
            "max_height": null,
            "max_width": null,
            "min_height": null,
            "min_width": null,
            "object_fit": null,
            "object_position": null,
            "order": null,
            "overflow": null,
            "overflow_x": null,
            "overflow_y": null,
            "padding": null,
            "right": null,
            "top": null,
            "visibility": null,
            "width": null
          }
        },
        "170281cbd66c47fc9230ee335052268d": {
          "model_module": "@jupyter-widgets/controls",
          "model_name": "ProgressStyleModel",
          "model_module_version": "1.5.0",
          "state": {
            "_model_module": "@jupyter-widgets/controls",
            "_model_module_version": "1.5.0",
            "_model_name": "ProgressStyleModel",
            "_view_count": null,
            "_view_module": "@jupyter-widgets/base",
            "_view_module_version": "1.2.0",
            "_view_name": "StyleView",
            "bar_color": null,
            "description_width": ""
          }
        },
        "2b84ee9c26cc4ce4845c9209f1e93fd1": {
          "model_module": "@jupyter-widgets/base",
          "model_name": "LayoutModel",
          "model_module_version": "1.2.0",
          "state": {
            "_model_module": "@jupyter-widgets/base",
            "_model_module_version": "1.2.0",
            "_model_name": "LayoutModel",
            "_view_count": null,
            "_view_module": "@jupyter-widgets/base",
            "_view_module_version": "1.2.0",
            "_view_name": "LayoutView",
            "align_content": null,
            "align_items": null,
            "align_self": null,
            "border": null,
            "bottom": null,
            "display": null,
            "flex": null,
            "flex_flow": null,
            "grid_area": null,
            "grid_auto_columns": null,
            "grid_auto_flow": null,
            "grid_auto_rows": null,
            "grid_column": null,
            "grid_gap": null,
            "grid_row": null,
            "grid_template_areas": null,
            "grid_template_columns": null,
            "grid_template_rows": null,
            "height": null,
            "justify_content": null,
            "justify_items": null,
            "left": null,
            "margin": null,
            "max_height": null,
            "max_width": null,
            "min_height": null,
            "min_width": null,
            "object_fit": null,
            "object_position": null,
            "order": null,
            "overflow": null,
            "overflow_x": null,
            "overflow_y": null,
            "padding": null,
            "right": null,
            "top": null,
            "visibility": null,
            "width": null
          }
        },
        "ab56e84819d4445083cbf319fa01cf6b": {
          "model_module": "@jupyter-widgets/controls",
          "model_name": "DescriptionStyleModel",
          "model_module_version": "1.5.0",
          "state": {
            "_model_module": "@jupyter-widgets/controls",
            "_model_module_version": "1.5.0",
            "_model_name": "DescriptionStyleModel",
            "_view_count": null,
            "_view_module": "@jupyter-widgets/base",
            "_view_module_version": "1.2.0",
            "_view_name": "StyleView",
            "description_width": ""
          }
        },
        "de32ac59d89f4711b2b2fd658569d1b7": {
          "model_module": "@jupyter-widgets/controls",
          "model_name": "HBoxModel",
          "model_module_version": "1.5.0",
          "state": {
            "_dom_classes": [],
            "_model_module": "@jupyter-widgets/controls",
            "_model_module_version": "1.5.0",
            "_model_name": "HBoxModel",
            "_view_count": null,
            "_view_module": "@jupyter-widgets/controls",
            "_view_module_version": "1.5.0",
            "_view_name": "HBoxView",
            "box_style": "",
            "children": [
              "IPY_MODEL_93e6f440dcaa4fef9d9f92792a005751",
              "IPY_MODEL_34738ab603824b4e8f53d1318df8964d",
              "IPY_MODEL_24dab1b50489447a9b8491d2935ad060"
            ],
            "layout": "IPY_MODEL_9833728059164c25af010631ea007c28"
          }
        },
        "93e6f440dcaa4fef9d9f92792a005751": {
          "model_module": "@jupyter-widgets/controls",
          "model_name": "HTMLModel",
          "model_module_version": "1.5.0",
          "state": {
            "_dom_classes": [],
            "_model_module": "@jupyter-widgets/controls",
            "_model_module_version": "1.5.0",
            "_model_name": "HTMLModel",
            "_view_count": null,
            "_view_module": "@jupyter-widgets/controls",
            "_view_module_version": "1.5.0",
            "_view_name": "HTMLView",
            "description": "",
            "description_tooltip": null,
            "layout": "IPY_MODEL_0480f7f1e5254b4581c461907911d101",
            "placeholder": "​",
            "style": "IPY_MODEL_104d78b00baf4c168ee8a273152fe8ae",
            "value": "pytorch_model.bin: 100%"
          }
        },
        "34738ab603824b4e8f53d1318df8964d": {
          "model_module": "@jupyter-widgets/controls",
          "model_name": "FloatProgressModel",
          "model_module_version": "1.5.0",
          "state": {
            "_dom_classes": [],
            "_model_module": "@jupyter-widgets/controls",
            "_model_module_version": "1.5.0",
            "_model_name": "FloatProgressModel",
            "_view_count": null,
            "_view_module": "@jupyter-widgets/controls",
            "_view_module_version": "1.5.0",
            "_view_name": "ProgressView",
            "bar_style": "success",
            "description": "",
            "description_tooltip": null,
            "layout": "IPY_MODEL_d4f31d67f2224b83a472ed46f23e597c",
            "max": 438873130,
            "min": 0,
            "orientation": "horizontal",
            "style": "IPY_MODEL_ade5dd120cf64cafab1a3217bbdf4f57",
            "value": 438873130
          }
        },
        "24dab1b50489447a9b8491d2935ad060": {
          "model_module": "@jupyter-widgets/controls",
          "model_name": "HTMLModel",
          "model_module_version": "1.5.0",
          "state": {
            "_dom_classes": [],
            "_model_module": "@jupyter-widgets/controls",
            "_model_module_version": "1.5.0",
            "_model_name": "HTMLModel",
            "_view_count": null,
            "_view_module": "@jupyter-widgets/controls",
            "_view_module_version": "1.5.0",
            "_view_name": "HTMLView",
            "description": "",
            "description_tooltip": null,
            "layout": "IPY_MODEL_74f078d442af4792a1d66257a411e9d2",
            "placeholder": "​",
            "style": "IPY_MODEL_98e7c27627d946aa8a3c5ce92d757178",
            "value": " 439M/439M [00:09&lt;00:00, 54.5MB/s]"
          }
        },
        "9833728059164c25af010631ea007c28": {
          "model_module": "@jupyter-widgets/base",
          "model_name": "LayoutModel",
          "model_module_version": "1.2.0",
          "state": {
            "_model_module": "@jupyter-widgets/base",
            "_model_module_version": "1.2.0",
            "_model_name": "LayoutModel",
            "_view_count": null,
            "_view_module": "@jupyter-widgets/base",
            "_view_module_version": "1.2.0",
            "_view_name": "LayoutView",
            "align_content": null,
            "align_items": null,
            "align_self": null,
            "border": null,
            "bottom": null,
            "display": null,
            "flex": null,
            "flex_flow": null,
            "grid_area": null,
            "grid_auto_columns": null,
            "grid_auto_flow": null,
            "grid_auto_rows": null,
            "grid_column": null,
            "grid_gap": null,
            "grid_row": null,
            "grid_template_areas": null,
            "grid_template_columns": null,
            "grid_template_rows": null,
            "height": null,
            "justify_content": null,
            "justify_items": null,
            "left": null,
            "margin": null,
            "max_height": null,
            "max_width": null,
            "min_height": null,
            "min_width": null,
            "object_fit": null,
            "object_position": null,
            "order": null,
            "overflow": null,
            "overflow_x": null,
            "overflow_y": null,
            "padding": null,
            "right": null,
            "top": null,
            "visibility": null,
            "width": null
          }
        },
        "0480f7f1e5254b4581c461907911d101": {
          "model_module": "@jupyter-widgets/base",
          "model_name": "LayoutModel",
          "model_module_version": "1.2.0",
          "state": {
            "_model_module": "@jupyter-widgets/base",
            "_model_module_version": "1.2.0",
            "_model_name": "LayoutModel",
            "_view_count": null,
            "_view_module": "@jupyter-widgets/base",
            "_view_module_version": "1.2.0",
            "_view_name": "LayoutView",
            "align_content": null,
            "align_items": null,
            "align_self": null,
            "border": null,
            "bottom": null,
            "display": null,
            "flex": null,
            "flex_flow": null,
            "grid_area": null,
            "grid_auto_columns": null,
            "grid_auto_flow": null,
            "grid_auto_rows": null,
            "grid_column": null,
            "grid_gap": null,
            "grid_row": null,
            "grid_template_areas": null,
            "grid_template_columns": null,
            "grid_template_rows": null,
            "height": null,
            "justify_content": null,
            "justify_items": null,
            "left": null,
            "margin": null,
            "max_height": null,
            "max_width": null,
            "min_height": null,
            "min_width": null,
            "object_fit": null,
            "object_position": null,
            "order": null,
            "overflow": null,
            "overflow_x": null,
            "overflow_y": null,
            "padding": null,
            "right": null,
            "top": null,
            "visibility": null,
            "width": null
          }
        },
        "104d78b00baf4c168ee8a273152fe8ae": {
          "model_module": "@jupyter-widgets/controls",
          "model_name": "DescriptionStyleModel",
          "model_module_version": "1.5.0",
          "state": {
            "_model_module": "@jupyter-widgets/controls",
            "_model_module_version": "1.5.0",
            "_model_name": "DescriptionStyleModel",
            "_view_count": null,
            "_view_module": "@jupyter-widgets/base",
            "_view_module_version": "1.2.0",
            "_view_name": "StyleView",
            "description_width": ""
          }
        },
        "d4f31d67f2224b83a472ed46f23e597c": {
          "model_module": "@jupyter-widgets/base",
          "model_name": "LayoutModel",
          "model_module_version": "1.2.0",
          "state": {
            "_model_module": "@jupyter-widgets/base",
            "_model_module_version": "1.2.0",
            "_model_name": "LayoutModel",
            "_view_count": null,
            "_view_module": "@jupyter-widgets/base",
            "_view_module_version": "1.2.0",
            "_view_name": "LayoutView",
            "align_content": null,
            "align_items": null,
            "align_self": null,
            "border": null,
            "bottom": null,
            "display": null,
            "flex": null,
            "flex_flow": null,
            "grid_area": null,
            "grid_auto_columns": null,
            "grid_auto_flow": null,
            "grid_auto_rows": null,
            "grid_column": null,
            "grid_gap": null,
            "grid_row": null,
            "grid_template_areas": null,
            "grid_template_columns": null,
            "grid_template_rows": null,
            "height": null,
            "justify_content": null,
            "justify_items": null,
            "left": null,
            "margin": null,
            "max_height": null,
            "max_width": null,
            "min_height": null,
            "min_width": null,
            "object_fit": null,
            "object_position": null,
            "order": null,
            "overflow": null,
            "overflow_x": null,
            "overflow_y": null,
            "padding": null,
            "right": null,
            "top": null,
            "visibility": null,
            "width": null
          }
        },
        "ade5dd120cf64cafab1a3217bbdf4f57": {
          "model_module": "@jupyter-widgets/controls",
          "model_name": "ProgressStyleModel",
          "model_module_version": "1.5.0",
          "state": {
            "_model_module": "@jupyter-widgets/controls",
            "_model_module_version": "1.5.0",
            "_model_name": "ProgressStyleModel",
            "_view_count": null,
            "_view_module": "@jupyter-widgets/base",
            "_view_module_version": "1.2.0",
            "_view_name": "StyleView",
            "bar_color": null,
            "description_width": ""
          }
        },
        "74f078d442af4792a1d66257a411e9d2": {
          "model_module": "@jupyter-widgets/base",
          "model_name": "LayoutModel",
          "model_module_version": "1.2.0",
          "state": {
            "_model_module": "@jupyter-widgets/base",
            "_model_module_version": "1.2.0",
            "_model_name": "LayoutModel",
            "_view_count": null,
            "_view_module": "@jupyter-widgets/base",
            "_view_module_version": "1.2.0",
            "_view_name": "LayoutView",
            "align_content": null,
            "align_items": null,
            "align_self": null,
            "border": null,
            "bottom": null,
            "display": null,
            "flex": null,
            "flex_flow": null,
            "grid_area": null,
            "grid_auto_columns": null,
            "grid_auto_flow": null,
            "grid_auto_rows": null,
            "grid_column": null,
            "grid_gap": null,
            "grid_row": null,
            "grid_template_areas": null,
            "grid_template_columns": null,
            "grid_template_rows": null,
            "height": null,
            "justify_content": null,
            "justify_items": null,
            "left": null,
            "margin": null,
            "max_height": null,
            "max_width": null,
            "min_height": null,
            "min_width": null,
            "object_fit": null,
            "object_position": null,
            "order": null,
            "overflow": null,
            "overflow_x": null,
            "overflow_y": null,
            "padding": null,
            "right": null,
            "top": null,
            "visibility": null,
            "width": null
          }
        },
        "98e7c27627d946aa8a3c5ce92d757178": {
          "model_module": "@jupyter-widgets/controls",
          "model_name": "DescriptionStyleModel",
          "model_module_version": "1.5.0",
          "state": {
            "_model_module": "@jupyter-widgets/controls",
            "_model_module_version": "1.5.0",
            "_model_name": "DescriptionStyleModel",
            "_view_count": null,
            "_view_module": "@jupyter-widgets/base",
            "_view_module_version": "1.2.0",
            "_view_name": "StyleView",
            "description_width": ""
          }
        }
      }
    }
  },
  "cells": [
    {
      "cell_type": "markdown",
      "metadata": {
        "id": "view-in-github",
        "colab_type": "text"
      },
      "source": [
        "<a href=\"https://colab.research.google.com/github/Tabook22/AI/blob/main/Good_WSD.ipynb\" target=\"_parent\"><img src=\"https://colab.research.google.com/assets/colab-badge.svg\" alt=\"Open In Colab\"/></a>"
      ]
    },
    {
      "cell_type": "code",
      "execution_count": null,
      "metadata": {
        "colab": {
          "base_uri": "https://localhost:8080/"
        },
        "id": "2M1oRQobi-mI",
        "outputId": "2087d410-4933-41d5-e0f8-1103535b6910"
      },
      "outputs": [
        {
          "metadata": {
            "tags": null
          },
          "name": "stdout",
          "output_type": "stream",
          "text": [
            "Requirement already satisfied: numpy in /usr/local/lib/python3.10/dist-packages (1.25.2)\n",
            "Requirement already satisfied: tqdm in /usr/local/lib/python3.10/dist-packages (4.66.4)\n",
            "Requirement already satisfied: scikit-learn in /usr/local/lib/python3.10/dist-packages (1.2.2)\n",
            "Requirement already satisfied: transformers in /usr/local/lib/python3.10/dist-packages (4.40.2)\n",
            "Requirement already satisfied: torch in /usr/local/lib/python3.10/dist-packages (2.2.1+cu121)\n",
            "Requirement already satisfied: scipy>=1.3.2 in /usr/local/lib/python3.10/dist-packages (from scikit-learn) (1.11.4)\n",
            "Requirement already satisfied: joblib>=1.1.1 in /usr/local/lib/python3.10/dist-packages (from scikit-learn) (1.4.2)\n",
            "Requirement already satisfied: threadpoolctl>=2.0.0 in /usr/local/lib/python3.10/dist-packages (from scikit-learn) (3.5.0)\n",
            "Requirement already satisfied: filelock in /usr/local/lib/python3.10/dist-packages (from transformers) (3.14.0)\n",
            "Requirement already satisfied: huggingface-hub<1.0,>=0.19.3 in /usr/local/lib/python3.10/dist-packages (from transformers) (0.20.3)\n",
            "Requirement already satisfied: packaging>=20.0 in /usr/local/lib/python3.10/dist-packages (from transformers) (24.0)\n",
            "Requirement already satisfied: pyyaml>=5.1 in /usr/local/lib/python3.10/dist-packages (from transformers) (6.0.1)\n",
            "Requirement already satisfied: regex!=2019.12.17 in /usr/local/lib/python3.10/dist-packages (from transformers) (2023.12.25)\n",
            "Requirement already satisfied: requests in /usr/local/lib/python3.10/dist-packages (from transformers) (2.31.0)\n",
            "Requirement already satisfied: tokenizers<0.20,>=0.19 in /usr/local/lib/python3.10/dist-packages (from transformers) (0.19.1)\n",
            "Requirement already satisfied: safetensors>=0.4.1 in /usr/local/lib/python3.10/dist-packages (from transformers) (0.4.3)\n",
            "Requirement already satisfied: typing-extensions>=4.8.0 in /usr/local/lib/python3.10/dist-packages (from torch) (4.11.0)\n",
            "Requirement already satisfied: sympy in /usr/local/lib/python3.10/dist-packages (from torch) (1.12)\n",
            "Requirement already satisfied: networkx in /usr/local/lib/python3.10/dist-packages (from torch) (3.3)\n",
            "Requirement already satisfied: jinja2 in /usr/local/lib/python3.10/dist-packages (from torch) (3.1.4)\n",
            "Requirement already satisfied: fsspec in /usr/local/lib/python3.10/dist-packages (from torch) (2023.6.0)\n",
            "Collecting nvidia-cuda-nvrtc-cu12==12.1.105 (from torch)\n",
            "  Using cached nvidia_cuda_nvrtc_cu12-12.1.105-py3-none-manylinux1_x86_64.whl (23.7 MB)\n",
            "Collecting nvidia-cuda-runtime-cu12==12.1.105 (from torch)\n",
            "  Using cached nvidia_cuda_runtime_cu12-12.1.105-py3-none-manylinux1_x86_64.whl (823 kB)\n",
            "Collecting nvidia-cuda-cupti-cu12==12.1.105 (from torch)\n",
            "  Using cached nvidia_cuda_cupti_cu12-12.1.105-py3-none-manylinux1_x86_64.whl (14.1 MB)\n",
            "Collecting nvidia-cudnn-cu12==8.9.2.26 (from torch)\n",
            "\u001b[31mERROR: Operation cancelled by user\u001b[0m\u001b[31m\n",
            "\u001b[0m"
          ]
        }
      ],
      "source": [
        "!pip install numpy tqdm scikit-learn transformers torch"
      ]
    },
    {
      "cell_type": "code",
      "source": [
        "import json\n",
        "import numpy as np\n",
        "from tqdm import tqdm\n",
        "from collections import defaultdict\n",
        "from sklearn.linear_model import LogisticRegression\n",
        "from sklearn.metrics import classification_report\n",
        "from transformers import AutoTokenizer, AutoModel\n",
        "import torch\n",
        "import time"
      ],
      "metadata": {
        "id": "jshIIioFjlYN"
      },
      "execution_count": null,
      "outputs": []
    },
    {
      "cell_type": "code",
      "source": [
        "# Load CAMeLBERT tokenizer and model\n",
        "tokenizer = AutoTokenizer.from_pretrained(\"CAMeL-Lab/bert-base-arabic-camelbert-msa\")\n",
        "model = AutoModel.from_pretrained(\"CAMeL-Lab/bert-base-arabic-camelbert-msa\")"
      ],
      "metadata": {
        "colab": {
          "base_uri": "https://localhost:8080/",
          "height": 281,
          "referenced_widgets": [
            "8baa68a8b12f4629a1c08f314705cac8",
            "23e92059fb91443e80ab1f2729714b8d",
            "26a8664686df401db014479fea22647a",
            "8a10f5883e4a468ab04122eba7e2d845",
            "32d68c6885624e378a751a7356d54941",
            "0b000d29b5554a83b1612496e4e546cd",
            "69557d6b4e6e453d9d35c5426d591856",
            "7d434891ca03401bad49bbd6438d5565",
            "0f6f6562ff8f4f1a8bff840a2b919d87",
            "8d337bd278eb4b6f85e823b9126d7ba2",
            "488ce194df1643eaa45f8671a2b9b930",
            "079686b7fa39401eac356b7f55571a6f",
            "e7f57c0adec14ec6a3a29420cecda41d",
            "a86406ec85d941ccbd0f55a68d4f089a",
            "f313a96967004da2abb3f38cc434cfdd",
            "af93cd738b4c436daa2bd72306e40dcd",
            "fd816d9b3cdb4b32b585888b1c0afd36",
            "a32ed0de40f548bda090020fa51702d9",
            "fe66ff12708940f180444878e067bd83",
            "35f40d5440a74baaa8aae74ac644e3bd",
            "ad93fb790444410d932cf629fe5d9a24",
            "ac60ac2c4fa04e76b25deeb893bfe49b",
            "f66c83ed35d940d9a7a3c01d71e3440d",
            "f313870279ad4f79b0a70d2e89f79beb",
            "871f92da1476442991487ea2507099f7",
            "3431e45f7b5b40d3afb671781f59ebd4",
            "6c5c893cc8b141259e593d6d60b7387b",
            "bb545bd59b3a456ab616397c2126b96b",
            "0155923a8b0143fd81d0b308bded3527",
            "d50ead11a2bc48468837f51171c4b1f5",
            "4051ef6d8b80433c9a91927a0ae13e0a",
            "8cb3b90fd97e4786a8b383b34dcc61ed",
            "c52a375ae59c48bfadbe634e837d6f78",
            "7e9ea54893a04dd780ad3c9c8425b6e8",
            "825caf132af64aca86c8a9268adb5569",
            "ba3fe0377de34465be91a9df88e364e2",
            "e8613234a1014c09853a9d0445c5ca17",
            "ce5f2144fbd641e8ae8bdb691124d623",
            "5e8d5a1dfd4d49c28fe1e29b4af5d67e",
            "94a2bf4d8c904f26b17cecb743905eb5",
            "02710005bbfb493fa198147b4c3dc830",
            "170281cbd66c47fc9230ee335052268d",
            "2b84ee9c26cc4ce4845c9209f1e93fd1",
            "ab56e84819d4445083cbf319fa01cf6b",
            "de32ac59d89f4711b2b2fd658569d1b7",
            "93e6f440dcaa4fef9d9f92792a005751",
            "34738ab603824b4e8f53d1318df8964d",
            "24dab1b50489447a9b8491d2935ad060",
            "9833728059164c25af010631ea007c28",
            "0480f7f1e5254b4581c461907911d101",
            "104d78b00baf4c168ee8a273152fe8ae",
            "d4f31d67f2224b83a472ed46f23e597c",
            "ade5dd120cf64cafab1a3217bbdf4f57",
            "74f078d442af4792a1d66257a411e9d2",
            "98e7c27627d946aa8a3c5ce92d757178"
          ]
        },
        "id": "gUpYjiFYjntF",
        "outputId": "f3552f49-ee77-4d2a-b6be-23d11009c8a4"
      },
      "execution_count": null,
      "outputs": [
        {
          "output_type": "stream",
          "name": "stderr",
          "text": [
            "/usr/local/lib/python3.10/dist-packages/huggingface_hub/utils/_token.py:88: UserWarning: \n",
            "The secret `HF_TOKEN` does not exist in your Colab secrets.\n",
            "To authenticate with the Hugging Face Hub, create a token in your settings tab (https://huggingface.co/settings/tokens), set it as secret in your Google Colab and restart your session.\n",
            "You will be able to reuse this secret in all of your notebooks.\n",
            "Please note that authentication is recommended but still optional to access public models or datasets.\n",
            "  warnings.warn(\n"
          ]
        },
        {
          "output_type": "display_data",
          "data": {
            "text/plain": [
              "tokenizer_config.json:   0%|          | 0.00/86.0 [00:00<?, ?B/s]"
            ],
            "application/vnd.jupyter.widget-view+json": {
              "version_major": 2,
              "version_minor": 0,
              "model_id": "8baa68a8b12f4629a1c08f314705cac8"
            }
          },
          "metadata": {}
        },
        {
          "output_type": "display_data",
          "data": {
            "text/plain": [
              "config.json:   0%|          | 0.00/468 [00:00<?, ?B/s]"
            ],
            "application/vnd.jupyter.widget-view+json": {
              "version_major": 2,
              "version_minor": 0,
              "model_id": "079686b7fa39401eac356b7f55571a6f"
            }
          },
          "metadata": {}
        },
        {
          "output_type": "display_data",
          "data": {
            "text/plain": [
              "vocab.txt:   0%|          | 0.00/305k [00:00<?, ?B/s]"
            ],
            "application/vnd.jupyter.widget-view+json": {
              "version_major": 2,
              "version_minor": 0,
              "model_id": "f66c83ed35d940d9a7a3c01d71e3440d"
            }
          },
          "metadata": {}
        },
        {
          "output_type": "display_data",
          "data": {
            "text/plain": [
              "special_tokens_map.json:   0%|          | 0.00/112 [00:00<?, ?B/s]"
            ],
            "application/vnd.jupyter.widget-view+json": {
              "version_major": 2,
              "version_minor": 0,
              "model_id": "7e9ea54893a04dd780ad3c9c8425b6e8"
            }
          },
          "metadata": {}
        },
        {
          "output_type": "display_data",
          "data": {
            "text/plain": [
              "pytorch_model.bin:   0%|          | 0.00/439M [00:00<?, ?B/s]"
            ],
            "application/vnd.jupyter.widget-view+json": {
              "version_major": 2,
              "version_minor": 0,
              "model_id": "de32ac59d89f4711b2b2fd658569d1b7"
            }
          },
          "metadata": {}
        }
      ]
    },
    {
      "cell_type": "code",
      "source": [
        "# Function to load JSON data\n",
        "def load_json(filepath):\n",
        "    with open(filepath, 'r', encoding='utf-8') as f:\n",
        "        return json.load(f)"
      ],
      "metadata": {
        "id": "9STDCzggjqzs"
      },
      "execution_count": null,
      "outputs": []
    },
    {
      "cell_type": "code",
      "source": [
        "# Prepare labeled data for training and evaluation\n",
        "def prepare_labeled_data(data, wsd_dict):\n",
        "    labeled_data = []\n",
        "    for entry in data:\n",
        "        word = entry['word']\n",
        "        lemma_id = entry['lemma_id']\n",
        "        correct_gloss_id = entry.get('gloss_id')\n",
        "        for sense in wsd_dict[lemma_id]:\n",
        "            labeled_data.append({\n",
        "                'context_id': entry['context_id'],\n",
        "                'context': entry['context'],\n",
        "                'word': word,\n",
        "                'lemma_id': lemma_id,\n",
        "                'gloss_id': sense['gloss_id'],\n",
        "                'gloss': sense['gloss'],\n",
        "                'label': 1 if sense['gloss_id'] == correct_gloss_id else 0\n",
        "            })\n",
        "    return labeled_data"
      ],
      "metadata": {
        "id": "4XDH2WY5jt0I"
      },
      "execution_count": null,
      "outputs": []
    },
    {
      "cell_type": "code",
      "source": [
        "# Extract or fetch cached embeddings for a given text\n",
        "embedding_cache = defaultdict(lambda: None)"
      ],
      "metadata": {
        "id": "38QLW3IFju6C"
      },
      "execution_count": null,
      "outputs": []
    },
    {
      "cell_type": "code",
      "source": [
        "def encode_text(text):\n",
        "    tokens = tokenizer(text, return_tensors='pt', padding=True, truncation=True, max_length=512)\n",
        "    return tokens\n",
        "\n",
        "def extract_embeddings(text):\n",
        "    tokens = encode_text(text)\n",
        "    with torch.no_grad():\n",
        "        output = model(**tokens)\n",
        "    return output.last_hidden_state.mean(dim=1).squeeze().numpy()\n",
        "\n",
        "def extract_embeddings_with_cache(text):\n",
        "    if embedding_cache[text] is None:\n",
        "        embedding_cache[text] = extract_embeddings(text)\n",
        "    return embedding_cache[text]"
      ],
      "metadata": {
        "id": "IaiwGNFFjwkz"
      },
      "execution_count": null,
      "outputs": []
    },
    {
      "cell_type": "code",
      "source": [
        "# Prepare features with progress monitoring every minute\n",
        "def prepare_features(data, log_interval=60):\n",
        "    features = []\n",
        "    start_time = time.time()\n",
        "    last_update_time = start_time\n",
        "    for i, entry in enumerate(tqdm(data, desc=\"Extracting Features\", unit=\"pair\")):\n",
        "        context_emb = extract_embeddings_with_cache(entry['context'])\n",
        "        gloss_emb = extract_embeddings_with_cache(entry['gloss'])\n",
        "        label = entry['label']\n",
        "        features.append((context_emb, gloss_emb, label))\n",
        "\n",
        "        current_time = time.time()\n",
        "        if current_time - last_update_time >= log_interval:\n",
        "            elapsed = current_time - start_time\n",
        "            progress = (i + 1) / len(data)\n",
        "            remaining = elapsed / progress - elapsed\n",
        "            tqdm.write(\n",
        "                f\"Progress: {progress * 100:.2f}% - Elapsed: {elapsed:.2f}s - Remaining: {remaining:.2f}s\"\n",
        "            )\n",
        "            last_update_time = current_time\n",
        "    return features"
      ],
      "metadata": {
        "id": "sRyf3GAPj0Pl"
      },
      "execution_count": null,
      "outputs": []
    },
    {
      "cell_type": "code",
      "source": [
        "# Concatenate features for classifier input\n",
        "def concatenate_features(features):\n",
        "    X, y = [], []\n",
        "    for context_emb, gloss_emb, label in features:\n",
        "        X.append(np.concatenate((context_emb, gloss_emb)))\n",
        "        y.append(label)\n",
        "    return np.array(X), np.array(y)"
      ],
      "metadata": {
        "id": "x17f00r0j3ta"
      },
      "execution_count": null,
      "outputs": []
    },
    {
      "cell_type": "code",
      "source": [
        "# Load all datasets\n",
        "train_data = load_json('/content/drive/MyDrive/WSD/Data/train.json') #The training dataset used to train the WSD model.\n",
        "dev_data = load_json('/content/drive/MyDrive/WSD/Data/dev.json')#The development or validation dataset used for model tuning and intermediate evaluations.\n",
        "#test_data = load_json('/content/drive/MyDrive/WSD/Data/test.json')#The test dataset used for final evaluation of the trained model.\n",
        "test_data = load_json('/content/drive/MyDrive/WSD/Data/test2.json')#The test dataset used for final evaluation of the trained model.\n",
        "wsd_dict_raw = load_json('/content/drive/MyDrive/WSD/Data/WSD_dict.json')#The dictionary containing the mapping between lemma IDs and their corresponding glosses."
      ],
      "metadata": {
        "colab": {
          "base_uri": "https://localhost:8080/",
          "height": 211
        },
        "id": "oiFM-EvJj6Z3",
        "outputId": "cf00084b-30c4-493c-f4e6-1706929ff1ed"
      },
      "execution_count": null,
      "outputs": [
        {
          "output_type": "error",
          "ename": "NameError",
          "evalue": "name 'load_json' is not defined",
          "traceback": [
            "\u001b[0;31m---------------------------------------------------------------------------\u001b[0m",
            "\u001b[0;31mNameError\u001b[0m                                 Traceback (most recent call last)",
            "\u001b[0;32m<ipython-input-1-e11024d665cd>\u001b[0m in \u001b[0;36m<cell line: 2>\u001b[0;34m()\u001b[0m\n\u001b[1;32m      1\u001b[0m \u001b[0;31m# Load all datasets\u001b[0m\u001b[0;34m\u001b[0m\u001b[0;34m\u001b[0m\u001b[0m\n\u001b[0;32m----> 2\u001b[0;31m \u001b[0mtrain_data\u001b[0m \u001b[0;34m=\u001b[0m \u001b[0mload_json\u001b[0m\u001b[0;34m(\u001b[0m\u001b[0;34m'/content/drive/MyDrive/WSD/Data/train.json'\u001b[0m\u001b[0;34m)\u001b[0m\u001b[0;34m\u001b[0m\u001b[0;34m\u001b[0m\u001b[0m\n\u001b[0m\u001b[1;32m      3\u001b[0m \u001b[0mdev_data\u001b[0m \u001b[0;34m=\u001b[0m \u001b[0mload_json\u001b[0m\u001b[0;34m(\u001b[0m\u001b[0;34m'/content/drive/MyDrive/WSD/Data/dev.json'\u001b[0m\u001b[0;34m)\u001b[0m\u001b[0;34m\u001b[0m\u001b[0;34m\u001b[0m\u001b[0m\n\u001b[1;32m      4\u001b[0m \u001b[0;31m#test_data = load_json('/content/drive/MyDrive/WSD/Data/test.json')\u001b[0m\u001b[0;34m\u001b[0m\u001b[0;34m\u001b[0m\u001b[0m\n\u001b[1;32m      5\u001b[0m \u001b[0mtest_data\u001b[0m \u001b[0;34m=\u001b[0m \u001b[0mload_json\u001b[0m\u001b[0;34m(\u001b[0m\u001b[0;34m'/content/drive/MyDrive/WSD/Data/test2.json'\u001b[0m\u001b[0;34m)\u001b[0m\u001b[0;34m\u001b[0m\u001b[0;34m\u001b[0m\u001b[0m\n",
            "\u001b[0;31mNameError\u001b[0m: name 'load_json' is not defined"
          ]
        }
      ]
    },
    {
      "cell_type": "code",
      "source": [
        "# Prepare WSD dictionary\n",
        "wsd_dict = defaultdict(list)\n",
        "for entry in wsd_dict_raw:\n",
        "    wsd_dict[entry['lemma_id']].append({\n",
        "        'gloss_id': entry['gloss_id'],\n",
        "        'gloss': entry['gloss']\n",
        "    })"
      ],
      "metadata": {
        "id": "r0FIjN-Oj_KU"
      },
      "execution_count": null,
      "outputs": []
    },
    {
      "cell_type": "code",
      "source": [
        "# Prepare labeled data\n",
        "train_labeled = prepare_labeled_data(train_data, wsd_dict)\n",
        "dev_labeled = prepare_labeled_data(dev_data, wsd_dict)"
      ],
      "metadata": {
        "id": "tlkXE19qkCJg"
      },
      "execution_count": null,
      "outputs": []
    },
    {
      "cell_type": "code",
      "source": [
        "# Extract features for training and development\n",
        "train_features = prepare_features(train_labeled)\n",
        "dev_features = prepare_features(dev_labeled)"
      ],
      "metadata": {
        "colab": {
          "base_uri": "https://localhost:8080/"
        },
        "id": "agPkeBEMkEtS",
        "outputId": "37c2f50f-d7e4-4cbe-ed81-2ba3abe950e9"
      },
      "execution_count": null,
      "outputs": [
        {
          "output_type": "stream",
          "name": "stderr",
          "text": [
            "Extracting Features:   9%|▉         | 10258/115424 [01:00<29:53, 58.63pair/s]"
          ]
        },
        {
          "output_type": "stream",
          "name": "stdout",
          "text": [
            "Progress: 8.88% - Elapsed: 60.02s - Remaining: 616.16s\n"
          ]
        },
        {
          "output_type": "stream",
          "name": "stderr",
          "text": [
            "Extracting Features:  12%|█▏        | 13474/115424 [02:00<49:37, 34.24pair/s]"
          ]
        },
        {
          "output_type": "stream",
          "name": "stdout",
          "text": [
            "Progress: 11.67% - Elapsed: 120.08s - Remaining: 908.85s\n"
          ]
        },
        {
          "output_type": "stream",
          "name": "stderr",
          "text": [
            "Extracting Features:  16%|█▌        | 18183/115424 [03:00<10:22, 156.25pair/s]"
          ]
        },
        {
          "output_type": "stream",
          "name": "stdout",
          "text": [
            "Progress: 15.73% - Elapsed: 180.14s - Remaining: 965.14s\n"
          ]
        },
        {
          "output_type": "stream",
          "name": "stderr",
          "text": [
            "Extracting Features:  20%|█▉        | 22878/115424 [04:00<17:11, 89.74pair/s]"
          ]
        },
        {
          "output_type": "stream",
          "name": "stdout",
          "text": [
            "Progress: 19.82% - Elapsed: 240.19s - Remaining: 971.60s\n"
          ]
        },
        {
          "output_type": "stream",
          "name": "stderr",
          "text": [
            "Extracting Features:  23%|██▎       | 26487/115424 [05:00<23:29, 63.12pair/s]"
          ]
        },
        {
          "output_type": "stream",
          "name": "stdout",
          "text": [
            "Progress: 22.95% - Elapsed: 300.30s - Remaining: 1008.35s\n"
          ]
        },
        {
          "output_type": "stream",
          "name": "stderr",
          "text": [
            "Extracting Features:  25%|██▍       | 28583/115424 [06:00<1:15:18, 19.22pair/s]"
          ]
        },
        {
          "output_type": "stream",
          "name": "stdout",
          "text": [
            "Progress: 24.76% - Elapsed: 360.51s - Remaining: 1095.51s\n"
          ]
        },
        {
          "output_type": "stream",
          "name": "stderr",
          "text": [
            "Extracting Features:  27%|██▋       | 31506/115424 [07:00<11:50, 118.08pair/s]"
          ]
        },
        {
          "output_type": "stream",
          "name": "stdout",
          "text": [
            "Progress: 27.27% - Elapsed: 420.60s - Remaining: 1122.00s\n"
          ]
        },
        {
          "output_type": "stream",
          "name": "stderr",
          "text": [
            "Extracting Features:  30%|███       | 34926/115424 [08:00<18:12, 73.65pair/s]"
          ]
        },
        {
          "output_type": "stream",
          "name": "stdout",
          "text": [
            "Progress: 30.27% - Elapsed: 480.62s - Remaining: 1107.33s\n"
          ]
        },
        {
          "output_type": "stream",
          "name": "stderr",
          "text": [
            "Extracting Features:  33%|███▎      | 38264/115424 [09:00<12:19, 104.31pair/s]"
          ]
        },
        {
          "output_type": "stream",
          "name": "stdout",
          "text": [
            "Progress: 33.16% - Elapsed: 540.63s - Remaining: 1089.68s\n"
          ]
        },
        {
          "output_type": "stream",
          "name": "stderr",
          "text": [
            "Extracting Features:  36%|███▌      | 41165/115424 [10:00<39:44, 31.14pair/s]"
          ]
        },
        {
          "output_type": "stream",
          "name": "stdout",
          "text": [
            "Progress: 35.66% - Elapsed: 600.70s - Remaining: 1083.75s\n"
          ]
        },
        {
          "output_type": "stream",
          "name": "stderr",
          "text": [
            "Extracting Features:  39%|███▉      | 45162/115424 [11:00<09:52, 118.53pair/s]"
          ]
        },
        {
          "output_type": "stream",
          "name": "stdout",
          "text": [
            "Progress: 39.13% - Elapsed: 660.73s - Remaining: 1027.96s\n"
          ]
        },
        {
          "output_type": "stream",
          "name": "stderr",
          "text": [
            "Extracting Features:  42%|████▏     | 48819/115424 [12:00<09:45, 113.73pair/s]"
          ]
        },
        {
          "output_type": "stream",
          "name": "stdout",
          "text": [
            "Progress: 42.28% - Elapsed: 720.87s - Remaining: 984.00s\n"
          ]
        },
        {
          "output_type": "stream",
          "name": "stderr",
          "text": [
            "Extracting Features:  46%|████▌     | 52793/115424 [13:01<16:55, 61.66pair/s]"
          ]
        },
        {
          "output_type": "stream",
          "name": "stdout",
          "text": [
            "Progress: 45.73% - Elapsed: 780.94s - Remaining: 926.86s\n"
          ]
        },
        {
          "output_type": "stream",
          "name": "stderr",
          "text": [
            "Extracting Features:  50%|████▉     | 57379/115424 [14:00<08:10, 118.26pair/s]"
          ]
        },
        {
          "output_type": "stream",
          "name": "stdout",
          "text": [
            "Progress: 49.71% - Elapsed: 840.97s - Remaining: 850.73s\n"
          ]
        },
        {
          "output_type": "stream",
          "name": "stderr",
          "text": [
            "Extracting Features:  55%|█████▍    | 62999/115424 [15:01<16:07, 54.20pair/s]"
          ]
        },
        {
          "output_type": "stream",
          "name": "stdout",
          "text": [
            "Progress: 54.57% - Elapsed: 901.00s - Remaining: 749.95s\n"
          ]
        },
        {
          "output_type": "stream",
          "name": "stderr",
          "text": [
            "Extracting Features:  59%|█████▉    | 68275/115424 [16:01<16:21, 48.05pair/s]"
          ]
        },
        {
          "output_type": "stream",
          "name": "stdout",
          "text": [
            "Progress: 59.15% - Elapsed: 961.06s - Remaining: 663.71s\n"
          ]
        },
        {
          "output_type": "stream",
          "name": "stderr",
          "text": [
            "Extracting Features:  63%|██████▎   | 72863/115424 [17:01<04:18, 164.58pair/s]"
          ]
        },
        {
          "output_type": "stream",
          "name": "stdout",
          "text": [
            "Progress: 63.13% - Elapsed: 1021.23s - Remaining: 596.52s\n"
          ]
        },
        {
          "output_type": "stream",
          "name": "stderr",
          "text": [
            "Extracting Features:  68%|██████▊   | 78364/115424 [18:01<13:15, 46.60pair/s]"
          ]
        },
        {
          "output_type": "stream",
          "name": "stdout",
          "text": [
            "Progress: 67.89% - Elapsed: 1081.28s - Remaining: 511.50s\n"
          ]
        },
        {
          "output_type": "stream",
          "name": "stderr",
          "text": [
            "Extracting Features:  73%|███████▎  | 84517/115424 [19:01<05:12, 98.78pair/s]"
          ]
        },
        {
          "output_type": "stream",
          "name": "stdout",
          "text": [
            "Progress: 73.21% - Elapsed: 1141.33s - Remaining: 417.65s\n"
          ]
        },
        {
          "output_type": "stream",
          "name": "stderr",
          "text": [
            "Extracting Features:  79%|███████▊  | 90656/115424 [20:01<06:10, 66.85pair/s]"
          ]
        },
        {
          "output_type": "stream",
          "name": "stdout",
          "text": [
            "Progress: 78.53% - Elapsed: 1201.41s - Remaining: 328.54s\n"
          ]
        },
        {
          "output_type": "stream",
          "name": "stderr",
          "text": [
            "Extracting Features:  82%|████████▏ | 94678/115424 [21:01<04:04, 84.97pair/s]"
          ]
        },
        {
          "output_type": "stream",
          "name": "stdout",
          "text": [
            "Progress: 82.02% - Elapsed: 1261.47s - Remaining: 276.61s\n"
          ]
        },
        {
          "output_type": "stream",
          "name": "stderr",
          "text": [
            "Extracting Features:  87%|████████▋ | 100301/115424 [22:01<09:58, 25.26pair/s]"
          ]
        },
        {
          "output_type": "stream",
          "name": "stdout",
          "text": [
            "Progress: 86.89% - Elapsed: 1321.53s - Remaining: 199.32s\n"
          ]
        },
        {
          "output_type": "stream",
          "name": "stderr",
          "text": [
            "Extracting Features:  93%|█████████▎| 107417/115424 [23:01<01:12, 110.76pair/s]"
          ]
        },
        {
          "output_type": "stream",
          "name": "stdout",
          "text": [
            "Progress: 93.06% - Elapsed: 1381.60s - Remaining: 102.99s\n"
          ]
        },
        {
          "output_type": "stream",
          "name": "stderr",
          "text": [
            "Extracting Features:  99%|█████████▉| 114386/115424 [24:01<00:08, 121.24pair/s]"
          ]
        },
        {
          "output_type": "stream",
          "name": "stdout",
          "text": [
            "Progress: 99.08% - Elapsed: 1441.63s - Remaining: 13.37s\n"
          ]
        },
        {
          "output_type": "stream",
          "name": "stderr",
          "text": [
            "Extracting Features: 100%|██████████| 115424/115424 [24:11<00:00, 79.54pair/s] \n",
            "Extracting Features: 100%|██████████| 14834/14834 [00:57<00:00, 257.84pair/s]\n"
          ]
        }
      ]
    },
    {
      "cell_type": "code",
      "source": [
        "# Prepare feature matrices\n",
        "X_train, y_train = concatenate_features(train_features)\n",
        "X_dev, y_dev = concatenate_features(dev_features)"
      ],
      "metadata": {
        "id": "xX9lGeCgkFtf"
      },
      "execution_count": null,
      "outputs": []
    },
    {
      "cell_type": "code",
      "source": [
        "# Train a logistic regression classifier with class weight adjustment\n",
        "class_weights = {0: 1, 1: 3}\n",
        "clf = LogisticRegression(max_iter=1000, class_weight=class_weights)\n",
        "clf.fit(X_train, y_train)"
      ],
      "metadata": {
        "colab": {
          "base_uri": "https://localhost:8080/",
          "height": 75
        },
        "id": "SUNhW1YTkIFV",
        "outputId": "5e4c41a2-4849-4dee-adf6-221ea7df3779"
      },
      "execution_count": null,
      "outputs": [
        {
          "output_type": "execute_result",
          "data": {
            "text/plain": [
              "LogisticRegression(class_weight={0: 1, 1: 3}, max_iter=1000)"
            ],
            "text/html": [
              "<style>#sk-container-id-1 {color: black;background-color: white;}#sk-container-id-1 pre{padding: 0;}#sk-container-id-1 div.sk-toggleable {background-color: white;}#sk-container-id-1 label.sk-toggleable__label {cursor: pointer;display: block;width: 100%;margin-bottom: 0;padding: 0.3em;box-sizing: border-box;text-align: center;}#sk-container-id-1 label.sk-toggleable__label-arrow:before {content: \"▸\";float: left;margin-right: 0.25em;color: #696969;}#sk-container-id-1 label.sk-toggleable__label-arrow:hover:before {color: black;}#sk-container-id-1 div.sk-estimator:hover label.sk-toggleable__label-arrow:before {color: black;}#sk-container-id-1 div.sk-toggleable__content {max-height: 0;max-width: 0;overflow: hidden;text-align: left;background-color: #f0f8ff;}#sk-container-id-1 div.sk-toggleable__content pre {margin: 0.2em;color: black;border-radius: 0.25em;background-color: #f0f8ff;}#sk-container-id-1 input.sk-toggleable__control:checked~div.sk-toggleable__content {max-height: 200px;max-width: 100%;overflow: auto;}#sk-container-id-1 input.sk-toggleable__control:checked~label.sk-toggleable__label-arrow:before {content: \"▾\";}#sk-container-id-1 div.sk-estimator input.sk-toggleable__control:checked~label.sk-toggleable__label {background-color: #d4ebff;}#sk-container-id-1 div.sk-label input.sk-toggleable__control:checked~label.sk-toggleable__label {background-color: #d4ebff;}#sk-container-id-1 input.sk-hidden--visually {border: 0;clip: rect(1px 1px 1px 1px);clip: rect(1px, 1px, 1px, 1px);height: 1px;margin: -1px;overflow: hidden;padding: 0;position: absolute;width: 1px;}#sk-container-id-1 div.sk-estimator {font-family: monospace;background-color: #f0f8ff;border: 1px dotted black;border-radius: 0.25em;box-sizing: border-box;margin-bottom: 0.5em;}#sk-container-id-1 div.sk-estimator:hover {background-color: #d4ebff;}#sk-container-id-1 div.sk-parallel-item::after {content: \"\";width: 100%;border-bottom: 1px solid gray;flex-grow: 1;}#sk-container-id-1 div.sk-label:hover label.sk-toggleable__label {background-color: #d4ebff;}#sk-container-id-1 div.sk-serial::before {content: \"\";position: absolute;border-left: 1px solid gray;box-sizing: border-box;top: 0;bottom: 0;left: 50%;z-index: 0;}#sk-container-id-1 div.sk-serial {display: flex;flex-direction: column;align-items: center;background-color: white;padding-right: 0.2em;padding-left: 0.2em;position: relative;}#sk-container-id-1 div.sk-item {position: relative;z-index: 1;}#sk-container-id-1 div.sk-parallel {display: flex;align-items: stretch;justify-content: center;background-color: white;position: relative;}#sk-container-id-1 div.sk-item::before, #sk-container-id-1 div.sk-parallel-item::before {content: \"\";position: absolute;border-left: 1px solid gray;box-sizing: border-box;top: 0;bottom: 0;left: 50%;z-index: -1;}#sk-container-id-1 div.sk-parallel-item {display: flex;flex-direction: column;z-index: 1;position: relative;background-color: white;}#sk-container-id-1 div.sk-parallel-item:first-child::after {align-self: flex-end;width: 50%;}#sk-container-id-1 div.sk-parallel-item:last-child::after {align-self: flex-start;width: 50%;}#sk-container-id-1 div.sk-parallel-item:only-child::after {width: 0;}#sk-container-id-1 div.sk-dashed-wrapped {border: 1px dashed gray;margin: 0 0.4em 0.5em 0.4em;box-sizing: border-box;padding-bottom: 0.4em;background-color: white;}#sk-container-id-1 div.sk-label label {font-family: monospace;font-weight: bold;display: inline-block;line-height: 1.2em;}#sk-container-id-1 div.sk-label-container {text-align: center;}#sk-container-id-1 div.sk-container {/* jupyter's `normalize.less` sets `[hidden] { display: none; }` but bootstrap.min.css set `[hidden] { display: none !important; }` so we also need the `!important` here to be able to override the default hidden behavior on the sphinx rendered scikit-learn.org. See: https://github.com/scikit-learn/scikit-learn/issues/21755 */display: inline-block !important;position: relative;}#sk-container-id-1 div.sk-text-repr-fallback {display: none;}</style><div id=\"sk-container-id-1\" class=\"sk-top-container\"><div class=\"sk-text-repr-fallback\"><pre>LogisticRegression(class_weight={0: 1, 1: 3}, max_iter=1000)</pre><b>In a Jupyter environment, please rerun this cell to show the HTML representation or trust the notebook. <br />On GitHub, the HTML representation is unable to render, please try loading this page with nbviewer.org.</b></div><div class=\"sk-container\" hidden><div class=\"sk-item\"><div class=\"sk-estimator sk-toggleable\"><input class=\"sk-toggleable__control sk-hidden--visually\" id=\"sk-estimator-id-1\" type=\"checkbox\" checked><label for=\"sk-estimator-id-1\" class=\"sk-toggleable__label sk-toggleable__label-arrow\">LogisticRegression</label><div class=\"sk-toggleable__content\"><pre>LogisticRegression(class_weight={0: 1, 1: 3}, max_iter=1000)</pre></div></div></div></div></div>"
            ]
          },
          "metadata": {},
          "execution_count": 31
        }
      ]
    },
    {
      "cell_type": "code",
      "source": [
        "# Evaluate the model\n",
        "y_pred = clf.predict(X_dev)\n",
        "print(classification_report(y_dev, y_pred))"
      ],
      "metadata": {
        "colab": {
          "base_uri": "https://localhost:8080/"
        },
        "id": "Idd9hZS0kKPP",
        "outputId": "2dcf2f96-8281-47aa-edee-c8d46585a136"
      },
      "execution_count": null,
      "outputs": [
        {
          "output_type": "stream",
          "name": "stdout",
          "text": [
            "              precision    recall  f1-score   support\n",
            "\n",
            "           0       0.92      0.82      0.87     12033\n",
            "           1       0.47      0.68      0.56      2801\n",
            "\n",
            "    accuracy                           0.79     14834\n",
            "   macro avg       0.69      0.75      0.71     14834\n",
            "weighted avg       0.83      0.79      0.81     14834\n",
            "\n"
          ]
        }
      ]
    },
    {
      "cell_type": "code",
      "source": [
        "# Predict gloss for each word in the test data\n",
        "def predict_gloss(word_context, glosses):\n",
        "    context_emb = extract_embeddings_with_cache(word_context)\n",
        "    scores = []\n",
        "    for gloss in glosses:\n",
        "        gloss_emb = extract_embeddings_with_cache(gloss['gloss'])\n",
        "        concatenated = np.concatenate((context_emb, gloss_emb))\n",
        "        score = clf.predict_proba([concatenated])[0][1]\n",
        "        scores.append((gloss['gloss_id'], score))\n",
        "    return max(scores, key=lambda x: x[1])[0]"
      ],
      "metadata": {
        "id": "OMD8q61AkMkC"
      },
      "execution_count": null,
      "outputs": []
    },
    {
      "cell_type": "code",
      "source": [
        "def evaluate_on_test(test_data, wsd_dict):\n",
        "    correct = 0\n",
        "    total = len(test_data)\n",
        "    for entry in test_data:\n",
        "        word_context = entry['context']\n",
        "        lemma_id = entry['lemma_id']\n",
        "        possible_glosses = wsd_dict.get(lemma_id, [])\n",
        "        if not possible_glosses:\n",
        "            continue\n",
        "        predicted_gloss_id = predict_gloss(word_context, possible_glosses)\n",
        "        if predicted_gloss_id == entry.get('gloss_id'):\n",
        "            correct += 1\n",
        "    accuracy = correct / total\n",
        "    return accuracy"
      ],
      "metadata": {
        "id": "6m_KV0uOkPm1"
      },
      "execution_count": null,
      "outputs": []
    },
    {
      "cell_type": "code",
      "source": [
        "# Evaluate on the test data\n",
        "test_accuracy = evaluate_on_test(test_data, wsd_dict)\n",
        "print(f\"Test Accuracy: {test_accuracy:.4f}\")"
      ],
      "metadata": {
        "colab": {
          "base_uri": "https://localhost:8080/"
        },
        "id": "wMBBgxmzkSs1",
        "outputId": "a49822a1-2864-40d7-b781-4fa9bf3cd0d1"
      },
      "execution_count": null,
      "outputs": [
        {
          "output_type": "stream",
          "name": "stdout",
          "text": [
            "Test Accuracy: 0.6815\n"
          ]
        }
      ]
    },
    {
      "cell_type": "markdown",
      "source": [
        "**In the code bellow the predict_gloss function takes two parameters:**\n",
        "\n",
        "\n",
        "**word_context:** This represents the context in which a word appears. In the evaluate_on_test_with_progress_and_debug function, the word_context is obtained from each entry in the test_data. Specifically, it is retrieved using word_context = entry['context'].\n",
        "\n",
        "This suggests that the test_data is a list or iterable of dictionaries, where each dictionary represents an entry or instance in the test set. The 'context' key in each dictionary holds the actual context or surrounding text in which the word appears.\n",
        "\n",
        "**glosses:** This is a list of possible meanings or definitions (glosses) for the word being disambiguated.\n",
        "\n",
        "In the evaluate_on_test_with_progress_and_debug function, the possible_glosses are obtained from the wsd_dict dictionary using the lemma_id of each entry.\n",
        "\n",
        "The line **possible_glosses = wsd_dict.get(lemma_id, [])** retrieves the list of glosses associated with the lemma_id from the wsd_dict dictionary.\n",
        "\n",
        "If no glosses are found for a particular lemma_id, an **empty list []** is returned as a default value.\n",
        "\n",
        "\n",
        "The **wsd_dict **dictionary is likely loaded or constructed from a separate file or data source that contains the mapping between lemma IDs and their corresponding glosses. The structure of wsd_dict is expected to be as follows:"
      ],
      "metadata": {
        "id": "PUQVNnYVC9iT"
      }
    },
    {
      "cell_type": "code",
      "source": [
        "# Predict gloss for each word context and add debug prints\n",
        "def predict_gloss(word_context, glosses):\n",
        "    context_emb = extract_embeddings_with_cache(word_context)\n",
        "    scores = []\n",
        "    for gloss in glosses:\n",
        "        gloss_emb = extract_embeddings_with_cache(gloss['gloss'])\n",
        "        concatenated = np.concatenate((context_emb, gloss_emb))\n",
        "        score = clf.predict_proba([concatenated])[0][1]\n",
        "        scores.append((gloss['gloss_id'], score))\n",
        "    predicted_gloss_id, _ = max(scores, key=lambda x: x[1])\n",
        "    return predicted_gloss_id\n",
        "\n",
        "# Function to evaluate the model on the test data with debug prints\n",
        "def evaluate_on_test_with_progress_and_debug(test_data, wsd_dict):\n",
        "    correct = 0\n",
        "    total = len(test_data)\n",
        "    start_time = time.time()\n",
        "    last_update_time = start_time\n",
        "\n",
        "    for i, entry in enumerate(tqdm(test_data, desc=\"Evaluating\", unit=\"pair\")):\n",
        "        word_context = entry['context']\n",
        "        lemma_id = entry['lemma_id']\n",
        "        possible_glosses = wsd_dict.get(lemma_id, [])\n",
        "        if not possible_glosses:\n",
        "            continue\n",
        "        predicted_gloss_id = predict_gloss(word_context, possible_glosses)\n",
        "        correct_gloss_id = entry.get('gloss_id')\n",
        "        if predicted_gloss_id == correct_gloss_id:\n",
        "            correct += 1\n",
        "        else:\n",
        "            print(f\"Context: {word_context}, Predicted Gloss: {predicted_gloss_id}, Correct Gloss: {correct_gloss_id}\")\n",
        "\n",
        "        current_time = time.time()\n",
        "        if current_time - last_update_time >= 60:\n",
        "            elapsed = current_time - start_time\n",
        "            progress = (i + 1) / total\n",
        "            remaining = elapsed / progress - elapsed\n",
        "            tqdm.write(\n",
        "                f\"Progress: {progress * 100:.2f}% - Elapsed: {elapsed:.2f}s - Remaining: {remaining:.2f}s\"\n",
        "            )\n",
        "            last_update_time = current_time\n",
        "\n",
        "    accuracy = correct / total if total else 0\n",
        "    elapsed_time = time.time() - start_time\n",
        "    print(f\"Evaluation Completed - Elapsed Time: {elapsed_time:.2f}s\")\n",
        "    return accuracy\n",
        "\n",
        "# Evaluate on the test data with debug prints\n",
        "test_accuracy = evaluate_on_test_with_progress_and_debug(test_data, wsd_dict)\n",
        "print(f\"Test Accuracy: {test_accuracy:.4f}\")"
      ],
      "metadata": {
        "colab": {
          "base_uri": "https://localhost:8080/"
        },
        "id": "ezpzB9KQ9jmz",
        "outputId": "ce3c580d-6cf7-4ea1-cdfc-6bf3639d11f3"
      },
      "execution_count": null,
      "outputs": [
        {
          "output_type": "stream",
          "name": "stderr",
          "text": [
            "Evaluating:   2%|▏         | 84/4496 [00:00<00:05, 836.22pair/s]"
          ]
        },
        {
          "output_type": "stream",
          "name": "stdout",
          "text": [
            "Context: حالة موقع تحريج كفردبيل- ريف جبلة \", Predicted Gloss: gloss.15993, Correct Gloss: gloss.15992\n",
            "Context: وليس للقانون أثر رجعي., Predicted Gloss: gloss.14893, Correct Gloss: gloss.14888\n",
            "Context: بحسب رئيس جمعية مزارعي فزان \" عثمان الطاهر\" حيث وصل إنتاج ليبيا من القمح والشعير خلال العام الماضي إلى (100 ) ألف طن،, Predicted Gloss: gloss.4777, Correct Gloss: gloss.4775\n",
            "Context: - الدرجة مكونة من مرتبتين (احاد وعشرات) مرتبة العشرات تاخذ القيم (6,7,8,9) فمرتبة (6) ظهرت مرة واحدة لان كل درجات مرتبة عشرات (6) اكبر من (65) ،, Predicted Gloss: gloss.5874, Correct Gloss: gloss.5873\n",
            "Context: حيث يذكر في الباب الأول (حقوق الشعب) نصوصاً قانونية تتعلق بالجنسية العراقية،, Predicted Gloss: gloss.1599, Correct Gloss: gloss.1590\n",
            "Context: وأضاف ان الشركة عندما بدأت أعمالها كان اهتمامها يقتصر على الأدوات المنزلية الكهربائية من برادات وغسالات وأفران ومكانس كهربائية., Predicted Gloss: gloss.2782, Correct Gloss: gloss.2784\n",
            "Context: والتي هي من أهم مبادئ حقوق الانسان في وقتنا الحاضر واعادة تعمير ماخربه المغول., Predicted Gloss: gloss.8508, Correct Gloss: gloss.8507\n",
            "Context: يمكن إبطال التحيّز الحالي في برمجة الذكاء الاصطناعي., Predicted Gloss: gloss.3019, Correct Gloss: gloss.3018\n",
            "Context: قـررت ان أتـرك ورائـي المذكـرات،, Predicted Gloss: gloss.13833, Correct Gloss: gloss.13832\n",
            "Context: وأنا أقسم بالله ما كانت الملائكة ليقدروا على ذلك ولا ليفعلوا حتى أمروا به لأن الله تعالى قال لا يسبقونه بالقول وهم بأمره يعملون وانه أثبتت هذه الآية في سورة حم عسق وفسرت في حم الكبرى قال الذين يحملون العرش ومن حوله يسبحون بحمد ربهم ويؤمنون به ويستغفرون للذين ءامنوا الآيات, Predicted Gloss: gloss.10591, Correct Gloss: gloss.10589\n",
            "Context: فالعملية تستدعي البحث لإيجاد سمات الشخصية الخيالية في المدونة (النص المسرحي) و(العرض المسرحي)،, Predicted Gloss: gloss.2307, Correct Gloss: gloss.2308\n",
            "Context: - البيانات التالية تمثل درجات (20) طالب في مادة السلاسل الزمنية, Predicted Gloss: gloss.1516, Correct Gloss: gloss.1517\n",
            "Context: إضافة الدجاج وتقليبه على جميع الجوانب،, Predicted Gloss: gloss.728, Correct Gloss: gloss.727\n",
            "Context: تتواجد الغدد الدُهنية في مناطق مُغطاة بالشعر،, Predicted Gloss: gloss.6213, Correct Gloss: gloss.6212\n",
            "Context: فوائد تطعيم الأطفال تُعدّ التطعيمات أعظم تدخل إنساني في مجال الصحة العامة في تاريخ الإنسانية،, Predicted Gloss: gloss.711, Correct Gloss: gloss.710\n",
            "Context: تعاني نسبة كبيرة من أراضي الهند من مشكلة التصحر،, Predicted Gloss: gloss.2532, Correct Gloss: gloss.2534\n",
            "Context: استعمال نظام الصوت الاستعمال المثالي لنظام الصوت., Predicted Gloss: gloss.6730, Correct Gloss: gloss.6732\n",
            "Context: وأشار إلى أن القوات الكينية التابعة لبعثة الاتحاد الأفريقي في الصومال قد أدت إلى تقويض قدرات حركة الشباب في منطقة مسؤوليتها وحث الجنود على مواصلة ذلك من إجل إحلال السلام في الصومال والمنطقة., Predicted Gloss: gloss.1237, Correct Gloss: gloss.1235\n",
            "Context: وكان موكبه يمثل أضخم وأعظم موكب يخرج للحج في أوائل القرن الثامن الهجري /الثالث عشــر الميلادي،, Predicted Gloss: gloss.5926, Correct Gloss: gloss.5925\n",
            "Context: وقـد ورد فـي العقـد أنـه يحـق لياكـوف وغريغـوري وسـيميون, Predicted Gloss: gloss.9834, Correct Gloss: gloss.9833\n",
            "Context: فنـزل هـذا الرجـل فـي أقـرب محطـة- وقـد أصبـح فـي حياتـي وذاكرتــي ليــس بصفــة العــم،, Predicted Gloss: gloss.7610, Correct Gloss: gloss.7602\n",
            "Context: وكانـت تبـدو لهـا شاسـعة جـدًاً عندمـا تنظـر إليهـا مـن أعلـى المنـارة., Predicted Gloss: gloss.5123, Correct Gloss: gloss.5129\n",
            "Context: وأيضًا غدد الهالة هي غددٌ دُهنية تُوجد في الهالة المُحيطة بحلمة الأنثى., Predicted Gloss: gloss.1129, Correct Gloss: gloss.1127\n",
            "Context: ووجود هذا النظام مهم بالنسبة لفهم كل من التغير اللغوي ،, Predicted Gloss: gloss.7750, Correct Gloss: gloss.7751\n",
            "Context: الحمد لله ،, Predicted Gloss: gloss.4246, Correct Gloss: gloss.4245\n",
            "Context: تسخين كوب من الزيت جيداً وقلي قطع الخبز فيه إلى أن يتم تحميرهم،, Predicted Gloss: gloss.536, Correct Gloss: gloss.537\n",
            "Context: لافتا إلى أن هناك 13 مائدة مستديرة ستتناول مناقشة القضايا السياسية والاجتماعية ،, Predicted Gloss: gloss.7971, Correct Gloss: gloss.7969\n",
            "Context: كان له وجه،, Predicted Gloss: gloss.2282, Correct Gloss: gloss.2276\n",
            "Context: بِحيثُ يَتمّ التَّحكُّم به عن طريقِ جِهازِ تَحكُّمٍ مَنطقيٍّ ومُبرمَجٍ،, Predicted Gloss: gloss.6994, Correct Gloss: gloss.6993\n",
            "Context: ففـي حيـن يكـون السـل أسـوأ فـي منطقـة مـا ،, Predicted Gloss: gloss.6219, Correct Gloss: gloss.6218\n",
            "Context: تم إنشاء هذا الدستور كاملا من مقاطع من النصوص من مستودع مشروع الدساتير المقارنة ،, Predicted Gloss: gloss.9584, Correct Gloss: gloss.9580\n",
            "Context: فمن المحتملُ انْجاز هذا بإبْقاء الدرجة المعقولة في دقةِ المقاييسِ لذا لَيسَ من الضروريَ أَنْ يكون للمشكلة دائماً مستوى عالي لدرجة الدقةِ لكن من المهم ان تحدد درجة الدقةِ المطلوبة للدراسة ., Predicted Gloss: gloss.2603, Correct Gloss: gloss.2601\n",
            "Context: مشيرا إلى أن أصحاب المخابز لديهم مخزون يكفي ليومين أو ثلاثة أيام،, Predicted Gloss: gloss.2830, Correct Gloss: gloss.2831\n",
            "Context: إضافة إلى تخفيض الكلفة الزمنية والكشف المبكر عن الأخطاء في حالة النمذجة الصحيحة للتطبيق., Predicted Gloss: gloss.5181, Correct Gloss: gloss.5179\n",
            "Context: الرسم التخطيطي لأربع طرق مختلفة للحالة الثابتة ............................, Predicted Gloss: gloss.13672, Correct Gloss: gloss.13671\n",
            "Context: المرتبة مائة و خمسة ،, Predicted Gloss: gloss.5874, Correct Gloss: gloss.5873\n",
            "Context: بينما يحافظ على وجوه النهايات عند درجات حرارة مختلفة وتكون T1>T2 ., Predicted Gloss: gloss.1516, Correct Gloss: gloss.1515\n",
            "Context: وتكون كافية لتدريب الذكاء الاصطناعي مثل بيانات العالم الحقيقي،, Predicted Gloss: gloss.3013, Correct Gloss: gloss.3012\n",
            "Context: بنغازي 27 فبراير 2022 م ( وال ) - تتجه أنظار العالم هذه الأيام نحو الأزمة التي اندلعت بين روسيا وأوكرانيا والتوترات الحاصلة في المنطقة إثر الاجتياح الروسي للأراضي الأوكرانية والتي تنذر بوقوع أزمات اقتصادية في العالم أجمع ،, Predicted Gloss: gloss.5123, Correct Gloss: gloss.5129\n",
            "Context: 1 لضمان السلامة و الأمان تأكد من قراءتها بشكل كامل, Predicted Gloss: gloss.785, Correct Gloss: gloss.782\n",
            "Context: تحـفّ بك من كلّ ناحية وترفّ عليك من كلّ جانب لتحمل معها اليكم من شغاف القلب تهنئتي العاطرة لكم وقد أصبحتم باستحقاق أسقفا, Predicted Gloss: gloss.13364, Correct Gloss: gloss.13363\n",
            "Context: كما أتقدم بخالص شكري وأمتناني إلى عمادة كلية الهندسة التقنية ممثلة بالدكتورة ميساء شاش لما قدمته وما زالت تقدمه لي ولكامل زملائي في الكلية من دعم وتشجيع للمضي بشعلة العلم والمعرفة في وطننا الحبيب, وأشكر العمادة لإتاحة الفرصة لي لإكمال دراستي هذه والتي كان لها الفضل بتذليل المصاعب التي واجهتني, كما وأشكر أعضاء الهيئة التعليمية في الكلية وفي قسم المكننة الزرعية على كامل الدعم وعلى النصائح والإرشادات التي قدموها لي لإغناء هذا البحث., Predicted Gloss: gloss.785, Correct Gloss: gloss.782\n",
            "Context: ومن ثم أقرَت واعتمدت عالميًا., Predicted Gloss: gloss.2018, Correct Gloss: gloss.2020\n",
            "Context: هذه الطرق مُتضمّنة في الإحصاء الوصفي ., Predicted Gloss: gloss.4585, Correct Gloss: gloss.4584\n",
            "Context: بفضل لاعبيه من أصول أجنبية،, Predicted Gloss: gloss.8302, Correct Gloss: gloss.8301\n",
            "Context: وأما حالة انفصال الزوجين بغير وفاة فهي حالة استثنائية جدا حتى أنها سميت بأبغض الحلال., Predicted Gloss: gloss.290, Correct Gloss: gloss.289\n",
            "Context: وهنا فكلما كانت الشخصية الخيالية قد رسمت بشكل دقيق وواضح،, Predicted Gloss: gloss.9998, Correct Gloss: gloss.9997\n",
            "Context: اما مقابل (7) الاولى نلاحظ ان الدرجات اقل من (75) هي (71,71,74,74) ناخذ منها مرتبة الاحاد فقط وتكتب (1144) و مقابل (7) الثانية نلاحظ ان الدرجات اكبر من او تساوي (75) هي (75,77,78,78) ناخذ منها مرتبة الاحاد فقط وتكتب (5788) وبالمثل لباقي القيم في العمود ., Predicted Gloss: gloss.5874, Correct Gloss: gloss.5873\n",
            "Context: - روسيا وأوكرانيا مصدر أساسي للمواد الغذائية, Predicted Gloss: gloss.230, Correct Gloss: gloss.227\n",
            "Context: والابتداء في الشعر أول جزء من المصراع الثاني, Predicted Gloss: gloss.1599, Correct Gloss: gloss.1589\n",
            "Context: ومن البيانات فان المقاييس للصندوق البياني هي على التوالي, Predicted Gloss: gloss.5799, Correct Gloss: gloss.5798\n",
            "Context: لم يهبط سيدنا آدم إلى الأرض وفي يده كتابه‏.., Predicted Gloss: gloss.10547, Correct Gloss: gloss.10546\n",
            "Context: أن احد أهم دعائم عمل سلسلة التوريد هو التفاعل المباشر بين عناصر البيئة الداخلية و البيئة الخارجية للمؤسسة مما يضمن تحقيق أهدافها المختلفة و إرضاء الزبائن و الحصول على حصة سوقية مناسبة, لذلك أولت إدارة المؤسسات أهمية خاصة لعلاقاتها مع الموردين الذين يشكلون أحد ركائز سلسلة التوريد, وتطورت هذه العلاقة في كثير من الأحيان لتصبح على مستوى شراكة استراتيجية بين الطرفين., Predicted Gloss: gloss.3010, Correct Gloss: gloss.3007\n",
            "Context: تتكون لديه الرغبة الجامحة في صنع عالمه الخاص به والتعايش معه دون أن يكون هناك أية ضوابط أو قوانين تعمل على رسم الخطوط الرئيسة التي من شأنها أن تجعل من ذلك العالم المتخيل من قبله خيالاً لا يخضع لأي أسس أو قوانين،, Predicted Gloss: gloss.4081, Correct Gloss: gloss.4083\n",
            "Context: ثم لم ينشب ورقة أن توفى., Predicted Gloss: gloss.1894, Correct Gloss: gloss.1891\n",
            "Context: وهي في آخر الأمر ستنهار ،, Predicted Gloss: gloss.15099, Correct Gloss: gloss.15097\n",
            "Context: فاهتموا بتتبع حياة الرسول محمد) ( وسيرته واحاديثه وبحروب التحرير التي خاضها العرب المسلمون ضد الفرس والروم ،, Predicted Gloss: gloss.8086, Correct Gloss: gloss.8085\n",
            "Context: وأجريت بعد فترة وجيزة انتخابات المجلس الوطني التأسيسي،, Predicted Gloss: gloss.7283, Correct Gloss: gloss.7282"
          ]
        },
        {
          "output_type": "stream",
          "name": "stderr",
          "text": [
            "Evaluating:   6%|▌         | 264/4496 [00:00<00:05, 829.19pair/s]"
          ]
        },
        {
          "output_type": "stream",
          "name": "stdout",
          "text": [
            "\n",
            "Context: مما يُحدث التهابًا بالكبد وضعف قدرته على القيام بوظائفه., Predicted Gloss: gloss.1237, Correct Gloss: gloss.1235\n",
            "Context: مقارنةً بالخلايا الكيراتينية التي تُشكل جُريبات الشعر،, Predicted Gloss: gloss.3483, Correct Gloss: gloss.3481\n",
            "Context: بالنسبة لانتشار النوع الفرعي الرابع الوردية العينية ( (OR فهو غير معروف بسبب عدم خصوصية التظاهرات السريرية, وقد ارتبطت التظاهرات السريرية العينية مع التظاهرات الجلدية في الوردية في 33 ٪ من 100 مريض وردية جلدية في اليونان, وسجل حدوث الوردية العينية في المملكة المتحدة إلى 1., Predicted Gloss: gloss.2639, Correct Gloss: gloss.2636\n",
            "Context: وعرفه (جوفمان) على أنه \"كل نشاط الفرد الذي يحدث خلال فترة ما،, Predicted Gloss: gloss.812, Correct Gloss: gloss.814\n",
            "Context: 2-\tالتاريخ يقوي اعتزاز المواطن بأمته ووطنه وبشهداء هذه الأمة والابطال المدافعين عنها., Predicted Gloss: gloss.7102, Correct Gloss: gloss.7100\n",
            "Context: شبكة توليدية وشبكة تمييزية،, Predicted Gloss: gloss.3278, Correct Gloss: gloss.3271\n",
            "Context: وعـدت إلـى الأهـل أخيـرًاً ” قـال نيكـولاي بيتروفيتـش ،, Predicted Gloss: gloss.2403, Correct Gloss: gloss.2401\n",
            "Context: وعندما تغيرت الظروف المناخية وجفت المياه خرجت موجات من السكان إلى المناطق المجاورة في بلاد ما بين النهرين والشام واليمن وأقدم هذه الهجرات ترجع إلى الألف الخامس قبل الميلاد, Predicted Gloss: gloss.752, Correct Gloss: gloss.733\n",
            "Context: و حدثني عبد الله بن معاذ ،, Predicted Gloss: gloss.1797, Correct Gloss: gloss.1793\n",
            "Context: الصادر بالمرسوم الملكي رقم (م/٦٥) وتاريخ ١٦ / ١١ / ١٣٩٢ هـ على الحالات القائمة المتعلقة بأراضي المشروعات التي أنشأتها ونفذتها المؤسسة العامة للكهرباء،, Predicted Gloss: gloss.9831, Correct Gloss: gloss.9830\n",
            "Context: 1 عصور ما قبل التاريخ وعصور ما قبل التاريخ, Predicted Gloss: gloss.7159, Correct Gloss: gloss.7157\n",
            "Context: وَعَنْ الرَّابِعِ أَنَّ هَذِهِ الْأَشْيَاءَ سَقَطَتْ لِلْحَرَجِ وَعَلَى حَدِّ مَنْ يَقُولُ الْوَجْهُ مَا يُوَاجِهُهُ الْإِنْسَانُ لَا تَدْخُلُ هَذِهِ الْأَشْيَاءُ لِخُرُوجِهَا, Predicted Gloss: gloss.2282, Correct Gloss: gloss.2271\n",
            "Context: لكنه يمثل نقطة انطلاق جيدة للتفكير في كيفية ارتباط المفهومين ببعضهما البعض., Predicted Gloss: gloss.5449, Correct Gloss: gloss.5448\n",
            "Context: فيما ألغت بطريركية الكلدان في العراق والعالم مراسيم احتفالات اعياد الميلاد تضامنًا مع العوائل المسيحية النازحة, Predicted Gloss: gloss.10383, Correct Gloss: gloss.10382\n",
            "Context: فهي قادرة على مراقبة سطح الكرة الأرضية وباطنها،, Predicted Gloss: gloss.8676, Correct Gloss: gloss.8678\n",
            "Context: التوزيع الطبيعي )., Predicted Gloss: gloss.4742, Correct Gloss: gloss.4740\n",
            "Context: ٦١٢ استعمال قائمة التهيئة “SETUP”, Predicted Gloss: gloss.5473, Correct Gloss: gloss.5471\n",
            "Context: وفي عام أخذت مساحة الرياض في التوسع من قرابة كيلو متر مربع يضم نحو آلاف نسمة إلى نحو كيلو مترات مربعة يقيم فيها ألف نسمة ومع حلول عام كانت أسوار المدينة القديمة قد أزيلت وجرى تخطيط وتوفير أراضٍ سكنية لتستوعب السكان الجدد الذين شملتهم خطط توطين البادية والسكان القادمين من القرى المجاورة للرياض, Predicted Gloss: gloss.2099, Correct Gloss: gloss.2103\n",
            "Context: أن احد أهم دعائم عمل سلسلة التوريد هو التفاعل المباشر بين عناصر البيئة الداخلية و البيئة الخارجية للمؤسسة مما يضمن تحقيق أهدافها المختلفة و إرضاء الزبائن و الحصول على حصة سوقية مناسبة, لذلك أولت إدارة المؤسسات أهمية خاصة لعلاقاتها مع الموردين الذين يشكلون أحد ركائز سلسلة التوريد, وتطورت هذه العلاقة في كثير من الأحيان لتصبح على مستوى شراكة استراتيجية بين الطرفين., Predicted Gloss: gloss.3268, Correct Gloss: gloss.3267\n",
            "Context: وتسهم في إعادة إنتاجه., Predicted Gloss: gloss.6959, Correct Gloss: gloss.6956\n",
            "Context: 1-6-4 رسم الدالة التراكمية التجريبية (Empirical CDF graphs), Predicted Gloss: gloss.4626, Correct Gloss: gloss.4622\n",
            "Context: قبل أن يصبح نهج البيانات المصطنعة جاهزًا لتوليد بيانات يمكن استخدامها على نحوٍ مسؤول في تدريب الخوارزميات وإيقاع آثار حقيقية في تحيّزات تعلم الآلة خصوصًا فيما يخصّ البيانات الطبية., Predicted Gloss: gloss.2256, Correct Gloss: gloss.2242\n",
            "Context: 2 مليار دولار في الحساب الرأسمالي والمالي في الاشهر الثلاثة الاخيرة من العام الماضي., Predicted Gloss: gloss.11354, Correct Gloss: gloss.11353\n",
            "Context: إلا أن انفجار المحركات البخارية سبب مشكلة حقيقية حيث إن الاجهادات التي كانت تتعرض لها المعادن لم تكن مدروسة بشكل جيد حينها ،, Predicted Gloss: gloss.8315, Correct Gloss: gloss.8314\n",
            "Context: يؤدي التراث العمراني بالإضافة إلى الأشكال الأخرى للتراث دوراً رئيسياً في التنمية المحلية, وهذا يتطلب إعادة تعريف مفهوم التراث العمراني من أجل تقييم الواقع الاقتصادي والاجتماعي المؤثر على أساليب إدارة التراث العمراني, كما أنه يتصل بتنفيذ مبادئ التنمية المستدامة., Predicted Gloss: gloss.10895, Correct Gloss: gloss.10893\n",
            "Context: والشعراء على إنتاج أعمال تستلهم الروح الشكسبيرية بلغة شكسبير الخاصة ., Predicted Gloss: gloss.2226, Correct Gloss: gloss.2229\n",
            "Context: تتناول الدراسة تطبيقات لغة التحديد القابلة للامتداد eXtensible Mark up Language XML فى المكتبات الرقمية حيث تبدأ بمقدمة عن تاريخ وتطور لغات التحديد ونشأة لغة التحديد القابلة للامتداد XML وخصائصها والمعايير والأدوات المرتبطة بها ثم تتناول تطبيقاتها فى مجال المكتبات من خلال تصميم مواقع المكتبات على الانترنت ،, Predicted Gloss: gloss.3783, Correct Gloss: gloss.3782\n",
            "Context: و عندما كان في طريقه أسرته سرية من سرايا الرسول من الصحابة و قد أسلم بعد أن أمضى وقتاً في المدينة, Predicted Gloss: gloss.8984, Correct Gloss: gloss.8982\n",
            "Context: (جرعة منشطة من لقاح شلل الأطفال):, Predicted Gloss: gloss.898, Correct Gloss: gloss.897\n",
            "Context: وقد تتيح الأساليب الجديدة مثل التعلّم الموحّد أو التعاوني (Federated Learning) بناء نماذج من دون مشاركة بيانات المستخدمين،, Predicted Gloss: gloss.3542, Correct Gloss: gloss.3538\n",
            "Context: قائمة غدد الجسم, Predicted Gloss: gloss.1129, Correct Gloss: gloss.1127\n",
            "Context: هـل يمكـن كتابـة تاريـخ يجمـعٍ بيـن الجانـب السياسـي والرومانسـي للتهريـب ؟, Predicted Gloss: gloss.1864, Correct Gloss: gloss.1861\n",
            "Context: وهي مقر التلفزيون الرسمي السعودي وتصدر منها صحيفتا الجزيرة والرياض , Predicted Gloss: gloss.4773, Correct Gloss: gloss.4765\n",
            "Context: ثم انتقلت إلى تطبيق قواعد التحليل على الاحاديث الشريفة.., Predicted Gloss: gloss.576, Correct Gloss: gloss.578\n",
            "Context: - مقابل (6) نلاحظ ان الدرجات اكبر من (65) هي (66,67,69) ناخذ منها مرتبة الاحاد فقط وتكتب (679) ،, Predicted Gloss: gloss.1516, Correct Gloss: gloss.1517\n",
            "Context: مأخوذ من الاطلاق وهو الإرسال أو الترك., Predicted Gloss: gloss.8049, Correct Gloss: gloss.8048\n",
            "Context: ان العيّنة تعكس المعلوماتِ المجمعة عن بَعْض عناصر ِالمجتمع كما ان العيّنة الجيدة يَجِبُ أَنْ تعكس كُلّ الخصائص والمميزات للمجتمع وهذه العينات بالإمكان أَنْ تعكس الخصائص المهمة للمجتمع الذي سحبت منه بدرجاتِ دقّةِ مختِلفة ., Predicted Gloss: gloss.5210, Correct Gloss: gloss.5209\n",
            "Context: ويمثـل التحليـل والتوقعـات الـواردان في التقريـر جـزءاً لا يتجـزأ مـن دور الإدارة في مراقبـة التطـورات والسياسـات الاقتصاديـة في البلـدان الأعضـاء., Predicted Gloss: gloss.8862, Correct Gloss: gloss.8864\n",
            "Context: واسلوب رسمها والتعامل معها مركزين على الطرق الحديثة في وصف الاشكال البيانية ., Predicted Gloss: gloss.3587, Correct Gloss: gloss.3586\n",
            "Context: ولا تنتج كمُنتجاتٍ نهائية في أيِ مكانٍ آخرٍ في الجسم., Predicted Gloss: gloss.1379, Correct Gloss: gloss.1376\n",
            "Context: بالرغم من تسجيل هذه الدراسات لبعض التحسن في حالة الرياضيين بسبب هذه الطريقة العلاجية بالتبريد،, Predicted Gloss: gloss.15532, Correct Gloss: gloss.15531\n",
            "Context: ومن اعتمد على جواهر الألفاظ ولم يحم حول ما قصدناهُ تكثر اعتراضاته ويعز علينا مرضاته., Predicted Gloss: gloss.9815, Correct Gloss: gloss.9814\n",
            "Context: وقد تكون حقيقيّة., Predicted Gloss: gloss.3258, Correct Gloss: gloss.3256\n",
            "Context: أعلن بلاغ لوزارة الشؤون الخارجية والتعاون ., Predicted Gloss: gloss.5792, Correct Gloss: gloss.5789\n",
            "Context: الحرية الشخصية مصونة لجميع سكان العراق من التعرض والتدخل،, Predicted Gloss: gloss.4107, Correct Gloss: gloss.4101\n",
            "Context: إلى نبع الحنان ..., Predicted Gloss: gloss.2080, Correct Gloss: gloss.2081\n",
            "Context: طوله ضعفا عرضه ويقسم أفقياً إلى ثلاثة ألوان متساوية ومتوازية،, Predicted Gloss: gloss.1329, Correct Gloss: gloss.1327\n",
            "Context: تاريخ تسلم البحث:, Predicted Gloss: gloss.697, Correct Gloss: gloss.698\n",
            "Context: - مقابل (6) نلاحظ ان الدرجات اكبر من (65) هي (66,67,69) ناخذ منها مرتبة الاحاد فقط وتكتب (679) ،, Predicted Gloss: gloss.1864, Correct Gloss: gloss.1859\n",
            "Context: والتصوير بالرنين المغناطيسي،, Predicted Gloss: gloss.3071, Correct Gloss: gloss.3070\n",
            "Context: سـأتذكر أنـه فـي لحظـة تقديـم الهدايـا نظـرت إليـه،, Predicted Gloss: gloss.5123, Correct Gloss: gloss.5129\n",
            "Context: وفي ديسمبر تعرضت الرياض لهجوم آخر بصاروخ باليستي لم يسفر عن خسائر ونشرت وكالة الأنباء السعودية واس بيان حول اعتراض قوات الدفاع الجوي الملكي لصاروخ باليستي إيراني الصنع وتدميره كان الصاروخ قد انطلق من الأراضي اليمنية مستهدفًا قصر اليمامة, Predicted Gloss: gloss.9190, Correct Gloss: gloss.9187\n",
            "Context: لقد شرع الإسلام الطلاق باعتباره دين واقعية،, Predicted Gloss: gloss.10674, Correct Gloss: gloss.10666\n",
            "Context: ويستصعب الفلسطينيون في مخيم عين الحلوة محاولة المجنسين تغيير لهجتهم ،, Predicted Gloss: gloss.13107, Correct Gloss: gloss.13105\n"
          ]
        },
        {
          "output_type": "stream",
          "name": "stderr",
          "text": [
            "Evaluating:  10%|█         | 459/4496 [00:00<00:04, 914.24pair/s]"
          ]
        },
        {
          "output_type": "stream",
          "name": "stdout",
          "text": [
            "Context: [5] لقد ساعدت السياسة المالية الحكيمة والأسعار الدولية للمعادن الإقتصاد الموريتاني على بلوغ معدلات النمو التدريجي., Predicted Gloss: gloss.6046, Correct Gloss: gloss.6043\n",
            "Context: وتعيين قائد الشرطة ومديري المديريات بالمقاطعة ،, Predicted Gloss: gloss.4126, Correct Gloss: gloss.4125\n",
            "Context: قال الفريق بالقوات الجوية الأمريكية جون هيسترمان في مؤتمر صحفي إن \"قذائف صغيرة جدا أُلقيت على منشأة معروفة لتجهيز السيارات المفخخة الكائن بمنطقة صناعية., Predicted Gloss: gloss.2221, Correct Gloss: gloss.2223\n",
            "Context: شكراً جامعة تشرين ممثلةً بالأستاذ الدكتور هاني شعبان رئيس الجامعة المحترم..., Predicted Gloss: gloss.4146, Correct Gloss: gloss.4142\n",
            "Context: كونها تحتاج إلى مهارات لدى المؤدي تمكنه من التماهي مع تلك الشخصيات الافتراضية., Predicted Gloss: gloss.8164, Correct Gloss: gloss.8163\n",
            "Context: تنشـر إدارة الشـرق الأوسـط وآسـيا الوسـطى (MCD) كل عـام تقريرهـا عـن آفـاق الاقتصـاد الإقليمـي (REO) لمنطقـة الشـرق الأوسـط وآسـيا الوسـطى., Predicted Gloss: gloss.5898, Correct Gloss: gloss.5897\n",
            "Context: ذكر ابن عبد ربه في العقد الفريد،, Predicted Gloss: gloss.11685, Correct Gloss: gloss.11675\n",
            "Context: وقعت عدة انفجارات ثانوية فاقت التوقعات المبنية على خبرات سابقة بضرب هذا النوع من الأهداف،, Predicted Gloss: gloss.1618, Correct Gloss: gloss.1619\n",
            "Context: وجهـت برباطـة جـأش وبدقـة والشـيء الرئيـس ببـرودة أعصـاب،, Predicted Gloss: gloss.13760, Correct Gloss: gloss.13759\n",
            "Context: أما الفائدة من هذه المجتمعات للزبائن و المستهلكين هي أن يطّلعوا على تجارب و خبرات باقي المستهلكين مع هذا المنتج أو تلك الخدمة حيث كانت هذه المجتمعات البيئة المثلى لهم لقراءة تجربة غيرهم و الكتابة عن تجاربهم الخاصة لمختلف الشركات و المنتجات و الخدمات و تمكنهم أيضا من اكتشاف خصائص أخرى في منتجاتهم لم يتعرفوا عليها من قبل ., Predicted Gloss: gloss.7943, Correct Gloss: gloss.7942\n",
            "Context: وهي مقر التلفزيون الرسمي السعودي وتصدر منها صحيفتا الجزيرة والرياض , Predicted Gloss: gloss.8669, Correct Gloss: gloss.8668\n",
            "Context: أداء الممثل للشخصيات الخيالية في عروض مسرح الطفل العراقي،, Predicted Gloss: gloss.4146, Correct Gloss: gloss.4144\n",
            "Context: 3- بالتطليق من طرف القاضي بطلب المرأة أو تطليقا يجعله الزوج بيد الزوجة., Predicted Gloss: gloss.1050, Correct Gloss: gloss.1049\n",
            "Context: مضيفا أن التحالف لم يعثر على أي دليل على سقوط ضحايا من المدنيين., Predicted Gloss: gloss.9142, Correct Gloss: gloss.9141\n",
            "Context: ومن واقع الحسابات نحصل على الشكل السلمي التجريبي البياني التالي كما ان المنحنى ما هو الا تقدير الى الدالة التراكمية من واقع البيانات وحسب نوع التوزيع ،, Predicted Gloss: gloss.4626, Correct Gloss: gloss.4622\n",
            "Context: فإن أعادوا الملازمة،, Predicted Gloss: gloss.6959, Correct Gloss: gloss.6956\n",
            "Context: كما لا يفوتني أن أشكر زملائي من طلبة الدراسات العليا لمساعدتهم المعنوية المتبادلة التي جعلت من مرحلة البحث مدة غنية بتبادل مصادر المعلومات., Predicted Gloss: gloss.4792, Correct Gloss: gloss.4791\n",
            "Context: المبادئ الأساسية, Predicted Gloss: gloss.230, Correct Gloss: gloss.227\n",
            "Context: في التصنيف الشهر للمنتخبات الصادر اليوم الخميس عن الاتحاد الدولي لكرة القدم “الفيفا”., Predicted Gloss: gloss.2006, Correct Gloss: gloss.2008\n",
            "Context: استمر العمل لنشر المعطيات الإحصائيةِ لكن التحليلَ الأولَ للبياناتِ على القاعدةِ العلميةِ انجز مِن قِبل النّقيبِ جون كرانت (Graunt John) في القرن السابع عشرِ،, Predicted Gloss: gloss.4842, Correct Gloss: gloss.4841\n",
            "Context: لكـن لا يتوافـر شـيء مـن الأعمـال الأدبيـة لتلـك الفتـرة., Predicted Gloss: gloss.10279, Correct Gloss: gloss.10278\n",
            "Context: ولكن في الوقت الذي تظن فيه المرأة أن كل شيء انتهى بوضع المولود فإنها تدخل مرحلة مهمة وهي مرحلة النفاس أو المرحلة ما بعد الولادة والتي تتراجع فيها التبدلات التي طرأت على جسمها إبان الحمل لتعود إلى حالتها القريبة من الحالة ما قبل الحمل ., Predicted Gloss: gloss.1416, Correct Gloss: gloss.1415\n",
            "Context: لا يتطلب الأمر أيضًا قدرًا كبيرًا من التحري لمعرفة أن العديد من هذه الأنظمة تحتوي على بصمة من التحيزات اللاواعية (unconscious biases) للمهندسين الذين قاموا بتطويرها., Predicted Gloss: gloss.3100, Correct Gloss: gloss.3098\n",
            "Context: ولكـن بعـد أن تعـززت قوتـه لـم يعـد ينفـذ واجبـات التابـع., Predicted Gloss: gloss.9130, Correct Gloss: gloss.9129\n",
            "Context: والثالـث أن الروايـات التـي ُتُحـاك حولـهَ عـادًةً مـا ُتُحـاط بأجـواء مـن الرومانسـيةَّ ., Predicted Gloss: gloss.12085, Correct Gloss: gloss.12084\n",
            "Context: أي نصابها،, Predicted Gloss: gloss.9939, Correct Gloss: gloss.9938\n",
            "Context: (ii) حقائق أَو أرقام عددية يَتعلّقانِ ببَعْضهما (iii) الحقائق العددية يَجِبُ أَنْ تَكُونَ قادرة على أَنْ تُرتّبَ فيما يتعلق ببعضها البعض ،, Predicted Gloss: gloss.4893, Correct Gloss: gloss.4892\n",
            "Context: ولكن تلك أقداري, Predicted Gloss: gloss.14685, Correct Gloss: gloss.14682\n",
            "Context: والذي هو بعد كل قول حل الدولتين،, Predicted Gloss: gloss.3648, Correct Gloss: gloss.3649\n",
            "Context: 5- الوفاة ويكون انحلال الرابطة هنا تلقائيا دون اللجوء إلى القاضي عكس الحالات الأربعة الأولى., Predicted Gloss: gloss.781, Correct Gloss: gloss.780\n",
            "Context: بعد فترة غياب طويلة امتدت لأكثر من 33 سنة عن الظهور ،, Predicted Gloss: gloss.7794, Correct Gloss: gloss.7792\n",
            "Context: كلية الطب البشري, Predicted Gloss: gloss.2256, Correct Gloss: gloss.2242\n",
            "Context: بينما العيّنة سَتَكُونُ مجموعةَ جزئية من الناخبين يتم سحبها والتعامل مع بياناتها ،, Predicted Gloss: gloss.5210, Correct Gloss: gloss.5209\n",
            "Context: ابتــذال تــام وتـرف., Predicted Gloss: gloss.13949, Correct Gloss: gloss.13945\n",
            "Context: الأقمار الثابتة بالنسبة لكوكب الأرض حيث يعود سبب تسميته بالثابت لأنّ اتجاه حركته هو باتجاه ومعدل دوران الأرض نفسه،, Predicted Gloss: gloss.2403, Correct Gloss: gloss.2401\n",
            "Context: الكيس الدهني،, Predicted Gloss: gloss.5841, Correct Gloss: gloss.5846\n",
            "Context: أستاذ في قسم الحراج والبيئة\t\t\t أستاذ مساعد في قسم الحراج والبيئة, Predicted Gloss: gloss.9662, Correct Gloss: gloss.9661\n",
            "Context: بعد الاطلاع على المعاملة الواردة من الديوان الملكي برقم 6512 وتاريخ 10 / 2 / 1439 هـ ،, Predicted Gloss: gloss.4181, Correct Gloss: gloss.4180\n",
            "Context: ” ثـم صـدرت عنـه إيمـاءة خشـنة ولقـد عـاود إغـلاق يـده علـى العلبـة., Predicted Gloss: gloss.10417, Correct Gloss: gloss.10415\n",
            "Context: 1-2-2-5- الخصائص الفيزيومائية للتربة\t14, Predicted Gloss: gloss.12026, Correct Gloss: gloss.12024\n",
            "Context: وقال بيان وزارة الدفاع الهولندية في هذا الشأن إن وقوع انفجارات ثانوية غير متوقعة يعني احتمال ارتفاع عدد القتلى إلى مستوى يفوق التوقعات ما ادى لسقوط مدنيين علاوة على مقاتلين في التنظيم., Predicted Gloss: gloss.4590, Correct Gloss: gloss.4589\n",
            "Context: إلى من أفنيت عمرك لأجلنا ., Predicted Gloss: gloss.4940, Correct Gloss: gloss.4939\n",
            "Context: بعضُ أنواعِ الخفاشيات والتي تتضمن الخفاش المكسيكي حُر الذيل،, Predicted Gloss: gloss.6611, Correct Gloss: gloss.6609\n",
            "Context: ونسلم على خير خلقه محمد بن عبد الله .., Predicted Gloss: gloss.4329, Correct Gloss: gloss.4330\n",
            "Context: وهذا التعريف يحتوي على ثلاثة مصطلحات أساسية ترتبط ارتباطاً وثيقاً بمفهوم التراث العمراني, فتعرف المباني التراثية بأنها \"تلك المباني التي تعطينا الشعور بالإعجاب وتجعلنا بحاجة إلى معرفة المزيد عن الناس الذين سكنوها وعن ثقافتهم, وفيها قيم جمالية, ومعمارية وتاريخية وأثرية واقتصادية واجتماعية وسياسية\" (Feilden, 1994, P1) وتتسم المباني التاريخية بأنها تحظى بقبول مجتمعي وتفاعل إيجابي من قبل المجتمع من جهة, وأنها تعبر عن ظاهرة ثقافية واجتماعية معبرة عن ظواهر مادية ومعنوية أو فكرية في حقبة زمنية معينة من جهة أخرى., Predicted Gloss: gloss.10711, Correct Gloss: gloss.10710\n",
            "Context: وبذلك يمكن القول إنّ منافع إعطاء التطعيمات أكبر بكثير من الآثار الجانبية المحتملة., Predicted Gloss: gloss.354, Correct Gloss: gloss.353\n",
            "Context: الفصل الاول, Predicted Gloss: gloss.2369, Correct Gloss: gloss.2368\n",
            "Context: مشتقات الاحماض الكاربوكسيلية, Predicted Gloss: gloss.6579, Correct Gloss: gloss.6580\n",
            "Context: وأن تضمن لوائح هذا النظام تفاصيل ما يلزم لتنفيذ ذلك., Predicted Gloss: gloss.5895, Correct Gloss: gloss.5893\n",
            "Context: هذه الخصائص الفكرية تنتج بالضرورة منظومات حركيَّة سياسية \"غير ديموقراطية\"،, Predicted Gloss: gloss.7355, Correct Gloss: gloss.7356\n",
            "Context: الرياض الرسمية, Predicted Gloss: gloss.4773, Correct Gloss: gloss.4765\n",
            "Context: فالعمل مع بيانات المرضى الحساسة تعدّ مسألةً صعبة., Predicted Gloss: gloss.3511, Correct Gloss: gloss.3501\n",
            "Context: ‏ ولكنه حمل وحفظ وفهم كل علوم الدنيا والآخرة وحفظ ايات التوحيد والتسبيح بحمد الله بكرة وعشيا‏.., Predicted Gloss: gloss.10591, Correct Gloss: gloss.10589\n",
            "Context: تمتلك هذه الغُدد بالإضافة إلى غددِ الرائحة في خواصرِ الأقداد (الهامسترات) تركيبًا مشابهًا لغدد الإنسان الدُهنية،, Predicted Gloss: gloss.1129, Correct Gloss: gloss.1127\n",
            "Context: أول قصة ألفها غولز وارذي هي (جوسلين) فقد ظهرت سنة 1898 ولكن شهرته عظمت منذ سنة 1904 أما مؤلفاته كثيرة منها قصص ومنها روايات تمثيلية ومنها قصص قصيرة وأشهر قصصه قصة فورسيت وقصة الإخاء وأشهر رواياته التمثيلية رواية العلبة الفضية والكفاح والعدل, Predicted Gloss: gloss.1599, Correct Gloss: gloss.1590\n",
            "Context: إن النـاس يريـدون العيـش فـي ظـل السـلام والانسـجام., Predicted Gloss: gloss.7256, Correct Gloss: gloss.7248\n",
            "Context: ممــنّْ لــم يكونــوا مهتميــن باكتشــاف أراٍضٍ جديـدة بقـدر مـلء سـفنهم بــ “أصنـاف” جديـدة., Predicted Gloss: gloss.5836, Correct Gloss: gloss.5832\n",
            "Context: أمسـك فجـأة بيـد سـولانج وقربهـا مـن يـده الأخـرى،, Predicted Gloss: gloss.10438, Correct Gloss: gloss.10437\n"
          ]
        },
        {
          "output_type": "stream",
          "name": "stderr",
          "text": [
            "Evaluating:  14%|█▍        | 640/4496 [00:00<00:04, 851.30pair/s]"
          ]
        },
        {
          "output_type": "stream",
          "name": "stdout",
          "text": [
            "Context: لكـن لا يمكـن القـول إنهـا نالـت فـي هـذا الأدب الاهتمـام الـذي تسـتحقه تجربـة اسـتعمارية دامـت أكثـر مـن قـرن واختتمـت بحـرب شـعواء عــادت للجزائــر بلقــب بلــد المليــون شــهيد., Predicted Gloss: gloss.5175, Correct Gloss: gloss.5173\n",
            "Context: قبّلـه ثـلاث قبـلاٍتٍ علـى الطريقـة الروسـية،, Predicted Gloss: gloss.14624, Correct Gloss: gloss.14623\n",
            "Context: نادراً ما يتمّ تحديد الأفراد الذين يعانون من النوع الفرعي الثالث الوردية الفيمية (PR) في الدراسات السكانية وقد ذكرت دراسة من إستونيا أن الوردية الفيمية تشكل 1 ٪ من جميع مرضى الوردية المُشاهدين ., Predicted Gloss: gloss.2763, Correct Gloss: gloss.2762\n",
            "Context: وذلك من خلال المشي على الفحم الحارق وهم يضعونَ على رؤوسهم وعاءً من الحليب أو الماء., Predicted Gloss: gloss.6018, Correct Gloss: gloss.5999\n",
            "Context: فوجب عليَّ شكرهم وأنا أخطو خطواتي في غمار الحياة،, Predicted Gloss: gloss.5581, Correct Gloss: gloss.5580\n",
            "Context: أما الفائدة من هذه المجتمعات للزبائن و المستهلكين هي أن يطّلعوا على تجارب و خبرات باقي المستهلكين مع هذا المنتج أو تلك الخدمة حيث كانت هذه المجتمعات البيئة المثلى لهم لقراءة تجربة غيرهم و الكتابة عن تجاربهم الخاصة لمختلف الشركات و المنتجات و الخدمات و تمكنهم أيضا من اكتشاف خصائص أخرى في منتجاتهم لم يتعرفوا عليها من قبل ., Predicted Gloss: gloss.3145, Correct Gloss: gloss.3137\n",
            "Context: كان لـدى الصيـن فــي عهــد أســرة هــان الحاكمــة مؤسســةٌ جمركيــةٌ واســعةُ،, Predicted Gloss: gloss.4010, Correct Gloss: gloss.4005\n",
            "Context: الجريدة الرسمية عدد 1 في 1/7/1960 م, Predicted Gloss: gloss.4773, Correct Gloss: gloss.4765\n",
            "Context: وذلك عبر توظيفها المنظومة الصوتية والحركية., Predicted Gloss: gloss.14193, Correct Gloss: gloss.14190\n",
            "Context: مما يوجب على أهل العلم أن يكون فهمهم خطابها من هذا الطريق:, Predicted Gloss: gloss.9973, Correct Gloss: gloss.9968\n",
            "Context: الجذعَ والورقة اسلوب عرض لقِيَمَ البياناتَ بشكل مفيد والذي منه يُمْكِنُ أَنْ نُميّزَ شكلَ وتوزيعَ البياناتِ مثل التماثل،, Predicted Gloss: gloss.4709, Correct Gloss: gloss.4707\n",
            "Context: وتأتي استجابة وزير الدفاع لهذا اللقاء رغبة منه في سماع وجهات النظر الشرعية للعلماء والمشايخ وتأكيدا منه لحرص وزارة الدفاع على استطلاع رأي الشرع والتحقق من عدم وجود أي محظورات أو مخالفات شرعية قد تحتويها أي من قراراتها., Predicted Gloss: gloss.1899, Correct Gloss: gloss.1898\n",
            "Context: الكمبيوتر أداة مهمة في العصر الرقمي, Predicted Gloss: gloss.224, Correct Gloss: gloss.218\n",
            "Context: وعـن رؤسـاءها مـن أسـر العقـداء،, Predicted Gloss: gloss.4042, Correct Gloss: gloss.4038\n",
            "Context: من المهم أن نوفر للحيوانات حياة جيدة وكريمة, Predicted Gloss: gloss.5449, Correct Gloss: gloss.5448\n",
            "Context: عرض وجهات نظر متقاربة للرأي العام قدر الإمكان وأنّ تكون منسجمة مع باقي المراجعات الأخرى التي تعنى بنفس الموبايل ،, Predicted Gloss: gloss.7668, Correct Gloss: gloss.7667\n",
            "Context: بخصوص الأوقاف قال الوزير عند استلامنا وجدنا إشكاليات كثيرة في الاوقاف لعدم معرفة الناس بالأوقاف والمستغرب فيه أن الأجداد اهتموا به وأول وقف في السودان مع دخول الإسلام بمسجد دنقلا العجوز في مدينة دنقلا ثم انتشر الوقف في جميع نواحي السودان بعد انتشار الإسلام بل انتقل السودانيين من الأوقاف داخليا للخارج بالسعودية ومصر., Predicted Gloss: gloss.723, Correct Gloss: gloss.720\n",
            "Context: بالنسبة لانتشار النوع الفرعي الرابع الوردية العينية ( (OR فهو غير معروف بسبب عدم خصوصية التظاهرات السريرية, وقد ارتبطت التظاهرات السريرية العينية مع التظاهرات الجلدية في الوردية في 33 ٪ من 100 مريض وردية جلدية في اليونان, وسجل حدوث الوردية العينية في المملكة المتحدة إلى 1., Predicted Gloss: gloss.723, Correct Gloss: gloss.720\n",
            "Context: مقامرون غربيينِ بَدأئؤ بإسْتِعْمال الإحصائياتِ لأنهم أرادوا أَنْ يَعْرفوا معلومات اكثر دقّةً عن تخمينات الإحتمالاتِ في منضدةِ القمارَ وهذا قادَ بدوره إلى تطويرِ ' نظرية إلاحتمال ،, Predicted Gloss: gloss.4590, Correct Gloss: gloss.4589\n",
            "Context: الانتماء في مشروعها الوطني والقومي،, Predicted Gloss: gloss.7073, Correct Gloss: gloss.7071\n",
            "Context: في ظل عالم آخذ في التحضر بسرعة كبيرة وتسيطر عليه مبادئ العولمة وقيمها, Predicted Gloss: gloss.10698, Correct Gloss: gloss.10697\n",
            "Context: والمجتمع المتكون من N من العناصر يقسم إلى مجتمعات جزئية يتم سحب عيّنة مِنْ كُلّ مجتمع جزئي بصورة مستقلة كما ان حجم كُلّ مجتمع جزئي وحجوم العيّنةِ في كُلّ مجتمع جزئي قَدْ تَتفاوتُ وتختلف فيما بينها ., Predicted Gloss: gloss.3314, Correct Gloss: gloss.3316\n",
            "Context: يذكر القراء الرياضيون أن فريقا نمساويا في الشطرنج كان قد زار تونس خلال المهرجان الرياضي الذي تم بالعاصمة في شهر جون الماضي وكان الفريق النمساوي قد انتصر على الفريق التونسي بـ ( 3 - 2 ) وتقرر أن تجري مقابلة الإياب بين الفريقين, Predicted Gloss: gloss.15048, Correct Gloss: gloss.15047\n",
            "Context: تتمثل برفض الامة العربية للتجزئة ولكل انواع التبعية الاجنبية والاستعمار التي فرضتها ظروف المرحلة السابقة مستهدفة التحرر والاستقلال والوحدة والعمل من اجل استعادة ماضي الامة المشرق والمشاركة في بناء الحضارة الانسانية ., Predicted Gloss: gloss.8309, Correct Gloss: gloss.8308\n",
            "Context: وحصـل فـي 1991 علـى شـهادة تخصـص فـي الفنـون التشـكيلية ُطُبعـت لـه حتـى الآن ثـلاث عشـرة روايـة نـال عنهـا عـدّة جوائـز مرموقـة،, Predicted Gloss: gloss.7506, Correct Gloss: gloss.7512\n",
            "Context: وتشمل حب الشباب المُتضمن للدُهْن والأكياس الدُهنية وفرط التَّنَسُّج والغُدُّوم الدُهني., Predicted Gloss: gloss.6162, Correct Gloss: gloss.6161\n",
            "Context: وهو من اصناف الاسم المشترك فيما يقال بترتيب وتناسب., Predicted Gloss: gloss.11769, Correct Gloss: gloss.11767\n",
            "Context: [١٣][١٤] الآثار الجانبية لتطعيمات الأطفال تُعدّ المطاعيم آمنة إلى حد كبير،, Predicted Gloss: gloss.804, Correct Gloss: gloss.800\n",
            "Context: التطعيم ضد شلل الأطفال (الجرعة الثالثة):, Predicted Gloss: gloss.358, Correct Gloss: gloss.359\n",
            "Context: لغرض العرض البياني ارسم شريط عرضه بعرض الفئة وارتفاعه بعدد التكرارات او التكرارات النسبية ., Predicted Gloss: gloss.5675, Correct Gloss: gloss.5672\n",
            "Context: فان المشاهدة تعتبر شاذة ((outlier ومن النوع المتطرف (extreme) اذا وقعت خارج الحدود ولبيانات المثال فان اي مشاهدة تقع خارج الفترة [24., Predicted Gloss: gloss.1384, Correct Gloss: gloss.1381\n",
            "Context: ومن البيانات الترتيبية متغير الطلب على الانتاج فقَدْ يَكُون أمّا متزايد أَو ثابت او متناقص ،, Predicted Gloss: gloss.3307, Correct Gloss: gloss.3306\n",
            "Context: واسـتمر اسـتخدام الحـروف العربيـة حتـى العـام 0191 وفـي عـام 1925 ثبـت رسـميًاً اسـتخدام الحـروف الاتينيـة فقـط وفـق الأسـلوب الـذي أعـده الكاتـب الشيشــاني خ., Predicted Gloss: gloss.5515, Correct Gloss: gloss.5511\n",
            "Context: ولـم أرغـب بأخـذه معـي لكـن كمـا أدعـوه طبيب الأشـعة اوصانـي بمطالعـة هـذا الكتـاب بزعـم إنـه غيـر ملـوث بالعـدوى., Predicted Gloss: gloss.6932, Correct Gloss: gloss.6937\n",
            "Context: تُوجد الغدد الدهنية في جميع أجزاءِ الجلد باستثناء راحة اليد وأخمصِ القدم., Predicted Gloss: gloss.6117, Correct Gloss: gloss.6109\n",
            "Context: تقع الرياض وسط شبه الجزيرة العربية في هضبة نجد على ارتفاع متر فوق مستوى سطح البحر, Predicted Gloss: gloss.4992, Correct Gloss: gloss.4990\n",
            "Context: ووجه بعد اللقاء الجهات المعنية الى تأجيل إقامة الدورة للمتطوعات لحين مخاطبة وزارة الأوقاف والشؤون الإسلامية في هذا الشأن كما وعد بأن العمل على التحاق أولى دفعات المتقدمات للجيش الكويتي سيكون بعد وصول رد هيئة الافتاء الرسمي والنظر فيما يتضمنه من أحكام وضوابط وشروط يتم أخذها بعين الاعتبار والعمل بمقتضاها., Predicted Gloss: gloss.3985, Correct Gloss: gloss.3968\n",
            "Context: يعيش \"كوكو\" (كسيلة مصطفى) في عالم بوهيمي خاص به تميزه الحرية والموسيقى والأحلام والآمال والأحاسيس المرهفة ومساعدة النساء ما يجعله محل رفض من رجال القرية الذين يصفونه بالجنون غير أنه يلقى السند من أخيه \"محمود\" (محمد لفقير), أستاذ الثانوية الذي يعشق الشعر والفلسفة ويكره الظلم والتقاليد البالية., Predicted Gloss: gloss.9495, Correct Gloss: gloss.9494\n",
            "Context: ويمتلك هذا النوع من الأدب مقومات التأثير والديمومة ومواكبة التطورات الحضارية والاجتماعية،, Predicted Gloss: gloss.7487, Correct Gloss: gloss.7486\n",
            "Context: وَإِنْ كَانَ فِيهِ تَعَسُّفٌ وَهُوَ أَيْضًا بِعَيْنِهِ عِبَارَةُ صَاحِبِ الْهِدَايَةِ حَيْثُ قَالَ :, Predicted Gloss: gloss.2072, Correct Gloss: gloss.2071\n",
            "Context: وشدد مدير التوجيه الإسلامي بالوكالة سيدي محمد ولد الشواف في كلمة له أمام لجنة تحكيم المسابقات على أهمية العدل بين المتسابقين والأمانة في تطبيق المعايير والتقويم ،, Predicted Gloss: gloss.4745, Correct Gloss: gloss.4747\n",
            "Context: الوسط الحسابي للبيانات المبوبة في حالة (grouped frequency distribution), Predicted Gloss: gloss.4640, Correct Gloss: gloss.4639\n",
            "Context: تبدو السماء زرقاء نهارًا عند النظر إليها بالعين المجردة بسبب تشتت الضوء, Predicted Gloss: gloss.295, Correct Gloss: gloss.291\n",
            "Context: وأما ( الله ) بحذف الهمزة فمختص بالمعبود بالحق ،, Predicted Gloss: gloss.14001, Correct Gloss: gloss.13998\n",
            "Context: في البداية كنت أفكر في العودة إلى مصر والاستقرار بها ،, Predicted Gloss: gloss.2403, Correct Gloss: gloss.2401\n",
            "Context: في العام الماضي 2021 استطعنا ان نسترد قرابة الخمسة وثمانون وقف جديد وقمنا بزيادة ريع الاوقاف وذلك بتطبيق أجرة المثل وقد وجدنا دكان يستأجر بمائتي جنيه فقط مقابل الشهر وتمت معالجة وتنمية الريع بتطبيق أجرة المثل على جميع أوقافنا في السودان., Predicted Gloss: gloss.4777, Correct Gloss: gloss.4775\n",
            "Context: تتكون لديه الرغبة الجامحة في صنع عالمه الخاص به والتعايش معه دون أن يكون هناك أية ضوابط أو قوانين تعمل على رسم الخطوط الرئيسة التي من شأنها أن تجعل من ذلك العالم المتخيل من قبله خيالاً لا يخضع لأي أسس أو قوانين،, Predicted Gloss: gloss.3995, Correct Gloss: gloss.3997\n",
            "Context: تعتبر الملاحظة أداة فعالة لجمع المعلومات, Predicted Gloss: gloss.224, Correct Gloss: gloss.218\n",
            "Context: ومن الجدير بالذكر أنّه قد تمّت إضافة هذا التقليد عام 2012 إلى قائمة اليونسكو للتراث الثقافيّ., Predicted Gloss: gloss.728, Correct Gloss: gloss.727\n",
            "Context: (2) توجد فروق ذات دلالة إحصائية بين متوسطات درجات مجموعتي الدراسة (التجريبية والضابطة) في اختبار التفكير الابتكارى فى هندسة الدائرة لصالح المجموعة التجريبية يرجع إلى نمط البرنامج المستخدم القائم على تكنولوجيا الوسائط المتعددة التفاعلية عند مستوى دلالة 0., Predicted Gloss: gloss.4910, Correct Gloss: gloss.4911\n",
            "Context: قابلية الشرح هي القدرة على شرح ما يحدث حرفيًا., Predicted Gloss: gloss.1237, Correct Gloss: gloss.1235\n",
            "Context: الوردية هي جلاد التهابي مزمن عدي الشكل في الوحدات الجريبية الزهمية للوجه ويترافق مع اضطراب بالمقوية الوعائية مما يؤدي إلى التوهج المتكرر والحمامى وتوسع الشعيرات يتخلله هجمات التهابية تكون فيها الحطاطات والبثرات علامة بارزة ،, Predicted Gloss: gloss.2558, Correct Gloss: gloss.2557\n",
            "Context: إلا أن البلاد انزلقت إلى حرب أهلية متواصلة أكثر من عقدين., Predicted Gloss: gloss.2218, Correct Gloss: gloss.2219\n",
            "Context: الفلفل والكزبرة وترك الخليط إلى أن ينضج تماماً., Predicted Gloss: gloss.536, Correct Gloss: gloss.537\n",
            "Context: وهو الضامن لاستقلال, Predicted Gloss: gloss.3268, Correct Gloss: gloss.3267"
          ]
        },
        {
          "output_type": "stream",
          "name": "stderr",
          "text": [
            "Evaluating:  18%|█▊        | 817/4496 [00:00<00:04, 861.37pair/s]"
          ]
        },
        {
          "output_type": "stream",
          "name": "stdout",
          "text": [
            "\n",
            "Context: وقال بنك الكويت المركزي في نشرته اليومية على موقعه الإلكتروني إن سعر صرف الجنيه الإسترليني انخفض إلى 413ر0 في حين استقر الفرنك السويسري عند مستوى 330ر0 والين الياباني عند 0026ر0 دينار., Predicted Gloss: gloss.5084, Correct Gloss: gloss.5075\n",
            "Context: أملي الوحيد هو أن تكونوا لي سندا لإنصافي من هذا الظلم والترهيب والقضاء عليّ حتى أتمكن من تسديد ديوني ., Predicted Gloss: gloss.4219, Correct Gloss: gloss.4217\n",
            "Context: وبحسب العلماء الإنكليز فإن الوردية الشديدة أكثر ما تصيب المنحدرين من أصل ايرلندي الذين يعملون في العراء والشمس والطقس السيء , أما بالنسبة ل اللاتينيين فقد ارتبط بالبيتوتية والعمال وربات البيوت., Predicted Gloss: gloss.432, Correct Gloss: gloss.430\n",
            "Context: ويتخذونها مادة لمجالسهم ولما جاء الاسلام تطور علم التاريخ عند العرب ،, Predicted Gloss: gloss.1995, Correct Gloss: gloss.1994\n",
            "Context: اتجاه تدفق الحرارة وتدرج درجات الحرارة الأحادي البعد ........................, Predicted Gloss: gloss.5811, Correct Gloss: gloss.5805\n",
            "Context: إذ يقوم الجموع برمي بودرة الصبغة ورشّ المياه،, Predicted Gloss: gloss.752, Correct Gloss: gloss.733\n",
            "Context: والذي يُعتبر من أهم مكونات الدُهْن, Predicted Gloss: gloss.3036, Correct Gloss: gloss.3037\n",
            "Context: 16-\t كانت تلك المراجعة مقنعة لأن المعلومات فيها كانت مرتبة بشكل واضح ومنطقي., Predicted Gloss: gloss.4893, Correct Gloss: gloss.4892\n",
            "Context: على أن يصدر قرار النزع من وزير الصناعة والكهرباء ،, Predicted Gloss: gloss.4237, Correct Gloss: gloss.4239\n",
            "Context: وتشكل المدينة ساحة عمل مفتوحة لعدد من المشاريع الكبرى القائمة في السعودية كمركز الملك عبدالله المالي ومشروع مترو الرياض كما تعتبر وجهة يقصدها المواطنون والمقيمون للبحث عن الأعمال ويتركز فيها من قوة العمل في السعودية حيث وصل حجم القوة العاملة فيها عام إلى ملايين عامل, Predicted Gloss: gloss.8542, Correct Gloss: gloss.8541\n",
            "Context: علم المعاني هو أحد أقسام علوم البلاغة الثلاثة (المعاني- والبيان- والبديع)،, Predicted Gloss: gloss.4760, Correct Gloss: gloss.4764\n",
            "Context: أي أنه أداء لا بد أن يشمل قدرا معينا من الكفاءة والتمكن والسيطرة على الأدوات والأساليب والوسائل والمحاضرات التي عن طريقها يتم الأداء\", Predicted Gloss: gloss.3265, Correct Gloss: gloss.3264\n",
            "Context: \tإنتان الرحم النفاسي, Predicted Gloss: gloss.12906, Correct Gloss: gloss.12905\n",
            "Context: أو كيفية توليد هذه الطاقة أو تخزينها., Predicted Gloss: gloss.7464, Correct Gloss: gloss.7465\n",
            "Context: لقد أثبتت تجارب الحياة الاقتصادية بأن ما يُطلق عليها بجمهوريات الموز هي في الأصل جمهوريات الموانئ على مختلف أنواعها ومحطاتها ., Predicted Gloss: gloss.5317, Correct Gloss: gloss.5314\n",
            "Context: التطعيم ضد شلل الأطفال (الجرعة الأولى):, Predicted Gloss: gloss.358, Correct Gloss: gloss.359\n",
            "Context: كنـــت قــد ســحبت لتــوي عينــة دم مــن رجــل كبيــر في السـن في المشـفى وعـدت بهـا إلى المختبــر., Predicted Gloss: gloss.1072, Correct Gloss: gloss.1070\n",
            "Context: وَ إِذَا كَانَ الْحَدِيثُ الضَّعِيفُ هُوَ الَّذِي احْتَجَّ بِهِ الْمُصَنِّفُ أَوْ هُوَ الَّذِي اعْتَمَدَهُ أَصْحَابُنَا صَرَّحْتُ بِضَعْفِهِ ثُمَّ أَذْكُرُ دَلِيلًا لِلْمَذْهَبِ مِنْ الْحَدِيثِ إنْ وَجَدْتُهُ وَ إِلَّا فَمِنْ الْقِيَاسِ وَ غَيْرِهِ, Predicted Gloss: gloss.2830, Correct Gloss: gloss.2829\n",
            "Context: خاض مساء اليوم على أرضية الملعب الأولمبي بنواكشوط البرتقالي أفسي نواذيبو مباراة مؤجلة له عن الجولة 11 ضد نادي كيهيدي و تمكن من سحق الأخير برباعية دون رد . ., Predicted Gloss: gloss.1317, Correct Gloss: gloss.1318\n",
            "Context: وظهرت أيضًا هجرات جماعية تُقدَّر بالملايين داخل القارة الأوروبية نفسها بسبب الأحداث السياسية الكبرى مثل الحرب العالمية الثانية وتفكك الاتحاد السوفييتي وسقوط جدار برلين (4)., Predicted Gloss: gloss.3542, Correct Gloss: gloss.3538\n",
            "Context: قـررت ان أتـرك ورائـي المذكـرات،, Predicted Gloss: gloss.7200, Correct Gloss: gloss.7198\n",
            "Context: ٠٥ مايو/أيار ٢٠١٩ – استقبل وزير الدولة للشؤون الخارجية والتعاون الدولي معالى السيد عبدالقادر أحمد-خير عبدى اليوم الأحد بمبنى وزارة الخارجية فى مقديشو مساعد وزير الخارجية المصري للشئون الإفريقية السفير حمدى لوزا،, Predicted Gloss: gloss.3985, Correct Gloss: gloss.3968\n",
            "Context: وقد جاءتنا رسائل شتى في الموضوع البلدي سندرج منها في العدد الآتي ما يناسب مشرب الجريدة كما جاءَتنا كتب كثيرة باستحسان هذا المشرب وبعض كتب تطلب جعل الكلام البلدي جريدة مستقلة فرأينا الرأي العام يستحسن ما عليه الجريدة الآن فالتزمناه فإن تكثر الفريق الثاني وصار صاحب الأغلبية أريناهُ رأينا إذ ذاك فليتفضل بقبول ما نقدمه إليه من جد وهزل موافقة للجانبين ونحن للجميع من الشاكرين على سعيهم خلف الآداب وحبهم في المحسنات الوطنية., Predicted Gloss: gloss.10006, Correct Gloss: gloss.10004\n",
            "Context: تلبية - في الغالب - لحاجات المجتمع المتزايدة وتحسيناً للبيئة وظروف العيش ., Predicted Gloss: gloss.11236, Correct Gloss: gloss.11235\n",
            "Context: التي تشكل القاعدة الأساسية التي تنطلق منها أعمالكم،, Predicted Gloss: gloss.1822, Correct Gloss: gloss.1821\n",
            "Context: العميد جيف نياجه الذي أنهى فترة خدمته في الصومال التي عمل خلالها مع الجيش الصومالي في توفير الأمن مواصلة الضغط على حركة الشباب., Predicted Gloss: gloss.3998, Correct Gloss: gloss.4000\n",
            "Context: وبهذه الطريقة تكون قد لونت جميع الرؤوس ., Predicted Gloss: gloss.6018, Correct Gloss: gloss.6008\n",
            "Context: وفي الختام هذه رسالة أبلغوني إياها فأنا حرمت من إقامة المعارض بالخيام وأمامي اليوم خيمة, Predicted Gloss: gloss.14866, Correct Gloss: gloss.14865\n",
            "Context: تُوجد عادةً في الشفاه واللثة والوجنتين الداخليتين والأعضاء الجنسية., Predicted Gloss: gloss.6143, Correct Gloss: gloss.6142\n",
            "Context: أشار المؤرّخ عبد الرحمن بن خلدون إلى أصل كلمة \"تونس\" التي أطلقت على حاضرة شمال إفريقيّة حيث أرجع اصلها إلى ما عرف عن المدينة من ازدهار عمراني وحيوية اقتصادية وحركية ثقافية واجتماعية فقد أشار إلى أنّ اسم \"تونس\" اشتقّ من وصف سكانها والوافدين عليها لما عرفوا به من طيب المعاشرة وكرم الضيافة وحسن الوفادة., Predicted Gloss: gloss.5317, Correct Gloss: gloss.5314\n",
            "Context: والتي تُساعد في تَشحيم الأذن بشكلٍ جيد., Predicted Gloss: gloss.1009, Correct Gloss: gloss.1008\n",
            "Context: والتظلم من قرارات اللجان والأجهزة الإدارية الصادرة بشأنها- على حالات نزع ملكية العقارات للمنفعة العامة السابقة لنفاذه التي وردت أو ترد بها شكاوى بعدم اتباع الإجراءات النظامية بشأنها،, Predicted Gloss: gloss.8858, Correct Gloss: gloss.8857\n",
            "Context: وشدد مدير التوجيه الإسلامي بالوكالة سيدي محمد ولد الشواف في كلمة له أمام لجنة تحكيم المسابقات على أهمية العدل بين المتسابقين والأمانة في تطبيق المعايير والتقويم ،, Predicted Gloss: gloss.9308, Correct Gloss: gloss.9307\n",
            "Context: ضد الدفتريا والسعال الديكي والتيتانوس والتهاب الكبد الوبائي ب., Predicted Gloss: gloss.669, Correct Gloss: gloss.667\n",
            "Context: وتشكل المدينة ساحة عمل مفتوحة لعدد من المشاريع الكبرى القائمة في السعودية كمركز الملك عبدالله المالي ومشروع مترو الرياض كما تعتبر وجهة يقصدها المواطنون والمقيمون للبحث عن الأعمال ويتركز فيها من قوة العمل في السعودية حيث وصل حجم القوة العاملة فيها عام إلى ملايين عامل, Predicted Gloss: gloss.8613, Correct Gloss: gloss.8612\n",
            "Context: تطبق الأحكام الورادة في هذا النظام - المتعلقة بالتقدير،, Predicted Gloss: gloss.3100, Correct Gloss: gloss.3101\n",
            "Context: فإن مبدأ الحياة هو القلب والروح وهما حاران جدا مائلان إلى الإفراط ., Predicted Gloss: gloss.290, Correct Gloss: gloss.289\n",
            "Context: أن نتقــارب علــى نحــوٍ أوثــق ،, Predicted Gloss: gloss.2099, Correct Gloss: gloss.2100\n",
            "Context: كان الكلدانيون في سابق العهد أمة عظيمة بلغت من شاو الحضارة مبلغا بعيدا،, Predicted Gloss: gloss.3985, Correct Gloss: gloss.3968\n",
            "Context: ٣٥٦ مفتاح منظف المصابيح الأمامية الرئيسية., Predicted Gloss: gloss.6845, Correct Gloss: gloss.6843\n",
            "Context: بسبب ارتفاع مستويات الأندروجينات., Predicted Gloss: gloss.4992, Correct Gloss: gloss.4991\n",
            "Context: نختار المتغير مع التحديد لتكوين جدول تكراري وفق الاتي, Predicted Gloss: gloss.1184, Correct Gloss: gloss.1183\n",
            "Context: - بافتراض توفر البيانات التالية عن المتغير X_i والذي يمثل كمية المبيعات الشهرية لشركة الصناعات الالكترونية من الاجهزة الكهربائية, Predicted Gloss: gloss.476, Correct Gloss: gloss.473\n",
            "Context: 1-2-2-7- محتوى التربة من الكربونات الكلية\t16, Predicted Gloss: gloss.12042, Correct Gloss: gloss.12041\n",
            "Context: ذلك العالم الذي يكون فيه للطفل وحده القدرة على صناعة ذلك العالم وفق تصوره،, Predicted Gloss: gloss.601, Correct Gloss: gloss.598\n",
            "Context: - كما يجب أن نكون قادرين على تحليل الواقع العملي لما يدور في منظمات الأعمال ., Predicted Gloss: gloss.2983, Correct Gloss: gloss.2982\n",
            "Context: قالت وزارة الخارجية الروسية إن ما يجري من عنف في شمال مالي يقوض الاستقرار السياسي المنتظر وعملية المصالحة الوطنية في الدولة الإفريقية \" ., Predicted Gloss: gloss.4077, Correct Gloss: gloss.4074\n",
            "Context: فإنه يدخل في التفصيل بالدعاء أن يقول أحدهم :, Predicted Gloss: gloss.559, Correct Gloss: gloss.563\n",
            "Context: - شركة عامة ترغب في معرفة تاثير اعلانات التلفزيون لمنتج جديد من المشروبات الغازية وبعد ملاحظة الاعلانات لمدة اسبوع اختارت الشركة عينة من الاشخاص بصورة عشوائية ومن مركز تجاري لذلك من بين الاسئلة التي تطرحها الشركة ما يلي, Predicted Gloss: gloss.2399, Correct Gloss: gloss.2394\n",
            "Context: تطبيقات الويب،, Predicted Gloss: gloss.3785, Correct Gloss: gloss.3784\n",
            "Context: ٩٣ نظام التحذير., Predicted Gloss: gloss.6711, Correct Gloss: gloss.6709\n"
          ]
        },
        {
          "output_type": "stream",
          "name": "stderr",
          "text": [
            "Evaluating:  22%|██▏       | 998/4496 [00:01<00:03, 879.96pair/s]"
          ]
        },
        {
          "output_type": "stream",
          "name": "stdout",
          "text": [
            "Context: يذكر أن مسلسل \" هند والدكتور نعمان \" تم عرضه عام 1984 ،, Predicted Gloss: gloss.14843, Correct Gloss: gloss.14841\n",
            "Context: هذه ترجمة سيبويه رحمه الله ., Predicted Gloss: gloss.2143, Correct Gloss: gloss.2142\n",
            "Context: والذي غالبََا يؤدّي لصعوبة بالتنفس., Predicted Gloss: gloss.1006, Correct Gloss: gloss.1004\n",
            "Context: وهذا التعريف يحتوي على ثلاثة مصطلحات أساسية ترتبط ارتباطاً وثيقاً بمفهوم التراث العمراني, فتعرف المباني التراثية بأنها \"تلك المباني التي تعطينا الشعور بالإعجاب وتجعلنا بحاجة إلى معرفة المزيد عن الناس الذين سكنوها وعن ثقافتهم, وفيها قيم جمالية, ومعمارية وتاريخية وأثرية واقتصادية واجتماعية وسياسية\" (Feilden, 1994, P1) وتتسم المباني التاريخية بأنها تحظى بقبول مجتمعي وتفاعل إيجابي من قبل المجتمع من جهة, وأنها تعبر عن ظاهرة ثقافية واجتماعية معبرة عن ظواهر مادية ومعنوية أو فكرية في حقبة زمنية معينة من جهة أخرى., Predicted Gloss: gloss.413, Correct Gloss: gloss.414\n",
            "Context: تطبق أحكام هذا النظام على العقارات التي تحتاج إليها الشركات التي تتولى إدارة أحد المرافق العامة لتنفيذ مشروعاتها،, Predicted Gloss: gloss.7079, Correct Gloss: gloss.7078\n",
            "Context: واختلفت تصاميمها والشركات المصنعة لها،, Predicted Gloss: gloss.15870, Correct Gloss: gloss.15869\n",
            "Context: -)خيط ضوء يستدق( بانوراما سردية )جريدة الجزيرة الثقافية ،, Predicted Gloss: gloss.11973, Correct Gloss: gloss.11972\n",
            "Context: ونظرًا للطبيعة المعقدة للهجرة،, Predicted Gloss: gloss.4742, Correct Gloss: gloss.4740\n",
            "Context: قبل أن يصبح نهج البيانات المصطنعة جاهزًا لتوليد بيانات يمكن استخدامها على نحوٍ مسؤول في تدريب الخوارزميات وإيقاع آثار حقيقية في تحيّزات تعلم الآلة خصوصًا فيما يخصّ البيانات الطبية., Predicted Gloss: gloss.2099, Correct Gloss: gloss.2100\n",
            "Context: وأنّ مجلس الوزراء هو القائم بإدارة شؤون الدولة., Predicted Gloss: gloss.3985, Correct Gloss: gloss.3968\n",
            "Context: بأنه عبارة عن \"إتيان الواجب في الوقت\" (Al-Jurjani , 1986 , p 10)., Predicted Gloss: gloss.452, Correct Gloss: gloss.457\n",
            "Context: ان الشكل البياني ابلغ من الكلمات في وصف الظواهر والمتغيرات للظاهرة المدروسة حيث توضح الاشكال بعض خصائص المتغير من وجود اتجاه عام او تاثير موسمي او شكل التوزيع ومدى تماثله وغير ذلك من الخواص وفيما يلي بعض هذة الاشكال ،, Predicted Gloss: gloss.4709, Correct Gloss: gloss.4707\n",
            "Context: وبالتالي فإن تقييم مدى انتشار ال (ETTR) بدقة في عموم السكان أمر صعب إن لم يكن مستحيلاً ،, Predicted Gloss: gloss.2708, Correct Gloss: gloss.2706\n",
            "Context: فيشمل التعريف إقامة الشخص في دولة عضو في الاتحاد الأوروبي مدةً لا تقل عن 12 شهرًا بعد إقامته في دولةٍ أخرى،, Predicted Gloss: gloss.787, Correct Gloss: gloss.786\n",
            "Context: فالله خير حفظا وهو أرحم الراحمين, Predicted Gloss: gloss.4329, Correct Gloss: gloss.4330\n",
            "Context: لوحة أجهزة القياس ٢, Predicted Gloss: gloss.3363, Correct Gloss: gloss.3365\n",
            "Context: يحتفل سكان جنوب الهند بموسم الحصاد من خلال إفلات الثيران الهائجة بين جموع النّاس،, Predicted Gloss: gloss.11646, Correct Gloss: gloss.11644\n",
            "Context: وقد حكي أن عمرو بن مسعدة وزير المعتصم قال لما خرج المعتصم من بلاد الروم وصار بناحية الرقة قال لي ويلك يا عمرو لم تزل تخدعني حتى وليت عمر بن الفرج الرخجي الأهواز وقد قعد في سرة الدنيا يأكلها خضما وقضما فقلت يا أمير المؤمنين فأنا أبعث إليه حتى يؤخذ بالأموال ولو على أجنحة الطير قال كلا بل تخرج إليه بنفسك كما أشرت به فقلت لنفسي إن هذه منزلة خسيسة بعد الوزارة أكون مستحثا لعامل خراج ولم أجد بدا من الخروج رضا لأمير المؤمنين فقلت ها أنا خارج إليه بنفسي يا, Predicted Gloss: gloss.13039, Correct Gloss: gloss.13036\n",
            "Context: و تواصلت أشغال الملتقى باستعراض عديد المداخلات على غرار \"النحو العربي والمنطق الرياضي\", إيقاع اللغة مقاربة في موسيقية اللغة العربية\", الطوبونوميا والعلوم قراءة عابرة للتخصصات في ظل نظم المعلومات الجغرافية\", \"مقاربات فيزيائية للصوت اللغوي في التراث اللساني العربي\"., Predicted Gloss: gloss.9371, Correct Gloss: gloss.9369\n",
            "Context: أما رابطة الكتاب الأمريكيين فإن قرار المحكمة خيب آمالها،, Predicted Gloss: gloss.7517, Correct Gloss: gloss.7518\n",
            "Context: وكان عبد الله بن أبي سرح يكتب الوحي أيضا،, Predicted Gloss: gloss.1864, Correct Gloss: gloss.1859\n",
            "Context: نؤكد تصميمنا على دعم وحماية استقلال الوطن الصومالي وحق شعبه في الحرية وفي ظل ديمقراطية مؤسسة على سيادة الشعب وعلى المساواة في الحقوق والواجبات بين المواطنين جميعا ., Predicted Gloss: gloss.8137, Correct Gloss: gloss.8136\n",
            "Context: في حين استقبل الرصيف الخاص للثروة الحيوانية أمس سبعة ألاف رأس, Predicted Gloss: gloss.6018, Correct Gloss: gloss.5998\n",
            "Context: لتطوير أداء الممثلين الذين يعملون في مجال عروض مسرح الطفل., Predicted Gloss: gloss.3391, Correct Gloss: gloss.3393\n",
            "Context: ‮ ‬جعلت الجزائر دائما منبت الحرّيّة،, Predicted Gloss: gloss.4107, Correct Gloss: gloss.4101\n",
            "Context: 1 ـ سن الرشد للملك تمام الثامنة عشر عاماً., Predicted Gloss: gloss.9745, Correct Gloss: gloss.9743\n",
            "Context: نختار ثم نختار الايقونة للاشرطة البيانية, Predicted Gloss: gloss.5716, Correct Gloss: gloss.5715\n",
            "Context: ونفس الآمال تراود بعض الصوماليين في المنفى الذين قرروا العودة إلى وطنهم., Predicted Gloss: gloss.9495, Correct Gloss: gloss.9494\n",
            "Context: من بينها شبكة الخصومة التوليدية (GAN) وهي عبارة عن نموذجين من الشبكات العصبونية الاصطناعية:, Predicted Gloss: gloss.3288, Correct Gloss: gloss.3285\n",
            "Context: ويأمر بالمعروف وينهى عن المنكر., Predicted Gloss: gloss.2767, Correct Gloss: gloss.2766\n",
            "Context: وافقت الحكومة الإسرائيلية اليوم الأحد (31 يناير كانون الثاني) على إنشاء موقع منفصل يمكن فيه لليهود من الجنسين الصلاة عند حائط المبكى بعد أن كان المتشددون الأرثوذكس يرفضون صلاة النساء هناك., Predicted Gloss: gloss.3903, Correct Gloss: gloss.3897\n",
            "Context: اذا كانت القيم المشاهدة واقعة خارج المجال التالي, Predicted Gloss: gloss.5792, Correct Gloss: gloss.5789\n",
            "Context: شهدت السنوات الأخيرة طفرة في القنوات الفضائية ،, Predicted Gloss: gloss.7794, Correct Gloss: gloss.7792\n",
            "Context: أما أوضاع العلم وشعار الدولة وشاراتها ورتبها فتعين بقوانين خاصة., Predicted Gloss: gloss.7444, Correct Gloss: gloss.7443\n",
            "Context: وهي مقر إمارة منطقة الرياض حسب التقسيم الإداري للمناطق السعودية يسكن مدينة الرياض نحو مليون نسمة وفق إحصائيات عام, Predicted Gloss: gloss.2099, Correct Gloss: gloss.2103\n",
            "Context: صُـوِّر المهرِّبـون أنهـم َخَوَنـة للوطن ،, Predicted Gloss: gloss.6692, Correct Gloss: gloss.6693\n",
            "Context: تسمية أنهيدريدات الأحماض يتم تسميتها باستبدال كلمة acid من اسم الحامض الكاربوكسيلي المقابل بكلمة anhydride وذلك في حالة الأنهيدريدات المتناظرة أو الأنهيدريدات التي تنتج من نزع جزئ ماء من الاحماض الكاربوكسيلية ثنائية القاعدية وعندما ينتج الانهيدريد من حامضين مختلفين فانه يتم تسمية الحامضين المكون منهما ثم يتبع بكلمة anhydride, Predicted Gloss: gloss.1379, Correct Gloss: gloss.1376\n",
            "Context: 6 في المئة من السكان في فقر متعدد الأبعاد وفقاً لتقرير التنمية البشرية لعام 2020،, Predicted Gloss: gloss.5811, Correct Gloss: gloss.5807\n",
            "Context: بوصفها واحدة من أهم قصائده التي نُظمت في منفاه،, Predicted Gloss: gloss.2822, Correct Gloss: gloss.2823\n",
            "Context: إن الأداء \"هو وسيلة إقناع من خلال إثارة السرور\" (Marvin ،, Predicted Gloss: gloss.3391, Correct Gloss: gloss.3393\n",
            "Context: الأول تحقيق الصالح العام حيث إن الحفاظ على التراث العمراني يسهم في المحافظة على الممتلكات الثقافية والتاريخية, كما أنه يساعد على حماية المال العام والصالح العام وهو ما يسهم في تحسين نوعية الحياة, والدعم الإداري والتشغيلي, وجودة الحياة, والشعور بالانتماء., Predicted Gloss: gloss.6725, Correct Gloss: gloss.6728\n",
            "Context: كما أتقدم بخالص شكري وأمتناني إلى عمادة كلية الهندسة التقنية ممثلة بالدكتورة ميساء شاش لما قدمته وما زالت تقدمه لي ولكامل زملائي في الكلية من دعم وتشجيع للمضي بشعلة العلم والمعرفة في وطننا الحبيب, وأشكر العمادة لإتاحة الفرصة لي لإكمال دراستي هذه والتي كان لها الفضل بتذليل المصاعب التي واجهتني, كما وأشكر أعضاء الهيئة التعليمية في الكلية وفي قسم المكننة الزرعية على كامل الدعم وعلى النصائح والإرشادات التي قدموها لي لإغناء هذا البحث., Predicted Gloss: gloss.10234, Correct Gloss: gloss.10233\n",
            "Context: واليوم يعرف الإفرنج تواريخ بلادنا وأممها وأجيالها ومواقع مدنها, Predicted Gloss: gloss.2006, Correct Gloss: gloss.2008\n",
            "Context: (قائمة نظام اتصال, Predicted Gloss: gloss.7045, Correct Gloss: gloss.7042\n",
            "Context: نصوغ من الوهم آمالنا وأساطيرنا الخارقات ؟, Predicted Gloss: gloss.14740, Correct Gloss: gloss.14739\n",
            "Context: فمثلًا الغدد الدُهنية في الشفاه والغشاء المخاطي للوجنتين والأعضاء التناسلية،, Predicted Gloss: gloss.6143, Correct Gloss: gloss.6142\n",
            "Context: وشهد الناتج المحلي الإجمالي الحقيقي اتجاهاً تصاعدياً ليسجل نمواً بنسبة 5., Predicted Gloss: gloss.6046, Correct Gloss: gloss.6043\n",
            "Context: وانتهاز المسلم وإهانته،, Predicted Gloss: gloss.15239, Correct Gloss: gloss.15238\n",
            "Context: - عداد في تعداد السكان قَدْ يَسْألُ أسئلةَ أساسيةَ مثل الجنسِ،, Predicted Gloss: gloss.5370, Correct Gloss: gloss.5369\n",
            "Context: وينتجها مخرج العرض عبر مهارات أداء الممثل على خشبة المسرح., Predicted Gloss: gloss.1379, Correct Gloss: gloss.1376\n"
          ]
        },
        {
          "output_type": "stream",
          "name": "stderr",
          "text": [
            "\rEvaluating:  24%|██▍       | 1087/4496 [00:01<00:05, 585.81pair/s]"
          ]
        },
        {
          "output_type": "stream",
          "name": "stdout",
          "text": [
            "Context: الاحتمالات والاحصاء الرياضي ( بعض التوزيعات المتقطعة ( توزيع ثنائي الحدين توزيع برنولي ،, Predicted Gloss: gloss.4709, Correct Gloss: gloss.4707\n",
            "Context: والمناطق التراثية تعرف بأنها \"تلك المناطق التي تميز بيئة عمرانية متوازية شيدت في عصر تاريخي بحيث تشكل تراث يحفظ جذور الحضارة وسماتها وتعكس أحداث العصر الذي واكبته وتعد هذه البيئة نتاجاً لقيم وأعراف وفلسفة تخطيطية تصل هذه العصور التاريخية بما قبل بتجانس وتكامل واضح\" (الدواخلي, 1996:, Predicted Gloss: gloss.8190, Correct Gloss: gloss.8189\n",
            "Context: رغم المعرفة العالمية بوردية الوجه و التي تعود للقرن الخامس عشر إلا أنها تبقى موضوعاً إشكالياً في الجلدية،, Predicted Gloss: gloss.2409, Correct Gloss: gloss.2405\n",
            "Context: عروض الفرقة الوطنية لمسرح الطفل في دائرة السينما والمسرح،, Predicted Gloss: gloss.9606, Correct Gloss: gloss.9602\n",
            "Context: تنشـر إدارة الشـرق الأوسـط وآسـيا الوسـطى (MCD) كل عـام تقريرهـا عـن آفـاق الاقتصـاد الإقليمـي (REO) لمنطقـة الشـرق الأوسـط وآسـيا الوسـطى., Predicted Gloss: gloss.5898, Correct Gloss: gloss.5897\n",
            "Context: واختتم العجمي حديثه بتوجيه الشكر لأصحاب الأيادي البيضاء من أهل الكويت والمقيمين وذلك لحرصهم الدؤوب وسعيهم المتواصل على المشاركة في تسيير رحلة الحج السادسة عشرة ،, Predicted Gloss: gloss.9973, Correct Gloss: gloss.9970\n",
            "Context: شــعلتي لــم تنطفــئ فحســب بــل اســتعر لهيبهــا،, Predicted Gloss: gloss.2492, Correct Gloss: gloss.2494\n",
            "Context: فعند وجود n من قيم المتغير 〖X_(1 ),X_(2 ),…X〗_(k ) يتم ترتيب البيانات بصورة تصاعدية وعد عدد التكرارات لكل قيمة من قيم المتغير X ،, Predicted Gloss: gloss.406, Correct Gloss: gloss.407\n",
            "Context: بدأت الرياض تعيش عصرها الحديث منذ استعادتها في عام على يد الملك عبدالعزيز في معركة الرياض التي أسفرت عن مقتل أميرها السابق عجلان بن محمد من قبل الرشيديين وتنازل عبدالرحمن الفيصل عن الحكم لابنه الملك عبدالعزيز وتمت مبايعته على الحكم, Predicted Gloss: gloss.4319, Correct Gloss: gloss.4321\n",
            "Context: أول ما يجب على المكلف:, Predicted Gloss: gloss.4141, Correct Gloss: gloss.4139\n",
            "Context: جاء ذلك وفق بيان صحفي ل(الدفاع) مساء اليوم السبت خلال استقبال الشيخ حمد الجابر مجموعة من علماء ومشايخ الدين في الكويت وهم الدكتور عثمان الخميس والدكتور نايف العجمي والدكتور فرحان الشمري والدكتور خالد العتيبي والدكتور محمد العصيمي الذين أكدوا بدورهم على ضرورة مراعاة الضوابط في عمل المرأة ببعض الوظائف الخاصة بالسلك العسكري من خلال استفتاء هيئة الافتاء في وزارة الأوقاف والشؤون الاسلامية., Predicted Gloss: gloss.9190, Correct Gloss: gloss.9187\n",
            "Context: نظراً لغياب الدعم الحكومي والحرب المستمرة وانقطاع التيار الكهربائي،, Predicted Gloss: gloss.12484, Correct Gloss: gloss.12486\n",
            "Context: لنيل درجة الماجستير في الطب البشري ( اختصاص الأمراض الجلدية والزهرية ), Predicted Gloss: gloss.2256, Correct Gloss: gloss.2242\n",
            "Context: وتتميـز أعمالهـم بالصيغـة الشـاعرية والفلسـفية المسـتوحاة مـن تاريـخ وتقاليـد الشـعب الشيشـاني., Predicted Gloss: gloss.2226, Correct Gloss: gloss.2229\n",
            "Context: ( رسالة أعدت لنيل شهادة الماجستير في قسم البرمجيات ونظم المعلومات -كلية الهندسة المعلوماتية ), Predicted Gloss: gloss.2366, Correct Gloss: gloss.2358\n",
            "Context: كما نؤكد تعاوننا مع كافة الشعوب على دعم الحرية والعدالة والسلام في العالم اجمع وبصفة خاصة مع هذه الشعوب التي تربطنا بها روابط التاريخ والدين والثقافة ووحدة الاتجاه السياسي في سبيل مستقبل افضل نقيم من انفسنا جمهورية مستقلة موحدة ذات سيادة., Predicted Gloss: gloss.1411, Correct Gloss: gloss.1408\n",
            "Context: وأشارت المصادر إلى ان مركز عبد الكريم ميرغني درج على اقامة الاحتفال بجائزة الطيب صالح منذ عشرة أعوام ،, Predicted Gloss: gloss.8261, Correct Gloss: gloss.8266\n",
            "Context: الهدف الأول في مرمى المقاولون العرب بالرأس والهدف الثاني في مرمى انبي من تسديدة مباغتة وصنع هدفًا في مباراة انبي من تسديدة قوية أكملها زميله في الشباك وكان له تسديده في العارضة ., Predicted Gloss: gloss.11090, Correct Gloss: gloss.11089\n",
            "Context: معامل التوصيل الحراري للمواد عند درجات حرارة مختلفة ....................., Predicted Gloss: gloss.1516, Correct Gloss: gloss.1515\n",
            "Context: وهذه هي المرة الأولى التي تعلن فيها الحكومة الهولندية تفاصيل عن هذه الغارة الجوية التي استهدفت ما يُرجح أنه مصنع للقنابل كان يتبع التنظيم في الحويجة شمال العاصمة العراقية بغداد., Predicted Gloss: gloss.1310, Correct Gloss: gloss.1311\n",
            "Context: فإن هناك العديد من الطرق التي يمكن أن تنتج عنها نتائج سيئة من دون قصد., Predicted Gloss: gloss.3006, Correct Gloss: gloss.3002\n",
            "Context: من التوزيع يمكن ان نَعْرفُ فقط عدد المشاهدات الواقعة في الفئة (صنفِ) المعيّنةِ ولَيستْ المقاديرَ الفرديةَ للمشاهدات ،, Predicted Gloss: gloss.4709, Correct Gloss: gloss.4707\n",
            "Context: تقومُ الغدد الدهنية في الجنين بإفراز الطلاء الدهني،, Predicted Gloss: gloss.1129, Correct Gloss: gloss.1134\n",
            "Context: استبعد منها (40) استبانة لعدم صلاحيتها للتحليل وذلك بسبب عدم استكمالها لشروط التحليل،, Predicted Gloss: gloss.2639, Correct Gloss: gloss.2637\n",
            "Context: وإجرائيا يعرف الأداء المسرحي بأنه توافق المنظومتين الصوتية والحركية في إنتاج اللحظة الدرامية وفق معطيات النص الأدبي., Predicted Gloss: gloss.9584, Correct Gloss: gloss.9580\n"
          ]
        },
        {
          "output_type": "stream",
          "name": "stderr",
          "text": [
            "\rEvaluating:  26%|██▌       | 1159/4496 [00:01<00:06, 511.25pair/s]"
          ]
        },
        {
          "output_type": "stream",
          "name": "stdout",
          "text": [
            "Context: ويمكن أن يكون قسم كبير من الإصابات على شكل إصابات كامنة., Predicted Gloss: gloss.532, Correct Gloss: gloss.531\n",
            "Context: وتأتي استجابة وزير الدفاع لهذا اللقاء رغبة منه في سماع وجهات النظر الشرعية للعلماء والمشايخ وتأكيدا منه لحرص وزارة الدفاع على استطلاع رأي الشرع والتحقق من عدم وجود أي محظورات أو مخالفات شرعية قد تحتويها أي من قراراتها., Predicted Gloss: gloss.2639, Correct Gloss: gloss.2637\n",
            "Context: يسكنُ كثيرٌ منَ الناسِ في أيّامِنا هذهِ في المدُن الكبرى التي تحتَلُّ المساحاتُ المبنيةُ, Predicted Gloss: gloss.7194, Correct Gloss: gloss.7191\n",
            "Context: 1 ـ سن الرشد للملك تمام الثامنة عشر عاماً., Predicted Gloss: gloss.536, Correct Gloss: gloss.537\n",
            "Context: الأمر لا يتعلق بمشهد فيلم سينمائي من إبداع كاتب سيناريو،, Predicted Gloss: gloss.9443, Correct Gloss: gloss.9444\n",
            "Context: قالت تقارير إعلامية إن الولايات المتحدة تنوي دعوة بعض المنتخبات التي فشلت في بلوغ كأس العالم 2018،, Predicted Gloss: gloss.12054, Correct Gloss: gloss.12053\n",
            "Context: مشروع اللائحة المنظمة لأعمال أعوان القضاء, Predicted Gloss: gloss.7073, Correct Gloss: gloss.7071\n",
            "Context: ودعت ايران الى التعامل بايجابية مع متطلبات الشرعية الدولية لضمان التوصل الى حل, Predicted Gloss: gloss.3268, Correct Gloss: gloss.3267\n",
            "Context: في التصنيف الشهر للمنتخبات الصادر اليوم الخميس عن الاتحاد الدولي لكرة القدم “الفيفا”., Predicted Gloss: gloss.8184, Correct Gloss: gloss.8175\n",
            "Context: {فَأَرْسَلْنَا عَلَيْهِمْ رِيحًا} [الأحزاب:, Predicted Gloss: gloss.6675, Correct Gloss: gloss.6656\n",
            "Context: فلا يصحُّ أن تعطى للأطفال الّذين يعانون من بعض أنواع السرطانات،, Predicted Gloss: gloss.1575, Correct Gloss: gloss.1573\n",
            "Context: اما اذا كانت قيمة المشاهدة واقعة خارج المجال التالي, Predicted Gloss: gloss.5792, Correct Gloss: gloss.5789\n",
            "Context: كما حولت الجملة (صلى الله عليه وسلم) في النص الحديث الشريف إلى () للتناسق في جميع رسالتي من غير اختلاف., Predicted Gloss: gloss.12063, Correct Gloss: gloss.12064\n",
            "Context: ثمّ توزيع بعض الدقة عليها ثمّ المرقة الساخنة من أجل أن يتشرب الخبز بها جيداً., Predicted Gloss: gloss.5449, Correct Gloss: gloss.5448\n",
            "Context: يقـول الطبيـب فإنـه لغـرض العـلاج الناجـح يجـب عليـك أن تقـرأ كتابـًاً مثــل الكتـاب المقـدس،, Predicted Gloss: gloss.13805, Correct Gloss: gloss.13802\n",
            "Context: 1-2-2- 8- محتوى التربة من الأملاح الكلية\t18, Predicted Gloss: gloss.2239, Correct Gloss: gloss.2240\n",
            "Context: بمشاركة منافسين من داخل السودان وخارجه ،, Predicted Gloss: gloss.5792, Correct Gloss: gloss.5789\n",
            "Context: خصوصًا مع الإشكاليات المستمرّة بسبب محدودية الوصول إلى البيانات التي تركّز على العرق،, Predicted Gloss: gloss.3587, Correct Gloss: gloss.3586\n",
            "Context: وخاصةً في الوجه والأكتاف وأعلى الصدر والظهر،, Predicted Gloss: gloss.2282, Correct Gloss: gloss.2271\n",
            "Context: و من مهام المجلس – حسب نفس المادة – وضع خطط التنمية والعمل على تنفيذها ومتابعتها،, Predicted Gloss: gloss.2226, Correct Gloss: gloss.2225\n",
            "Context: وفي الباب الثالث تحدّث عن (السلطة التشريعية) واعتبرها منوطة بمجلس الأمة مع الملك،, Predicted Gloss: gloss.10814, Correct Gloss: gloss.10813\n",
            "Context: وَ قَدْ جَمَعْتُ فِي هَذَا النوع كتابا سميته بتهذيب الْأَسْمَاءِ وَ اللُّغَاتِ جَمَعْتُ فِيهِ مَا يَتَعَلَّقُ بِمُخْتَصَرِ الْمُزَنِيِّ وَ الْمُهَذَّبِ وَ الْوَسِيطِ وَ التَّنْبِيهِ وَ الْوَجِيزِ وَ الرَّوْضَةِ الَّذِي اخْتَصَرْتُهُ مِنْ شَرْحِ الْوَجِيزِ لِلْإِمَامِ أَبِي الْقَاسِمِ الرَّافِعِيِّ رَحِمَهُ اللَّهُ مِنْ الْأَلْفَاظِ الْعَرَبِيَّةِ وَ الْعَجَمِيَّةِ وَ الْأَسْمَاءِ وَ الْحُدُودِ وَ الْقُيُودِ وَ الْقَوَاعِدِ وَ الضَّوَابِطِ وَ غَيْرِ ذَلِكَ مما له ذكر في شئ مِنْ هَذِهِ الْكُتُبِ السِّتَّةِ وَ لَا يَسْتَغْنِي طَالِبُ عِلْمٍ عَنْ مِثْلِهِ فَمَا وَقَعَ هُنَا مُخْتَصَرًا لِضَرُورَةٍ أَحَلْتُهُ عَلَى ذَلِكَ وَ أُبَيِّنُ فِيهِ الِاحْتِرَازَاتِ وَ الضَّوَابِطَ الْكُلِّيَّاتِ, Predicted Gloss: gloss.2967, Correct Gloss: gloss.2965\n",
            "Context: وأيضاً عرفت المادة الأولى من مسودة \"ميثاق المحافظة على التراث العمراني في الدول العربية وتنميته\" التراث العمراني بأنه:, Predicted Gloss: gloss.5543, Correct Gloss: gloss.5538\n",
            "Context: الكويت - 15 - 1 (كونا) -- أكد نائب رئيس مجلس الوزراء ووزير الدفاع الشيخ حمد جابر العلي الصباح حرص الوزارة على استطلاع رأي الشرع والتحقق من عدم وجود أي مخالفات شرعية قد تحتويها أي من قراراتهم., Predicted Gloss: gloss.2639, Correct Gloss: gloss.2637\n",
            "Context: وذلك لأن عالم الطفولة في هذه المرحلة ضيق لا يتعدى حدود الأم والأب والإخوة وبعض المعارف والجيران والأقارب والباعة المتجولين والدمى التي يلهون بها والملابس التي يرتدونها والأطعمة التي يأكلونها والبيت الذي يعيشون فيه وما حولهم من حيوانات أليفة وظواهر طبيعية كالبرد والحر والمطر والضوء والظلام (p 82-83, Hassan ,2007)., Predicted Gloss: gloss.6396, Correct Gloss: gloss.6391\n",
            "Context: وقـد تـم تنسـيق التحليـل الـوارد في هـذا التقريـر بإشـراف عـام مـن جهـاد أزعـور )مديـر إدارة الشـرق الأوسـط وآسـيا الوسـطى( ., Predicted Gloss: gloss.5898, Correct Gloss: gloss.5897\n",
            "Context: أفصحـت عـن هـذا المبلـغ لجـودت بتـردد،, Predicted Gloss: gloss.10973, Correct Gloss: gloss.10974\n",
            "Context: فقد تَمَّ تَصميمُ خَطِّ التَّغليف لمُنتَج المعسَّل يدويا بِخُبرات مَحليَّة،, Predicted Gloss: gloss.6771, Correct Gloss: gloss.6768"
          ]
        },
        {
          "output_type": "stream",
          "name": "stderr",
          "text": [
            "\rEvaluating:  27%|██▋       | 1221/4496 [00:01<00:06, 522.04pair/s]"
          ]
        },
        {
          "output_type": "stream",
          "name": "stdout",
          "text": [
            "\n",
            "Context: تشكّل البيانات شريان الحياة بالنسبة للذكاء الاصطناعي., Predicted Gloss: gloss.3010, Correct Gloss: gloss.3007\n",
            "Context: فإن شيخ الإسلام محمد بن عبد الوهاب ،, Predicted Gloss: gloss.4273, Correct Gloss: gloss.4271\n",
            "Context: تم تطوير عدد من الطرق واستخدامها لقياس معامل التوصيل الحراري للمواد المختلفة ،, Predicted Gloss: gloss.718, Correct Gloss: gloss.717\n",
            "Context: او استخدام صيغة يول (yule) وفق الاتي, Predicted Gloss: gloss.5662, Correct Gloss: gloss.5661\n",
            "Context: تحتاج البيانات إلى إعداد وشرح،, Predicted Gloss: gloss.2944, Correct Gloss: gloss.2943\n",
            "Context: ولـم أرغـب بأخـذه معـي لكـن كمـا أدعـوه طبيب الأشـعة اوصانـي بمطالعـة هـذا الكتـاب بزعـم إنـه غيـر ملـوث بالعـدوى., Predicted Gloss: gloss.13820, Correct Gloss: gloss.13818\n",
            "Context: والآخر خاص ببيان الإجراءات التي تتبع في رفع الدعوى للمحكمة المختصة بالنظر والفصل فيها, Predicted Gloss: gloss.6539, Correct Gloss: gloss.6540\n",
            "Context: ويقترح مجلس الشورى في جلسته السابعة مد سكة الحديد إلى ظفار وهو المشروع الذي يعد جزءا من مشروع خليجي متكامل., Predicted Gloss: gloss.7073, Correct Gloss: gloss.7071\n",
            "Context: تُعرف غدد ميبوميوس أيضًا باسم \"الغدد الجفنية\" و\"غدد الجفن\" و\"غدد زايس\"., Predicted Gloss: gloss.5543, Correct Gloss: gloss.5538\n",
            "Context: وهو بحث محكَّم تناول أركان وخصائص القصة القصيرة في أعمال سهام العبودي ., Predicted Gloss: gloss.3783, Correct Gloss: gloss.3782\n",
            "Context: ٢٣٤ مساند الرأس., Predicted Gloss: gloss.6018, Correct Gloss: gloss.5999\n",
            "Context: ولكل قلب صادق خطاب وصيغة مع ربه .., Predicted Gloss: gloss.12088, Correct Gloss: gloss.12087\n",
            "Context: اهتمت منظمة الأمم المتحدة منذ نشأتها بحقوق المرأة دون أي تمييز بينها وبين الرجل ،, Predicted Gloss: gloss.7307, Correct Gloss: gloss.7311\n",
            "Context: وأضاف \"بإسمي ونيابة عن مجلس إدارة الاتحاد أتقدم بالشكر الجزيل إلى كافة وسائل الإعلام المحلية المقرؤة والمرئية والمسموعة والإلكترونية وحسابات التواصل الاجتماعي على دعمهم لنا،, Predicted Gloss: gloss.5554, Correct Gloss: gloss.5547\n",
            "Context: فجوة بين من يملك ومن لا يملك \t1 لم نتجاوز المرحلة الحرجة \t1 تعاف متباين وتضخم آخذٌ في \t الارتفاع\t3 الآفاق:, Predicted Gloss: gloss.15523, Correct Gloss: gloss.15522\n",
            "Context: شكر وتقدير, Predicted Gloss: gloss.5106, Correct Gloss: gloss.5103\n",
            "Context: العميد جيف نياجه الذي أنهى فترة خدمته في الصومال التي عمل خلالها مع الجيش الصومالي في توفير الأمن مواصلة الضغط على حركة الشباب., Predicted Gloss: gloss.3145, Correct Gloss: gloss.3139\n",
            "Context: توصيف فيزيائي وحراري لبعض مواد البناء ومقارنتها بكود العزل الحراري السوري, Predicted Gloss: gloss.3916, Correct Gloss: gloss.3918\n",
            "Context: وَمَنْ وَلَدَ رَسُولَ اللّهِ صَلّى اللّهُ عَلَيْهِ وَآلِهِ وَسَلّمَ مِنْ وَلَدِهِ وَأَوْلَادِهِمْ لِأَصْلَابِهِمْ الْأَوّلَ فَالْأَوّلَ مِنْ إسْمَاعِيلَ إلَى رَسُولِ اللّهِ صَلّى اللّهُ عَلَيْهِ وَآلِهِ وَسَلّمَ وَمَا يَعْرِضُ مِنْ حَدِيثهِمْ وَتَارِكٌ ذِكْرَ غَيْرِهِمْ مِنْ وَلَدِ إسْمَاعِيلَ عَلَى هَذِهِ الْجِهَةِ لِلِاخْتِصَارِ إلَى حَدِيثِ سِيرَةِ رَسُولِ اللّهِ صَلّى اللّهُ عَلَيْهِ وَسَلّمَ وَتَارِكٌ بَعْضَ مَا ذَكَرَهُ ابْنُ إسْحَاقَ فِي هَذَا الْكِتَابِ مِمّا لَيْسَ لِرَسُولِ اللّهِ صَلّى اللّهُ عَلَيْهِ وَآلِهِ وَسَلّمَ فِيهِ ذِكْرٌ وَلَا نَزَلَ فِيهِ مِنْ الْقُرْآنِ شَيْءٌ وَلَيْسَ سَبَبًا لِشَيْءِ مِنْ هَذَا الْكِتَابِ وَلَا تَفْسِيرًا لَهُ وَلَا شَاهِدًا عَلَيْهِ, Predicted Gloss: gloss.3833, Correct Gloss: gloss.3832\n",
            "Context: يتفق الباحثون أن جزيرة العرب هي الموطن الأول للساميين أي أبناء سام بن نوح وأن منطقة نجد هي الموطن الأول للجنس السامي ومنها انطلقت الهجرات السامية القديمة إلى أطراف الجزيرة العربية؛, Predicted Gloss: gloss.5398, Correct Gloss: gloss.5401\n",
            "Context: والأيـام العشـرون التـي يقضيهـا ديمـا بالصيـد مـع الصيّاديـن هـو مـا يغـدو لـه حقـل رمايـة،, Predicted Gloss: gloss.2006, Correct Gloss: gloss.2008\n",
            "Context: الا ان وطننا العربي تعرض لغزوة مغولية ثالثة قادها تيمور لنك توجهت نحو العراق فوصلت بغداد سنة 1393م ثم اتجهت نحو بلاد الشام ., Predicted Gloss: gloss.7794, Correct Gloss: gloss.7792\n",
            "Context: تقييم كتاب الفيزياء للصف التاسع الأساسي في الأردن في ضوء معايير المحتوى العالمية للتربية العلمية, Predicted Gloss: gloss.351, Correct Gloss: gloss.349\n",
            "Context: عند توفر n من المشاهدات للمتغير X_i فان الوسط الحسابي او ( المتوسط ) يمثل مجموع قيم المتغير مقسوم على عددها وياخذ الصيغة التالية, Predicted Gloss: gloss.1611, Correct Gloss: gloss.1614"
          ]
        },
        {
          "output_type": "stream",
          "name": "stderr",
          "text": [
            "Evaluating:  30%|██▉       | 1335/4496 [00:02<00:07, 438.44pair/s]"
          ]
        },
        {
          "output_type": "stream",
          "name": "stdout",
          "text": [
            "\n",
            "Context: واستطاع المجتمع السوري بكل مكوناته وأطيافه وعبر مؤسساته ومنظماته الشعبية والسياسية والأهلية تحقيق إنجازات أثبتت عمق التراكم الحضاري الذي يمثله وصلابة إرادته وقدرته على مواكبة المتغيرات وتهيئة المناخ الملائم للمحافظة على دوره الإنساني كقوة تاريخية فاعلة في مسيرة الحضارة الإنسانية., Predicted Gloss: gloss.4502, Correct Gloss: gloss.4498\n",
            "Context: وقد نجحت قوات إفريقية في تحرير مدن البلاد الكبيرة من سيطرة الإسلاميين المتشددين., Predicted Gloss: gloss.13808, Correct Gloss: gloss.13807\n",
            "Context: يصيب الوجه يؤثر في المقام الأول على مركز الوجه (الخدين والأنف والذقن والجبهة)., Predicted Gloss: gloss.2282, Correct Gloss: gloss.2271\n",
            "Context: من هنا جاء الاهتمام بدراسة أساليب خفض كمية الحرارة المتسربة عبرها من خلال استخدام الجدران المخشنة والكشف عن مقدار تأثيرها على البيئة الحرارية الداخلية للغرفة., Predicted Gloss: gloss.13193, Correct Gloss: gloss.13192\n",
            "Context: وكَيفيَّة التَّعويض عن النَّواقص التي من الصَّعب تأمينُها،, Predicted Gloss: gloss.3566, Correct Gloss: gloss.3565\n",
            "Context: نادراً ما يتمّ تحديد الأفراد الذين يعانون من النوع الفرعي الثالث الوردية الفيمية (PR) في الدراسات السكانية وقد ذكرت دراسة من إستونيا أن الوردية الفيمية تشكل 1 ٪ من جميع مرضى الوردية المُشاهدين ., Predicted Gloss: gloss.812, Correct Gloss: gloss.814\n",
            "Context: وتتخبط في ليل غابت نجومهن واعتكر ظلامهن لا يهتدي السائر فيه سبيلاً،, Predicted Gloss: gloss.4489, Correct Gloss: gloss.4483\n",
            "Context: حينما لاحظت شيئا لفت نظري،, Predicted Gloss: gloss.7971, Correct Gloss: gloss.7969\n",
            "Context: وبهذه الطريقة يستطيع الذكاء الاصطناعي إنشاء صورٍ اصطناعية للمعلمات بغية تطوير الخوارزمية لتكون قادرة مثلًا على اكتشاف سرطان الجلد أو مشاكل الجلد الأخرى وما إلى ذلك., Predicted Gloss: gloss.841, Correct Gloss: gloss.842\n",
            "Context: نقيضُ الْقَدِيمِ ., Predicted Gloss: gloss.12276, Correct Gloss: gloss.12275\n",
            "Context: هكــذا ظلــت هــذه الحــرب حاضــرة فــي الدراســات التاريخيــة والسياسـية لا تتعداهـا إلـى أعمـال تسـتنطق المخيـال الجماعـي وتسـكنه., Predicted Gloss: gloss.4077, Correct Gloss: gloss.4074\n",
            "Context: يختلف الفلاسفة الأخلاقيون في الإجابة عن هذا السؤال،, Predicted Gloss: gloss.5370, Correct Gloss: gloss.5369\n",
            "Context: هو ورم حميد بطيء النمو،, Predicted Gloss: gloss.3478, Correct Gloss: gloss.3477\n",
            "Context: كما رجح البعض الأخر أصل الكلمة إلى كلمة تينس التي وصفها ديودور الصقلي وبوليبيوس،, Predicted Gloss: gloss.2822, Correct Gloss: gloss.2823\n",
            "Context: يا ألله بالقطع ،, Predicted Gloss: gloss.14005, Correct Gloss: gloss.14004\n",
            "Context: أي أنه أداء لا بد أن يشمل قدرا معينا من الكفاءة والتمكن والسيطرة على الأدوات والأساليب والوسائل والمحاضرات التي عن طريقها يتم الأداء\", Predicted Gloss: gloss.3391, Correct Gloss: gloss.3393\n",
            "Context: وبقراءة بسيطة يمكن رصد الدور التنافسي الذي تلعبه أوكرانيا مع روسيا كمصدر أساسي للمواد الغذائية الأساسية ( حبوب ،, Predicted Gloss: gloss.5554, Correct Gloss: gloss.5547\n",
            "Context: فهي تعطي تمثيلاً لمعادلة جبرية بخط مستقيم أو منحنٍ., Predicted Gloss: gloss.10231, Correct Gloss: gloss.10232\n",
            "Context: فترة تتميز بوجود هذا الفرد بطولها أمام مجموعة من المشاهدين،, Predicted Gloss: gloss.812, Correct Gloss: gloss.814\n",
            "Context: وما تعانيه منذ سنوات من وموجة الجفاف وقلة الامطار الآمر الذي أدى لتدني المحاصيل الزراعية ،, Predicted Gloss: gloss.8841, Correct Gloss: gloss.8828\n",
            "Context: مـن آل سـروغونوف تعزيـز المواقـع علـى ضفـاف نهـر توبـول وقيـادة القـوات ضـد الخائـن كوتشـوم., Predicted Gloss: gloss.7236, Correct Gloss: gloss.7234\n",
            "Context: مع المحافظة على خصوبة الموقع وتوازن الغابة (عباس وشاطر،, Predicted Gloss: gloss.11084, Correct Gloss: gloss.11080\n",
            "Context: وهي تعيش في البيئة الطبيعية القاسية المليئة بالقتل والموت (1)., Predicted Gloss: gloss.13524, Correct Gloss: gloss.13523\n",
            "Context: وبرده لا يبلغ أن يعدل حر القلب والكبد ., Predicted Gloss: gloss.12960, Correct Gloss: gloss.12959\n"
          ]
        },
        {
          "output_type": "stream",
          "name": "stderr",
          "text": [
            "\rEvaluating:  31%|███       | 1386/4496 [00:02<00:08, 380.03pair/s]"
          ]
        },
        {
          "output_type": "stream",
          "name": "stdout",
          "text": [
            "Context: أن احد أهم دعائم عمل سلسلة التوريد هو التفاعل المباشر بين عناصر البيئة الداخلية و البيئة الخارجية للمؤسسة مما يضمن تحقيق أهدافها المختلفة و إرضاء الزبائن و الحصول على حصة سوقية مناسبة, لذلك أولت إدارة المؤسسات أهمية خاصة لعلاقاتها مع الموردين الذين يشكلون أحد ركائز سلسلة التوريد, وتطورت هذه العلاقة في كثير من الأحيان لتصبح على مستوى شراكة استراتيجية بين الطرفين., Predicted Gloss: gloss.7943, Correct Gloss: gloss.7942\n",
            "Context: إصطحبوا الديانة الإسلامية والثقافة العربية إلى السكان المحليين., Predicted Gloss: gloss.3552, Correct Gloss: gloss.3550\n",
            "Context: ولإنجاز هذا لون مثلثا ما باستعمال لون مختلف لكل رأس ., Predicted Gloss: gloss.6018, Correct Gloss: gloss.6008\n",
            "Context: [٩] يعدّ هواء نيودلهي الأكثر تلوثاً في العالم., Predicted Gloss: gloss.6762, Correct Gloss: gloss.6754\n",
            "Context: كما لا يفوتني أن أشكر زملائي من طلبة الدراسات العليا لمساعدتهم المعنوية المتبادلة التي جعلت من مرحلة البحث مدة غنية بتبادل مصادر المعلومات., Predicted Gloss: gloss.3555, Correct Gloss: gloss.3554\n",
            "Context: وســأل بعض العلماء فنصحوه بالحج., Predicted Gloss: gloss.11434, Correct Gloss: gloss.11433\n",
            "Context: وفد مانع بن ربيعة المريدي الحنفي جد الملك عبد العزيز بن عبد الرحمن الثاني عشر إلى صاحب مدينة حجر ابن درع ومنحه أرضين في غصيبة, Predicted Gloss: gloss.9032, Correct Gloss: gloss.9031\n",
            "Context: والرسم اليدوي يكون بجعل المحور السيني المحافظات والصادي الانتاج وبالاعتماد على قيم الانتاج يحدد ارتفاع كل شريط ., Predicted Gloss: gloss.5675, Correct Gloss: gloss.5672\n",
            "Context: يقام هذا المهرجان كلّ عام في موسم الحصاد،, Predicted Gloss: gloss.8261, Correct Gloss: gloss.8260\n",
            "Context: فرد طبقة من الخبز المقلي في طبق التقديم،, Predicted Gloss: gloss.13436, Correct Gloss: gloss.13435\n",
            "Context: رسالة علمية أعدت لنيل درجة الماجستير في الهندسة الزراعية- اختصاص إنتاج حيواني (أسماك), Predicted Gloss: gloss.2351, Correct Gloss: gloss.2349\n",
            "Context: المعتقدات والطقوس تتعدد الديانات والمعتقدات التي يؤمن بها الهنود،, Predicted Gloss: gloss.11587, Correct Gloss: gloss.11586\n",
            "Context: وأشار إلى أن جامعة قطر سعت للتوجه إلى الطاقة المتجدّدة للتقليل من الانبعاثات الكربونية وتوفير مصدر طاقة متجدّدة بالإضافة إلى الغاز والبترول المتوفر في الدولة وهذا يتواكب مع ديمومية واستمرارية التطور الاقتصادي, Predicted Gloss: gloss.4792, Correct Gloss: gloss.4791\n",
            "Context: الإبان بالكسر والتشديد الوقت قيل ولا يستعمل إلا مضافا وفي المغرب الإبان وقت تهيئة الشيء واستعداده, Predicted Gloss: gloss.8725, Correct Gloss: gloss.8724\n",
            "Context: اختلقــت شــخصية مركبــة لحمايــة هويــة المريــض بالكامــل., Predicted Gloss: gloss.2763, Correct Gloss: gloss.2762\n",
            "Context: وأنـا لا أتذكـر أبـي أمـا أمـي فأتذكـر رائحتهـا الدافئـة،, Predicted Gloss: gloss.6448, Correct Gloss: gloss.6447\n",
            "Context: ويعرف التراث العمراني بأنه \"وثيقة تاريخية وفنية وجزء من التراث السياسي والروحي والرمزي وهو الحقيقة الثقافية واستمرارها وتعدد مجالات التراث المعماري وتنقسم إلى المحيط البيئي للملكية, والمبنى, والأثاث والمنقولات الداخلية والخارجية\" (الشحات, 2003:, Predicted Gloss: gloss.10800, Correct Gloss: gloss.10799\n",
            "Context: وبدأ الغزو الاجنبي عبر هضبة ايران وتركيا في المشرق العربي ومن اوربا عبر المغرب العربي وبذلك بدأت مرحلة الغزو والأستعمار التي استمرت حتى القرن العشرين تعرض خلالها الوطن العربي لغزوات متعددة من المغول والفرس والعثمانيين والاوربيين وغيرهم ., Predicted Gloss: gloss.8312, Correct Gloss: gloss.8311\n",
            "Context: وقد خاضت مجال الذكاء الاصطناعي والواقع المعزز في شركة #أوكولوس., Predicted Gloss: gloss.689, Correct Gloss: gloss.688\n",
            "Context: تسجل البلاد معدل نمو سنوي يبلغ 2., Predicted Gloss: gloss.2774, Correct Gloss: gloss.2772\n",
            "Context: - أن نفرق بين نظرية المنظمة و السلوك التنظيمي ., Predicted Gloss: gloss.13717, Correct Gloss: gloss.13715\n",
            "Context: نظراً لغياب الدعم الحكومي والحرب المستمرة وانقطاع التيار الكهربائي،, Predicted Gloss: gloss.3903, Correct Gloss: gloss.3897\n"
          ]
        },
        {
          "output_type": "stream",
          "name": "stderr",
          "text": [
            "Evaluating:  33%|███▎      | 1473/4496 [00:02<00:07, 390.22pair/s]"
          ]
        },
        {
          "output_type": "stream",
          "name": "stdout",
          "text": [
            "Context: 3-\tكوفيد-19 وآفاق قطاع الشركات 33 تعافٍ غير متوازن في أعقاب أزمة غير مسبوقة 33 الآفاق المستقبلية للشركات وسط تصاعد عدم اليقين 40 إجراءات على صعيد السياسات للتعافي وما بعده \t43, Predicted Gloss: gloss.1290, Correct Gloss: gloss.1287\n",
            "Context: وقد تضمن مجتمع البحث عروض مسرح الطفل التي اعتمدت على الشخصيات الخيالية في المسرح الوطني في بغداد تحديدا،, Predicted Gloss: gloss.2603, Correct Gloss: gloss.2601\n",
            "Context: والغدد الدهنية في الجفون تُسمى بغدد ميبوميوس،, Predicted Gloss: gloss.1129, Correct Gloss: gloss.1127\n",
            "Context: * وَ أُبَيِّنُ فِيهِ مَا وَقَعَ فِي الْكِتَابِ مِنْ أَلْفَاظِ اللُّغَاتِ وَ أَسْمَاءِ الْأَصْحَابِ وَ غَيْرِهِمْ مِنْ الْعُلَمَاءِ وَ النَّقَلَةِ وَ الرُّوَاةِ مَبْسُوطًا فِي وَقْتٍ وَ مُخْتَصَرًا فِي وَقْتٍ بِحَسْبِ الْمَوَاطِنِ وَ الْحَاجَةِ :, Predicted Gloss: gloss.2883, Correct Gloss: gloss.2882\n",
            "Context: وأحــاول فـي هـذا الكتـاب توسـيع تاريـخ التهريـب وتعميقـه ., Predicted Gloss: gloss.14713, Correct Gloss: gloss.14710\n",
            "Context: بمقتضى الظهير الشريف الصادر في سادس جمادى الثانية 2831 موافق رابع نوفمبر 2691 بشأن الاستفتاء., Predicted Gloss: gloss.3985, Correct Gloss: gloss.3968\n",
            "Context: ومن واقع الحسابات نحصل على الشكل السلمي التجريبي البياني التالي كما ان المنحنى ما هو الا تقدير الى الدالة التراكمية من واقع البيانات وحسب نوع التوزيع ،, Predicted Gloss: gloss.5767, Correct Gloss: gloss.5765\n",
            "Context: موريتانيا هي دولة ذات دخل متوسط من الشريحة الدنيا تقع في شمال غرب إفريقيا،, Predicted Gloss: gloss.1611, Correct Gloss: gloss.1609\n",
            "Context: وأما ( الله ) بحذف الهمزة فمختص بالمعبود بالحق ،, Predicted Gloss: gloss.13997, Correct Gloss: gloss.13994\n",
            "Context: { فَأَرْسَلْنَا عَلَيْهِمْ رِيحًا } [ الأحزاب ], Predicted Gloss: gloss.8049, Correct Gloss: gloss.8047\n",
            "Context: والأســوأ هتفــت منــذ لحظــة طبيــب الأشــعة،, Predicted Gloss: gloss.6932, Correct Gloss: gloss.6937\n",
            "Context: منذ ذلك العهد قل وضعف شأن مدينة \"حجر\" واشتد فيها ضعف الأمطار حتى أصبحت في القرن العاشر الهجري عبارة عن قرى صغيرة متفرقة منها \"مُقْرِن\" و\"مِعْكال\" و\"العَوْد\" و\"البَنية\" و\"الصُّليعاء\" و\"جبرة\" و\"الخراب, Predicted Gloss: gloss.8204, Correct Gloss: gloss.8203\n",
            "Context: وبالنسبة للفرد المرتبط عائليا بهذا الشكل لا يمثل المجتمع له سوى عالم الصراع والكفاح الذي يحاول أن ينتزع لنفسه فيه مكانا ليدعم كيانه ويدعم عائلته., Predicted Gloss: gloss.2188, Correct Gloss: gloss.2187\n",
            "Context: {فَأَرْسَلْنَا عَلَيْهِمْ رِيحًا} [الأحزاب:, Predicted Gloss: gloss.8049, Correct Gloss: gloss.8047\n",
            "Context: و لفك رموز بعض المهام وإنجازات الوزارة التقت وكالة السودان للأنباء الأستاذ عبد العاطي أحمد عباس وزير الشؤون الدينية والأوقاف المكلف وأجرت معه الحوار التالي :, Predicted Gloss: gloss.2327, Correct Gloss: gloss.2329\n",
            "Context: فإنه ينبغي لأهل العلوم وسائر أهل الصنائع أن يتركوا أسماءها في صنائعهم على ما هي عليه عند الجمهور., Predicted Gloss: gloss.10959, Correct Gloss: gloss.10958\n",
            "Context: وحيث ان هناك العديد مِنْ الطرقِ المتوفرةِ لسحب العينات وان الإختيار والمفاضلة ما بين طرقِ سحب العينات يَعتمدُ على مجموعة من العوامل منها ., Predicted Gloss: gloss.5210, Correct Gloss: gloss.5209\n",
            "Context: ويتناول هذا العمل, في 97 دقيقة, قصة شاب في العشرينات يدعى \"كوكو\" يعيش في قرية جبلية بمنطقة القبائل ويواجه رفضا من مجتمعه لاختلاف شخصيته ومظهره وسلوكه فيحاول هذا الأخير كبت حريته في أن يكون كما يريد وجعله تحت وصايته بدأ ب \"كبار\" القرية (تاجماعث) ورجال دينها (على رأسهم إمام القرية) ووصولا إلى والده., Predicted Gloss: gloss.3633, Correct Gloss: gloss.3631\n",
            "Context: الإبان بالكسر والتشديد الوقت قيل ولا يستعمل إلا مضافا وفي المغرب الإبان وقت تهيئة الشيء واستعداده, Predicted Gloss: gloss.728, Correct Gloss: gloss.731\n",
            "Context: وكانت الشركة طرحت فى شهر نوفمبر الماضي موديلها الجديد من جهازها المعروف \"بريف\" والذى يعمل لأول مره في تاريخ الشركة الكندية تحت نظام التشغيل \"اندرويد\" والذى وضعت فيه أملها لارتفاع مبيعات وتعويض خسائرها., Predicted Gloss: gloss.9175, Correct Gloss: gloss.9176\n",
            "Context: أما الغدد الدُهنية في الثدي فتسمى غدد الهالة (أو غدد مونتغمري)., Predicted Gloss: gloss.6309, Correct Gloss: gloss.6302"
          ]
        },
        {
          "output_type": "stream",
          "name": "stderr",
          "text": [
            "Evaluating:  35%|███▍      | 1565/4496 [00:02<00:07, 414.03pair/s]"
          ]
        },
        {
          "output_type": "stream",
          "name": "stdout",
          "text": [
            "\n",
            "Context: أكد روبرتو مارتينيز مدرب ايفرتون الذي ينافس في الدوري الانجليزي الممتاز لكرة القدم ان ناديه قادر على الصمود في وجه أي عروض للتعاقد مع لاعب الوسط روس باركلي في فترة الانتقالات الشتوية لان ايفرتون في وضع اقتصادي قوي., Predicted Gloss: gloss.576, Correct Gloss: gloss.578\n",
            "Context: أول قصة ألفها غولز وارذي هي (جوسلين) فقد ظهرت سنة 1898 ولكن شهرته عظمت منذ سنة 1904 أما مؤلفاته كثيرة منها قصص ومنها روايات تمثيلية ومنها قصص قصيرة وأشهر قصصه قصة فورسيت وقصة الإخاء وأشهر رواياته التمثيلية رواية العلبة الفضية والكفاح والعدل, Predicted Gloss: gloss.12875, Correct Gloss: gloss.12874\n",
            "Context: لقــد كان العــلاج بالأدويــة المضــادة للفيروســات،, Predicted Gloss: gloss.1577, Correct Gloss: gloss.1576\n",
            "Context: أعوان القضاء والقواعد المنظمة لأعمالهم, Predicted Gloss: gloss.4219, Correct Gloss: gloss.4217\n",
            "Context: ويعطي طاقة ميكانيكية أكبر من الطاقة الميكانيكية للمحركات البخارية في تلك الأيام ., Predicted Gloss: gloss.7464, Correct Gloss: gloss.7465\n",
            "Context: وهناك أنظمة تبنى لحاجات أدق وأعمق تستلزم تحديد خصائص لغوية أخرى كالنوع والعدد أو تحديد نوع الفعل مثلا من حيث زمنه الصرفي ( مضارع – أمر – ماض ) ., Predicted Gloss: gloss.7480, Correct Gloss: gloss.7481\n",
            "Context: وقد تكون تجربةً إيجابيةً مليئةً بالتحديات للبعض،, Predicted Gloss: gloss.387, Correct Gloss: gloss.386\n",
            "Context: والذي يجعل عملية البلع أو التنّفس صعبة., Predicted Gloss: gloss.1006, Correct Gloss: gloss.1004\n",
            "Context: لدى تونس أيضًا اتفاقية شراكة مع الاتحاد الأوروبي،, Predicted Gloss: gloss.7324, Correct Gloss: gloss.7323\n",
            "Context: ومركز الملك فهد الثقافي ومكتبة الملك فهد الوطنية والجامع الكبير وقصر المصمك, Predicted Gloss: gloss.8660, Correct Gloss: gloss.8657\n",
            "Context: وتعرض العراق بعد ضعف السيطرة المغولية الى غزو قبائل مغولية اخرى وهم الجلائريون الذين اتخذوا من بغداد عاصمة مؤقتة لهم ونستخلص من ذلك ان شعبنا في العراق واجه الحكم الجلائري بطريقتين :, Predicted Gloss: gloss.3633, Correct Gloss: gloss.3631\n",
            "Context: تتطلع بعض المجالات مثل الرعاية الصحية إلى التوسع في إستخدام الذكاء الاصطناعي وأنظمة التعلم العميق،, Predicted Gloss: gloss.3019, Correct Gloss: gloss.3018\n",
            "Context: وتكون كافية لتدريب الذكاء الاصطناعي مثل بيانات العالم الحقيقي،, Predicted Gloss: gloss.3258, Correct Gloss: gloss.3256\n",
            "Context: لدرجة تم التفكير أكثر مرة في منح جائزة نوبل ., Predicted Gloss: gloss.536, Correct Gloss: gloss.537\n",
            "Context: إن النـاس يريـدون العيـش فـي ظـل السـلام والانسـجام., Predicted Gloss: gloss.11236, Correct Gloss: gloss.11235\n",
            "Context: ثـم تـرك مهنـة السـفن وانتقـل إلـى نهـر الفولغـا ،, Predicted Gloss: gloss.9769, Correct Gloss: gloss.9768\n",
            "Context: وبالتالي كان الكثير من المحركات البخارية يتعرض للانفجار مؤدياً إلى إصابات وقتل العديد من الناس مما أدى إلى الحاجة إلى نوع مختلف من المحركات يناسب المتطلبات المتنوعة للصناعة., Predicted Gloss: gloss.8315, Correct Gloss: gloss.8314\n",
            "Context: وحتى المجتمعات غير المسلمة تهتم بها الوزارة وتحل نزاعاتها لان لها قيم ترفع هذه النزاعات والمشكلات لذلك نحن كمسلمين نتعامل مع غير المسلمين بمشتركات الإنسانية ونتعامل من منطلق ديننا الحنيف ونتعامل مع جميع المخالفين فضلا ان يكون مسلم في طائفة من الطوائف., Predicted Gloss: gloss.791, Correct Gloss: gloss.792\n",
            "Context: تلمســت المــكان ثانيــة فأحسســت بكتلــة نافـرة وعرفـت حينـذاك،, Predicted Gloss: gloss.4973, Correct Gloss: gloss.4974\n",
            "Context: وقد وصفها في تجويف الفم وعلى الرأس والجفن والأذن،, Predicted Gloss: gloss.1009, Correct Gloss: gloss.1008\n"
          ]
        },
        {
          "output_type": "stream",
          "name": "stderr",
          "text": [
            "Evaluating:  37%|███▋      | 1654/4496 [00:02<00:07, 390.26pair/s]"
          ]
        },
        {
          "output_type": "stream",
          "name": "stdout",
          "text": [
            "Context: مأخوذ من الاطلاق وهو الإرسال أو الترك., Predicted Gloss: gloss.5317, Correct Gloss: gloss.5315\n",
            "Context: ومنه يستخرج المدى الكلي بالصيغة, Predicted Gloss: gloss.2709, Correct Gloss: gloss.2713\n",
            "Context: على أنها \"ذلك المفهوم أو الاصطلاح الذي يصف الفرد من حيث هو كل موحد من الأساليب السلوكية والإدراكية المعقدة التنظيم،, Predicted Gloss: gloss.5054, Correct Gloss: gloss.5052\n",
            "Context: - شركة عامة ترغب في معرفة تاثير اعلانات التلفزيون لمنتج جديد من المشروبات الغازية وبعد ملاحظة الاعلانات لمدة اسبوع اختارت الشركة عينة من الاشخاص بصورة عشوائية ومن مركز تجاري لذلك من بين الاسئلة التي تطرحها الشركة ما يلي, Predicted Gloss: gloss.5370, Correct Gloss: gloss.5369\n",
            "Context: في العام الماضي 2021 استطعنا ان نسترد قرابة الخمسة وثمانون وقف جديد وقمنا بزيادة ريع الاوقاف وذلك بتطبيق أجرة المثل وقد وجدنا دكان يستأجر بمائتي جنيه فقط مقابل الشهر وتمت معالجة وتنمية الريع بتطبيق أجرة المثل على جميع أوقافنا في السودان., Predicted Gloss: gloss.11491, Correct Gloss: gloss.11490\n",
            "Context: (1) توجد فروق ذات دلالة إحصائية بين متوسطات درجات مجموعتي الدراسة (التجريبية والضابطة) فى مستوى التحصيل في الهندسة لصالح المجموعة التجريبية يرجع إلى نمط البرنامج المستخدم القائم على تكنولوجيا الوسائط المتعددة التفاعلية عند مستوى دلالة, Predicted Gloss: gloss.9341, Correct Gloss: gloss.9338\n",
            "Context: حركة النهضة وأعضاء مجلس نواب الشعب الذي تم تجميد نشاطهم،, Predicted Gloss: gloss.7412, Correct Gloss: gloss.7411\n",
            "Context: 4\tلـم يهـرع حشـد كبيـر مـن الخـدم إلـى المدخـل لاسـتقبال الأسـياد ., Predicted Gloss: gloss.3772, Correct Gloss: gloss.3767\n",
            "Context: حَلَلنا بدار كانَ فيها أنيسُها\t\tفبادُوا وخلَّوْا ذات شيد حُصُونَهَا, Predicted Gloss: gloss.8927, Correct Gloss: gloss.8926\n",
            "Context: لتوجيههما في تقييم الأطروحة بغية إخراجها بالشكل الأمثل., Predicted Gloss: gloss.2708, Correct Gloss: gloss.2706\n",
            "Context: افرض ان k تمثل عدد الفئات وان m_i تمثل منتصف الفئة i و f_i تكرار الفئة i حيث ان i=1,2,3,…k وافرض ان n=∑_(i=1)^k▒f_i فان الوسط الحسابي يحسب بالطرق التالية, Predicted Gloss: gloss.4640, Correct Gloss: gloss.4639\n",
            "Context: فالقراءة المنتجة تكمل عملية الإبداع بما تظهره من جوانب خفية،, Predicted Gloss: gloss.2619, Correct Gloss: gloss.2614\n",
            "Context: قبل أن يصبح نهج البيانات المصطنعة جاهزًا لتوليد بيانات يمكن استخدامها على نحوٍ مسؤول في تدريب الخوارزميات وإيقاع آثار حقيقية في تحيّزات تعلم الآلة خصوصًا فيما يخصّ البيانات الطبية., Predicted Gloss: gloss.3687, Correct Gloss: gloss.3684\n",
            "Context: لنتوصل لمعرفة خصوصية أداء الشخصيات الخيالية،, Predicted Gloss: gloss.2399, Correct Gloss: gloss.2394\n",
            "Context: وحدد القرار في مواده الـ (33) مهام وصلاحيات واختصاصات هذه المقاطعات الـ (19) والتي ستدار من قبل مجالس إدارية وهى (الساحل الشرقي – الجبل الأخضر – الحزام – بنغازي – الواحات – الكفرة – الخليج – المرقب – طرابلس – الجفارة – الزاوية – الساحل الغربي – غريان – الزنتان – نالوت - يفرن – سبها – الوادي – حوض مرزق ) ., Predicted Gloss: gloss.3937, Correct Gloss: gloss.3935\n",
            "Context: ومُستهلكةً من ناظِمها طاقة شعرية كبيرة،, Predicted Gloss: gloss.14032, Correct Gloss: gloss.14031\n",
            "Context: قابلية الشرح هي القدرة على شرح ما يحدث حرفيًا., Predicted Gloss: gloss.7963, Correct Gloss: gloss.7962\n",
            "Context: وهناك طرق تضمن تشابه البيانات المصطنعة إلى حدّ كبير مع البيانات الحقيقية،, Predicted Gloss: gloss.3265, Correct Gloss: gloss.3264\n",
            "Context: فيما عدا « الندم » لم تكن الأعمال المعاصرة الأخرى قادرة على جذب جماهيري كبير رغم اجتهاد صناعها في طرح مواضيع العصابات والفساد والعشوائيات ،, Predicted Gloss: gloss.11758, Correct Gloss: gloss.11757\n",
            "Context: مثال على الغُدة الحلقية في ذكر خفاش أسود ذو قلنسوة., Predicted Gloss: gloss.1129, Correct Gloss: gloss.1127\n",
            "Context: ومـا إن حـل المسـاء حتـى انطلقـت مدافـع السـفينة “أنطونـي والحلـوة نـون”., Predicted Gloss: gloss.1822, Correct Gloss: gloss.1821\n",
            "Context: وعلى مستوى الموارد البشرية تم افتتاح العديد من المدارس والمعاهد العليا ومراكز التكوين المهني, Predicted Gloss: gloss.536, Correct Gloss: gloss.537\n",
            "Context: وقـد أرغمـه وضعه البائس على تسـليم ابنه،, Predicted Gloss: gloss.9733, Correct Gloss: gloss.9732\n",
            "Context: فكُلّ إدارة رسمية في الماضي تجَمعَ وتحلّلَ البياناتَ ،, Predicted Gloss: gloss.4773, Correct Gloss: gloss.4765\n",
            "Context: المنصوص عليها في نظام المرافعات الشرعية ولوائحه التنفيذية ،, Predicted Gloss: gloss.3100, Correct Gloss: gloss.3102\n",
            "Context: دعونا نتخيل أنّ هناك رسامًا يريد إنشاء نسخٍ أفضل من لوحات الرسام “ليوناردو إنّ أكبر عقبةٍ أمام الذكاء الاصطناعي هي في عدم كفاية البيانات المتاحة., Predicted Gloss: gloss.3013, Correct Gloss: gloss.3012\n",
            "Context: وقعت عدة انفجارات ثانوية فاقت التوقعات المبنية على خبرات سابقة بضرب هذا النوع من الأهداف،, Predicted Gloss: gloss.9521, Correct Gloss: gloss.9522\n",
            "Context: شهدت مدينة الرياض في فترتها المعاصرة عدد من الهجمات الإرهابية التي استهدفت مقرات أمنية وأهداف أمريكية ووقع ضحيتها مدنيين من المواطنين والمقيمين ورجال أمن بلغ عدد الهجمات قرابة هجوم منذ عام وحتى, Predicted Gloss: gloss.2983, Correct Gloss: gloss.2985\n",
            "Context: الأبد استمرار الوجود في أزمنة مقدرة غير متناهية في المستقبل كما أن الأزل استمرار الوجود في أزمنة مقدرة غير متناهية في الماضي, Predicted Gloss: gloss.7808, Correct Gloss: gloss.7810\n",
            "Context: وبعد ذلك يزداد نشاط هذه الغدد إلى الذروة في مرحلة البلوغ؛, Predicted Gloss: gloss.3415, Correct Gloss: gloss.3414\n",
            "Context: وقـد تـم تنسـيق التحليـل الـوارد في هـذا التقريـر بإشـراف عـام مـن جهـاد أزعـور )مديـر إدارة الشـرق الأوسـط وآسـيا الوسـطى( ., Predicted Gloss: gloss.5898, Correct Gloss: gloss.5897\n",
            "Context: الإبانة إظهار المعنى للنفس بما لا يمكن إداركه وأصله القطع, Predicted Gloss: gloss.12260, Correct Gloss: gloss.12261\n",
            "Context: ويبلغ نصيب الفرد من الدخل القومي الإجمالي وفقا لتعادل القوة الشرائية (بالأسعار الجارية) 5350 دولاراً., Predicted Gloss: gloss.11040, Correct Gloss: gloss.11039\n",
            "Context: وإلا لـن تجـد حيـن تطالـع أعمـال بعـض الكتـاب الـروس المعاصريـن ســوى الخلاعــة., Predicted Gloss: gloss.1864, Correct Gloss: gloss.1861"
          ]
        },
        {
          "output_type": "stream",
          "name": "stderr",
          "text": [
            "Evaluating:  39%|███▉      | 1747/4496 [00:03<00:06, 428.79pair/s]"
          ]
        },
        {
          "output_type": "stream",
          "name": "stdout",
          "text": [
            "\n",
            "Context: الابتلاع عمل الحلق دون الثنايا, Predicted Gloss: gloss.15178, Correct Gloss: gloss.15176\n",
            "Context: إنخفضت مشاركة القوى العاملة في موريتانيا على مدى العقدين الماضيين من 50., Predicted Gloss: gloss.3644, Correct Gloss: gloss.3645\n",
            "Context: تصدى العرب المسلمون بقيادة المماليك للزحف المغولي وتمكنوا من الحاق الهزيمة بهم في معركة ) عين جالوت 856 هـ / 0621 م ( في فلسطين وهي من المعارك المهمة في التاريخ العربي الأسلامي ،, Predicted Gloss: gloss.8433, Correct Gloss: gloss.8432\n",
            "Context: واختتم العجمي حديثه بتوجيه الشكر لأصحاب الأيادي البيضاء من أهل الكويت والمقيمين وذلك لحرصهم الدؤوب وسعيهم المتواصل على المشاركة في تسيير رحلة الحج السادسة عشرة ،, Predicted Gloss: gloss.11434, Correct Gloss: gloss.11433\n",
            "Context: (iii) إحصاء إستدلالي (Inferential Statistics):, Predicted Gloss: gloss.5267, Correct Gloss: gloss.5266\n",
            "Context: ذكر أندرو كومب أنَّ هذه الغدد لا تتواجد في راحة اليد أو أخمص القدم., Predicted Gloss: gloss.6309, Correct Gloss: gloss.6302\n",
            "Context: ويعزى النمو إلى مظاهر التقدم والنشاط القوي في قطاعات النقل والكهرباء والإتصالات والقطاعات الأولية., Predicted Gloss: gloss.6257, Correct Gloss: gloss.6253\n",
            "Context: إذ إنه يهتم ويقدم نتاجه إلى عالم الطفولة الذي يتسم بخصائص تميزه عن عالم الكبار،, Predicted Gloss: gloss.2479, Correct Gloss: gloss.2480\n",
            "Context: ٤٦٠ نظام الدفع بأربع عجلات., Predicted Gloss: gloss.7006, Correct Gloss: gloss.7003\n",
            "Context: والدور الذي تقوم به اللغة في المجتمع ثم أظهرت محاضرات فرديناند دي سوسير \" 1857 - 1913 \" التي نشرها تلاميذه سنة 1916, Predicted Gloss: gloss.8150, Correct Gloss: gloss.8149\n",
            "Context: ومن واقع الحسابات نحصل على الشكل السلمي التجريبي البياني التالي كما ان المنحنى ما هو الا تقدير الى الدالة التراكمية من واقع البيانات وحسب نوع التوزيع ،, Predicted Gloss: gloss.5761, Correct Gloss: gloss.5758\n",
            "Context: أمّا من الغرب فتحدّها باكستان وبحر العرب،, Predicted Gloss: gloss.7115, Correct Gloss: gloss.7106\n",
            "Context: الجدير ذكره أن منتدى تنمية الثقافة يعقد بصورة دورية كل نصف شهر ويناقش العديد من القضايا الثقافية والأدبية العلمية ويحتضن الكثير من المبدعين, Predicted Gloss: gloss.11685, Correct Gloss: gloss.11674\n",
            "Context: اكتشافه لنوع من أنواع السكريات XYLITOL, Predicted Gloss: gloss.9689, Correct Gloss: gloss.9688\n",
            "Context: لقد تعرضت الامة العربية الأسلامية الى عمليات غزو متعددة لم تتعرض لمثلها امة من الأمم في التاريخ ومن اهم هذه الغزوات:, Predicted Gloss: gloss.8315, Correct Gloss: gloss.8314\n",
            "Context: وافقت الحكومة الإسرائيلية اليوم الأحد (31 يناير كانون الثاني) على إنشاء موقع منفصل يمكن فيه لليهود من الجنسين الصلاة عند حائط المبكى بعد أن كان المتشددون الأرثوذكس يرفضون صلاة النساء هناك., Predicted Gloss: gloss.2006, Correct Gloss: gloss.2008\n",
            "Context: \tالتهاب الثدي النفاسي, Predicted Gloss: gloss.1042, Correct Gloss: gloss.1037\n",
            "Context: تطبق الأحكام الورادة في هذا النظام - المتعلقة بالتقدير،, Predicted Gloss: gloss.8862, Correct Gloss: gloss.8864\n",
            "Context: 3-\tيساعد على إعداد جيل قوي مؤمن بحق امته في الحياة وبناء مواطنين صالحين ولكي يكون التلميذ مواطناً صالحاً فهو بحاجة الى الاطلاع على تاريخ وطنه الكبير ليدرك الروابط الوطنية التي توحد العرب وتدفعهم لبناء الوحدة لمواجهة الأعداء ومقاومة الاخطار وتعزيز نهضة الامة بصورة تمكنها من تأدية رسالتها الانسانية., Predicted Gloss: gloss.3633, Correct Gloss: gloss.3631\n",
            "Context: وتمثيل المقاطعة في علاقاتها مع الغير ـ وأمام القضاء ـ وتمثيل المقاطعة في المؤتمرات الداخلية،, Predicted Gloss: gloss.4219, Correct Gloss: gloss.4217\n",
            "Context: نأخذ العامية من كتابات الأدباء ومن القصص والمقالات الصحافية وليس من افواه الناس،, Predicted Gloss: gloss.15777, Correct Gloss: gloss.15776\n",
            "Context: تؤثر الهرمونات التناسلية على مُعدلِ إفرازِ الدُهْن،, Predicted Gloss: gloss.6148, Correct Gloss: gloss.6147\n",
            "Context: 2-3- التربة المدروسة\t28, Predicted Gloss: gloss.12026, Correct Gloss: gloss.12024\n",
            "Context: قـوات بقيـادة قائـد جيـش منطقـة قـازان سـتولنيك إيفـان موراشـكين الـذي أعـدم مـن قبـض عليهـم،, Predicted Gloss: gloss.7236, Correct Gloss: gloss.7234\n",
            "Context: وأن الوضعية الفونولوجية للطفل تتحكم إلى حد كبير في وضعيته القرائية سواء على مستوى الإعداد أو التشخيص أو على مستوى العلاج ., Predicted Gloss: gloss.4992, Correct Gloss: gloss.4991\n",
            "Context: اما الحل من خلال الطريقة المختصرة وبافتراض وسط فرضي لقيم المتغير X (المبيعات ) مساوي الى 15 فان الحل الحسابي يوصف بالاتي, Predicted Gloss: gloss.5245, Correct Gloss: gloss.5244\n",
            "Context: ولكن جعله كأخر علاج بين الزوجين بالنظر إلى خطورته على الأسرة والأبناء والمجتمع ككل،, Predicted Gloss: gloss.5614, Correct Gloss: gloss.5611\n",
            "Context: يكون انتقال الطاقة كحرارة دائماً من وسط درجة حرارته أعلى إلى وسط درجة حرارته أدنى ،, Predicted Gloss: gloss.5250, Correct Gloss: gloss.5249\n",
            "Context: ويتطرق المجلس إلى مشروع تطبيق المنهج التكاملي في المدارس واستعراض قضية التعيين في الكليات التقنية, Predicted Gloss: gloss.5288, Correct Gloss: gloss.5285\n",
            "Context: الكويت - 16 - 1 (كونا) -- استقر سعر صرف الدولار الأمريكي أمام الدينار الكويتي اليوم الاحد عند مستوى 302ر0 دينار في حين انخفض سعر صرف اليورو إلى 344ر0 دينار مقارنة بأسعار يوم الخميس الماضي., Predicted Gloss: gloss.14328, Correct Gloss: gloss.14326\n",
            "Context: تُنبئُِنُـا هـذه الأسـطورة ،, Predicted Gloss: gloss.14740, Correct Gloss: gloss.14739\n",
            "Context: وتسرقنا الحرب, Predicted Gloss: gloss.8118, Correct Gloss: gloss.8088\n",
            "Context: وقد مهد الكفاح الطويل لشعبنا وتضحياته في سبيل استقلاله ونهضته ووحدته الوطنية الطريق نحو بناء الدولة القوية وتعزيز التلاحم بينه وبين جيشه العربي السوري الضامن الرئيس والحامي لسيادة الوطن وأمنه واستقراره ووحدة أراضيه،, Predicted Gloss: gloss.9010, Correct Gloss: gloss.9009\n",
            "Context: و أضاف ,السيد بلعيد ,أن اللغة العربية \"كانت لغة العلم والرياضيات والفلك والهندسة والمنطق والفلسفة والتصوف والفلاحة والصناعة والاقتصاد وانتعشت بفضل غيرة العلماء عليها وانكبابهم على البحث العلمي والاختراع والتجريب والتحصيل المعرفي والتصنيف في شتى المجالات التي اعترف المستشرقون الغربيون بريادة العرب\"., Predicted Gloss: gloss.728, Correct Gloss: gloss.727\n",
            "Context: وذلك تَحديَّاً للعُقوبات الجَائرة المَفروضة ضدّ الوطن،, Predicted Gloss: gloss.11310, Correct Gloss: gloss.11309\n",
            "Context: وبعض هذه المهرجاناتِ تقدّم تسليةً للحضورِ،, Predicted Gloss: gloss.2344, Correct Gloss: gloss.2342\n"
          ]
        },
        {
          "output_type": "stream",
          "name": "stderr",
          "text": [
            "\rEvaluating:  40%|████      | 1802/4496 [00:03<00:05, 452.60pair/s]"
          ]
        },
        {
          "output_type": "stream",
          "name": "stdout",
          "text": [
            "Context: اعلم ان التاريخ علم يبحث فيه عن معرفة احوال الطوائف وبلدانهم ورسومهم وعاداتهم وصنائعهم وانسابهم ووفياتهم وموضوعه احوال الأشخاص الماضية من الانبياء والاولياء والعلماء والحكماء والشعراء والملوك والسلاطين وغيرهم والغرض منه الوقوف على الاحوال الماضية من حيث هي وكيف كانت وفائدته العبرة بتلك الاحوال والتنصح بها وحصول ملكة التجارب بالوقوف على تغلبات الزمن ليتحرز العاقل عن مثل احوال الهالكين من الامم المذكورة السالفين, Predicted Gloss: gloss.2409, Correct Gloss: gloss.2406\n",
            "Context: ودرجاتها وأقسامها واختصاصاتها،, Predicted Gloss: gloss.2260, Correct Gloss: gloss.2261\n",
            "Context: تابع التلوين خارج المثلث بحيث تلون رأس أي مثلث - يشترك مع المثلث الأساسي بضلع مشترك - بلون مختلف عن لوني الرأسين المشتركين ., Predicted Gloss: gloss.13209, Correct Gloss: gloss.13207\n",
            "Context: سيسـمعون شـقيقته تناديـه باسـمه:, Predicted Gloss: gloss.1899, Correct Gloss: gloss.1898\n",
            "Context: حيث لم يستطع بسبب الحزن والبكاء الشديدَين على الفقيد على إلقاء كلمته., Predicted Gloss: gloss.11983, Correct Gloss: gloss.11981\n",
            "Context: تتناول الدراسة تطبيقات لغة التحديد القابلة للامتداد eXtensible Mark up Language XML فى المكتبات الرقمية حيث تبدأ بمقدمة عن تاريخ وتطور لغات التحديد ونشأة لغة التحديد القابلة للامتداد XML وخصائصها والمعايير والأدوات المرتبطة بها ثم تتناول تطبيقاتها فى مجال المكتبات من خلال تصميم مواقع المكتبات على الانترنت ،, Predicted Gloss: gloss.1180, Correct Gloss: gloss.1181\n",
            "Context: يعبر معامل التوصيل الحراري عن كمية الطاقة الحرارية المنتقلة من خلال المواد ،, Predicted Gloss: gloss.576, Correct Gloss: gloss.578\n",
            "Context: فقـد ظهـرت أمـام العالـم كعجـوز مريـض،, Predicted Gloss: gloss.2763, Correct Gloss: gloss.2762\n",
            "Context: ولا يستخدم في وظائف الحكومة غير العراقيين إلا في الأحوال الاستثنائية التي تعين بقانون خاص., Predicted Gloss: gloss.308, Correct Gloss: gloss.311\n",
            "Context: اما الاستجابة الترتيبية (ordinal response) فهي عبارة عن متغيرات مصنفة (categories) والتي تمتلك ثلاث او اكثر من مستويات الاستجابة بامكانية ترتيب طبيعية مثل الاجابه لسوال الاستبانه لا اتفق تماما ،, Predicted Gloss: gloss.5370, Correct Gloss: gloss.5369\n",
            "Context: عدد المدخنين في قرية يعد بينما طول الجنود يقاس بمقياس الطول ،, Predicted Gloss: gloss.4630, Correct Gloss: gloss.4631\n",
            "Context: ومنذ ذلك العصر بدأ يختفي اسم حجر وبرزت أسماء هذه القرى ظلت هذه القرى وخاصة مقرن معكال تُذكر في الإشارات التاريخية عن المنطقة خلال القرن العاشر والحادي عشر الهجريين, Predicted Gloss: gloss.7159, Correct Gloss: gloss.7157\n",
            "Context: وأشاد بالدور الذي بات يلعبه مصنع شركة سراميك رأس الخيمة في انتاج السراميك والبورسلين وتوفيره لحاجات البلاد من هذا النوع من الانتاح., Predicted Gloss: gloss.2908, Correct Gloss: gloss.2907\n",
            "Context: فقد تؤدّى طقوسٌ غريبةٌ في الاحتفالِ ترمزُ لشيءٍ مقدّسٍ أو تكونُ نوعاً من التضحيةِ والقرابين للتقرّب من الآلهة., Predicted Gloss: gloss.11477, Correct Gloss: gloss.11476\n",
            "Context: وتعتبر العاصمة السعودية إحدى أسرع مدن العالم توسعًا فخلال نصف قرن من نشأتها اتسعت مساحة المدينة الصغيرة إلى كيلو متر مربع حتى بلغت كم في الوقت الحاضر اكتسبت الرياض أهمية تاريخية وسياسية وتجارية منذ أن كانت مدينة قديمة وعاصمة لإقليم اليمامة تسمى حجر وبعد مرور عام على اختيارها كعاصمة للدولة السعودية الثانية ثم الثالثة كانت الرياض ومازالت مسرحا للعديد من الأحداث السياسية والاقتصادية والثقافية حيث نالت لقب عاصمة الثقافة العربية في عام وعاصمة الإعلام العربي في واستضافت العديد من المؤتمرات والقمم المحلية والخليجية والعربية والعالمية كانت آخرها قمة الرياض والقمة الخليجية, Predicted Gloss: gloss.8571, Correct Gloss: gloss.8570\n",
            "Context: هو أحد المهرجانات التي تقام لاستقبال الربيع،, Predicted Gloss: gloss.3772, Correct Gloss: gloss.3767\n",
            "Context: | تتضمن ثبت المراجع | ., Predicted Gloss: gloss.405, Correct Gloss: gloss.403\n",
            "Context: والتي هي من أهم مبادئ حقوق الانسان في وقتنا الحاضر واعادة تعمير ماخربه المغول., Predicted Gloss: gloss.6959, Correct Gloss: gloss.6956\n",
            "Context: - لنا أعمال في الأعوام الماضية وانجازات ولنا أهداف للعام 2022 وتم إنجاز العديد من الخطط لكن المتبقي أكثر ومراعاة للخطط تم بناء التخطيط بما يتوافق مع الإمكانيات المضمونة والمقدرة وليست إمكانيات مجهولة حتى نتمكن من تنفيذ الأهداف والخطط التي وضعت للعام 2022 ., Predicted Gloss: gloss.5385, Correct Gloss: gloss.5386\n",
            "Context: وتُظهر أيضًا قناة الصوديوم الظهارية (ENaC) ومنظم موصلية التليف الكيسي عبر الغشاء (CFTR)., Predicted Gloss: gloss.2619, Correct Gloss: gloss.2614\n",
            "Context: \" لا أصدق أن الجمهور لا زال يتذكرني ،, Predicted Gloss: gloss.10187, Correct Gloss: gloss.10183\n",
            "Context: ذلك لأنها تشكل اللبنة الأساس في تكوين شخصية الإنسان،, Predicted Gloss: gloss.1184, Correct Gloss: gloss.1183\n",
            "Context: مما دفع ابناء شعبنا في العراق وبلاد الشام للوقوف بوجه الغزاة وانزال الخسائر الفادحة بهم ومع ذلك فقد تعرض العراق لغزو اقوام مختلفة اخرى مثل قبائل الترك المعروفة باسم الخروف الاسود والخروف الابيض ويعد حكمها من اسوأ العهود بسبب تخلفها وبعدها عن الحضارة., Predicted Gloss: gloss.2767, Correct Gloss: gloss.2765\n",
            "Context: تمكن قراصنة إلكترونيون من اختراق عملاق الفيديوهات \" يوتيوب \" ،, Predicted Gloss: gloss.397, Correct Gloss: gloss.396\n",
            "Context: ﻧﺠﺢ رواد ﻓﻀﺎء ﻣﻜﻮك اﻟﻔﻀﺎء اﻣﻴﺮﻛﻲ (أتلانتس) ﻓﻲ ﺗﺮﻛﻴﺐ زوج ﺟﺪﻳﺪ ﻣﻦ اﻟﻮاح اﻟﺸﻤﺴﻴﺔ ﺑﺎﻟﻤﺤﻄﺔ اﻟﻔﻀﺎﺋﻴﺔ اﻟﺪوﻟﻴﺔ ﻣﺎ ﺟﻌﻠﻬﺎ ﺗﺒﺪو أﻣﺲ الاول ذات أﺟﻨﺤﺔ ﺟﺪﻳﺪة ﺗﻤﺪﻫﺎ ﺑﻘﺪرات إﺿﺎﻓﻴﺔ ﻟﺘﻮﻟﻴﺪ اﻟﻄﺎﻗﺔ., Predicted Gloss: gloss.1237, Correct Gloss: gloss.1235\n",
            "Context: وخَرجُه مُنتجٌ مُغلَّفٌ ومَختُومٌ بِشكلٍ دَقيقٍ،, Predicted Gloss: gloss.9998, Correct Gloss: gloss.9999\n",
            "Context: 6\tتوزع أفراد العيّنة حسب الفئات العمرية\t36, Predicted Gloss: gloss.4709, Correct Gloss: gloss.4707\n",
            "Context: التقليد الحيوي هو نهج للابتكار يسعى إلى إيجاد حلول مستدامة للتحديات البشرية من خلال محاكاة أنماط واستراتيجيات الطبيعة التي تم اختبارها عبر الأزمنة., Predicted Gloss: gloss.3648, Correct Gloss: gloss.3649\n",
            "Context: على أنها \"ذلك المفهوم أو الاصطلاح الذي يصف الفرد من حيث هو كل موحد من الأساليب السلوكية والإدراكية المعقدة التنظيم،, Predicted Gloss: gloss.1997, Correct Gloss: gloss.2003\n",
            "Context: Meningococcla Conjugate quadrivalent) واختصارًا MCV4 عمر 12 شهر شلل الأطفال الفموي الثلاثي الفيروسي البكتيريا العقدية الرئوية الحمى الشوكية الرباعي المقترن عمر 18 شهر شلل الأطفال الفموي الثلاثي البكتيري المستدمية النزلية الثلاثي الفيروسي جدري الماء الالتهاب الكبدي أ عمر 24 شهر الالتهاب الكبدي أ عند دخول الصف الأول الابتدائي شلل الأطفال الفموي الثلاثي البكتيري وربما يُعطى الثنائي البكتيري الثلاثي الفيروسي جدري الماء, Predicted Gloss: gloss.1599, Correct Gloss: gloss.1590\n",
            "Context: وكذلك يُؤدِّي إلى عدمِ انتظامِ التَّغليف،, Predicted Gloss: gloss.5546, Correct Gloss: gloss.5544\n",
            "Context: بحث علمي أعد لنیل شھادة الماجستیر في الأمراض الجلدیة والزھریة, Predicted Gloss: gloss.2323, Correct Gloss: gloss.2322\n",
            "Context: أملي الوحيد هو أن تكونوا لي سندا لإنصافي من هذا الظلم والترهيب والقضاء عليّ حتى أتمكن من تسديد ديوني ., Predicted Gloss: gloss.11090, Correct Gloss: gloss.11088\n"
          ]
        },
        {
          "output_type": "stream",
          "name": "stderr",
          "text": [
            "Evaluating:  42%|████▏     | 1890/4496 [00:03<00:07, 362.84pair/s]"
          ]
        },
        {
          "output_type": "stream",
          "name": "stdout",
          "text": [
            "Context: وهنا فإن على الممثل التوصل إلى السمات والخصائص التي تتمتع بها الشخصية الخيالية بغية أدائها على خشبة المسرح وفق المعطيات الخاصة بها،, Predicted Gloss: gloss.9455, Correct Gloss: gloss.9461\n",
            "Context: دمعـت عينـا يرمـاك ففكـرة أن يطيـح مـن نفســه بالخــزي مقابــل الأعمــال الشــريفة لخدمــة الدولــة،, Predicted Gloss: gloss.295, Correct Gloss: gloss.291\n",
            "Context: أن احد أهم دعائم عمل سلسلة التوريد هو التفاعل المباشر بين عناصر البيئة الداخلية و البيئة الخارجية للمؤسسة مما يضمن تحقيق أهدافها المختلفة و إرضاء الزبائن و الحصول على حصة سوقية مناسبة, لذلك أولت إدارة المؤسسات أهمية خاصة لعلاقاتها مع الموردين الذين يشكلون أحد ركائز سلسلة التوريد, وتطورت هذه العلاقة في كثير من الأحيان لتصبح على مستوى شراكة استراتيجية بين الطرفين., Predicted Gloss: gloss.10076, Correct Gloss: gloss.10074\n",
            "Context: حيث اكتشفوا أن جسم النمل مغطى من الأعلى والجوانب بشعيرات فريدة وهذه الشعيرات هي أنابيب صغيرة مثلثية الشكل تعطي النملة لونا فضيا لامعا والوجهان الخارجيان للشعرة مموجان على طولهما،, Predicted Gloss: gloss.2558, Correct Gloss: gloss.2557\n",
            "Context: \tالتهاب الصفاق النفاسي, Predicted Gloss: gloss.1042, Correct Gloss: gloss.1037\n",
            "Context: الأمر الذي يجعل من المفيد إعادة تحقيق الكتاب في ضوء ما تتضمنه هذه المخطوطات من جديد المرجع:, Predicted Gloss: gloss.6959, Correct Gloss: gloss.6956\n",
            "Context: يُعد مسرح الطفل مسرحاً بجميع مفرداته وعناصره التي تُكون الصورة النهائية للمسرح., Predicted Gloss: gloss.5669, Correct Gloss: gloss.5671\n",
            "Context: وشدد مدير التوجيه الإسلامي بالوكالة سيدي محمد ولد الشواف في كلمة له أمام لجنة تحكيم المسابقات على أهمية العدل بين المتسابقين والأمانة في تطبيق المعايير والتقويم ،, Predicted Gloss: gloss.7096, Correct Gloss: gloss.7097\n",
            "Context: 2) حسب مقياس لكارت الخماسي او تصنيف مستوى المرض عند شخص مريض الى (حاد ،, Predicted Gloss: gloss.4992, Correct Gloss: gloss.4989\n",
            "Context: وتأمر بالمعروف وتنهى عن المنكر ،, Predicted Gloss: gloss.2767, Correct Gloss: gloss.2766\n",
            "Context: وتعتبر العاصمة السعودية إحدى أسرع مدن العالم توسعًا فخلال نصف قرن من نشأتها اتسعت مساحة المدينة الصغيرة إلى كيلو متر مربع حتى بلغت كم في الوقت الحاضر اكتسبت الرياض أهمية تاريخية وسياسية وتجارية منذ أن كانت مدينة قديمة وعاصمة لإقليم اليمامة تسمى حجر وبعد مرور عام على اختيارها كعاصمة للدولة السعودية الثانية ثم الثالثة كانت الرياض ومازالت مسرحا للعديد من الأحداث السياسية والاقتصادية والثقافية حيث نالت لقب عاصمة الثقافة العربية في عام وعاصمة الإعلام العربي في واستضافت العديد من المؤتمرات والقمم المحلية والخليجية والعربية والعالمية كانت آخرها قمة الرياض والقمة الخليجية, Predicted Gloss: gloss.1608, Correct Gloss: gloss.1606\n",
            "Context: هي حالةٌ جلدية تتميز بوجود صدفية مُتداخلة مع التهاب الجلد الدهني., Predicted Gloss: gloss.1042, Correct Gloss: gloss.1037\n",
            "Context: وياخذ بنظر الاعتبار هنا إذا كانت منطقةِ البحث كبيرةُ أَو كلفةُ المقياسِ عاليُة ., Predicted Gloss: gloss.1587, Correct Gloss: gloss.1588\n",
            "Context: أن احد أهم دعائم عمل سلسلة التوريد هو التفاعل المباشر بين عناصر البيئة الداخلية و البيئة الخارجية للمؤسسة مما يضمن تحقيق أهدافها المختلفة و إرضاء الزبائن و الحصول على حصة سوقية مناسبة, لذلك أولت إدارة المؤسسات أهمية خاصة لعلاقاتها مع الموردين الذين يشكلون أحد ركائز سلسلة التوريد, وتطورت هذه العلاقة في كثير من الأحيان لتصبح على مستوى شراكة استراتيجية بين الطرفين., Predicted Gloss: gloss.6057, Correct Gloss: gloss.6058\n",
            "Context: دق الثوم وإضافته إلى اللبن ومن ثمّ إضافة الملح حسب الرغبة وخلط اللبن جيداً مع باقي المكوّنات., Predicted Gloss: gloss.6068, Correct Gloss: gloss.6067\n",
            "Context: ولطالما فكر الباحثون كيف يمكن لهذه الحشرات الصغيرة التي لا يتجاوز طولها حوالي 10 ملم أن تبقى على قيد الحياة في ظل هذه الظروف القاسية والمُجهدة حرارياً., Predicted Gloss: gloss.7256, Correct Gloss: gloss.7248\n",
            "Context: ومع الاتجاه العالمي لترشيد استهلاك الطاقة والحفاظ على البيئة كان لا بد من إيجاد حلول سريعة وفعالة لمشكلة ذلك الاستهلاك مع الحصول في نفس الوقت على متطلبات الراحة الحرارية للمستخدمين., Predicted Gloss: gloss.5711, Correct Gloss: gloss.5710\n",
            "Context: وتُفرز على العين شكلًا من الدُهْن يُسمى ميبوم،, Predicted Gloss: gloss.295, Correct Gloss: gloss.291\n",
            "Context: فان المشاهدة تعتبر شاذة ((outlier ومن النوع المتطرف (extreme) اذا وقعت خارج الحدود ،, Predicted Gloss: gloss.5792, Correct Gloss: gloss.5789\n",
            "Context: العدد في الصفِّ الثانيِ يُمثّلُ العددَ الكليَّ للمشاهدات في الصفّين الأولينِ ., Predicted Gloss: gloss.1599, Correct Gloss: gloss.1590\n",
            "Context: أعلاها الأسود فالأبيض فالأخضر،, Predicted Gloss: gloss.2693, Correct Gloss: gloss.2669\n",
            "Context: إذن سـأمارس الكتابـة وكأننـي كاتـب..., Predicted Gloss: gloss.1864, Correct Gloss: gloss.1861\n",
            "Context: سـتروي باتـو أمـام رئيـس البلديـة واثنيـن مـن رجـال الـدرك،, Predicted Gloss: gloss.4002, Correct Gloss: gloss.4001\n"
          ]
        },
        {
          "output_type": "stream",
          "name": "stderr",
          "text": [
            "Evaluating:  44%|████▍     | 1976/4496 [00:03<00:06, 381.31pair/s]"
          ]
        },
        {
          "output_type": "stream",
          "name": "stdout",
          "text": [
            "Context: هذا البعض يريد للحاضر الاقتصادي أن يستمر ويتواصل بشروطه الراهنة, Predicted Gloss: gloss.3755, Correct Gloss: gloss.3754\n",
            "Context: كنــت منكبــًاً عــلى المجهــر أحــاول تحليــل العينــة عــلى الشريحــة عندمــا رفعــت يـدي لأحـك رقبتــي تحــت تفاحــة آدم وفوجئــت بوجــود ورم فـي رقبتــي., Predicted Gloss: gloss.7947, Correct Gloss: gloss.7948\n",
            "Context: و ذكرت ذات المتحدثة, أن المداخلات صبت في تفكيك طبيعة العلاقات بين اللغة العربية والعلوم من خلال اعمال تطبيقية عبرت عن انفتاح افاقها المعرفية والفكرية من خلال تعالقات اللغوي بالرياضي والفلكي والموسيقي والاقتصادي وغيرها من الحقول المعرفية., Predicted Gloss: gloss.4742, Correct Gloss: gloss.4740\n",
            "Context: ولذلك فقد اتفق على أن تستخدم في حسابها وحدة خاصة هي السنة الضوئية Light Year وهي المسافة التي يقطعها الضوء \"وسرعته 300 ألف كيلو متر في الثانية\" في سنة كاملة،, Predicted Gloss: gloss.5955, Correct Gloss: gloss.5952\n",
            "Context: قسم أمراض العين وجراحتها, Predicted Gloss: gloss.295, Correct Gloss: gloss.291\n",
            "Context: تشغيل المشغل المحمول المتوافق, Predicted Gloss: gloss.7048, Correct Gloss: gloss.7046\n",
            "Context: مما أنتج عن اسم مميز للبلاد., Predicted Gloss: gloss.1379, Correct Gloss: gloss.1376\n",
            "Context: ونفس الآمال تراود بعض الصوماليين في المنفى الذين قرروا العودة إلى وطنهم., Predicted Gloss: gloss.15481, Correct Gloss: gloss.15479\n",
            "Context: ولا خلاف في أن اسم الكتاب الذي سماه به مؤلفه هو (العقد) وأن صفة (الفريد) نعت لحق الكتاب في وقت متأخر،, Predicted Gloss: gloss.12245, Correct Gloss: gloss.12244\n",
            "Context: و ذكرت ذات المتحدثة, أن المداخلات صبت في تفكيك طبيعة العلاقات بين اللغة العربية والعلوم من خلال اعمال تطبيقية عبرت عن انفتاح افاقها المعرفية والفكرية من خلال تعالقات اللغوي بالرياضي والفلكي والموسيقي والاقتصادي وغيرها من الحقول المعرفية., Predicted Gloss: gloss.2399, Correct Gloss: gloss.2396\n",
            "Context: وعلى غرار ذلك،, Predicted Gloss: gloss.9378, Correct Gloss: gloss.9377\n",
            "Context: ٦٢٢ استلام مكالمة., Predicted Gloss: gloss.7052, Correct Gloss: gloss.7051\n",
            "Context: وبعد حساب m_i تم فرض وسط فرضي (18 = A) والنتيجة بالطريقة المختصرة, Predicted Gloss: gloss.4640, Correct Gloss: gloss.4639\n",
            "Context: وعادةً ما تكون هذه العادات مرتبطةً بمكانٍ وزمانٍ مُعَيّنين., Predicted Gloss: gloss.4123, Correct Gloss: gloss.4124\n",
            "Context: يكون انتقال الطاقة كحرارة دائماً من وسط درجة حرارته أعلى إلى وسط درجة حرارته أدنى ،, Predicted Gloss: gloss.5175, Correct Gloss: gloss.5170\n",
            "Context: ولا يجوز القبض على أحدهم،, Predicted Gloss: gloss.11574, Correct Gloss: gloss.11572\n",
            "Context: نقطتين بالفم., Predicted Gloss: gloss.1709, Correct Gloss: gloss.1708\n",
            "Context: الإعلان الدستوري لتنظيم قواعد الحكم خلال المرحلة الانتقالية في اليمن\t25, Predicted Gloss: gloss.3731, Correct Gloss: gloss.3714\n",
            "Context: ويخلف جولا،, Predicted Gloss: gloss.9162, Correct Gloss: gloss.9161\n",
            "Context: يا سـيدي ،, Predicted Gloss: gloss.9308, Correct Gloss: gloss.9307\n",
            "Context: الماء والملح وترك الأرز على درجة حرارة مرتفعة إلى أن يتم الوصول إلى درجة الغليان تخفيف درجة الحرارة وتغطية القدر وتركه إلى أن ينضج تماماً., Predicted Gloss: gloss.13495, Correct Gloss: gloss.13492\n",
            "Context: ولا يستخدم في وظائف الحكومة غير العراقيين إلا في الأحوال الاستثنائية التي تعين بقانون خاص., Predicted Gloss: gloss.3903, Correct Gloss: gloss.3897\n",
            "Context: و في هذا الإطار, دعا السيد بلعيد, إلى ضرورة \"تعميم استعمال اللغة العربية في مختلف العلوم وفي كل مناحي الحياة, وتشجيع الباحثين وتحفيزهم معنويا وماديا للأبداع بالعربية إلى جانب ضرورة الإهتمام بالبحوث التربوية والعلمية والترجمية تحقيقا للأمن الثقافي و تفعيل المجامع والمؤسسات والمجالس العليا ومراكز البحوث العاملة على تطوير اللغة العربية بمنهجيات حديثة\"., Predicted Gloss: gloss.9354, Correct Gloss: gloss.9351\n",
            "Context: والحريات الأساسية المصانة،, Predicted Gloss: gloss.4107, Correct Gloss: gloss.4101\n",
            "Context: الكلمات المفتاحية :, Predicted Gloss: gloss.4745, Correct Gloss: gloss.4749\n",
            "Context: آخذين بالاعتبار مراحلهم العمرية والبيئة التي ينتمون لها والمستوى المعرفي والإدراكي؛, Predicted Gloss: gloss.1997, Correct Gloss: gloss.2003\n",
            "Context: 01 عرض الكتلةِ الضخمةِ مِنْ البياناتِ في شكل مُلَخَّص :, Predicted Gloss: gloss.5930, Correct Gloss: gloss.5927\n",
            "Context: ومن بين هذه المجالات الأقمار الصناعية التي تعدّ من أروع الاكتشافات التي توصّلت إليها التكنولوجيا،, Predicted Gloss: gloss.689, Correct Gloss: gloss.688\n",
            "Context: للعراقيين حرية إبداء الرأي،, Predicted Gloss: gloss.4107, Correct Gloss: gloss.4101\n",
            "Context: والمناطق التراثية تعرف بأنها \"تلك المناطق التي تميز بيئة عمرانية متوازية شيدت في عصر تاريخي بحيث تشكل تراث يحفظ جذور الحضارة وسماتها وتعكس أحداث العصر الذي واكبته وتعد هذه البيئة نتاجاً لقيم وأعراف وفلسفة تخطيطية تصل هذه العصور التاريخية بما قبل بتجانس وتكامل واضح\" (الدواخلي, 1996:, Predicted Gloss: gloss.10857, Correct Gloss: gloss.10855\n",
            "Context: تشكّل الأمراض الطفيلية 80% من أمراض أسماك المياه الدافئة التي تسبّبها الحيوانات الطفيلية الأوالي والتّوالي (Fijan, 1983 Duijn, 1973;)., Predicted Gloss: gloss.752, Correct Gloss: gloss.733\n",
            "Context: فلم يعد كافياً اعتماد نهج ثقافي, حيث نضع بعض الالتزمات الناشئة عن الحماية القانونية للمباني التاريخية, بل يجب استكمال هياكل الدعم التقليدية (Jean, 1987) أو الاستعاضة عن أساليب التمويل المناسبة إلى التقنيات والإجراءات المستخدمة لتنفيذ سياسة التوسع الاقتصادي والتنمية الإقليمية., Predicted Gloss: gloss.1608, Correct Gloss: gloss.1607\n"
          ]
        },
        {
          "output_type": "stream",
          "name": "stderr",
          "text": [
            "Evaluating:  46%|████▌     | 2070/4496 [00:03<00:05, 416.36pair/s]"
          ]
        },
        {
          "output_type": "stream",
          "name": "stdout",
          "text": [
            "Context: فحرم الزواج المؤقت ورتب البطلان لكل زواج كان بصيغة التأقيت،, Predicted Gloss: gloss.5660, Correct Gloss: gloss.5657\n",
            "Context: الا ان هناك جداول لا تحتوي على حد ادنى واعلى للفئة بل تحتوي على قيمة صحيحة للفئة وتتعامل مع المتغير المتقطع وعندها يطلق على الجدول عنوان (ungrouped frequency distribution)., Predicted Gloss: gloss.5250, Correct Gloss: gloss.5249\n",
            "Context: ومع ذلك فهي أساسية لحفظ ودوام ثقافة المجتمعات والحضارات, وهي أيضاً تنطوي على نهج جديد للتخطيط العمراني وإدارة الموارد الاجتماعية, Predicted Gloss: gloss.3675, Correct Gloss: gloss.3677\n",
            "Context: مواصليـن الاعتقـاد بأطروحـة “الجزائـر الفرنسـيّة” ومنـذ عهـد قريـب فقـط صـار يُشـار إليهـا باعتبارهـا حربـًاً خاضهـا الجزائريـون ضـد نظـام وحضـور اسـتعماريين., Predicted Gloss: gloss.8309, Correct Gloss: gloss.8308\n",
            "Context: ومع ذلك فهي أساسية لحفظ ودوام ثقافة المجتمعات والحضارات, وهي أيضاً تنطوي على نهج جديد للتخطيط العمراني وإدارة الموارد الاجتماعية, Predicted Gloss: gloss.230, Correct Gloss: gloss.227\n",
            "Context: •\tمجموعات إقليمية\tوتعتز الجمهورية العربية السورية بانتمائها العربي،, Predicted Gloss: gloss.11873, Correct Gloss: gloss.11872\n",
            "Context: وهذا ما وجدته دراسة لمختبر آم آي تي في أنّ أنظمة التعرف على الوجه من شركات مثل “آي بي إم” و “مايكروسوفت” كانت أكثر دقّة على الأفراد ذوي البشرة الفاتحة بنسبة تراوحت بين 11 و19%., Predicted Gloss: gloss.812, Correct Gloss: gloss.814\n",
            "Context: وانحسرت الدراسة في القصص التي تعبر عن موضوعات ذات بُعد اجتماعي،, Predicted Gloss: gloss.5811, Correct Gloss: gloss.5807\n",
            "Context: قد يكون هذا بسيطًا بعض الشيء،, Predicted Gloss: gloss.1500, Correct Gloss: gloss.1492\n",
            "Context: 5 الرموز الوطنية, Predicted Gloss: gloss.7433, Correct Gloss: gloss.7432\n",
            "Context: ثـم تـرك مهنـة السـفن وانتقـل إلـى نهـر الفولغـا ،, Predicted Gloss: gloss.7200, Correct Gloss: gloss.7198\n",
            "Context: وتكون كافية لتدريب الذكاء الاصطناعي مثل بيانات العالم الحقيقي،, Predicted Gloss: gloss.3571, Correct Gloss: gloss.3570\n",
            "Context: أشار المؤرّخ عبد الرحمن بن خلدون إلى أصل كلمة \"تونس\" التي أطلقت على حاضرة شمال إفريقيّة حيث أرجع اصلها إلى ما عرف عن المدينة من ازدهار عمراني وحيوية اقتصادية وحركية ثقافية واجتماعية فقد أشار إلى أنّ اسم \"تونس\" اشتقّ من وصف سكانها والوافدين عليها لما عرفوا به من طيب المعاشرة وكرم الضيافة وحسن الوفادة., Predicted Gloss: gloss.572, Correct Gloss: gloss.570\n",
            "Context: إبـان زمـن بعينـه ., Predicted Gloss: gloss.295, Correct Gloss: gloss.300\n",
            "Context: تقسم الأمراض الطفيلية حسب مكان الإصابة إلى خارجية وداخلية،, Predicted Gloss: gloss.5792, Correct Gloss: gloss.5789\n",
            "Context: عندما حل نور الدين فرح هذه الأيام في مدينة كولونيا لتقديم كتابه الجديد للقراء الألمان ،, Predicted Gloss: gloss.2344, Correct Gloss: gloss.2342\n",
            "Context: فبعد دخوله إلى الجسم تظهر أعراضه على هيئة إسهال شديد غالبََا يرافقه تقيؤ وحمى وألم في منطقة البطن., Predicted Gloss: gloss.1102, Correct Gloss: gloss.1101\n",
            "Context: - شركة عامة ترغب في معرفة تاثير اعلانات التلفزيون لمنتج جديد من المشروبات الغازية وبعد ملاحظة الاعلانات لمدة اسبوع اختارت الشركة عينة من الاشخاص بصورة عشوائية ومن مركز تجاري لذلك من بين الاسئلة التي تطرحها الشركة ما يلي, Predicted Gloss: gloss.5347, Correct Gloss: gloss.5344\n",
            "Context: لِأَنَّ لِكُلِّ أُذُنٍ شَحْمَةً وَالْعَرْضُ مِنْ الشَّحْمَةِ إلَى الشَّحْمَةِ وَلَيْسَ لِلْأُذُنِ الْوَاحِدَةِ شَحْمَتَانِ ., Predicted Gloss: gloss.1009, Correct Gloss: gloss.1008\n",
            "Context: فقد تَمَّ تَصميمُ خَطِّ التَّغليف لمُنتَج المعسَّل يدويا بِخُبرات مَحليَّة،, Predicted Gloss: gloss.536, Correct Gloss: gloss.537\n",
            "Context: أجريت هذه الدراسة في البيت الزجاجي لقسم علوم الحياة /كلية التربية الرازي للتحري عن فعالية مستخلصات نبات اليوكالبتوس المائية والكحولية في إنبات ونمو وحاصل نبات الحنطة ( تموز - 1 ) من خلال إجراء تجربتين., Predicted Gloss: gloss.752, Correct Gloss: gloss.733\n",
            "Context: وإن كوننا كائنات بشرية أخلاقية يمنحنا حقوقًا خاصة بنا كحق الحرية والملكية،, Predicted Gloss: gloss.4107, Correct Gloss: gloss.4101\n",
            "Context: علـى نحـو لا يتوقعـه البطـل ولا القـارئ،, Predicted Gloss: gloss.7102, Correct Gloss: gloss.7100\n",
            "Context: ان حساب الارقام القياسية للاسعار او الكميات او حساب معدل النمو لظاهرة اقتصادية او اجتماعية كمعدل نمو السكان وغيرها يتم من خلال صيغ الوسط الهندسي فعند وجود n من المشاهدات للمتغير X_(1,) X_(2,) X_(3,……., Predicted Gloss: gloss.5660, Correct Gloss: gloss.5651\n",
            "Context: أي أخبار ألأمم والشعوب والأفراد فــــي الماضي ., Predicted Gloss: gloss.812, Correct Gloss: gloss.814\n",
            "Context: واصفة أي تدخلات إيرانية في شؤون الدول, Predicted Gloss: gloss.2822, Correct Gloss: gloss.2823\n",
            "Context: حقنة بالعضل., Predicted Gloss: gloss.1444, Correct Gloss: gloss.1441\n",
            "Context: يقام هذا المهرجان كلّ عام في موسم الحصاد،, Predicted Gloss: gloss.11733, Correct Gloss: gloss.11731\n",
            "Context: ولكل قلب صادق خطاب وصيغة مع ربه .., Predicted Gloss: gloss.5660, Correct Gloss: gloss.5653\n",
            "Context: سنعرض في دراستنا هذه نماذج لتجاويف مربعة تحتوي على سطوح مخشنة بشكل مثلثي يحاكي شعرة النملة سعيا منا لإيجاد شكل جديد للسطح قادر على زيادة العزل الحراري وكيف يمكن دمج هذا الشكل في الهندسة المعمارية., Predicted Gloss: gloss.6324, Correct Gloss: gloss.6325\n",
            "Context: 5,20) ويظهر موقعها في الشكل البياني بدائرة نرسم خط افقي من الصفر موازي للمحور الافقي ويلتقي بالخط النازل من النقطة ،, Predicted Gloss: gloss.5747, Correct Gloss: gloss.5746"
          ]
        },
        {
          "output_type": "stream",
          "name": "stderr",
          "text": [
            "Evaluating:  49%|████▊     | 2191/4496 [00:04<00:04, 504.02pair/s]"
          ]
        },
        {
          "output_type": "stream",
          "name": "stdout",
          "text": [
            "\n",
            "Context: ودعت ايران الى التعامل بايجابية مع متطلبات الشرعية الدولية لضمان التوصل الى حل, Predicted Gloss: gloss.14470, Correct Gloss: gloss.14468\n",
            "Context: الرجل والمرأة متساويان في التمتع بالحقوق السياسية., Predicted Gloss: gloss.4077, Correct Gloss: gloss.4074\n",
            "Context: أَكْتُبُ إِلَيْكَ مِنْ سَوِيتُو, Predicted Gloss: gloss.1864, Correct Gloss: gloss.1860\n",
            "Context: رغم المعرفة العالمية بوردية الوجه و التي تعود للقرن الخامس عشر إلا أنها تبقى موضوعاً إشكالياً في الجلدية،, Predicted Gloss: gloss.2403, Correct Gloss: gloss.2401\n",
            "Context: “نحن في معنويات عالية وملتزمون بتحقيق السلام والاستقرار في الصومال بما يتماشى مع تفويض البعثة”., Predicted Gloss: gloss.4200, Correct Gloss: gloss.4198\n",
            "Context: ولبيانات المثال فان اي مشاهدة تقع خارج الفترة [24., Predicted Gloss: gloss.5792, Correct Gloss: gloss.5789\n",
            "Context: وأيضاً أشكر أهلي وأسرتي لوقوفهم إلى جانبي وتقديمهم الدعم المعنوي لي., Predicted Gloss: gloss.10028, Correct Gloss: gloss.10027\n",
            "Context: وقدرته على التحوّل ليصير نصًا معرفيًا دافعًا لمزيد من القراءة والبحث،, Predicted Gloss: gloss.2399, Correct Gloss: gloss.2394\n",
            "Context: أمـا البحـث عـن الحقائـق الخالـدة ومغـزى الحيـاة فأنـا لـم أفكـر بذلـك أبـدًاً بـل عشـت, Predicted Gloss: gloss.2307, Correct Gloss: gloss.2308\n",
            "Context: توضع الأرملة وهي على قيد الحياة مع جثة زوجها ويتمّ حرقهما معاً،, Predicted Gloss: gloss.5614, Correct Gloss: gloss.5612\n",
            "Context: حيث أحب الرسم منذ الصغر وكانت هوايته التي نمت مع الوقت لتزهر أعمالا فنية رائعة, Predicted Gloss: gloss.15039, Correct Gloss: gloss.15038\n",
            "Context: إلى من علمني الحبّ و الحنان إلى من سهرت وتعبت لأجلي ., Predicted Gloss: gloss.2080, Correct Gloss: gloss.2081\n",
            "Context: - ما هو الهيكل التنظيمي ., Predicted Gloss: gloss.6221, Correct Gloss: gloss.6220\n",
            "Context: التطعيم ضد الالتهاب الكبدي (ب) (الجرعة الصفرية):, Predicted Gloss: gloss.354, Correct Gloss: gloss.353\n",
            "Context: يعد مسرح الطفل فرعا مهما من فروع أدب الطفل،, Predicted Gloss: gloss.7487, Correct Gloss: gloss.7486\n",
            "Context: وبهذه الطريقة يستطيع الذكاء الاصطناعي إنشاء صورٍ اصطناعية للمعلمات بغية تطوير الخوارزمية لتكون قادرة مثلًا على اكتشاف سرطان الجلد أو مشاكل الجلد الأخرى وما إلى ذلك., Predicted Gloss: gloss.3426, Correct Gloss: gloss.3425\n",
            "Context: وأضاف أن المنشأة التي قُصفت ليلة الثاني من يونيو/ حزيران 2015 يرجح أنها كانت تستخدم في تصنيع عبوات ناسفة تُفخخ بها السيارات تستخدم في الهجمات., Predicted Gloss: gloss.14812, Correct Gloss: gloss.14809\n",
            "Context: ونظرًا لضخامة المسافات التي تفصل أجرام المجرة بعضها عن بعض؛, Predicted Gloss: gloss.7678, Correct Gloss: gloss.7677\n",
            "Context: إلى أزمة سياسية ودستورية مستمرة بين الرئيس الحالي قيس سعيد،, Predicted Gloss: gloss.7410, Correct Gloss: gloss.7409\n",
            "Context: حيث ان (d_i=m_i-A) تمثل انحراف متوسط الفئة m_i عن الوسط الفرضي A ., Predicted Gloss: gloss.4688, Correct Gloss: gloss.4685\n",
            "Context: ويقدر أن الوقت الذي نزلت به بنو حنيفة اليمامة أول القرن الخامس الميلادي من أبرزِ الحوادث التي حصلت لحَجْر في الجاهلية تحريقُها من قبل بني قيس بن ثعلبة, Predicted Gloss: gloss.4605, Correct Gloss: gloss.4606\n",
            "Context: بل ظاهرةً اجتماعيةً متكرِّرةً مع ظروف أو أسباب مختلفة ومتنوعة بين الأماكن التي شهدت موجات الهجرة في بلد المنشأ أو الأماكن التي استقبلت هذه الموجات في بلد الوصول., Predicted Gloss: gloss.8841, Correct Gloss: gloss.8828\n",
            "Context: ومن هذه الأجهزة توسعت أعمالها فاضيف الكمبيوتر والمطابخ الحديثة., Predicted Gloss: gloss.728, Correct Gloss: gloss.727\n",
            "Context: وذلك لأن عالم الطفولة في هذه المرحلة ضيق لا يتعدى حدود الأم والأب والإخوة وبعض المعارف والجيران والأقارب والباعة المتجولين والدمى التي يلهون بها والملابس التي يرتدونها والأطعمة التي يأكلونها والبيت الذي يعيشون فيه وما حولهم من حيوانات أليفة وظواهر طبيعية كالبرد والحر والمطر والضوء والظلام (p 82-83, Hassan ,2007)., Predicted Gloss: gloss.11932, Correct Gloss: gloss.11925\n",
            "Context: ومنها مثلا تقنيات التنبؤ للسلاسل الزمنية تعتبر ضمّنُ الإحصاء الإستقرائي., Predicted Gloss: gloss.3542, Correct Gloss: gloss.3538\n",
            "Context: ونحوه في العقد الفريد لابن عبد ربه انظر ص 143 من الجزء الثاني قال القضاعي:, Predicted Gloss: gloss.1211, Correct Gloss: gloss.1212\n",
            "Context: فقـد جـاء عمـي لأخـذي مـن بيـت اليتامـى., Predicted Gloss: gloss.13954, Correct Gloss: gloss.13953\n",
            "Context: وقد ذكر ذلك الهمداني صاحب كتاب \"صفة جزيرة العرب, Predicted Gloss: gloss.5332, Correct Gloss: gloss.5328\n",
            "Context: في ظل عالم آخذ في التحضر بسرعة كبيرة وتسيطر عليه مبادئ العولمة وقيمها, Predicted Gloss: gloss.627, Correct Gloss: gloss.628\n",
            "Context: ليـس فـي هـذه اللحظـة بـل بعـد أن يكـون انتهـى كل شـيء وتركنـا خلفنـا نهـار السـبت وصالـة الحفـلات خاليـة،, Predicted Gloss: gloss.5177, Correct Gloss: gloss.5176\n",
            "Context: قال ورقة:, Predicted Gloss: gloss.1966, Correct Gloss: gloss.1964\n",
            "Context: فالله خير حفظا وهو أرحم الراحمين, Predicted Gloss: gloss.2143, Correct Gloss: gloss.2142\n",
            "Context: ونظام هيئة التحقيق والادعاء العام ( النيابة العامة ) ،, Predicted Gloss: gloss.14128, Correct Gloss: gloss.14127"
          ]
        },
        {
          "output_type": "stream",
          "name": "stderr",
          "text": [
            "\rEvaluating:  50%|████▉     | 2243/4496 [00:04<00:04, 476.81pair/s]"
          ]
        },
        {
          "output_type": "stream",
          "name": "stdout",
          "text": [
            "\n",
            "Context: كتب الوحي من حضر من الكتاب وهم:, Predicted Gloss: gloss.1864, Correct Gloss: gloss.1859\n",
            "Context: وسجل القطاع الخاص أقل نسبة للعاملين المشتركين في التأمينات الاجتماعية وبصفة خاصة العاملين خارج المنشآت بنسبة 12% فقط., Predicted Gloss: gloss.12061, Correct Gloss: gloss.12060\n",
            "Context: ٣٣٥ مفتاح مصابيح الضباب., Predicted Gloss: gloss.6845, Correct Gloss: gloss.6843\n",
            "Context: وأعتبر القرار في مادته الرابعة أن حاكم المقاطعة (يكلف بقرار من مجلس الوزراء بناء على عرض من وزير الحكم المحلي) هو ممثل عن الحكومة،, Predicted Gloss: gloss.4146, Correct Gloss: gloss.4142\n",
            "Context: تطبق الأحكام الورادة في هذا النظام - المتعلقة بالتقدير،, Predicted Gloss: gloss.7079, Correct Gloss: gloss.7078\n",
            "Context: وظيفته ربط الهواتف الذكية بأجهزة الكمبيوتر المكتبية ،, Predicted Gloss: gloss.11967, Correct Gloss: gloss.11968\n",
            "Context: إلى كل أمين على رسالة الحق والنور .........., Predicted Gloss: gloss.4395, Correct Gloss: gloss.4384\n",
            "Context: والحياة بالحرارة والنشوء بالرطوبة بل الحرارة تقوم بالرطوبة وتغتذي بها ., Predicted Gloss: gloss.12951, Correct Gloss: gloss.12949\n",
            "Context: وهذه من صفات المؤمن وأطلب من الجميع العفو عن المرحوم وأن يكون هذا المجلس سببا لعفو كل منا للآخر”., Predicted Gloss: gloss.5332, Correct Gloss: gloss.5328\n",
            "Context: ويجب وضع قضية حماية وحفظ التراث العمراني على أسس جديدة وتقنيات حديثة لتمويل خطط الترميم والتدخل للحماية, Predicted Gloss: gloss.3762, Correct Gloss: gloss.3760\n",
            "Context: الأمر لا يتعلق بمشهد فيلم سينمائي من إبداع كاتب سيناريو،, Predicted Gloss: gloss.9534, Correct Gloss: gloss.9533\n",
            "Context: ومن غرائبه :, Predicted Gloss: gloss.11477, Correct Gloss: gloss.11478\n",
            "Context: حيث تستمر المناقشات حول أخلاقيات الذكاء الاصطناعي ., Predicted Gloss: gloss.3019, Correct Gloss: gloss.3018\n",
            "Context: وهي تدل على شخصية واضحة ومحددة بمظهر خارجي صريح يربط بشكل أو بآخر بمعنى القناع الذي كان يلبسه الممثلون الإغريق\" (Mary,2006,p269)., Predicted Gloss: gloss.6879, Correct Gloss: gloss.6876\n",
            "Context: أما الفائدة من هذه المجتمعات للزبائن و المستهلكين هي أن يطّلعوا على تجارب و خبرات باقي المستهلكين مع هذا المنتج أو تلك الخدمة حيث كانت هذه المجتمعات البيئة المثلى لهم لقراءة تجربة غيرهم و الكتابة عن تجاربهم الخاصة لمختلف الشركات و المنتجات و الخدمات و تمكنهم أيضا من اكتشاف خصائص أخرى في منتجاتهم لم يتعرفوا عليها من قبل ., Predicted Gloss: gloss.3145, Correct Gloss: gloss.3137\n",
            "Context: حيث إن الجهاز المناعي يتصدّى لهذه العدوى ويتذكر الجرثومة لمحاربتها مستقبلََا في حال دخولها إلى الجسم،, Predicted Gloss: gloss.515, Correct Gloss: gloss.517\n",
            "Context: وكتاب السجل،, Predicted Gloss: gloss.3077, Correct Gloss: gloss.3074\n",
            "Context: المصادف للفاتح من مارس من كل سنة وذلك بمشاركة نخبة من الباحثين المختصين في الحقل اللغوي واللساني من مختلف الجامعات على المستوى الوطني., Predicted Gloss: gloss.2356, Correct Gloss: gloss.2355\n",
            "Context: تسمية الأميدات تشتق أسماء الأميدات من الاسماء النظامية للاحماض الكاربوكسيلية باستبدال المقطع oic acid بكلمة amide, Predicted Gloss: gloss.3066, Correct Gloss: gloss.3065\n",
            "Context: وعليه \"فالخيال الفاعل هو الذي يموضع العلاقات في نسب جديدة غير التي نراها سائدة ونمطية،, Predicted Gloss: gloss.13610, Correct Gloss: gloss.13608\n",
            "Context: الموافقة على اللائحة المنظمة لأعمال أعوان القضاء بالصيغة المرافقة لهذا القرار., Predicted Gloss: gloss.2226, Correct Gloss: gloss.2225\n",
            "Context: مصداقية المراجعة هي المدى التي يدرك فيها المستهلك محتوى المراجعة على أنّه قابل للتصديق ،, Predicted Gloss: gloss.351, Correct Gloss: gloss.349\n",
            "Context: اعلم ان التاريخ علم يبحث فيه عن معرفة احوال الطوائف وبلدانهم ورسومهم وعاداتهم وصنائعهم وانسابهم ووفياتهم وموضوعه احوال الأشخاص الماضية من الانبياء والاولياء والعلماء والحكماء والشعراء والملوك والسلاطين وغيرهم والغرض منه الوقوف على الاحوال الماضية من حيث هي وكيف كانت وفائدته العبرة بتلك الاحوال والتنصح بها وحصول ملكة التجارب بالوقوف على تغلبات الزمن ليتحرز العاقل عن مثل احوال الهالكين من الامم المذكورة السالفين, Predicted Gloss: gloss.12666, Correct Gloss: gloss.12658\n",
            "Context: - مقابل (6) نلاحظ ان الدرجات اكبر من (65) هي (66,67,69) ناخذ منها مرتبة الاحاد فقط وتكتب (679) ،, Predicted Gloss: gloss.4902, Correct Gloss: gloss.4903\n"
          ]
        },
        {
          "output_type": "stream",
          "name": "stderr",
          "text": [
            "Evaluating:  52%|█████▏    | 2340/4496 [00:04<00:05, 423.65pair/s]"
          ]
        },
        {
          "output_type": "stream",
          "name": "stdout",
          "text": [
            "Context: الغدد الدُّهنية, Predicted Gloss: gloss.1129, Correct Gloss: gloss.1134\n",
            "Context: ينبغي أن يعلمه غيره .., Predicted Gloss: gloss.3708, Correct Gloss: gloss.3706\n",
            "Context: عندمـا فصـل نيكـولاي بتروفيتـش أرضـه مـن أراضـي فلاحيـه ،, Predicted Gloss: gloss.14585, Correct Gloss: gloss.14584\n",
            "Context: تزامن ذلك مع نشرت وكالات الأنباء الدولية لخبر الاعتداء المسلح الذي قامت به \"ميليشيات الشباب الإسلامية\" المتشددة في العاصمة الصومالية مقديشو على مقر الأمم المتحدة هناك،, Predicted Gloss: gloss.15457, Correct Gloss: gloss.15454\n",
            "Context: ثمّ توزيع بعض الدقة عليها ثمّ المرقة الساخنة من أجل أن يتشرب الخبز بها جيداً., Predicted Gloss: gloss.4940, Correct Gloss: gloss.4939\n",
            "Context: وهو يؤثر في الأنف،, Predicted Gloss: gloss.967, Correct Gloss: gloss.959\n",
            "Context: 7 أسئلةٌ من الاختبارات الدّولية .............., Predicted Gloss: gloss.5370, Correct Gloss: gloss.5369\n",
            "Context: نمواً يؤدي إلى تعديل فكرهم وسلوكهم ووجدانهم لتحقيق النتاجات التربوية المنشودة (زيتون،, Predicted Gloss: gloss.10625, Correct Gloss: gloss.10624\n",
            "Context: أرجلهـم كان عليهــم أن يتنّقّلــوا عــدة مــرات بيــن الشــاحنة والبيــت الشــتوي وهــم ينقلــون علــى الزّلّجــات مــا أعــدّوه وأحضـروه مـن حاجـات للصيـد., Predicted Gloss: gloss.12577, Correct Gloss: gloss.12576\n",
            "Context: وبقراءة بسيطة يمكن رصد الدور التنافسي الذي تلعبه أوكرانيا مع روسيا كمصدر أساسي للمواد الغذائية الأساسية ( حبوب ،, Predicted Gloss: gloss.230, Correct Gloss: gloss.227\n",
            "Context: فالعينة الطبقيّة تُخفّضُ من خطأِ المعاينة كما ان العينة الطبقية المستحَصل عليها ( تَقسم المجتمع إلى مجموعاتِ غيرِ متَدَاخُلة) وإطار العينات مستند على عامل او البعضِ من ُ العواملِ وبعد ذلك يتم إخْتياَر بَعْض العناصرِ مِنْ كُلّ طبقة مِنْ الطبقاتِ وتدعى َعينة طبقيّة ،, Predicted Gloss: gloss.5574, Correct Gloss: gloss.5573\n",
            "Context: ومن خلال تناول مفاهيم التراث العمراني نستنتج أن مفهوم التراث العمراني يتضمن عدداً من القضايا الأساسية والتي يمكن أن نختصرها فيما يلي:, Predicted Gloss: gloss.3783, Correct Gloss: gloss.3782\n",
            "Context: ويعرف التراث العمراني بأنه \"وثيقة تاريخية وفنية وجزء من التراث السياسي والروحي والرمزي وهو الحقيقة الثقافية واستمرارها وتعدد مجالات التراث المعماري وتنقسم إلى المحيط البيئي للملكية, والمبنى, والأثاث والمنقولات الداخلية والخارجية\" (الشحات, 2003:, Predicted Gloss: gloss.7206, Correct Gloss: gloss.7205\n",
            "Context: والسـؤال نفسـه انتشـر علـى كل الوجـوه مـن حولهـا:, Predicted Gloss: gloss.5370, Correct Gloss: gloss.5369\n",
            "Context: والمناطق التراثية تعرف بأنها \"تلك المناطق التي تميز بيئة عمرانية متوازية شيدت في عصر تاريخي بحيث تشكل تراث يحفظ جذور الحضارة وسماتها وتعكس أحداث العصر الذي واكبته وتعد هذه البيئة نتاجاً لقيم وأعراف وفلسفة تخطيطية تصل هذه العصور التاريخية بما قبل بتجانس وتكامل واضح\" (الدواخلي, 1996:, Predicted Gloss: gloss.5543, Correct Gloss: gloss.5538\n",
            "Context: وقد حكي أن عمرو بن مسعدة وزير المعتصم قال لما خرج المعتصم من بلاد الروم وصار بناحية الرقة قال لي ويلك يا عمرو لم تزل تخدعني حتى وليت عمر بن الفرج الرخجي الأهواز وقد قعد في سرة الدنيا يأكلها خضما وقضما فقلت يا أمير المؤمنين فأنا أبعث إليه حتى يؤخذ بالأموال ولو على أجنحة الطير قال كلا بل تخرج إليه بنفسك كما أشرت به فقلت لنفسي إن هذه منزلة خسيسة بعد الوزارة أكون مستحثا لعامل خراج ولم أجد بدا من الخروج رضا لأمير المؤمنين فقلت ها أنا خارج إليه بنفسي يا, Predicted Gloss: gloss.13049, Correct Gloss: gloss.13048\n",
            "Context: هذه الحضارة التي عـرفـت أول المـدارس وأول الـمكتبـات وأول الأدب ففـي أدبهـم قصص عـن بداية الخلـق, Predicted Gloss: gloss.7487, Correct Gloss: gloss.7486\n",
            "Context: Rotavirus)‏ غالبََا ما يُصيب الأطفال الرُّضع والصغار بالسن،, Predicted Gloss: gloss.432, Correct Gloss: gloss.430\n",
            "Context: وخاصةً في الوجه والأكتاف وأعلى الصدر والظهر،, Predicted Gloss: gloss.2448, Correct Gloss: gloss.2445\n",
            "Context: وعرفته لجنة المعايير المحاسبية الدولية للقطاع العام بأنه \"الأصول ذات الأهمية النقابية أو البيئية أو التاريخية وتشمل المباني والتماثيل التاريخية والمواقع الجيولوجية والمناطق البيئية لحماية الطبيعة أو المخلوقات والأعمال الفنية حيث تتمتع بالخصائص الأساسية التالية:, Predicted Gloss: gloss.230, Correct Gloss: gloss.227\n",
            "Context: يتسبب بشد عضلي مؤلم جدََا وتيبّس في عضلات الحنك،, Predicted Gloss: gloss.290, Correct Gloss: gloss.289\n",
            "Context: و ما هي الأسُس التي تقوم عليها المنظمة ،, Predicted Gloss: gloss.4894, Correct Gloss: gloss.4896\n",
            "Context: رئيس مجلس الوزراء ووزير الدفاع الشيخ حمد جابر العلي الصباح يستقبل مجموعة من علماء ومشايخ الدين في الكويت رئيس مجلس الوزراء ووزير الدفاع الشيخ حمد جابر العلي الصباح يستقبل مجموعة من علماء ومشايخ الدين في الكويت, Predicted Gloss: gloss.4042, Correct Gloss: gloss.4038\n",
            "Context: ﻧﺠﺢ رواد ﻓﻀﺎء ﻣﻜﻮك اﻟﻔﻀﺎء اﻣﻴﺮﻛﻲ (أتلانتس) ﻓﻲ ﺗﺮﻛﻴﺐ زوج ﺟﺪﻳﺪ ﻣﻦ اﻟﻮاح اﻟﺸﻤﺴﻴﺔ ﺑﺎﻟﻤﺤﻄﺔ اﻟﻔﻀﺎﺋﻴﺔ اﻟﺪوﻟﻴﺔ ﻣﺎ ﺟﻌﻠﻬﺎ ﺗﺒﺪو أﻣﺲ الاول ذات أﺟﻨﺤﺔ ﺟﺪﻳﺪة ﺗﻤﺪﻫﺎ ﺑﻘﺪرات إﺿﺎﻓﻴﺔ ﻟﺘﻮﻟﻴﺪ اﻟﻄﺎﻗﺔ., Predicted Gloss: gloss.9561, Correct Gloss: gloss.9562\n",
            "Context: يضحي الكثير من الهنود بشعر رؤوسهم في المعابد،, Predicted Gloss: gloss.6018, Correct Gloss: gloss.5999\n",
            "Context: فقد طورت مجموعة من الباحثين نموذج رؤية حاسوبي للمساعدة في تحسين دعم قرار أخصائي علم الأمراض لتشخيص أورام الدماغ بشكلٍ أكثر دقة., Predicted Gloss: gloss.3288, Correct Gloss: gloss.3285\n",
            "Context: ان الشكل البياني ابلغ من الكلمات في وصف الظواهر والمتغيرات للظاهرة المدروسة حيث توضح الاشكال بعض خصائص المتغير من وجود اتجاه عام او تاثير موسمي او شكل التوزيع ومدى تماثله وغير ذلك من الخواص وفيما يلي بعض هذة الاشكال ،, Predicted Gloss: gloss.4930, Correct Gloss: gloss.4928\n",
            "Context: ويعتقد الباحثون أن الإشعاع يجعل البشرة الصحية يعاد بناؤها بحيث لا يكون هناك أي ندبة بالجلد ., Predicted Gloss: gloss.6648, Correct Gloss: gloss.6647\n",
            "Context: ونحو ذلك., Predicted Gloss: gloss.2099, Correct Gloss: gloss.2100\n",
            "Context: وفقا لما أعلنته وزارة الدفاع الهولندية., Predicted Gloss: gloss.9190, Correct Gloss: gloss.9187\n",
            "Context: وذلك تَحديَّاً للعُقوبات الجَائرة المَفروضة ضدّ الوطن،, Predicted Gloss: gloss.1317, Correct Gloss: gloss.1318\n",
            "Context: المطلوب حساب الوسط الحسابي بالطرق الممكنة ., Predicted Gloss: gloss.5950, Correct Gloss: gloss.5949\n",
            "Context: وبعد أربع سنوات عانى بيكام من إصابة في مشط القدم ولم يكن لائقا لخوض المباريات حتى أن فريقه خسر أمام البرازيل في دور الثمانية في كأس العالم بكوريا واليابان بعد أن لعب بعشرة لاعبين, Predicted Gloss: gloss.14974, Correct Gloss: gloss.14972\n",
            "Context: ويرد تعريفه في موسوعة (لالاند) على أنه \"نسخ حسي أو ذهني لما أدركه البصر مع أو بدون تركيب جديد للعناصر التي تؤلف هذه الخيلة\" أو أنه \"تمثيل عيني من إنشاء فعالية الفكر،, Predicted Gloss: gloss.14255, Correct Gloss: gloss.14252\n",
            "Context: حتى بدأ اسم الرياض بالبروز الرياض جمع روضة جاء في لسان العرب الروضة الأرض ذات الخضرة والبستان الحسن والموضع يجتمع إليه الماء يكثر نبته, Predicted Gloss: gloss.8778, Correct Gloss: gloss.8763\n",
            "Context: التكرار التجميعي النازل ., Predicted Gloss: gloss.4603, Correct Gloss: gloss.4601\n",
            "Context: نظراً لأهمية التراث العمراني على المستوى الوطني والدولي وما يحمله من قيم ومبادئ تسهم في تعزيز بعض العوامل الثقافية والاجتماعية والاقتصادية داخل المجتمع, نجد مجموعة من المساعي الهادفة التي تضع حماية وبقاء التراث نصب أعينها, Predicted Gloss: gloss.5411, Correct Gloss: gloss.5418\n",
            "Context: وتعد أوكرانيا خامس أكبر مصدر للقمح في العالم وروسيا في المرتبة الأولى ،, Predicted Gloss: gloss.1599, Correct Gloss: gloss.1589"
          ]
        },
        {
          "output_type": "stream",
          "name": "stderr",
          "text": [
            "Evaluating:  54%|█████▍    | 2427/4496 [00:04<00:05, 397.58pair/s]"
          ]
        },
        {
          "output_type": "stream",
          "name": "stdout",
          "text": [
            "\n",
            "Context: خلال الدورة الأخيرة لتظاهرة « موسيقيون من تونس » أقام مركز الموسيقى العربية والمتوسطية خلال شهر ماي الفارط معرضا وثائقيا خاصا بالمسيرة الفنية للراحل محمد الجموسي  ( 1910 وأشار إلى أن جامعة قطر سعت للتوجه إلى الطاقة المتجدّدة للتقليل من الانبعاثات الكربونية وتوفير مصدر طاقة متجدّدة بالإضافة إلى الغاز والبترول المتوفر في الدولة وهذا يتواكب مع ديمومية واستمرارية التطور الاقتصادي  ـ  1982 )  بمناسبة الذكرى المائوية لميلاده وتضمن المعرض لوحات تجمع بين الصور والنصوص, Predicted Gloss: gloss.4792, Correct Gloss: gloss.4791\n",
            "Context: 3-\tكوفيد-19 وآفاق قطاع الشركات 33 تعافٍ غير متوازن في أعقاب أزمة غير مسبوقة 33 الآفاق المستقبلية للشركات وسط تصاعد عدم اليقين 40 إجراءات على صعيد السياسات للتعافي وما بعده \t43, Predicted Gloss: gloss.2639, Correct Gloss: gloss.2637\n",
            "Context: مبادى الاحصاء والاحتمالات, Predicted Gloss: gloss.4585, Correct Gloss: gloss.4584\n",
            "Context: - اذا كان عدد الابناء للاسر في عينة حجمها (30) مسحوبة من مدينة الرمادي كما في الجدول التالي كون جدول تكراري وتكرار تجميعي وتكرار نسبي وتكرار نسبي تجميعي للبيانات التالية, Predicted Gloss: gloss.5210, Correct Gloss: gloss.5209\n",
            "Context: مسـاحتها زهـاء أربعـة هكتـارات ،, Predicted Gloss: gloss.14655, Correct Gloss: gloss.14654\n",
            "Context: لكن كلفةِ إلاجراء تكون معقّدة أكثر اذا ما قَورنتْ بالعينة العشوائيةِ البسيطة ،, Predicted Gloss: gloss.5054, Correct Gloss: gloss.5052\n",
            "Context: مـن الشـائع النظـر إلـى الأوبئـة والجوائـح علـى أنهـا أحـداث؛, Predicted Gloss: gloss.8190, Correct Gloss: gloss.8189\n",
            "Context: فيما ألغت بطريركية الكلدان في العراق والعالم مراسيم احتفالات اعياد الميلاد تضامنًا مع العوائل المسيحية النازحة, Predicted Gloss: gloss.2188, Correct Gloss: gloss.2187\n",
            "Context: يلحق بكل محكمة عدد كافٍ من أعوان القضاء،, Predicted Gloss: gloss.4219, Correct Gloss: gloss.4217\n",
            "Context: أمّا التقاليد فيمكن القول إنّها تعبّر عن كلّ ما يرتبط بالماضي،, Predicted Gloss: gloss.4777, Correct Gloss: gloss.4775\n",
            "Context: وهو علم يُعنى بالفصاحة والبيان عند المتكلم من حيث تأديته للمعنى المراد،, Predicted Gloss: gloss.12286, Correct Gloss: gloss.12284\n",
            "Context: تمارس وزارة الداخلية ( ومن ثم رئاسة أمن الدولة بعد مباشرتها لمهامها ) اختصاص التحقيق في الجرائم المنصوص عليها في نظام مكافحة جرائم الإرهاب وتمويله إلى حين توافر الإمكانات اللازمة للنيابة العامة لمباشرة اختصاصاتها وفق ما تتفق عليه مع رئاسة أمن الدولة ،, Predicted Gloss: gloss.5456, Correct Gloss: gloss.5457\n",
            "Context: و أشرقت شمس الحق بنور التوحيد ،, Predicted Gloss: gloss.4354, Correct Gloss: gloss.4345\n",
            "Context: يمثل التراث العمراني الأداة الرئيسية لنقل القيم والقواعد المشتركة والتواصل بين الماضي والحاضر وتعزيز الهوية الوطنية للشعوب, Predicted Gloss: gloss.2218, Correct Gloss: gloss.2219\n",
            "Context: أن أقــدّم إليــك صديقــي الطيــب “ بــازاروف ” الــذي كتبــت لــك عنــه الكثيـر ،, Predicted Gloss: gloss.1864, Correct Gloss: gloss.1860\n",
            "Context: وعلى مستوى الإطار القانوني ـ يقول الوزيرـ تمت صياغة مدونة للاستثمار شملت العديد من الضمانات والمزايا والحوافز للمستثمرين ،, Predicted Gloss: gloss.536, Correct Gloss: gloss.537\n",
            "Context: الإحصاء كموضوع له تاريخ طويل جداً حيث إنّ أصلَ الإحصاء يُشارُ إليه مِن قِبل الكلمة نفسها والتي تَبْدو بأنها إشتقّتْ أمّا مِنْ الكلمةِ اللاتينيةِ أَو مِنْ الكلمةِ الإيطاليةِ 'Statista' أَو قَدْ يَكُون مِنْ الكلمةِ الألمانيةِ ' Statistik ' وإنّ معنى كُلّ هذه الكلماتِ تدل على الحالة السياسية ('political state') ., Predicted Gloss: gloss.290, Correct Gloss: gloss.289\n",
            "Context: كما تمنح رواياته صوتا أدبيا مسموعا يتجاوز مداه القارة السمراء ،, Predicted Gloss: gloss.14523, Correct Gloss: gloss.14522\n",
            "Context: والابتداء في الشعر أول جزء من المصراع الثاني, Predicted Gloss: gloss.15172, Correct Gloss: gloss.15169\n",
            "Context: كَما دَعا الإِسْلامِ إِلَى الغُسْل وَالاِسْتِحْمام مَرَّةً فِي الأُسْبُوعَ عَلَى الاقل،, Predicted Gloss: gloss.14783, Correct Gloss: gloss.14780\n",
            "Context: وهو أحد تقنيات التعلم الآلي،, Predicted Gloss: gloss.3547, Correct Gloss: gloss.3545\n",
            "Context: يقصد بأعوان القضاء:, Predicted Gloss: gloss.4219, Correct Gloss: gloss.4217\n",
            "Context: على المواطنين جميعهم أن يساهموا في الدفاع عن الوطن, Predicted Gloss: gloss.9190, Correct Gloss: gloss.9188\n",
            "Context: توجهت الأبحاث العلمية في الآونة الأخيرة إلى موضوع التصاميم المستوحاة من المخلوقات في الطبيعة وخاصة في مجال العلوم الهندسية والعلوم التقنية., Predicted Gloss: gloss.2448, Correct Gloss: gloss.2445\n",
            "Context: مع الكثير من أراضيها المتبقية من الأراضي الصالحة للزراعة., Predicted Gloss: gloss.7124, Correct Gloss: gloss.7121\n",
            "Context: وتَمَّ تَقديم دِراسةٍ مَرجعيَّة في هَذا البحثِ لَمْ تَكُنْ مَوجودةً بِشكلٍ تَوضيحيٍّ لِتنفيذِ خَطِّ إنتاجٍ مُراعيَةً الظُّرُوف المَحليَّة،, Predicted Gloss: gloss.3552, Correct Gloss: gloss.3550\n",
            "Context: اما التاريخ الميلادي فهو التاريخ الذي اتخذ من ميـلاد المسيح عيسى بن مريم) ›( بداية له وعرف ) بالتاريخ الميلادي ( ويرمز له بالحرف ) م ( ويسمى تاريخ السنين التي تسبق التاريخ الميلادي بتاريخ ) قبـل الميلاد ( ويرمز له, Predicted Gloss: gloss.1290, Correct Gloss: gloss.1287\n",
            "Context: وجعل المسلمون شهر محرم بداية للسنة الهجرية لانه أول الشهور العربية منذ زمن قديم والسنة الاولى من الهجرة تقابلها سنة 226 من التاريخ الميلادي ., Predicted Gloss: gloss.7794, Correct Gloss: gloss.7792\n",
            "Context: متوسط السعر ،, Predicted Gloss: gloss.1611, Correct Gloss: gloss.1614\n",
            "Context: رسالة علمية أعدت لنيل درجة الماجستير في الهندسة الزراعية- اختصاص إنتاج حيواني (أسماك), Predicted Gloss: gloss.2323, Correct Gloss: gloss.2322\n",
            "Context: Bowley) إلاحصائيات عبارة عن حقائقَ عدديةَ في أيّ قسم يتعلق بعضها بالبعض الاخر ., Predicted Gloss: gloss.1344, Correct Gloss: gloss.1337\n",
            "Context: (مشرف رئيس) ( مشرف مشارك), Predicted Gloss: gloss.4042, Correct Gloss: gloss.4038\n",
            "Context: ونتناول فيما يلي مفهوم التراث العمراني وتصنيفه, وبعد ذلك نتناول الحفاظ عليه من خلال توضيح مفهوم وسياسات الحفاظ, ونتناول أيضاً أهميته والتحديات التي يواجهها, وأخيراً نتناول قوانين الحفاظ على التراث العمراني بشئ من الإيضاح., Predicted Gloss: gloss.3783, Correct Gloss: gloss.3782\n",
            "Context: ثم انتقلت إلى تطبيق قواعد التحليل على الاحاديث الشريفة.., Predicted Gloss: gloss.2956, Correct Gloss: gloss.2955\n",
            "Context: وأحاول تحليل هذهِ الأحاديث؛, Predicted Gloss: gloss.3434, Correct Gloss: gloss.3433\n"
          ]
        },
        {
          "output_type": "stream",
          "name": "stderr",
          "text": [
            "Evaluating:  57%|█████▋    | 2559/4496 [00:04<00:03, 518.73pair/s]"
          ]
        },
        {
          "output_type": "stream",
          "name": "stdout",
          "text": [
            "Context: ووضعها في كيان واحد متسق ومتآلف بحيث يؤدي تنفيذه إلى تحقيق الغايات التي وضع من أجلها (السويدي،, Predicted Gloss: gloss.8354, Correct Gloss: gloss.8353\n",
            "Context: ارتحلت قبيلة بني حنيفة من أطرافِ الحجاز وعالية نجد وسبقهم عبيد بن ثعلبة الحنفي حتى نزل في قارات الحُبل, Predicted Gloss: gloss.6057, Correct Gloss: gloss.6055\n",
            "Context: يعيش \"كوكو\" (كسيلة مصطفى) في عالم بوهيمي خاص به تميزه الحرية والموسيقى والأحلام والآمال والأحاسيس المرهفة ومساعدة النساء ما يجعله محل رفض من رجال القرية الذين يصفونه بالجنون غير أنه يلقى السند من أخيه \"محمود\" (محمد لفقير), أستاذ الثانوية الذي يعشق الشعر والفلسفة ويكره الظلم والتقاليد البالية., Predicted Gloss: gloss.1050, Correct Gloss: gloss.1049\n",
            "Context: الإحصائيات تجمّع بطريقةٍ منظّمة ولغرض محدد مسبقا ., Predicted Gloss: gloss.1290, Correct Gloss: gloss.1287\n",
            "Context: أو أولئك الذين توقفت إقامتهم في إحدى الدول الأعضاء في الاتحاد الأوروبي للمدة الزمنية نفسها؛, Predicted Gloss: gloss.7550, Correct Gloss: gloss.7548\n",
            "Context: ١١٥ معلومات استهلاك الوقود., Predicted Gloss: gloss.6839, Correct Gloss: gloss.6838\n",
            "Context: ويُعدّ المحتوى المعرفيّ عنصراً أساسياً في تصميم المنهاج،, Predicted Gloss: gloss.230, Correct Gloss: gloss.227\n",
            "Context: نجد أنّ الرسّام استطاع رسم لوحاتٍ لا يمكن تمييزها عن لوحات دافينشي الحقيقية., Predicted Gloss: gloss.3258, Correct Gloss: gloss.3256\n",
            "Context: بل ظاهرةً اجتماعيةً متكرِّرةً مع ظروف أو أسباب مختلفة ومتنوعة بين الأماكن التي شهدت موجات الهجرة في بلد المنشأ أو الأماكن التي استقبلت هذه الموجات في بلد الوصول., Predicted Gloss: gloss.8841, Correct Gloss: gloss.8828\n",
            "Context: فَإِن قلت هَذَا الْكَلَام يُشِير إِلَى أَن هَذِه الْعُلُوم لَهَا ظواهر وأسرار وَبَعضهَا جلي يَبْدُو أَولا وَبَعضهَا خَفِي يَتَّضِح بالمجاهدة والرياضة والطلب الحثيث والفكر الصافي والسر الْخَالِي عَن كل شَيْء من أشغال الدُّنْيَا سوى الْمَطْلُوب وَهَذَا يكَاد يكون مُخَالفا للشَّرْع إِذْ لَيْسَ للشَّرْع ظَاهر وباطن وسر وعلن, Predicted Gloss: gloss.4930, Correct Gloss: gloss.4928\n",
            "Context: بخصوص الأوقاف قال الوزير عند استلامنا وجدنا إشكاليات كثيرة في الاوقاف لعدم معرفة الناس بالأوقاف والمستغرب فيه أن الأجداد اهتموا به وأول وقف في السودان مع دخول الإسلام بمسجد دنقلا العجوز في مدينة دنقلا ثم انتشر الوقف في جميع نواحي السودان بعد انتشار الإسلام بل انتقل السودانيين من الأوقاف داخليا للخارج بالسعودية ومصر., Predicted Gloss: gloss.5792, Correct Gloss: gloss.5789\n",
            "Context: بعد إتمام التمرين تم تقييم كل المجموعات مرة أخرى على تحضير تجويف الفئة الأولى للحشوات من قبل اثنين من المشرفين على أساس خطوات مفصلة أعطت للطلبة قبل بداية تحديد المستوى والإعداد الاخير لتجاويف الأسنان., Predicted Gloss: gloss.1599, Correct Gloss: gloss.1589\n",
            "Context: ناهيك عن عزوف الكثير من المزارعين في المناطق الجنوبية عن زراعة القمح والشعير،, Predicted Gloss: gloss.7124, Correct Gloss: gloss.7122\n",
            "Context: دليلك عليه مأخذان الأول :, Predicted Gloss: gloss.13093, Correct Gloss: gloss.13091\n",
            "Context: تغلب الشاب على التحديات التي واجهها في حياته, Predicted Gloss: gloss.204, Correct Gloss: gloss.200\n",
            "Context: وبِسُرعةِ إنتاجٍ جَيدِّةٍ،, Predicted Gloss: gloss.6990, Correct Gloss: gloss.6984\n",
            "Context: يتيح لنا التلسكوب رؤية الكواكب والنجوم عن قرب, Predicted Gloss: gloss.279, Correct Gloss: gloss.278\n",
            "Context: على الرغم من أن العديد من الحوادث التي ساهمت في حدوث ال techlash هي مشكلات ناجمة عن مزيج من المصلحة الذاتية للشركات والغياب المزعج للحوكمة والمساءلة ،, Predicted Gloss: gloss.3925, Correct Gloss: gloss.3923\n",
            "Context: 1 عصور ما قبل التاريخ وعصور ما قبل التاريخ, Predicted Gloss: gloss.7159, Correct Gloss: gloss.7157\n",
            "Context: ومرتبة (7) ظهرت مرتان لان بعض درجات مرتبة عشرات (7) اقل من (75) والمتبقي منها اكبر او تساوي (75) وبنفس الاسلوب لمرتبة عشرات (8) و (9) ., Predicted Gloss: gloss.5874, Correct Gloss: gloss.5873\n",
            "Context: “إذا ذهبـت فـي هـذا الطقـس لقضـاء حاجتـك بيـن الشـجيرات،, Predicted Gloss: gloss.2908, Correct Gloss: gloss.2907\n",
            "Context: وتقام في الرياض سنويًا عدد من المهرجانات والأحداث الثقافية والترفيهية, Predicted Gloss: gloss.8666, Correct Gloss: gloss.8663\n",
            "Context: قدّمت هذه الرّسالة, Predicted Gloss: gloss.2351, Correct Gloss: gloss.2349\n",
            "Context: قد تكون التجربة قابلة للتفسير بقدر يمكنك من أن ترى ما تفعله،, Predicted Gloss: gloss.3666, Correct Gloss: gloss.3665\n",
            "Context: تربط الهندسة التحليلية بين الجبر والهندسة،, Predicted Gloss: gloss.11829, Correct Gloss: gloss.11828\n",
            "Context: وبافتراض اختيار المتغيرات ( سعر الافتتاح ،, Predicted Gloss: gloss.5245, Correct Gloss: gloss.5244\n",
            "Context: وعليه \"فالخيال الفاعل هو الذي يموضع العلاقات في نسب جديدة غير التي نراها سائدة ونمطية،, Predicted Gloss: gloss.2532, Correct Gloss: gloss.2534\n",
            "Context: وحتـى فـي هـذه المياديـن ظلـت الحـرب محاطـة بإبهامـات عديـدة., Predicted Gloss: gloss.10267, Correct Gloss: gloss.10266\n",
            "Context: تبين أن هناك توافقاً جيداً وتم حساب متوسط (عدد Nusselt) ضمن التجويف في حال كان السطح الأيمن أملس أو مخشناً بشكل مثلثي أو دائري لمراقبة آثار تخشين السطح على انتقال الحرارة., Predicted Gloss: gloss.13209, Correct Gloss: gloss.13207\n",
            "Context: فهـي تأتـي وتذهـب., Predicted Gloss: gloss.8989, Correct Gloss: gloss.8992\n",
            "Context: مواصليـن الاعتقـاد بأطروحـة “الجزائـر الفرنسـيّة” ومنـذ عهـد قريـب فقـط صـار يُشـار إليهـا باعتبارهـا حربـًاً خاضهـا الجزائريـون ضـد نظـام وحضـور اسـتعماريين., Predicted Gloss: gloss.9394, Correct Gloss: gloss.9393\n",
            "Context: الأمر الذي يجعل التجار يخشون أن تؤثر الحرب الحالية على حركة الحبوب،, Predicted Gloss: gloss.8118, Correct Gloss: gloss.8088\n",
            "Context: وكان واقفـًاً علـى مسـافة قليلـة مـن الجمـع يتلمـس شـيئًاً مـا فـي جيـب سـترته., Predicted Gloss: gloss.10401, Correct Gloss: gloss.10400\n",
            "Context: 3- بالتطليق من طرف القاضي بطلب المرأة أو تطليقا يجعله الزوج بيد الزوجة., Predicted Gloss: gloss.12802, Correct Gloss: gloss.12801\n",
            "Context: الكويت - 16 - 1 (كونا) -- استقر سعر صرف الدولار الأمريكي أمام الدينار الكويتي اليوم الاحد عند مستوى 302ر0 دينار في حين انخفض سعر صرف اليورو إلى 344ر0 دينار مقارنة بأسعار يوم الخميس الماضي., Predicted Gloss: gloss.4992, Correct Gloss: gloss.4991\n",
            "Context: كالكهرباء وشبكات المياه والهاتف والغاز والصرف الصحي والخطوط الحديدة والطرق العامة ونحوها،, Predicted Gloss: gloss.3278, Correct Gloss: gloss.3271\n",
            "Context: ليست أطيب عطراً من حبيبته وقد تبخرت بعود المندل ., Predicted Gloss: gloss.12159, Correct Gloss: gloss.12158\n",
            "Context: أمكن أن يفهم السامع غير الذي أراده القائل،, Predicted Gloss: gloss.3355, Correct Gloss: gloss.3357\n",
            "Context: أظهرت النتائج عدم قلب التربة عند استخدام المحراث الحفار العادي بحيث بقيت البودرة البيضاء على سطح التربة بعد الحراثة ،, Predicted Gloss: gloss.12026, Correct Gloss: gloss.12024\n",
            "Context: جمعية القرآن الكريم) وهذه الإدارات مجتمعة تقدم الخدمات التي يحتاجها الإنسان في السودان كل في تخصصه وتنتشر الوزارة وفروعها وإداراتها ومجالسها في جميع ولايات السودان ولكل إدارة من هذه الإدارات أهداف ومجالس أمناء وخطط وبرامج وإنجازات ورسالة., Predicted Gloss: gloss.4035, Correct Gloss: gloss.4032\n",
            "Context: وهو يعمل على تثبيت أركانه وتطوير عناصره وتقاناته،, Predicted Gloss: gloss.14438, Correct Gloss: gloss.14431\n",
            "Context: أمير المؤمنين قال فضع يدك على رأسك واحلف أنك لا تقيم ببغداد ففعلت وأحدثت عهدا بإخواني ومنزلي وأتي إلي بزورق ففرش لي فيه ومضيت حتى إذا صرت بين دير هرقل ودير العاقول إذا شاب على الشط يقول يا ملاح رجل غريب يريد دير العاقول فاحملني يأجرك الله, Predicted Gloss: gloss.13069, Correct Gloss: gloss.13067\n"
          ]
        },
        {
          "output_type": "stream",
          "name": "stderr",
          "text": [
            "Evaluating:  59%|█████▉    | 2666/4496 [00:05<00:03, 489.54pair/s]"
          ]
        },
        {
          "output_type": "stream",
          "name": "stdout",
          "text": [
            "Context: التطعيم ضد الالتهاب الكبدي (ب) (الجرعة الصفرية):, Predicted Gloss: gloss.1706, Correct Gloss: gloss.1703\n",
            "Context: والقسم الأول هو الاعتدال الذي للإنسان بالقياس إلى سائر الكائنات وهو شيء له عرض وليس منحصرا في حد وليس ذلك أيضا كيف اتفق بل له في الإفراط والتفريط حدان إذا خرج عنهما بطل المزاج عن أن يكون مزاج إنسان ., Predicted Gloss: gloss.3438, Correct Gloss: gloss.3437\n",
            "Context: على المستوى القطاعي،, Predicted Gloss: gloss.4992, Correct Gloss: gloss.4991\n",
            "Context: وظهــرت غرفـة مظلمـة،, Predicted Gloss: gloss.12634, Correct Gloss: gloss.12633\n",
            "Context: أتقدم بالشكر لرئاسة جامعة تشرين ممثلة بالأستاذ الدكتور بسام حسن رئيس الجامعة, Predicted Gloss: gloss.10216, Correct Gloss: gloss.10213\n",
            "Context: وُصف هذا المرض أيضًا في القطط،, Predicted Gloss: gloss.6651, Correct Gloss: gloss.6649\n",
            "Context: والذي نص في الفقرة (4) من البند (أولاً) منهما على (يلغي هذا النظام الأحكام الواردة في نظام تركيز مسؤوليات القضاء الشرعي،, Predicted Gloss: gloss.4219, Correct Gloss: gloss.4217\n",
            "Context: من الأمور المهمة التي ينبغي الشخص أن يفعلها قبل حلول رمضان أن يتفقه في أحكام الصيام وما يتعلق [بشروطه وآدابه وسننه وما يجب وما لا يجب إلى غير ذلك] حتى يهيئ نفسه لاستقبال, Predicted Gloss: gloss.3755, Correct Gloss: gloss.3753\n",
            "Context: \" بعد ذلك سأقوم بتلوين كل رأس زاوية من زوايا الغرفة باستعمال ثلاثة ألوان فقط ـ الأحمر والأصفر والأزرق مثلا ـ بحيث تكون رؤوس كل مثلث ملونة بألوان مختلفة ., Predicted Gloss: gloss.5732, Correct Gloss: gloss.5719\n",
            "Context: و أيَُ الهياكل التنظيمية إذا ما تم استخدامها في موقف مُعين سيزيد من تطوير و تحسين فاعلية المنظمة ., Predicted Gloss: gloss.3094, Correct Gloss: gloss.3089\n",
            "Context: تمت الترجمة والتحرير اللغوي والجمع التصويري في شعبة اللغة العربية إدارة الخدمات المؤسسية والمنشآت،, Predicted Gloss: gloss.206, Correct Gloss: gloss.205\n",
            "Context: العصور القديمة, Predicted Gloss: gloss.7159, Correct Gloss: gloss.7157\n",
            "Context: مقارنة فعالية علاج وردية الوجه بالإيزوتريتينوئين الجهازي مع الدوكسيسيكلين \"لم يسبق أن قبلت لأي شهادة أخرى , ولا هي مقدمة حاليًا للحصول على شهادة أخرى ., Predicted Gloss: gloss.2366, Correct Gloss: gloss.2358\n",
            "Context: إلا أن انفجار المحركات البخارية سبب مشكلة حقيقية حيث إن الاجهادات التي كانت تتعرض لها المعادن لم تكن مدروسة بشكل جيد حينها ،, Predicted Gloss: gloss.15688, Correct Gloss: gloss.15687\n",
            "Context: حصلت تونس على استقلالها تحت قيادة الحبيب بورقيبة،, Predicted Gloss: gloss.7236, Correct Gloss: gloss.7234\n",
            "Context: حق الإضراب مضمون., Predicted Gloss: gloss.3268, Correct Gloss: gloss.3267\n",
            "Context: فقد تم القضاء عليها بالكامل وبعض الأمراض الأخرى قاربت على الاختفاء،, Predicted Gloss: gloss.785, Correct Gloss: gloss.782\n",
            "Context: {وَأَنْزَلْنَا مِنَ السَّمَاءِ مَاءً طَهُورًا} [الفرقان:, Predicted Gloss: gloss.752, Correct Gloss: gloss.733\n",
            "Context: بعض الاساسيات الاحصائية ،, Predicted Gloss: gloss.4585, Correct Gloss: gloss.4584\n",
            "Context: ُتُطــل المنــارة علــى البحـر., Predicted Gloss: gloss.7115, Correct Gloss: gloss.7106\n",
            "Context: لا تمتلك معظم الحيوانات قدرات عقلية مثل البشر, Predicted Gloss: gloss.1237, Correct Gloss: gloss.1235\n",
            "Context: فقد قسم دستور عام 1925 العراق إلى مناطق إدارية وأوجب تعيين هذه المناطق وأنواعها وأسماؤها وكيفية تأسيس واختصاص موظفيها وألقابهم بقانون خاص., Predicted Gloss: gloss.1329, Correct Gloss: gloss.1327\n",
            "Context: يتفق الباحثون أن جزيرة العرب هي الموطن الأول للساميين أي أبناء سام بن نوح وأن منطقة نجد هي الموطن الأول للجنس السامي ومنها انطلقت الهجرات السامية القديمة إلى أطراف الجزيرة العربية؛, Predicted Gloss: gloss.2902, Correct Gloss: gloss.2903\n"
          ]
        },
        {
          "output_type": "stream",
          "name": "stderr",
          "text": [
            "Evaluating:  61%|██████▏   | 2763/4496 [00:05<00:04, 430.51pair/s]"
          ]
        },
        {
          "output_type": "stream",
          "name": "stdout",
          "text": [
            "Context: والتظلم من قرارات اللجان والأجهزة الإدارية الصادرة بشأنها- على حالات نزع ملكية العقارات للمنفعة العامة السابقة لنفاذه التي وردت أو ترد بها شكاوى بعدم اتباع الإجراءات النظامية بشأنها،, Predicted Gloss: gloss.8858, Correct Gloss: gloss.8857\n",
            "Context: حيثُ تفرز كمياتٍ زائدة من الدُهْن., Predicted Gloss: gloss.6099, Correct Gloss: gloss.6098\n",
            "Context: كما أتقدم بخالص شكري وأمتناني إلى عمادة كلية الهندسة التقنية ممثلة بالدكتورة ميساء شاش لما قدمته وما زالت تقدمه لي ولكامل زملائي في الكلية من دعم وتشجيع للمضي بشعلة العلم والمعرفة في وطننا الحبيب, وأشكر العمادة لإتاحة الفرصة لي لإكمال دراستي هذه والتي كان لها الفضل بتذليل المصاعب التي واجهتني, كما وأشكر أعضاء الهيئة التعليمية في الكلية وفي قسم المكننة الزرعية على كامل الدعم وعلى النصائح والإرشادات التي قدموها لي لإغناء هذا البحث., Predicted Gloss: gloss.15847, Correct Gloss: gloss.15846\n",
            "Context: الإعلان الدستوري لتنظيم قواعد الحكم خلال المرحلة الانتقالية في اليمن\t25, Predicted Gloss: gloss.5347, Correct Gloss: gloss.5344\n",
            "Context: أظهرت النتائج عدم قلب التربة عند استخدام المحراث الحفار العادي بحيث بقيت البودرة البيضاء على سطح التربة بعد الحراثة ،, Predicted Gloss: gloss.2693, Correct Gloss: gloss.2669\n",
            "Context: وأعلن فيه أن تلك الفكرة لن تنجح،, Predicted Gloss: gloss.13808, Correct Gloss: gloss.13807\n",
            "Context: -\tيوجد عليها قيود تشريعية لتحد من حرية المُلاَّك في التصرف بها., Predicted Gloss: gloss.4107, Correct Gloss: gloss.4101\n",
            "Context: السيد رئيس الحكومة شخص الداء دون أن يشير إلى إمكانيات العلاج.., Predicted Gloss: gloss.9308, Correct Gloss: gloss.9307\n",
            "Context: ومن اعتمد على جواهر الألفاظ ولم يحم حول ما قصدناهُ تكثر اعتراضاته ويعز علينا مرضاته., Predicted Gloss: gloss.3006, Correct Gloss: gloss.3002\n",
            "Context: \" يَعْنِي رِيحَ الصَّبَا أُرْسِلَتْ عَلَى الْأَحْزَابِ يَوْمَ الْخَنْدَقِ حَتَّى كَفَأَتْ قُدُورَهُمْ عَلَى أَفْوَاهِهَا وَنَزَعَتْ فَسَاطِيطَهُمْ حَتَّى أَظْعَنَتْهُمْ {وَجُنُودًا لَمْ تَرَوْهَا} [الأحزاب:, Predicted Gloss: gloss.6675, Correct Gloss: gloss.6656\n",
            "Context: والآخر خاص ببيان الإجراءات التي تتبع في رفع الدعوى للمحكمة المختصة بالنظر والفصل فيها, Predicted Gloss: gloss.1310, Correct Gloss: gloss.1311\n",
            "Context: ويجبُ عليه حفظ لسانه من الفحشاء والمنكر والكلام القبيح وأيمان الطلاق،, Predicted Gloss: gloss.15234, Correct Gloss: gloss.15233\n",
            "Context: ولا يرى أهل الكمال أننا نستعمل الهزل في معرض الجد تهجيناً للأفكار وإضاعة للمعارف وإنما التزمنا هذه الطريقة لميل النفوس إليها وليرى كل قسم من العلماء والأدباء والعقلاء والعوام ما يحبه ويرضاه فما القصد إلا أن تكون الخدمة عامة ينتفع بها الخاص والعام ومن تأمل هذا المشرب وجده دقيقاً رقيقاً مفيداً., Predicted Gloss: gloss.9973, Correct Gloss: gloss.9968\n",
            "Context: وتعتبر العاصمة السعودية إحدى أسرع مدن العالم توسعًا فخلال نصف قرن من نشأتها اتسعت مساحة المدينة الصغيرة إلى كيلو متر مربع حتى بلغت كم في الوقت الحاضر اكتسبت الرياض أهمية تاريخية وسياسية وتجارية منذ أن كانت مدينة قديمة وعاصمة لإقليم اليمامة تسمى حجر وبعد مرور عام على اختيارها كعاصمة للدولة السعودية الثانية ثم الثالثة كانت الرياض ومازالت مسرحا للعديد من الأحداث السياسية والاقتصادية والثقافية حيث نالت لقب عاصمة الثقافة العربية في عام وعاصمة الإعلام العربي في واستضافت العديد من المؤتمرات والقمم المحلية والخليجية والعربية والعالمية كانت آخرها قمة الرياض والقمة الخليجية, Predicted Gloss: gloss.8571, Correct Gloss: gloss.8570\n",
            "Context: الموافقة على نظام مكافحة جرائم الإرهاب وتمويله ،, Predicted Gloss: gloss.3100, Correct Gloss: gloss.3102\n",
            "Context: وقد جاءتنا رسائل شتى في الموضوع البلدي سندرج منها في العدد الآتي ما يناسب مشرب الجريدة كما جاءَتنا كتب كثيرة باستحسان هذا المشرب وبعض كتب تطلب جعل الكلام البلدي جريدة مستقلة فرأينا الرأي العام يستحسن ما عليه الجريدة الآن فالتزمناه فإن تكثر الفريق الثاني وصار صاحب الأغلبية أريناهُ رأينا إذ ذاك فليتفضل بقبول ما نقدمه إليه من جد وهزل موافقة للجانبين ونحن للجميع من الشاكرين على سعيهم خلف الآداب وحبهم في المحسنات الوطنية., Predicted Gloss: gloss.5068, Correct Gloss: gloss.5069\n",
            "Context: والعائلة في خصائصها الأساسية صورة مصغرة عن المجتمع فالقيم التي تسودها من سلطة وتبعية وقمع هي نفسها التي تسود العلاقات الاجتماعية., Predicted Gloss: gloss.2188, Correct Gloss: gloss.2187\n",
            "Context: وبِسببِ حرصِ المُؤسَّسة على إدخالِ وَسائلِ التَّحكُّم الحَديثة وبِشكلٍ خَاصّ الخُبرات المَحليَّة المُتوفِّرة لديها،, Predicted Gloss: gloss.6994, Correct Gloss: gloss.6993\n",
            "Context: إن مهنة الفرد هي مصدر رزقه وعيشه ووسيلته لدخول الحياة العملية،, Predicted Gloss: gloss.812, Correct Gloss: gloss.814\n",
            "Context: العينة الطبقيّة (stratiﬁed sample ), Predicted Gloss: gloss.5556, Correct Gloss: gloss.5555\n",
            "Context: وفي نوفمبر استضافت وترأست قمة العشرين الرياض واجهة السعودية السياسية والاقتصادية حيث تحتوي على مقرات المؤسسات السيادية في الدولة كمجلسي الوزراء والشورى إضافة للوزارات والهيئات الحكومية والعسكرية وهي عبارة عن مركز مالي حيوي يضم هيئة السوق المالية والسوق المالية السعودية ومقرات المصارف وشركات الاستثمار يقدر الناتج المحلي للرياض بـ مليار ريال, Predicted Gloss: gloss.8312, Correct Gloss: gloss.8311\n",
            "Context: ثــم عــادت أفكارهـا إلـى قريتهـا الأم وأيـام شـبابها., Predicted Gloss: gloss.4784, Correct Gloss: gloss.4785\n"
          ]
        },
        {
          "output_type": "stream",
          "name": "stderr",
          "text": [
            "Evaluating:  64%|██████▎   | 2858/4496 [00:05<00:03, 421.19pair/s]"
          ]
        },
        {
          "output_type": "stream",
          "name": "stdout",
          "text": [
            "Context: والذي نص في الفقرة (4) من البند (أولاً) منهما على (يلغي هذا النظام الأحكام الواردة في نظام تركيز مسؤوليات القضاء الشرعي،, Predicted Gloss: gloss.3100, Correct Gloss: gloss.3102\n",
            "Context: بعد أن يرسموا على بطونهم وجه النمر،, Predicted Gloss: gloss.2282, Correct Gloss: gloss.2271\n",
            "Context: اما في المالية كُلّ الاسهم المدرجةَ في سوق العراق للاوراق الماليةِ تمثل المجتمع وان اي مجموعة جزئية مكونة من (4) اسهم لشركات متداولة فردية اختيرت بشكل عشوائي مِنْ هذه التبادلاتِ سَتَكُونُ العيّنة ،, Predicted Gloss: gloss.3555, Correct Gloss: gloss.3554\n",
            "Context: والعمل على تشجيع الاستثمار ونشر ثقافة الاستثمار نحو مزيد من ثقافة اقتصاد السوق وتفعيل الشراكة بين القطاعين العام والخاص حيث لم يرتق الاخير للقيام بدوره, Predicted Gloss: gloss.1411, Correct Gloss: gloss.1409\n",
            "Context: لا تنتهك سرية المراسلات, Predicted Gloss: gloss.14914, Correct Gloss: gloss.14913\n",
            "Context: إذ يعد الطفل المصدر الرئيس في إنتاج تلك العلامات السائدة في الواقع., Predicted Gloss: gloss.3307, Correct Gloss: gloss.3306\n",
            "Context: فان فاتته البشارة استحب له تهنئته والفرق بينهما إن البشارة إعلام له بما يسره والتهنئة دعاء له بالخير فيه, Predicted Gloss: gloss.14947, Correct Gloss: gloss.14946\n",
            "Context: الاحتمالات والاحصاء الرياضي ( بعض التوزيعات المتقطعة ( توزيع ثنائي الحدين توزيع برنولي ،, Predicted Gloss: gloss.4732, Correct Gloss: gloss.4731\n",
            "Context: الفرق بين إمكانية الشرح وقابلية التفسير لتعلم الآلة, Predicted Gloss: gloss.7963, Correct Gloss: gloss.7962\n",
            "Context: الإباء شدة الامتناع وكل إباء امتناع ولا عكس ورجل أبي يأبى تحمل الضيم, Predicted Gloss: gloss.15117, Correct Gloss: gloss.15116\n",
            "Context: اما اذا كانت قيمة المشاهدة واقعة خارج المجال التالي, Predicted Gloss: gloss.5792, Correct Gloss: gloss.5789\n",
            "Context: وأقاموا حضارة عظيمة قدمت للبشرية افضل القيم والمبادئ والتنظيمات والعلوم والفنون والأداب وخلال تلك الفترة تبين مدى تطبيق الدين الاسلامي لمبادئ حقوق الانسان في المساواة والعدل والحرية ., Predicted Gloss: gloss.8261, Correct Gloss: gloss.8260\n",
            "Context: فهي قادرة على مراقبة سطح الكرة الأرضية وباطنها،, Predicted Gloss: gloss.6258, Correct Gloss: gloss.6259\n",
            "Context: •\tالقانون الدولي\tوتعتبر الجمهورية العربية السورية السلم والأمن الدوليين هدفاً أساسياً وخياراً استراتيجياً تعمل على تحقيقهما في ظل القانون الدولي وقيم الحق والعدالة., Predicted Gloss: gloss.9126, Correct Gloss: gloss.9124\n",
            "Context: وقد يكون الخيار الأمثل والمتاح لنا أن نحاول فهم الحيوانات من منظورنا البشري لكن بطريقة خاضعة للنقد (4)., Predicted Gloss: gloss.3434, Correct Gloss: gloss.3433\n",
            "Context: أيها الأخوة الأحبة:, Predicted Gloss: gloss.1837, Correct Gloss: gloss.1840\n",
            "Context: التربة الخصبة \t7, Predicted Gloss: gloss.12026, Correct Gloss: gloss.12024\n",
            "Context: لقد سمى الله عز وجل رابطة الزواج بالميثاق الغليظ دلالة على قوة هذه الرابطة وعظم أحكامها،, Predicted Gloss: gloss.12289, Correct Gloss: gloss.12288\n",
            "Context: ولا ينزع ملك أحد إلا لأجل النفع العام في الأحوال وبالطريقة التي يعينها القانون،, Predicted Gloss: gloss.4123, Correct Gloss: gloss.4124\n",
            "Context: لماذا نفتش عن علة للوجوه ؟, Predicted Gloss: gloss.2282, Correct Gloss: gloss.2271\n",
            "Context: و لفك رموز بعض المهام وإنجازات الوزارة التقت وكالة السودان للأنباء الأستاذ عبد العاطي أحمد عباس وزير الشؤون الدينية والأوقاف المكلف وأجرت معه الحوار التالي :, Predicted Gloss: gloss.644, Correct Gloss: gloss.642\n",
            "Context: النوع الفرعي الثاني PPR)) هو كيان سريري محدد بدقة وكانت الدراسات السكانية لهذا النوع الفرعي متسقة إلى حد ما وقد أظهرت انتشارًا يقارب 2٪ من السكان في شمال أوروبا., Predicted Gloss: gloss.723, Correct Gloss: gloss.720\n"
          ]
        },
        {
          "output_type": "stream",
          "name": "stderr",
          "text": [
            "Evaluating:  65%|██████▌   | 2944/4496 [00:05<00:03, 414.94pair/s]"
          ]
        },
        {
          "output_type": "stream",
          "name": "stdout",
          "text": [
            "Context: وبعد الاطلاع على قرار مجلس الشورى رقم (٥٨ /٥٤) وتاريخ ١٧ / ١١ / ١٤٢١ هـ., Predicted Gloss: gloss.3888, Correct Gloss: gloss.3891\n",
            "Context: ويتناول هذا العمل, في 97 دقيقة, قصة شاب في العشرينات يدعى \"كوكو\" يعيش في قرية جبلية بمنطقة القبائل ويواجه رفضا من مجتمعه لاختلاف شخصيته ومظهره وسلوكه فيحاول هذا الأخير كبت حريته في أن يكون كما يريد وجعله تحت وصايته بدأ ب \"كبار\" القرية (تاجماعث) ورجال دينها (على رأسهم إمام القرية) ووصولا إلى والده., Predicted Gloss: gloss.9492, Correct Gloss: gloss.9491\n",
            "Context: وأجهزةِ القِيادةِ الخَاصَّة بها،, Predicted Gloss: gloss.476, Correct Gloss: gloss.473\n",
            "Context: وذلك لمدة سنتين قابلة للتجديد بقرار من مجلس الوزراء ., Predicted Gloss: gloss.10305, Correct Gloss: gloss.10307\n",
            "Context: ٢٧٦ قطر المقطورة (السيارات المجهزة بوصلة ربط المقطورة)., Predicted Gloss: gloss.6898, Correct Gloss: gloss.6897\n",
            "Context: ويذكر عبد الله بن خميس أن التكوين الطبيعي للبلدة هو أصل التسمية إذ أن البلدة \"حَجْر\" سميت حجراً لاحتجار الجبال من جميع جهاتها توالت القلاقل في شبه الجزيرة العربية منذ بدأ الضعف في العهد العباسي, Predicted Gloss: gloss.1375, Correct Gloss: gloss.1372\n",
            "Context: تتمثل برفض الامة العربية للتجزئة ولكل انواع التبعية الاجنبية والاستعمار التي فرضتها ظروف المرحلة السابقة مستهدفة التحرر والاستقلال والوحدة والعمل من اجل استعادة ماضي الامة المشرق والمشاركة في بناء الحضارة الانسانية ., Predicted Gloss: gloss.8302, Correct Gloss: gloss.8301\n",
            "Context: شكراً كلية الزراعة ممثلةً بالأستاذ الدكتور جرجس مخول عميد الكلية المحترم،, Predicted Gloss: gloss.4146, Correct Gloss: gloss.4142\n",
            "Context: دراسة تأثير إضافة جناحين على القصبة في أداء المحراث الحفار, Predicted Gloss: gloss.12481, Correct Gloss: gloss.12474\n",
            "Context: وما تعانيه منذ سنوات من وموجة الجفاف وقلة الامطار الآمر الذي أدى لتدني المحاصيل الزراعية ،, Predicted Gloss: gloss.7868, Correct Gloss: gloss.7863\n",
            "Context: وتساوي العراقيين في الحقوق أمام القانون،, Predicted Gloss: gloss.5492, Correct Gloss: gloss.5493\n",
            "Context: فقد كانت بلا شك تستعمل كمحطة لتوقف والاستراحة., Predicted Gloss: gloss.7550, Correct Gloss: gloss.7547\n",
            "Context: حيث اكد معالي الشيخ وزير الشؤون الرياضية خلال الاجتماع على ان الوزارة تولي اهتماما كبيرا بالمقترحات المقدمة من الاتحادات الرياضية وان هذه اللقاءات تخدم العمل المشترك بين الوزارة والاتحادات الرياضية والتي تساهم في النهوض والرقي, Predicted Gloss: gloss.10838, Correct Gloss: gloss.10836\n",
            "Context: كما حولت الجملة (صلى الله عليه وسلم) في النص الحديث الشريف إلى () للتناسق في جميع رسالتي من غير اختلاف., Predicted Gloss: gloss.12215, Correct Gloss: gloss.12214\n",
            "Context: وإلا لـن تجـد حيـن تطالـع أعمـال بعـض الكتـاب الـروس المعاصريـن ســوى الخلاعــة., Predicted Gloss: gloss.2226, Correct Gloss: gloss.2229\n",
            "Context: و أضاف ,السيد بلعيد ,أن اللغة العربية \"كانت لغة العلم والرياضيات والفلك والهندسة والمنطق والفلسفة والتصوف والفلاحة والصناعة والاقتصاد وانتعشت بفضل غيرة العلماء عليها وانكبابهم على البحث العلمي والاختراع والتجريب والتحصيل المعرفي والتصنيف في شتى المجالات التي اعترف المستشرقون الغربيون بريادة العرب\"., Predicted Gloss: gloss.9308, Correct Gloss: gloss.9307\n",
            "Context: ووجه بعد اللقاء الجهات المعنية الى تأجيل إقامة الدورة للمتطوعات لحين مخاطبة وزارة الأوقاف والشؤون الإسلامية في هذا الشأن كما وعد بأن العمل على التحاق أولى دفعات المتقدمات للجيش الكويتي سيكون بعد وصول رد هيئة الافتاء الرسمي والنظر فيما يتضمنه من أحكام وضوابط وشروط يتم أخذها بعين الاعتبار والعمل بمقتضاها., Predicted Gloss: gloss.13591, Correct Gloss: gloss.13590\n",
            "Context: وقد بدأ المجتمع الدولي بالاهتمام بحفظ التراث العمراني وصيانته نهاية القرن 18 حيث أصبحت أكثر علمية وحداثة, Predicted Gloss: gloss.2782, Correct Gloss: gloss.2785\n",
            "Context: 1 - 2 - 2 - 2 - بناء التربة\t11, Predicted Gloss: gloss.12026, Correct Gloss: gloss.12024\n",
            "Context: كان قـد أصـاب هـذه الخرائـط بلـل لدرجـة أن الملاحيـن لـم يتمكنـوا مـن معرفـة الاتجـاه الـذي يجـب أن يسـلكوه., Predicted Gloss: gloss.432, Correct Gloss: gloss.430\n",
            "Context: سـد إدويـن الثقـب بالشـمع،, Predicted Gloss: gloss.11215, Correct Gloss: gloss.11213\n",
            "Context: وهي مادة شمعية شفافة بيضاء تُغطي جلد الرُضع., Predicted Gloss: gloss.3916, Correct Gloss: gloss.3917\n",
            "Context: [٥] شلل الأطفال:, Predicted Gloss: gloss.358, Correct Gloss: gloss.359\n",
            "Context: هكــذا ظلــت هــذه الحــرب حاضــرة فــي الدراســات التاريخيــة والسياسـية لا تتعداهـا إلـى أعمـال تسـتنطق المخيـال الجماعـي وتسـكنه., Predicted Gloss: gloss.8118, Correct Gloss: gloss.8088\n",
            "Context: كما أنّ الطفل يستمر بالحصول على هذه الأجسام المضادة عن طريق حليب الأم ولكن في كلتا الحالتين تكون هذه الحماية مؤقتة., Predicted Gloss: gloss.613, Correct Gloss: gloss.612\n",
            "Context: يقـول الطبيـب فإنـه لغـرض العـلاج الناجـح يجـب عليـك أن تقـرأ كتابـًاً مثــل الكتـاب المقـدس،, Predicted Gloss: gloss.5554, Correct Gloss: gloss.5547\n",
            "Context: ومرتبة (7) ظهرت مرتان لان بعض درجات مرتبة عشرات (7) اقل من (75) والمتبقي منها اكبر او تساوي (75) وبنفس الاسلوب لمرتبة عشرات (8) و (9) ., Predicted Gloss: gloss.5874, Correct Gloss: gloss.5873\n"
          ]
        },
        {
          "output_type": "stream",
          "name": "stderr",
          "text": [
            "\rEvaluating:  66%|██████▋   | 2986/4496 [00:06<00:04, 368.81pair/s]"
          ]
        },
        {
          "output_type": "stream",
          "name": "stdout",
          "text": [
            "Context: \" بعد ذلك سأقوم بتلوين كل رأس زاوية من زوايا الغرفة باستعمال ثلاثة ألوان فقط ـ الأحمر والأصفر والأزرق مثلا ـ بحيث تكون رؤوس كل مثلث ملونة بألوان مختلفة ., Predicted Gloss: gloss.15300, Correct Gloss: gloss.15299\n",
            "Context: فلم يعد كافياً اعتماد نهج ثقافي, حيث نضع بعض الالتزمات الناشئة عن الحماية القانونية للمباني التاريخية, بل يجب استكمال هياكل الدعم التقليدية (Jean, 1987) أو الاستعاضة عن أساليب التمويل المناسبة إلى التقنيات والإجراءات المستخدمة لتنفيذ سياسة التوسع الاقتصادي والتنمية الإقليمية., Predicted Gloss: gloss.387, Correct Gloss: gloss.386\n",
            "Context: هو ورم حميد بطيء النمو،, Predicted Gloss: gloss.6570, Correct Gloss: gloss.6569\n",
            "Context: ونجد ان المتوسط المقدر (2., Predicted Gloss: gloss.5106, Correct Gloss: gloss.5100\n",
            "Context: وتُمثل إطاراً فكرياً يتم فيه تصوّر ترتيب عناصر المنهاج ومكوناته،, Predicted Gloss: gloss.536, Correct Gloss: gloss.537\n",
            "Context: محتويات ١ تطعيمات الأطفال ٢ فوائد تطعيم الأطفال ٣ الأمراض التي تُغطى بالتطعيمات ٤ أنواع تطعيمات الأطفال ٥ كيفية تطعيم الأطفال ٦ الآثار الجانبية لتطعيمات الأطفال ٧ جدول التطعيمات في بعض الدول العربية ٨ فيديو تعريف المطاعيم وكيفية التعامل معها ٩ المراجع ما هي تطعيمات الأطفال تطعيمات الأطفال تُعد المطاعيم التي تُعطى للأطفال وسيلة لخلق مناعة تجاه بعض الأمراض التي من الممكن أن تصيبهم،, Predicted Gloss: gloss.380, Correct Gloss: gloss.379\n",
            "Context: وذلك لإثبات ولائها له., Predicted Gloss: gloss.2653, Correct Gloss: gloss.2654\n",
            "Context: وبعـد مضـيّ يـوم واحـد انطلـق فـي رحلتـه البحريـة علـى متـن السـفينة “أنطونـي والحلـوة نـون ., Predicted Gloss: gloss.7115, Correct Gloss: gloss.7106\n",
            "Context: لتطوير أداء الممثلين الذين يعملون في مجال عروض مسرح الطفل., Predicted Gloss: gloss.4146, Correct Gloss: gloss.4144\n",
            "Context: يعد مفهوم التراث العمراني مفهوماً حديثاً نسبياً بالمقارنة مع أنواع أخرى من التراث, بالإضافة إلى أنه يقوم على نهج معقد يدمج كلاً من المفاهيم المألوفة من التراث بمفاهيم أخرى أكثر تعقيداً مثل الحفاظ والترميم والتجديد والصيانة وغيرها, كما أنه يرتبط ارتباطاً وثيقاً بالبعد الاقتصادي والاجتماعي داخل المجتمع., Predicted Gloss: gloss.1241, Correct Gloss: gloss.1247\n",
            "Context: تعتبر الولادة حدثاً استثنائياً في حياة المرأة ترافقه مجموعة من الذكريات السعيدة غالباً والمؤلمة أحياناً., Predicted Gloss: gloss.1942, Correct Gloss: gloss.1938\n",
            "Context: وهـو غـارق فـي خّضّـم أفـكاره ،, Predicted Gloss: gloss.4784, Correct Gloss: gloss.4785\n",
            "Context: لاهاى 5-11-2019م (بى بى سى  قتلت طائرة حربية هولندية،, Predicted Gloss: gloss.8118, Correct Gloss: gloss.8088\n",
            "Context: ونفي العراقيين إلى خارج المملكة العراقية،, Predicted Gloss: gloss.5792, Correct Gloss: gloss.5793\n",
            "Context: الحد المكاني:, Predicted Gloss: gloss.1460, Correct Gloss: gloss.1461\n",
            "Context: ملخص البحث عربي ......................................................................, Predicted Gloss: gloss.5930, Correct Gloss: gloss.5927\n",
            "Context: كما يوصي الباحثان بضرورة إقامة ورشات تدريب تقام من قبل مختصين،, Predicted Gloss: gloss.14200, Correct Gloss: gloss.14198\n",
            "Context: تعرف الحرارة بأنها شكل من أشكال الطاقة التي يمكن نقلها من نظام إلى آخر كنتيجة لفروقات درجات الحرارة ،, Predicted Gloss: gloss.6257, Correct Gloss: gloss.6253\n",
            "Context: تبرز الحاجة الماسّة للبيانات بالإضافة إلى إعدادها (Data Annotation) والذي يعتبر أحد أهم جوانب العمل في بناء الخوارزمية., Predicted Gloss: gloss.2908, Correct Gloss: gloss.2907\n",
            "Context: ومنها نشأ أشهر ناديين رياضيين لكرة القدم في السعودية الهلال والنصر, Predicted Gloss: gloss.8676, Correct Gloss: gloss.8675"
          ]
        },
        {
          "output_type": "stream",
          "name": "stderr",
          "text": [
            "Evaluating:  68%|██████▊   | 3064/4496 [00:06<00:03, 373.12pair/s]"
          ]
        },
        {
          "output_type": "stream",
          "name": "stdout",
          "text": [
            "\n",
            "Context: أما بعض المدارس العربية فقد رجحت أصل الكلمة إلى جذور عربية من خلال المدينة القديمة ترشيش., Predicted Gloss: gloss.2505, Correct Gloss: gloss.2513\n",
            "Context: فحرم الزواج المؤقت ورتب البطلان لكل زواج كان بصيغة التأقيت،, Predicted Gloss: gloss.8201, Correct Gloss: gloss.8198\n",
            "Context: فصعـد إدويـن إلـى المنـارة وجلـب خرائـط إضافيـة., Predicted Gloss: gloss.728, Correct Gloss: gloss.727\n",
            "Context: تابعة للتحالف الذي تقوده الولايات المتحدة ضد تنظيم الدولة،, Predicted Gloss: gloss.4035, Correct Gloss: gloss.4032\n",
            "Context: ١٤٤ الباب الخلفي (المزدوج)., Predicted Gloss: gloss.2109, Correct Gloss: gloss.2110\n",
            "Context: وسيتميز الهاتف بذاكرة تخزين فلاش ميموري من نوع UFS 2., Predicted Gloss: gloss.6867, Correct Gloss: gloss.6866\n",
            "Context: حتى بدأ اسم الرياض بالبروز الرياض جمع روضة جاء في لسان العرب الروضة الأرض ذات الخضرة والبستان الحسن والموضع يجتمع إليه الماء يكثر نبته, Predicted Gloss: gloss.8758, Correct Gloss: gloss.8756\n",
            "Context: والأجناس العالية العشرة لها أسماء متباينة،, Predicted Gloss: gloss.5585, Correct Gloss: gloss.5586\n",
            "Context: وقد رأينا في العديد من الحالات كيف يمكن تسريب المعلومات الحساسة ولو بشكلٍ غير مقصود., Predicted Gloss: gloss.3209, Correct Gloss: gloss.3204\n",
            "Context: ( و / او ) التكرار النسبي f_i/n عند الحاجة حيث n تمثل عدد التكرارات الكلي ويدعى الجدول وفق هذه الخصائص (grouped frequency distribution) لان الفئات تمتلك حد ادنى واعلى ،, Predicted Gloss: gloss.5250, Correct Gloss: gloss.5249\n",
            "Context: حيث إنها افضل طريقة لمنع انتشار الأوبئة بالاضافة الى التعقيم المستمر ومياه الشرب النظيفة،, Predicted Gloss: gloss.723, Correct Gloss: gloss.720\n",
            "Context: 6 الحماية الفرنسية والنضال الوطني, Predicted Gloss: gloss.7430, Correct Gloss: gloss.7428\n",
            "Context: رحمه الله و أكرم مثواه ،, Predicted Gloss: gloss.2143, Correct Gloss: gloss.2142\n",
            "Context: هُناك ما يُسمى بالغُدد القُلْفية أو غدد تيسون،, Predicted Gloss: gloss.1129, Correct Gloss: gloss.1127\n",
            "Context: مما يعطي انطباعا عن استهلاك مزمن للكحول., Predicted Gloss: gloss.2485, Correct Gloss: gloss.2482\n",
            "Context: هل ان الشخص شاهد الاعلان التجاري وهو ايضا متغير ثنائي تتم الاجابة اما (نعم او كلا) وترمز (0،, Predicted Gloss: gloss.5347, Correct Gloss: gloss.5344\n",
            "Context: منحنى استجابة درجة حرارة الجهة الخلفية .................................., Predicted Gloss: gloss.1516, Correct Gloss: gloss.1515\n",
            "Context: أو عدمِ توحيدِ شكلِ المُنتَج بِشكلٍ عامٍ, وكانت كُلُّ الأسباب السَّابقة تُؤدِّي،, Predicted Gloss: gloss.2639, Correct Gloss: gloss.2637\n",
            "Context: يتم تحضيره بعد إضعاف السمّ الذي تُنتجه البكتيريا المُسببة للمرض،, Predicted Gloss: gloss.1379, Correct Gloss: gloss.1376\n",
            "Context: وأخـذ ينظـر حواليـه ،, Predicted Gloss: gloss.5123, Correct Gloss: gloss.5129\n",
            "Context: (Diphtheria-tetanus-pertussis vaccine) والذي يقي من أمراض الخنّاق (بالإنجليزية:, Predicted Gloss: gloss.660, Correct Gloss: gloss.659\n",
            "Context: وعلى الوصي أداء اليمين المتقدم بيانها أمام المجلس., Predicted Gloss: gloss.8164, Correct Gloss: gloss.8163\n",
            "Context: \"كان الانفجار الثانوي،, Predicted Gloss: gloss.9521, Correct Gloss: gloss.9522\n",
            "Context: حيث كان هذا المحرك غير انفجاري يستعمل القليل من الوقود ،, Predicted Gloss: gloss.14795, Correct Gloss: gloss.14796\n",
            "Context: واختبـارًاً قاسـيًاً يمهِّـد اجتيـازه لاكتشـاف الطريـق إلـى حيـاة جديـدة., Predicted Gloss: gloss.11906, Correct Gloss: gloss.11905\n",
            "Context: نرى أنّ المحقّق يزداد مهارةً في التعرُّف على تلك الأعمال الفنية التي هي نسخ طبق الأصل., Predicted Gloss: gloss.3421, Correct Gloss: gloss.3418\n",
            "Context: وفـي الروايـة التـي بيـن أيدينـا اضطلـع الكاتـب بأكثـر مـن مسـعى تجديـدي فمـن جهـة ،, Predicted Gloss: gloss.1864, Correct Gloss: gloss.1861\n",
            "Context: على أن يستمر العمل بالأحكام المتعلقة بتوثيق الإقرارات والعقود والأحكام المتعلقة بالضوابط والسجلات واختصاصات وصلاحيات كتاب الضبط وغيرهم من أعوان القضاء،, Predicted Gloss: gloss.3077, Correct Gloss: gloss.3074\n"
          ]
        },
        {
          "output_type": "stream",
          "name": "stderr",
          "text": [
            "Evaluating:  71%|███████   | 3195/4496 [00:06<00:03, 412.97pair/s]"
          ]
        },
        {
          "output_type": "stream",
          "name": "stdout",
          "text": [
            "Context: دعونا نتخيل أنّ هناك رسامًا يريد إنشاء نسخٍ أفضل من لوحات الرسام “ليوناردو إنّ أكبر عقبةٍ أمام الذكاء الاصطناعي هي في عدم كفاية البيانات المتاحة., Predicted Gloss: gloss.3447, Correct Gloss: gloss.3446\n",
            "Context: وهي مشروع حديقة الملك سلمان الرياض آرت مشروع المسار الرياضي ومشروع الرياض الخضراء وتعمل على إنجاز هذه المشاريع لجنة المشاريع الكبرى التي يرأسها ولي العهد الأمير محمد بن سلمان, Predicted Gloss: gloss.7073, Correct Gloss: gloss.7071\n",
            "Context: و ما آلت إليه حالهم بدعوته المباركة ،, Predicted Gloss: gloss.4302, Correct Gloss: gloss.4301\n",
            "Context: [١٥] يُفضّل في بعض الحالات الخاصة ألّا يتم إعطاء التطعيمات للأطفال،, Predicted Gloss: gloss.354, Correct Gloss: gloss.353\n",
            "Context: وفيه تناولت فنون (علم البديع) واشتمل على أربعة مباحث., Predicted Gloss: gloss.3783, Correct Gloss: gloss.3782\n",
            "Context: خاصةً أنه لا يوجد حتى الآن اختبار تشخيصي محدد للوردية., Predicted Gloss: gloss.2448, Correct Gloss: gloss.2445\n",
            "Context: نضغط على زر ومنه نختار ولاظهار النسب نختار من خلال وضع علامة الصح في المربع ثم نضغط زر ., Predicted Gloss: gloss.2619, Correct Gloss: gloss.2614\n",
            "Context: رغم أنه قد اتفق على أن هذه المادة لا تنطبق على المشحونات التجارية العادية التي تحصل خلال المعاملات التجارية العادية ،, Predicted Gloss: gloss.5398, Correct Gloss: gloss.5401\n",
            "Context: يعتبر الملك غير بالغ سن الرشد إلى نهاية السنة الثامنة عشرة من عمره ،, Predicted Gloss: gloss.1072, Correct Gloss: gloss.1070\n",
            "Context: من السجلّات الطبية الإلكترونية،, Predicted Gloss: gloss.3077, Correct Gloss: gloss.3074\n",
            "Context: غالبًا ما يتم استخدام قابلية الشرح والتفسير بشكل متبادل., Predicted Gloss: gloss.3555, Correct Gloss: gloss.3554\n",
            "Context: إلى كل أمين على رسالة الحق والنور .........., Predicted Gloss: gloss.8703, Correct Gloss: gloss.8704\n",
            "Context: وإما بالقياس إلى الأرواح وإلى الأعضاء الرئيسة فليس يمكن أن يكون مقاربا لذلك الاعتدال الحقيقي بل خارجا عنه إلى الحرارة والرطوبة ., Predicted Gloss: gloss.5792, Correct Gloss: gloss.5789\n",
            "Context: في دراسة مستوفية لجميع الجوانب الفنية التي تحملها العروض المقدمة،, Predicted Gloss: gloss.2344, Correct Gloss: gloss.2342\n",
            "Context: حرية الرأي وحرية التعبير بجميع أشكاله وحرية الاجتماع؛, Predicted Gloss: gloss.10838, Correct Gloss: gloss.10836\n",
            "Context: ومع ذلك فهي أساسية لحفظ ودوام ثقافة المجتمعات والحضارات, وهي أيضاً تنطوي على نهج جديد للتخطيط العمراني وإدارة الموارد الاجتماعية, Predicted Gloss: gloss.3948, Correct Gloss: gloss.3941\n",
            "Context: يعتبر الأردن من أوائل دول إقليم شرق المتوسط التي أدخلت المطاعيم بهدف تطعيم الأطفال ووقايتهم من أمراض الطفولة القاتلة،, Predicted Gloss: gloss.550, Correct Gloss: gloss.545\n",
            "Context: ذلك لأنها تشكل اللبنة الأساس في تكوين شخصية الإنسان،, Predicted Gloss: gloss.10661, Correct Gloss: gloss.10660\n",
            "Context: وشدد الوزير على أن التمسك بالأحكام والضوابط الشرعية لديننا الإسلامي الحنيف لا مجال فيها للأهواء والآراء والرغبات الشخصية مضيفا أن الدستور الكويتي الذي أقسمنا على المحافظة عليه والعمل بموجب أحكامه قد جعل الشريعة الإسلامية مصدرا رئيسيا للتشريع وهو ما نحرص عليه في جميع أعمالنا وقراراتنا., Predicted Gloss: gloss.4792, Correct Gloss: gloss.4791\n",
            "Context: لافتا إلى أن هناك 13 مائدة مستديرة ستتناول مناقشة القضايا السياسية والاجتماعية ،, Predicted Gloss: gloss.10838, Correct Gloss: gloss.10835\n",
            "Context: أشار المؤرّخ عبد الرحمن بن خلدون إلى أصل كلمة \"تونس\" التي أطلقت على حاضرة شمال إفريقيّة حيث أرجع اصلها إلى ما عرف عن المدينة من ازدهار عمراني وحيوية اقتصادية وحركية ثقافية واجتماعية فقد أشار إلى أنّ اسم \"تونس\" اشتقّ من وصف سكانها والوافدين عليها لما عرفوا به من طيب المعاشرة وكرم الضيافة وحسن الوفادة., Predicted Gloss: gloss.7573, Correct Gloss: gloss.7570\n",
            "Context: وأشارت المصادر إلى ان مركز عبد الكريم ميرغني درج على اقامة الاحتفال بجائزة الطيب صالح منذ عشرة أعوام ،, Predicted Gloss: gloss.10383, Correct Gloss: gloss.10382\n",
            "Context: \tالتهاب الأوردة الخثري, Predicted Gloss: gloss.1397, Correct Gloss: gloss.1393\n",
            "Context: بحث علمي أعد لنيل شهادة الماجستير في التوليد وأمراض النساء, Predicted Gloss: gloss.1326, Correct Gloss: gloss.1325\n",
            "Context: ولا يرى أهل الكمال أننا نستعمل الهزل في معرض الجد تهجيناً للأفكار وإضاعة للمعارف وإنما التزمنا هذه الطريقة لميل النفوس إليها وليرى كل قسم من العلماء والأدباء والعقلاء والعوام ما يحبه ويرضاه فما القصد إلا أن تكون الخدمة عامة ينتفع بها الخاص والعام ومن تأمل هذا المشرب وجده دقيقاً رقيقاً مفيداً., Predicted Gloss: gloss.3145, Correct Gloss: gloss.3137\n",
            "Context: ويحرم عليه الكذب والغيبة والنميمة والكبر والعجب والرياء والسمعة والحسد والبغض والسخرية والزنا والنظر إلى الأجنبية والتلذذ بكلامها وأكل أموال الناس بغير طيب نفس والأكل بالشفاعة أو الدين وتأخير الصلاة عن أوقاتها., Predicted Gloss: gloss.15285, Correct Gloss: gloss.15284\n",
            "Context: الكويت - 16 - 1 (كونا) -- استقر سعر صرف الدولار الأمريكي أمام الدينار الكويتي اليوم الاحد عند مستوى 302ر0 دينار في حين انخفض سعر صرف اليورو إلى 344ر0 دينار مقارنة بأسعار يوم الخميس الماضي., Predicted Gloss: gloss.4777, Correct Gloss: gloss.4775\n"
          ]
        },
        {
          "output_type": "stream",
          "name": "stderr",
          "text": [
            "Evaluating:  73%|███████▎  | 3286/4496 [00:06<00:02, 416.52pair/s]"
          ]
        },
        {
          "output_type": "stream",
          "name": "stdout",
          "text": [
            "Context: ولذلكَ تَمَّ تَغييرُهُ إلى آليــَّة تَغليفٍ أُفقيٍّ., Predicted Gloss: gloss.5744, Correct Gloss: gloss.5745\n",
            "Context: اتفاقية عدم افشاء اسرار بين كل من:, Predicted Gloss: gloss.7856, Correct Gloss: gloss.7857\n",
            "Context: ونطوف في الولايات نقول أن مشاكل السودان خاصة في مناطق النزاعات القبلية والجهوية لا تحل الا بالدين والنبي صلى الله عليه وسلم عندما بعث وجد الشتات بين القبائل فجمعه وحل النزاع بينهم واجتمعت جميع الأعراق بفضل الدين ولا تحل مشاكلنا إلا بغرس القيم الشرعية في مجتمعاتنا بمختلف الطوائف والأشكال والسحنات هذه المسائل نعتبرها إضافة للسودان وعنصر من عناصر القوة الموجودة في مجتمعاتنا وبيئاتنا وطوائفنا المختلفة مفترض ان تكون عناصر قوة ولكنها الآن أصبحت عناصر ضعف وأسباب لإشكالات ونزاعات وتفرق مجتمعاتنا بسبب الحروبات والخلافات ولذلك لن تحل هذه الإشكالات إلا بنشر قيم الدين في هذه المجتمعات., Predicted Gloss: gloss.3773, Correct Gloss: gloss.3774\n",
            "Context: وقل النظر الصحيح ., Predicted Gloss: gloss.1575, Correct Gloss: gloss.1573\n",
            "Context: لا يلقي القبض على أحد ولا يحبس ولا يعاقب إلا في الأحوال وحسب الإجراءات المنصوص عليها في القانون., Predicted Gloss: gloss.11983, Correct Gloss: gloss.11982\n",
            "Context: وبعد الاستعانة بالله بدأت في قراءة النصوص النبوية الشريفة في موضوع دراستي والتأمل والنظر في الفنون البلاغية التي تحملها الأحاديث،, Predicted Gloss: gloss.1797, Correct Gloss: gloss.1793\n",
            "Context: ويقوم فيه الذكور بتأدية طقوسٍ تدلّ على إيمانهم العميق،, Predicted Gloss: gloss.11670, Correct Gloss: gloss.11667\n",
            "Context: ص 56 وانظر ما كتبه حازم عبد الله في مجلة آداب الرافدين (المجلد 7 ص 351) بعنوان:, Predicted Gloss: gloss.12273, Correct Gloss: gloss.12272\n",
            "Context: وقد اتسمت سياسة هؤلاء بالوحشية والقسوة وتخريب الاماكن المقدسة ودور العلم ،, Predicted Gloss: gloss.8415, Correct Gloss: gloss.8414\n",
            "Context: حاولت بعض النظريات -والتي تطور كلٌّ منها على نحوٍ مستقل- تغطية الجوانب المتنوعة للهجرة على مستويات مختلفة من التحليل باستخدام افتراضات عدة (7)،, Predicted Gloss: gloss.5245, Correct Gloss: gloss.5246\n",
            "Context: وإدارة قواعد البيانات الببليوجرافية مع عرض تجارب عملية فى هذا المجال ثم تطبيقاتها فى مجال صياغة وتبادل توصيفات البيانات Metadata من خلال معيار ONIX ومعيار دبلن كور Dublin core, Predicted Gloss: gloss.689, Correct Gloss: gloss.688\n",
            "Context: كما قد تؤدي زيادةُ إنتاجهِ إلى انسداد قناةِ الغدة الدُهنية،, Predicted Gloss: gloss.3307, Correct Gloss: gloss.3306\n",
            "Context: وبلغت مساحة الرياض في ذلك الوقت كلم مربع وتزايدت مشاريع تطوير المدينة بإشراف أمانة الرياض التي تأسست منذ عام والهيئة الملكية لمدينة الرياض والتي تم استحداثها في عام تحت اسم الهيئة العليا لتطوير مدينة الرياض منها مشروع تطوير منطقة قصر الحكم وحي السفارات وجامعتي الملك سعود والإمام محمد بن سعود الإسلامية ومطار الملك خالد الدولي, Predicted Gloss: gloss.3731, Correct Gloss: gloss.3714\n",
            "Context: فهـل يمكننـا أن نسـمي فيـروس نقـص المناعـة البشـري / الإيدز أو السـل،, Predicted Gloss: gloss.15958, Correct Gloss: gloss.15956\n",
            "Context: ونظام هيئة التحقيق والادعاء العام ( النيابة العامة ) ،, Predicted Gloss: gloss.5456, Correct Gloss: gloss.5457\n",
            "Context: الأســس السياسية, Predicted Gloss: gloss.4077, Correct Gloss: gloss.4074\n",
            "Context: الفصل الأول – الإطار العام للبحث\t1, Predicted Gloss: gloss.1599, Correct Gloss: gloss.1590\n",
            "Context: ثم لورثته من بعده., Predicted Gloss: gloss.12451, Correct Gloss: gloss.12450\n",
            "Context: وأيضاً هو \"إنتاج فترة زمنية تقع في الماضي وتفصلها عن الحاضر مسافة زمنية تشكلت خلالها هوة حضارية\" (الورع, 1993)., Predicted Gloss: gloss.2983, Correct Gloss: gloss.2982\n",
            "Context: من يعين الدائرة في عملها المنصوص عليه نظاماً., Predicted Gloss: gloss.4608, Correct Gloss: gloss.4612\n",
            "Context: غدد دهنية فريدة, Predicted Gloss: gloss.1129, Correct Gloss: gloss.1134\n",
            "Context: تأثير إضافة مستويات مختلفة من اللايسين إلى الخلطة العلفية في أداء إصبعيات الكارب العادي (Cyprinus carpio L., Predicted Gloss: gloss.4992, Correct Gloss: gloss.4989\n",
            "Context: وتُعدَ تطعيمات الكُزاز والخنّاق من تطعيمات السُّم المُضعف., Predicted Gloss: gloss.666, Correct Gloss: gloss.665\n",
            "Context: مثل مطعوم شلل الأطفال., Predicted Gloss: gloss.358, Correct Gloss: gloss.359\n",
            "Context: ومنـذ أعـوام التسـعينات شـهدت السـاحة الأدبيـة نشـاطًاً كبيـرًاً،, Predicted Gloss: gloss.10279, Correct Gloss: gloss.10278\n",
            "Context: وصــدرت أعمــال أدبيــة مــن روايــة وقصــة وشــعر،, Predicted Gloss: gloss.10279, Correct Gloss: gloss.10278\n",
            "Context: وبعـد صـدور “مرسـوم العفـو” لـم تسـتطع أسـرة العـم جيخـو الحصـول خـلال ثلاثـة أعـوام علـى رخصـة مغـادرة كازاخسـتان., Predicted Gloss: gloss.12836, Correct Gloss: gloss.12835\n",
            "Context: ولا يرى أهل الكمال أننا نستعمل الهزل في معرض الجد تهجيناً للأفكار وإضاعة للمعارف وإنما التزمنا هذه الطريقة لميل النفوس إليها وليرى كل قسم من العلماء والأدباء والعقلاء والعوام ما يحبه ويرضاه فما القصد إلا أن تكون الخدمة عامة ينتفع بها الخاص والعام ومن تأمل هذا المشرب وجده دقيقاً رقيقاً مفيداً., Predicted Gloss: gloss.1411, Correct Gloss: gloss.1409\n",
            "Context: وَمَنْ وَلَدَ رَسُولَ اللّهِ صَلّى اللّهُ عَلَيْهِ وَآلِهِ وَسَلّمَ مِنْ وَلَدِهِ وَأَوْلَادِهِمْ لِأَصْلَابِهِمْ الْأَوّلَ فَالْأَوّلَ مِنْ إسْمَاعِيلَ إلَى رَسُولِ اللّهِ صَلّى اللّهُ عَلَيْهِ وَآلِهِ وَسَلّمَ وَمَا يَعْرِضُ مِنْ حَدِيثهِمْ وَتَارِكٌ ذِكْرَ غَيْرِهِمْ مِنْ وَلَدِ إسْمَاعِيلَ عَلَى هَذِهِ الْجِهَةِ لِلِاخْتِصَارِ إلَى حَدِيثِ سِيرَةِ رَسُولِ اللّهِ صَلّى اللّهُ عَلَيْهِ وَسَلّمَ وَتَارِكٌ بَعْضَ مَا ذَكَرَهُ ابْنُ إسْحَاقَ فِي هَذَا الْكِتَابِ مِمّا لَيْسَ لِرَسُولِ اللّهِ صَلّى اللّهُ عَلَيْهِ وَآلِهِ وَسَلّمَ فِيهِ ذِكْرٌ وَلَا نَزَلَ فِيهِ مِنْ الْقُرْآنِ شَيْءٌ وَلَيْسَ سَبَبًا لِشَيْءِ مِنْ هَذَا الْكِتَابِ وَلَا تَفْسِيرًا لَهُ وَلَا شَاهِدًا عَلَيْهِ, Predicted Gloss: gloss.3438, Correct Gloss: gloss.3437\n"
          ]
        },
        {
          "output_type": "stream",
          "name": "stderr",
          "text": [
            "\rEvaluating:  74%|███████▍  | 3328/4496 [00:06<00:02, 405.92pair/s]"
          ]
        },
        {
          "output_type": "stream",
          "name": "stdout",
          "text": [
            "Context: الاستماع إلى أسطوانات صوت CD وأسطوانات MP3/WMA, Predicted Gloss: gloss.6730, Correct Gloss: gloss.6732\n",
            "Context: وأيضًا غدد الهالة هي غددٌ دُهنية تُوجد في الهالة المُحيطة بحلمة الأنثى., Predicted Gloss: gloss.6127, Correct Gloss: gloss.6125\n",
            "Context: مما يُسبب التهاب الزؤان،, Predicted Gloss: gloss.1042, Correct Gloss: gloss.1037\n",
            "Context: الكويت - 16 - 1 (كونا) -- استقر سعر صرف الدولار الأمريكي أمام الدينار الكويتي اليوم الاحد عند مستوى 302ر0 دينار في حين انخفض سعر صرف اليورو إلى 344ر0 دينار مقارنة بأسعار يوم الخميس الماضي., Predicted Gloss: gloss.3644, Correct Gloss: gloss.3645\n",
            "Context: يؤدي التراث العمراني بالإضافة إلى الأشكال الأخرى للتراث دوراً رئيسياً في التنمية المحلية, وهذا يتطلب إعادة تعريف مفهوم التراث العمراني من أجل تقييم الواقع الاقتصادي والاجتماعي المؤثر على أساليب إدارة التراث العمراني, كما أنه يتصل بتنفيذ مبادئ التنمية المستدامة., Predicted Gloss: gloss.8164, Correct Gloss: gloss.8163\n",
            "Context: العصور الوسطى, Predicted Gloss: gloss.7159, Correct Gloss: gloss.7157\n",
            "Context: لقـد ولـدت بعـد حملـة التهجيـر فـي المنافـي،, Predicted Gloss: gloss.9038, Correct Gloss: gloss.9036\n",
            "Context: والمجتمع المتكون من N من العناصر يقسم إلى مجتمعات جزئية يتم سحب عيّنة مِنْ كُلّ مجتمع جزئي بصورة مستقلة كما ان حجم كُلّ مجتمع جزئي وحجوم العيّنةِ في كُلّ مجتمع جزئي قَدْ تَتفاوتُ وتختلف فيما بينها ., Predicted Gloss: gloss.1329, Correct Gloss: gloss.1327\n",
            "Context: وأعتبر القرار في مادته الرابعة أن حاكم المقاطعة (يكلف بقرار من مجلس الوزراء بناء على عرض من وزير الحكم المحلي) هو ممثل عن الحكومة،, Predicted Gloss: gloss.3903, Correct Gloss: gloss.3897\n",
            "Context: ويختلف المؤرخون في أصول هاتين القبيلتين القول الأول أنهم من سلالة سام بن نوح مع اختلاف كل مؤرخ في سلسلة نسبهما, Predicted Gloss: gloss.2505, Correct Gloss: gloss.2513\n",
            "Context: نحمد الله إليكم جلت قدرته الذي من علينا بنعمة الإسلام،, Predicted Gloss: gloss.1237, Correct Gloss: gloss.1235\n",
            "Context: إن مرضـي ناجـم عـن الكأبـة هـذا مـا قالـه الأطبـاء،, Predicted Gloss: gloss.13805, Correct Gloss: gloss.13802\n",
            "Context: جمعية القرآن الكريم) وهذه الإدارات مجتمعة تقدم الخدمات التي يحتاجها الإنسان في السودان كل في تخصصه وتنتشر الوزارة وفروعها وإداراتها ومجالسها في جميع ولايات السودان ولكل إدارة من هذه الإدارات أهداف ومجالس أمناء وخطط وبرامج وإنجازات ورسالة., Predicted Gloss: gloss.11438, Correct Gloss: gloss.11437\n",
            "Context: ألا تراك تصفه ولا تصف به ،, Predicted Gloss: gloss.2822, Correct Gloss: gloss.2823\n",
            "Context: فعلى سبيل المثال؛, Predicted Gloss: gloss.4516, Correct Gloss: gloss.4506\n",
            "Context: وذلك بعد طرح وسط فرضي مختار A من بيانات المتغير X وبالصيغة d_i=X_i-A وعلى العموم يعتبر المتوسط اكثر المقاييس استخداما ،, Predicted Gloss: gloss.5660, Correct Gloss: gloss.5651\n",
            "Context: وأشار إلى أن جامعة قطر سعت للتوجه إلى الطاقة المتجدّدة للتقليل من الانبعاثات الكربونية وتوفير مصدر طاقة متجدّدة بالإضافة إلى الغاز والبترول المتوفر في الدولة وهذا يتواكب مع ديمومية واستمرارية التطور الاقتصادي, Predicted Gloss: gloss.7464, Correct Gloss: gloss.7465\n",
            "Context: والعمل على تشجيع الاستثمار ونشر ثقافة الاستثمار نحو مزيد من ثقافة اقتصاد السوق وتفعيل الشراكة بين القطاعين العام والخاص حيث لم يرتق الاخير للقيام بدوره, Predicted Gloss: gloss.9348, Correct Gloss: gloss.9350\n",
            "Context: هذا البعض يريد للحاضر الاقتصادي أن يستمر ويتواصل بشروطه الراهنة, Predicted Gloss: gloss.2218, Correct Gloss: gloss.2219\n",
            "Context: وخلا شوط المباراة الأول من تسجيل الأهداف حيث حافظ الفريقان على شباكهما بيضاء ., Predicted Gloss: gloss.3574, Correct Gloss: gloss.3575\n",
            "Context: كما قد يسبب ضررًا للدماغ،, Predicted Gloss: gloss.987, Correct Gloss: gloss.986\n",
            "Context: ليسمح لمستخدمي نظام ويندوز 10 بالوصول إلى النصوص والصور والإشعارات الموجودة على هواتفهم, Predicted Gloss: gloss.277, Correct Gloss: gloss.274\n",
            "Context: وسط الحاكمين والمحكومين على حد سواء،, Predicted Gloss: gloss.4010, Correct Gloss: gloss.4005\n",
            "Context: وكان العرب قبل الاسلام يؤرخون السنين بما يحصل فيها من أحداث مهمة ولما ظهر الاسلام وتأسست الدولة العربية الأسلامية اصبحت الحاجة ملحة الى اتخاذ حادثة مهمة يجعلونها اساساً لتوقيت رسائلهم وكتبهم وحوادثهم فوقع اختيارهم في عهد الخليفة عمر, Predicted Gloss: gloss.8201, Correct Gloss: gloss.8197\n",
            "Context: خاصة في مجالات الأمن الغذائي حيث تسبب الهجوم الروسي على أوكرانيا في ارتفاع أسعار الحبوب عالمياً ،, Predicted Gloss: gloss.5084, Correct Gloss: gloss.5075\n",
            "Context: وكذلك ما يتعلق بمواد غذائية أساسية أخرى مثل الذرة والزيوت النباتية ،, Predicted Gloss: gloss.2926, Correct Gloss: gloss.2927\n"
          ]
        },
        {
          "output_type": "stream",
          "name": "stderr",
          "text": [
            "Evaluating:  76%|███████▌  | 3416/4496 [00:07<00:02, 367.56pair/s]"
          ]
        },
        {
          "output_type": "stream",
          "name": "stdout",
          "text": [
            "Context: والله لئن قتلتموه لأتخذنه حناناً., Predicted Gloss: gloss.2076, Correct Gloss: gloss.2075\n",
            "Context: والعلم الذي يتعامل مع تحديد المعدلات لانتقال الطاقة هذه هو علم انتقال الحرارة ., Predicted Gloss: gloss.2603, Correct Gloss: gloss.2601\n",
            "Context: الهدف من هذا العقد هو تطوير حقول المحافظة ووضع الخطط اللازمة لزيادة الانتاج منها،, Predicted Gloss: gloss.9834, Correct Gloss: gloss.9833\n",
            "Context: 1-1 المشكلة العلمية في مشروع البحث\t3, Predicted Gloss: gloss.7073, Correct Gloss: gloss.7071\n",
            "Context: - وزارة الشؤون الدينية والأوقاف وزارة مفصلية لأنها تتعلق بهموم المجتمع وأهمها الأمور الدينية والحياتية ومجالاتها الاجتماعية والثقافية والصحية وغيرها من المجالات وكثير من الناس يجهلون اهمية الوزارة وهي بمثابة سلاح مشاة وموجودين على الأرض في كافة الاتجاهات كالمساجد والمدارس وغيرها من مجالات الحياة ولكي تأخذ الوزارة مركزها الصحيح والفعلي لدينا المبررات لتكون سيادية., Predicted Gloss: gloss.10189, Correct Gloss: gloss.10188\n",
            "Context: تكريمًاً لذكرى “ فيساريون بيلينسكي ”, Predicted Gloss: gloss.8218, Correct Gloss: gloss.8219\n",
            "Context: حيث اكد معالي الشيخ وزير الشؤون الرياضية خلال الاجتماع على ان الوزارة تولي اهتماما كبيرا بالمقترحات المقدمة من الاتحادات الرياضية وان هذه اللقاءات تخدم العمل المشترك بين الوزارة والاتحادات الرياضية والتي تساهم في النهوض والرقي, Predicted Gloss: gloss.7324, Correct Gloss: gloss.7319\n",
            "Context: الحرص عند إعداد فيديو مراجعة لموبايل أنّ تكون صياغة المراجعة حيادية ،, Predicted Gloss: gloss.397, Correct Gloss: gloss.396\n",
            "Context: كنــت منكبــًاً عــلى المجهــر أحــاول تحليــل العينــة عــلى الشريحــة عندمــا رفعــت يـدي لأحـك رقبتــي تحــت تفاحــة آدم وفوجئــت بوجــود ورم فـي رقبتــي., Predicted Gloss: gloss.3434, Correct Gloss: gloss.3433\n",
            "Context: والأستاذة الدكتورة سوسن هيفا الوكيل العلمي المحترمة،, Predicted Gloss: gloss.16004, Correct Gloss: gloss.16003\n",
            "Context: وإلى عدمِ رَواجِ المُنتَج., Predicted Gloss: gloss.2639, Correct Gloss: gloss.2637\n",
            "Context: افتحـي العلبـة يـا سـولانج”., Predicted Gloss: gloss.6855, Correct Gloss: gloss.6851\n",
            "Context: الا ان وطننا العربي تعرض لغزوة مغولية ثالثة قادها تيمور لنك توجهت نحو العراق فوصلت بغداد سنة 1393م ثم اتجهت نحو بلاد الشام ., Predicted Gloss: gloss.8315, Correct Gloss: gloss.8314\n",
            "Context: وأنها قبيلة جديس وأنها كانت موجودة حوالي  ويوجد شبه اتفاق بين المؤرخين أن موطن القبيلتين هو اليمامة وكانت طسم في الجزء الشمالي من اليمامة الرياض, Predicted Gloss: gloss.2902, Correct Gloss: gloss.2903\n",
            "Context: وأضاف \"بإسمي ونيابة عن مجلس إدارة الاتحاد أتقدم بالشكر الجزيل إلى كافة وسائل الإعلام المحلية المقرؤة والمرئية والمسموعة والإلكترونية وحسابات التواصل الاجتماعي على دعمهم لنا،, Predicted Gloss: gloss.7324, Correct Gloss: gloss.7319\n",
            "Context: إذ يلاحظ أن بعض العروض التي تختص بالطفل العراقي قد ابتعدت عن تجسيد تلك الشخصيات الخيالية؛, Predicted Gloss: gloss.11876, Correct Gloss: gloss.11875\n",
            "Context: حيث شكل هذا التصميم دافعا كبيرا للباحثين كافة في مجالي العزل الحراري وترشيد استهلاك الطاقة للوصول إلى تصاميم هندسية ذات كفاءة أعلى من التصاميم التقليدية المستخدمة في العزل الحراري., Predicted Gloss: gloss.689, Correct Gloss: gloss.688\n",
            "Context: وفيه تناولت فنون (علم المعاني)،, Predicted Gloss: gloss.4760, Correct Gloss: gloss.4764\n",
            "Context: إخترْ العددَ الضروريَ من الوحداتِ التي تَستعملُ كعينة عشوائيةَ بسيطةَ أَو عينات منتظّمةَ مِنْ كُلّ مجتمع جزئي وان العدد الضروري قَدْ يَعتمدُ على حجومِ المجتمع الجزئية ِ., Predicted Gloss: gloss.4797, Correct Gloss: gloss.4796\n",
            "Context: إلى من أعطتنا من دمها و روحها و عمرها حباً و تصميماً و دفعاً لغدٍ أجمل, Predicted Gloss: gloss.862, Correct Gloss: gloss.846\n",
            "Context: إذ يعد الطفل المصدر الرئيس في إنتاج تلك العلامات السائدة في الواقع., Predicted Gloss: gloss.13610, Correct Gloss: gloss.13608\n",
            "Context: في أجفان إعصارِ\tأمـا سـئمتَ ارتـحالاً أيّها الساري ؟, Predicted Gloss: gloss.4502, Correct Gloss: gloss.4498\n",
            "Context: محتويات ١ تطعيمات الأطفال ٢ فوائد تطعيم الأطفال ٣ الأمراض التي تُغطى بالتطعيمات ٤ أنواع تطعيمات الأطفال ٥ كيفية تطعيم الأطفال ٦ الآثار الجانبية لتطعيمات الأطفال ٧ جدول التطعيمات في بعض الدول العربية ٨ فيديو تعريف المطاعيم وكيفية التعامل معها ٩ المراجع ما هي تطعيمات الأطفال تطعيمات الأطفال تُعد المطاعيم التي تُعطى للأطفال وسيلة لخلق مناعة تجاه بعض الأمراض التي من الممكن أن تصيبهم،, Predicted Gloss: gloss.354, Correct Gloss: gloss.353\n",
            "Context: ان العيّنة تعكس المعلوماتِ المجمعة عن بَعْض عناصر ِالمجتمع كما ان العيّنة الجيدة يَجِبُ أَنْ تعكس كُلّ الخصائص والمميزات للمجتمع وهذه العينات بالإمكان أَنْ تعكس الخصائص المهمة للمجتمع الذي سحبت منه بدرجاتِ دقّةِ مختِلفة ., Predicted Gloss: gloss.2479, Correct Gloss: gloss.2480\n",
            "Context: - يَتضمّنُ كُلّ تلك الطرقِ التي تُستَعملُ لاجل التعميم حول خصائص المجتمع على أساس العيّنة ،, Predicted Gloss: gloss.4940, Correct Gloss: gloss.4939\n",
            "Context: وأثنى القائد السابق للقوات الكينية العميد نياجه على قوات بلاده على صمودها في تنفيذ تفويض بعثة الاتحاد الإفريقي في الصومال وحثها على الالتزام بضمان استمرار النجاح., Predicted Gloss: gloss.9410, Correct Gloss: gloss.9409\n"
          ]
        },
        {
          "output_type": "stream",
          "name": "stderr",
          "text": [
            "Evaluating:  78%|███████▊  | 3490/4496 [00:07<00:02, 343.64pair/s]"
          ]
        },
        {
          "output_type": "stream",
          "name": "stdout",
          "text": [
            "Context: ُقُتـل بسـيوفهم., Predicted Gloss: gloss.9802, Correct Gloss: gloss.9797\n",
            "Context: - وزارة الشؤون الدينية والأوقاف وزارة مفصلية لأنها تتعلق بهموم المجتمع وأهمها الأمور الدينية والحياتية ومجالاتها الاجتماعية والثقافية والصحية وغيرها من المجالات وكثير من الناس يجهلون اهمية الوزارة وهي بمثابة سلاح مشاة وموجودين على الأرض في كافة الاتجاهات كالمساجد والمدارس وغيرها من مجالات الحياة ولكي تأخذ الوزارة مركزها الصحيح والفعلي لدينا المبررات لتكون سيادية., Predicted Gloss: gloss.689, Correct Gloss: gloss.688\n",
            "Context: وهي واحدة من الدول القليلة البلدان في أفريقيا تحتل مرتبة عالية في مؤشر التنمية البشرية،, Predicted Gloss: gloss.6717, Correct Gloss: gloss.6712\n",
            "Context: والعمل معا في البحث, Predicted Gloss: gloss.2307, Correct Gloss: gloss.2308\n",
            "Context: ان تراعى العدالة والمساواة فى فرض الايرادات بحيث لا يطالب الفرد بغير ما يفرضه القانون ولا يفرض عليه اكثر مما تحتمله طاقته وتستدعيه الضرورة., Predicted Gloss: gloss.11344, Correct Gloss: gloss.11342\n",
            "Context: - التطور التاريخي لنظرية المنظمة و النماذج التقليدية و الحديثة فيها ( التقليدية ،, Predicted Gloss: gloss.3288, Correct Gloss: gloss.3285\n",
            "Context: تبدأ بالأهداف،, Predicted Gloss: gloss.2782, Correct Gloss: gloss.2784\n",
            "Context: ومقابل الصحيح أنه يقتضي التكرار ( 7 ) ،, Predicted Gloss: gloss.8240, Correct Gloss: gloss.8238\n",
            "Context: [2] عانت موريتانيا من مستويات عالية من انعدام الأمن الغذائي،, Predicted Gloss: gloss.4992, Correct Gloss: gloss.4989\n",
            "Context: أساســيًاً فــي محاربــة فيــروس نقــص المناعــة البشــري /الإيدز،, Predicted Gloss: gloss.230, Correct Gloss: gloss.227\n",
            "Context: وكانت الشركة طرحت فى شهر نوفمبر الماضي موديلها الجديد من جهازها المعروف \"بريف\" والذى يعمل لأول مره في تاريخ الشركة الكندية تحت نظام التشغيل \"اندرويد\" والذى وضعت فيه أملها لارتفاع مبيعات وتعويض خسائرها., Predicted Gloss: gloss.1599, Correct Gloss: gloss.1590\n",
            "Context: تمتلك هذه الغُدد بالإضافة إلى غددِ الرائحة في خواصرِ الأقداد (الهامسترات) تركيبًا مشابهًا لغدد الإنسان الدُهنية،, Predicted Gloss: gloss.6448, Correct Gloss: gloss.6447\n",
            "Context: وقال بلقاسمي, وهو أيضا كاتب نص هذا العمل, أن هذا الفيلم يحيل إلى \"قصص ومواقف حقيقية عاشها وهو شاب في قريته الجبلية (.., Predicted Gloss: gloss.3258, Correct Gloss: gloss.3256\n",
            "Context: وخاصةً في الوجه والأكتاف وأعلى الصدر والظهر،, Predicted Gloss: gloss.2044, Correct Gloss: gloss.2042\n",
            "Context: Polio) ينتقل هذا الفيروس من شخص إلى آخر،, Predicted Gloss: gloss.576, Correct Gloss: gloss.577\n",
            "Context: إنهـم دسـوا لـي كاسـيتًاً فظيعـًاً “يتضمـن مشـاهد اللحظــات الأخيــرة مــن حيــاة ابنــي الأصغــر”., Predicted Gloss: gloss.9534, Correct Gloss: gloss.9533\n",
            "Context: على أن يصدر قرار النزع من وزير الصناعة والكهرباء ،, Predicted Gloss: gloss.11779, Correct Gloss: gloss.11777\n",
            "Context: والشكل للدالة التراكمية (التجميعية) يكون كالاتي, Predicted Gloss: gloss.4626, Correct Gloss: gloss.4622\n",
            "Context: ولذلكَ تَمَّ تَغييرُهُ إلى آليــَّة تَغليفٍ أُفقيٍّ., Predicted Gloss: gloss.2418, Correct Gloss: gloss.2416\n",
            "Context: إذ يلاحظ أن بعض العروض التي تختص بالطفل العراقي قد ابتعدت عن تجسيد تلك الشخصيات الخيالية؛, Predicted Gloss: gloss.387, Correct Gloss: gloss.386\n",
            "Context: 718) وللتوزيع الطبيعي ., Predicted Gloss: gloss.4742, Correct Gloss: gloss.4740\n"
          ]
        },
        {
          "output_type": "stream",
          "name": "stderr",
          "text": [
            "Evaluating:  79%|███████▉  | 3568/4496 [00:07<00:02, 365.67pair/s]"
          ]
        },
        {
          "output_type": "stream",
          "name": "stdout",
          "text": [
            "Context: ٣١٦ جهاز نقل الحركة اليدوي., Predicted Gloss: gloss.476, Correct Gloss: gloss.473\n",
            "Context: \tتعريف النفاس وحوادثه, Predicted Gloss: gloss.12896, Correct Gloss: gloss.12895\n",
            "Context: حسبما أعلن الموقع الرسمي لإمارة مكة المكرمة على تويتر., Predicted Gloss: gloss.4773, Correct Gloss: gloss.4765\n",
            "Context: - شركة عامة ترغب في معرفة تاثير اعلانات التلفزيون لمنتج جديد من المشروبات الغازية وبعد ملاحظة الاعلانات لمدة اسبوع اختارت الشركة عينة من الاشخاص بصورة عشوائية ومن مركز تجاري لذلك من بين الاسئلة التي تطرحها الشركة ما يلي, Predicted Gloss: gloss.5359, Correct Gloss: gloss.5357\n",
            "Context: 09٪ في (جزر فارو) إلى 2., Predicted Gloss: gloss.2624, Correct Gloss: gloss.2622\n",
            "Context: تم إنشاء هذا الدستور كاملا من مقاطع من النصوص من مستودع مشروع الدساتير المقارنة ،, Predicted Gloss: gloss.7073, Correct Gloss: gloss.7071\n",
            "Context: وقال بلقاسمي, وهو أيضا كاتب نص هذا العمل, أن هذا الفيلم يحيل إلى \"قصص ومواقف حقيقية عاشها وهو شاب في قريته الجبلية (.., Predicted Gloss: gloss.2226, Correct Gloss: gloss.2229\n",
            "Context: فهو يسمح برؤية الأشياء الصغيرة جدا التي لا ترى بالعين المجردة., Predicted Gloss: gloss.277, Correct Gloss: gloss.274\n",
            "Context: وإنما تنطبق على المشحونات الأخرى التي تكون طبيعة الأشياء المطلوب نقلها وحالتها وظروف شحنها والظروف والمواعيد والشروط التي يجب أن يتم فيها النقل من شأنها أن تبرر اتفاقا خاصا ., Predicted Gloss: gloss.2786, Correct Gloss: gloss.2787\n",
            "Context: إدوارد فيركين - كاتب, Predicted Gloss: gloss.1864, Correct Gloss: gloss.1861\n",
            "Context: العراق دولة ذات سيادة مستقلة حرة., Predicted Gloss: gloss.6424, Correct Gloss: gloss.6423\n",
            "Context: اللقاح الثلاثي الفيروسي (الجرعة الأولى):, Predicted Gloss: gloss.1333, Correct Gloss: gloss.1331\n",
            "Context: تظل تونس دولة مركزية بحكم نظام شبه رئاسي وديمقراطية تمثيلية., Predicted Gloss: gloss.7242, Correct Gloss: gloss.7243\n",
            "Context: على أن يحتوي على شبه منحرف أحمر من جهة السارية تكون قاعدته العظمى مساوية لعرض العلم،, Predicted Gloss: gloss.2211, Correct Gloss: gloss.2210\n",
            "Context: بسبب ارتفاع مستويات الأندروجينات., Predicted Gloss: gloss.1506, Correct Gloss: gloss.1507\n",
            "Context: وأنا أقسم بالله ما كانت الملائكة ليقدروا على ذلك ولا ليفعلوا حتى أمروا به لأن الله تعالى قال لا يسبقونه بالقول وهم بأمره يعملون وانه أثبتت هذه الآية في سورة حم عسق وفسرت في حم الكبرى قال الذين يحملون العرش ومن حوله يسبحون بحمد ربهم ويؤمنون به ويستغفرون للذين ءامنوا الآيات, Predicted Gloss: gloss.2541, Correct Gloss: gloss.2540\n",
            "Context: والعائلة في خصائصها الأساسية صورة مصغرة عن المجتمع فالقيم التي تسودها من سلطة وتبعية وقمع هي نفسها التي تسود العلاقات الاجتماعية., Predicted Gloss: gloss.13657, Correct Gloss: gloss.13656\n",
            "Context: فـي نسـب الإصابـة بمـرض مـا ،, Predicted Gloss: gloss.2532, Correct Gloss: gloss.2534\n",
            "Context: و توصلت الدراسة إلى بعض التوصيات وُجِّهت لمعدي المراجعات الإلكترونية كانّ أهمها :, Predicted Gloss: gloss.387, Correct Gloss: gloss.386\n",
            "Context: ويكون من الضروريُ أعتماد درجة معقولة أَو معيار للدقةِ في المقاييسِ حيث ان درجة الدقةِ تعتمدُ على طبيعةِ وموضوعية الوقتِ والمصادرِ المتوفرة ِعلى سبيل المثال ،, Predicted Gloss: gloss.4742, Correct Gloss: gloss.4740\n",
            "Context: الصادر بالأمر الملكي رقم (أ/١٣) وتاريخ ٣ / ٣ / ١٤١٤ هـ., Predicted Gloss: gloss.10193, Correct Gloss: gloss.10192\n",
            "Context: فكان علم المعاني الأكثر مادة في رسالتي،, Predicted Gloss: gloss.2351, Correct Gloss: gloss.2349\n",
            "Context: وإفترضَ وبصورةُ تقريبية وجود نفس عددِ الطلاب بعمر 6 سنوات في هذه المدارس عندها سيتم اَختيار كُلّ ألاطفال بعمر  6  سنوات مِنْ هذه المَدارِسِ هذا مثالُ لسحب العينات العنقوديِة ،, Predicted Gloss: gloss.5210, Correct Gloss: gloss.5209\n",
            "Context: فقال له الهرمزان وهو ملك الاهواز وقد اسر عند فتوح فارس وحمل الى عمر واسلم على يديه أن للعجم حسابا يسمونه ماه روز ويسندونه الى من غلب عليهم الاكاسرة فعربوا لفظة ماه روز بمورخ ومصدره التاريخ واستعملوه في وجوه التصريف, Predicted Gloss: gloss.8979, Correct Gloss: gloss.8976\n",
            "Context: وبعد وفاة الرسول اتعبت قبيلة بني حنيفة لمسيلمة الكذاب وارتدوا فتركهُم ثمامة ومن معه ممن ثبتوا على إسلامهم للانضمام لجيوش المسلمين لقتال المرتدين مع العلاء بن الحضرمي, Predicted Gloss: gloss.9005, Correct Gloss: gloss.9003\n",
            "Context: والمليبيد حتى تكاثر بنو مانع بن ربيعة وقام الإمام محمد بن عبد الوهاب بدعوته وذهب من العيينة إلى الدرعية عند محمد بن سعود الذي أسس لاحقاً الدولة السعودية الأولى محمد بن سعود مؤسس الدولة السعودية الأولى وابنه عبد العزيز حوالي خمس وثلاثين غزوة على مدار عام ضد دهام بن دواس أمير الرياض, Predicted Gloss: gloss.9042, Correct Gloss: gloss.9041\n"
          ]
        },
        {
          "output_type": "stream",
          "name": "stderr",
          "text": [
            "Evaluating:  81%|████████▏ | 3653/4496 [00:07<00:02, 375.96pair/s]"
          ]
        },
        {
          "output_type": "stream",
          "name": "stdout",
          "text": [
            "Context: وبدأ الغزو الاجنبي عبر هضبة ايران وتركيا في المشرق العربي ومن اوربا عبر المغرب العربي وبذلك بدأت مرحلة الغزو والأستعمار التي استمرت حتى القرن العشرين تعرض خلالها الوطن العربي لغزوات متعددة من المغول والفرس والعثمانيين والاوربيين وغيرهم ., Predicted Gloss: gloss.2782, Correct Gloss: gloss.2784\n",
            "Context: كما تعدّ ثاني أكبر دولة من حيث عدد السكان بعد جمهوريّة الصين الشعبيّة،, Predicted Gloss: gloss.9908, Correct Gloss: gloss.9909\n",
            "Context: والمَنهجيَّة المُتَّبعة في هَذهِ الحالة تَشملُ التَّحكُّمَ البسيط،, Predicted Gloss: gloss.6994, Correct Gloss: gloss.6993\n",
            "Context: تملؤه بلايين الوحدات الكونية بأشكال وأحجام مختلفة مع غازات كونية أهمها غاز الهيدروجين ،, Predicted Gloss: gloss.15817, Correct Gloss: gloss.15816\n",
            "Context: أكد روبرتو مارتينيز مدرب ايفرتون الذي ينافس في الدوري الانجليزي الممتاز لكرة القدم ان ناديه قادر على الصمود في وجه أي عروض للتعاقد مع لاعب الوسط روس باركلي في فترة الانتقالات الشتوية لان ايفرتون في وضع اقتصادي قوي., Predicted Gloss: gloss.2282, Correct Gloss: gloss.2272\n",
            "Context: قَدْ نَجِدُ ان كُلّ البلدان وبصورة تقريبية كَانتَ تمتلك ِنظام لجمع البياناتِ ،, Predicted Gloss: gloss.3100, Correct Gloss: gloss.3098\n",
            "Context: لضمان السلامة و الأمان ١, Predicted Gloss: gloss.3268, Correct Gloss: gloss.3267\n",
            "Context: بعد إتمام التمرين تم تقييم كل المجموعات مرة أخرى على تحضير تجويف الفئة الأولى للحشوات من قبل اثنين من المشرفين على أساس خطوات مفصلة أعطت للطلبة قبل بداية تحديد المستوى والإعداد الاخير لتجاويف الأسنان., Predicted Gloss: gloss.11364, Correct Gloss: gloss.11366\n",
            "Context: ويرد تعريفه في موسوعة (لالاند) على أنه \"نسخ حسي أو ذهني لما أدركه البصر مع أو بدون تركيب جديد للعناصر التي تؤلف هذه الخيلة\" أو أنه \"تمثيل عيني من إنشاء فعالية الفكر،, Predicted Gloss: gloss.7181, Correct Gloss: gloss.7179\n",
            "Context: تغيُّرُ أبعاد الظّلّ ....................., Predicted Gloss: gloss.5811, Correct Gloss: gloss.5805\n",
            "Context: يسرني وقد أنهيت إعداد رسالتي هذه إلى أن أقدم شكري وتقديري وأمتناني إلى أستاذي الفاضل الأستاذ الدكتور محمد غانم لإشرافه وإبداء توجيهاته السديدة طوال مدة البحث , ولما قدمه لي من مساعدة ومتابعة من أجل إنجاز هذه الرسالة فجزاه الله عني خير الجزاء ., Predicted Gloss: gloss.4940, Correct Gloss: gloss.4939\n",
            "Context: وهذه هي المرة الأولى التي تعلن فيها الحكومة الهولندية تفاصيل عن هذه الغارة الجوية التي استهدفت ما يُرجح أنه مصنع للقنابل كان يتبع التنظيم في الحويجة شمال العاصمة العراقية بغداد., Predicted Gloss: gloss.3903, Correct Gloss: gloss.3897\n",
            "Context: والقسم الأول هو الاعتدال الذي للإنسان بالقياس إلى سائر الكائنات وهو شيء له عرض وليس منحصرا في حد وليس ذلك أيضا كيف اتفق بل له في الإفراط والتفريط حدان إذا خرج عنهما بطل المزاج عن أن يكون مزاج إنسان ., Predicted Gloss: gloss.12933, Correct Gloss: gloss.12932\n",
            "Context: وهي منظمة ترصد الضحايا المدنيين،, Predicted Gloss: gloss.14150, Correct Gloss: gloss.14148\n",
            "Context: لا يتوافـر لهـذا لأي شـيء إذ تـم اسـتئصال الحنجـرة وحتـى القسـم العلـوي مـن القصبـات والرغامـى., Predicted Gloss: gloss.6469, Correct Gloss: gloss.6468\n",
            "Context: جاء الاعتداء على مقر الأمم المتحدة في مقديشو ليذكر بأن مستنقع العنف لا يزال يتهدد البلاد., Predicted Gloss: gloss.2748, Correct Gloss: gloss.2749\n",
            "Context: في شأن مشروع نظام مكافحة جرائم الإرهاب وتمويله ., Predicted Gloss: gloss.3985, Correct Gloss: gloss.3968\n",
            "Context: ولا يحل له أن ينظر إلى مسلم بنظرة تؤذيه إلا أن يكون فاسقاً فيجب هجرانه ويجب عليه حفظ جميع جوارحه ما استطاع., Predicted Gloss: gloss.15254, Correct Gloss: gloss.15252\n",
            "Context: السيد رئيس الحكومة شخص الداء دون أن يشير إلى إمكانيات العلاج.., Predicted Gloss: gloss.4042, Correct Gloss: gloss.4038\n",
            "Context: وطلب رئيس الفصيل المنشّق العقيد منير المقدح اثناء جولتنا في المخيم أن اسأل أطفالاً يلعبون في احدى الساحات عن جنسيتهم ،, Predicted Gloss: gloss.6361, Correct Gloss: gloss.6363\n",
            "Context: جاء ذلك وفق بيان صحفي ل(الدفاع) مساء اليوم السبت خلال استقبال الشيخ حمد الجابر مجموعة من علماء ومشايخ الدين في الكويت وهم الدكتور عثمان الخميس والدكتور نايف العجمي والدكتور فرحان الشمري والدكتور خالد العتيبي والدكتور محمد العصيمي الذين أكدوا بدورهم على ضرورة مراعاة الضوابط في عمل المرأة ببعض الوظائف الخاصة بالسلك العسكري من خلال استفتاء هيئة الافتاء في وزارة الأوقاف والشؤون الاسلامية., Predicted Gloss: gloss.1411, Correct Gloss: gloss.1408\n",
            "Context: في ظل التطورات المتسارعة التي تشهدها الاسواق العالمية, اكتسبت سلاسل التوريد مكانة كبرى لدى مختلف المؤسسات كميزة تنافسية تعزز تموضع المؤسسة في اسواق العمل, و أصبح وجود سلسلة توريد كفؤة مسألة وجود بالنسبة لكثير من المؤسسات (Quayle, 2006, P5)., Predicted Gloss: gloss.2642, Correct Gloss: gloss.2641\n",
            "Context: وهو ما يشير إلى القلق بوجود هذه المشكلة التي تتمنى شرطة عمان السلطانية من المواطنين المساهمة معها في سبيل القضاء على هذه الظاهرة, Predicted Gloss: gloss.4930, Correct Gloss: gloss.4928\n",
            "Context: فإن الأم أو الشخص القائم برعاية الطفل هي التي تمثّل أولى الاتصالات الاجتماعية للطفل, وتبرز البيئة من خلال ثدي الأم أو الزجاجة البديلة مصدر الرضاعة الصناعية؛, Predicted Gloss: gloss.3053, Correct Gloss: gloss.3054\n",
            "Context: بِحيثُ يَتمّ التَّحكُّم به عن طريقِ جِهازِ تَحكُّمٍ مَنطقيٍّ ومُبرمَجٍ،, Predicted Gloss: gloss.536, Correct Gloss: gloss.537\n",
            "Context: الوسط الحسابي المرجح ،, Predicted Gloss: gloss.4640, Correct Gloss: gloss.4639\n"
          ]
        },
        {
          "output_type": "stream",
          "name": "stderr",
          "text": [
            "Evaluating:  83%|████████▎ | 3727/4496 [00:08<00:02, 340.72pair/s]"
          ]
        },
        {
          "output_type": "stream",
          "name": "stdout",
          "text": [
            "Context: تآلف معرفي عابر للتخصصات \" بمناسبة إحياء اليوم العربي للغة الضاد،, Predicted Gloss: gloss.2399, Correct Gloss: gloss.2396\n",
            "Context: قال الفريق بالقوات الجوية الأمريكية جون هيسترمان في مؤتمر صحفي إن \"قذائف صغيرة جدا أُلقيت على منشأة معروفة لتجهيز السيارات المفخخة الكائن بمنطقة صناعية., Predicted Gloss: gloss.2767, Correct Gloss: gloss.2765\n",
            "Context: وَلَيْسَ كَذَلِكَ وَأُجِيبَ عَنْ الْأَوَّلِ أَنَّهُ بِاعْتِبَارِ الْغَالِبِ وَعَنْ الثَّانِي بِأَنَّ فِيهِ مُقَدَّرًا وَهُوَ مَا ذَكَرْنَاهُ ،, Predicted Gloss: gloss.1599, Correct Gloss: gloss.1589\n",
            "Context: فهو يسمح برؤية الأشياء الصغيرة جدا التي لا ترى بالعين المجردة., Predicted Gloss: gloss.290, Correct Gloss: gloss.289\n",
            "Context: فصل الباء, Predicted Gloss: gloss.2369, Correct Gloss: gloss.2368\n",
            "Context: على بابه مومياء, Predicted Gloss: gloss.2109, Correct Gloss: gloss.2110\n",
            "Context: وبكل الظواهر التي تتعلق بهذه الطاقة كعملية انتقال الحرارة من جسم لآخر،, Predicted Gloss: gloss.576, Correct Gloss: gloss.578\n",
            "Context: و تجريدها من الشوائب التي أُدخلت عليها ،, Predicted Gloss: gloss.1616, Correct Gloss: gloss.1617\n",
            "Context: ويشير الى وجود اتجاه عام متزايد لصادرات الشركة لغاية عام (2020) ., Predicted Gloss: gloss.2097, Correct Gloss: gloss.2098\n",
            "Context: أما تاريخ نهايتهما فتوجد فيه عدة آراء وتربط مصادر عديدة زوالهم بالغزو الحميري أن نهاية طسم وجديس كانت في أوائل القرن الخامس الميلاي, Predicted Gloss: gloss.4792, Correct Gloss: gloss.4791\n",
            "Context: فلم يعد كافياً اعتماد نهج ثقافي, حيث نضع بعض الالتزمات الناشئة عن الحماية القانونية للمباني التاريخية, بل يجب استكمال هياكل الدعم التقليدية (Jean, 1987) أو الاستعاضة عن أساليب التمويل المناسبة إلى التقنيات والإجراءات المستخدمة لتنفيذ سياسة التوسع الاقتصادي والتنمية الإقليمية., Predicted Gloss: gloss.9130, Correct Gloss: gloss.9129\n",
            "Context: ودار الحديث حول تعزيز العلاقات الثنائية والتعاون المشترك والتطورات الراهنة على الساحة الإقليمية والدولية ذات الاهتمام المشترك., Predicted Gloss: gloss.9704, Correct Gloss: gloss.9702\n",
            "Context: فالملك ينتقل إلى أقرب الذكور من اخوته،, Predicted Gloss: gloss.576, Correct Gloss: gloss.578\n",
            "Context: وتشكل المدينة ساحة عمل مفتوحة لعدد من المشاريع الكبرى القائمة في السعودية كمركز الملك عبدالله المالي ومشروع مترو الرياض كما تعتبر وجهة يقصدها المواطنون والمقيمون للبحث عن الأعمال ويتركز فيها من قوة العمل في السعودية حيث وصل حجم القوة العاملة فيها عام إلى ملايين عامل, Predicted Gloss: gloss.2226, Correct Gloss: gloss.2225\n",
            "Context: تظهر الغدد الدُهنية للمرةِ الأولى ما بين الأسبوع الثالث عشر والسادس عشر من تطور الجنين،, Predicted Gloss: gloss.1129, Correct Gloss: gloss.1134\n",
            "Context: ولذلكَ تَمَّ تَغييرُهُ إلى آليــَّة تَغليفٍ أُفقيٍّ., Predicted Gloss: gloss.536, Correct Gloss: gloss.537\n",
            "Context: كما أتقدم بخالص شكري وأمتناني إلى عمادة كلية الهندسة التقنية ممثلة بالدكتورة ميساء شاش لما قدمته وما زالت تقدمه لي ولكامل زملائي في الكلية من دعم وتشجيع للمضي بشعلة العلم والمعرفة في وطننا الحبيب, وأشكر العمادة لإتاحة الفرصة لي لإكمال دراستي هذه والتي كان لها الفضل بتذليل المصاعب التي واجهتني, كما وأشكر أعضاء الهيئة التعليمية في الكلية وفي قسم المكننة الزرعية على كامل الدعم وعلى النصائح والإرشادات التي قدموها لي لإغناء هذا البحث., Predicted Gloss: gloss.8382, Correct Gloss: gloss.8381\n",
            "Context: التهاب الغدة الدهنية هو مرض مناعي ذاتي يُؤثرُ على الغدد الدُهنية،, Predicted Gloss: gloss.1129, Correct Gloss: gloss.1134\n",
            "Context: ويُعد اغتصاب فلسطين عام 8491 م وقيام الكيان الصهيوني من اهم القضايا التي أثارت اهتمام العرب., Predicted Gloss: gloss.5199, Correct Gloss: gloss.5200\n",
            "Context: إن أغلب النكت المحاكة حول شخصية الجماني تضمنت خطابا أنتجه المجتمع المغربي حول ذاته وحول الآخر., Predicted Gloss: gloss.12088, Correct Gloss: gloss.12087\n",
            "Context: الهدف الأول في مرمى المقاولون العرب بالرأس والهدف الثاني في مرمى انبي من تسديدة مباغتة وصنع هدفًا في مباراة انبي من تسديدة قوية أكملها زميله في الشباك وكان له تسديده في العارضة ., Predicted Gloss: gloss.1618, Correct Gloss: gloss.1621\n",
            "Context: فأمّنه رسول الله صلى الله عليه وسلم وحسن اسلامه., Predicted Gloss: gloss.6861, Correct Gloss: gloss.6862"
          ]
        },
        {
          "output_type": "stream",
          "name": "stderr",
          "text": [
            "Evaluating:  85%|████████▍ | 3820/4496 [00:08<00:01, 395.07pair/s]"
          ]
        },
        {
          "output_type": "stream",
          "name": "stdout",
          "text": [
            "\n",
            "Context: فالعملية تستدعي البحث لإيجاد سمات الشخصية الخيالية في المدونة (النص المسرحي) و(العرض المسرحي)،, Predicted Gloss: gloss.4915, Correct Gloss: gloss.4912\n",
            "Context: وتبدأ بأنتهاء الحرب العالمية الاولى سنة 8191 م حين شهد وطننا العربي نهضة عربية شاملة ،, Predicted Gloss: gloss.1942, Correct Gloss: gloss.1935\n",
            "Context: فوجـئ بـأن كل الأنظـار لـم ُتُصـوب إليـه وأنهـم لـم يسـتغربوا أنـه هـو أيضـًاً تكبـد عنـاء الاهتمـام بهندامـه،, Predicted Gloss: gloss.5123, Correct Gloss: gloss.5129\n",
            "Context: وتبدأ بأنتهاء الحرب العالمية الاولى سنة 8191 م حين شهد وطننا العربي نهضة عربية شاملة ،, Predicted Gloss: gloss.7794, Correct Gloss: gloss.7792\n",
            "Context: واختار أوباما - الذي يخوض معركة لإعادة انتخابه في نوفمبر / تشرين الثاني - إستراتيجية حذرة تجنبت قيام الجيش الأميركي بدور مهيمن ،, Predicted Gloss: gloss.5206, Correct Gloss: gloss.5205\n",
            "Context: وذلك بسبب الدور الرئيسي الذي يمكن أن تضطلع به في تعزيز السياحة وزيادة الفرص الاقتصادية, بالإضافة إلى التنمية المستدامة على المدى الطويل, Predicted Gloss: gloss.6324, Correct Gloss: gloss.6325\n",
            "Context: اندفعوا على شكل موجات غازية احتلت أجزاء واسعة من الصين والهند وايران مسببة الدمار والتخريب ثم اتجهوا نحو الدولة العربية الاسلامية مستغلين حالة الضعف والانقسام فيها وتمكنوا بقيادة هولاكو من احتلال بغداد وأنهوا الخلافة العباسية سنة ) 656 هـ / 8521 م ( وقتلوا الخليفة المستعصم بالله وجمعاً كبيراً من الناس بينهم العلماء والمفكرون ،, Predicted Gloss: gloss.7236, Correct Gloss: gloss.7234\n",
            "Context: مبادى الاحصاء والاحتمالات, Predicted Gloss: gloss.4582, Correct Gloss: gloss.4581\n",
            "Context: حب الشباب, Predicted Gloss: gloss.6162, Correct Gloss: gloss.6161\n",
            "Context: وكان التحدي الذي يواجهونه هو أنهم إذا أرادوا استخدام عمليات مسح الدماغ من مؤسساتٍ أخرى،, Predicted Gloss: gloss.3628, Correct Gloss: gloss.3626\n",
            "Context: والتظلم من قرارات اللجان والأجهزة الإدارية الصادرة بشأنها- على حالات نزع ملكية العقارات للمنفعة العامة السابقة لنفاذه التي وردت أو ترد بها شكاوى بعدم اتباع الإجراءات النظامية بشأنها،, Predicted Gloss: gloss.476, Correct Gloss: gloss.474\n",
            "Context: وهم سواء فيما يرجع للشروط المطلوبة لنيلها., Predicted Gloss: gloss.2323, Correct Gloss: gloss.2322\n",
            "Context: نؤكد تصميمنا على دعم وحماية استقلال الوطن الصومالي وحق شعبه في الحرية وفي ظل ديمقراطية مؤسسة على سيادة الشعب وعلى المساواة في الحقوق والواجبات بين المواطنين جميعا ., Predicted Gloss: gloss.7242, Correct Gloss: gloss.7243\n",
            "Context: ويرد تعريفه في موسوعة (لالاند) على أنه \"نسخ حسي أو ذهني لما أدركه البصر مع أو بدون تركيب جديد للعناصر التي تؤلف هذه الخيلة\" أو أنه \"تمثيل عيني من إنشاء فعالية الفكر،, Predicted Gloss: gloss.8858, Correct Gloss: gloss.8857\n",
            "Context: وتعتبر العاصمة السعودية إحدى أسرع مدن العالم توسعًا فخلال نصف قرن من نشأتها اتسعت مساحة المدينة الصغيرة إلى كيلو متر مربع حتى بلغت كم في الوقت الحاضر اكتسبت الرياض أهمية تاريخية وسياسية وتجارية منذ أن كانت مدينة قديمة وعاصمة لإقليم اليمامة تسمى حجر وبعد مرور عام على اختيارها كعاصمة للدولة السعودية الثانية ثم الثالثة كانت الرياض ومازالت مسرحا للعديد من الأحداث السياسية والاقتصادية والثقافية حيث نالت لقب عاصمة الثقافة العربية في عام وعاصمة الإعلام العربي في واستضافت العديد من المؤتمرات والقمم المحلية والخليجية والعربية والعالمية كانت آخرها قمة الرياض والقمة الخليجية, Predicted Gloss: gloss.8561, Correct Gloss: gloss.8560\n",
            "Context: تشغيل المصابيح والماسحات مفتاح المصابيح الأمامية الرئيسية., Predicted Gloss: gloss.6845, Correct Gloss: gloss.6843\n",
            "Context: نقطتين بالفم., Predicted Gloss: gloss.1709, Correct Gloss: gloss.1708\n",
            "Context: وفي عام جرت سلسلة تفجيرات في مجمعات سكنية يقطنها أغلبية من المقيمون عرفت إحداها بتفجيرات مجمع المحيا السكني خلفت في مجملها قتيل و مصاب وأعلنت الجهات الأمنية السعودية مسؤولية تنظيم القاعدة عنها, Predicted Gloss: gloss.1121, Correct Gloss: gloss.1122\n",
            "Context: حيث يؤدي إلى تغييراتٍ في الغدد الدهنية., Predicted Gloss: gloss.1129, Correct Gloss: gloss.1134\n",
            "Context: في العام الماضي 2021 استطعنا ان نسترد قرابة الخمسة وثمانون وقف جديد وقمنا بزيادة ريع الاوقاف وذلك بتطبيق أجرة المثل وقد وجدنا دكان يستأجر بمائتي جنيه فقط مقابل الشهر وتمت معالجة وتنمية الريع بتطبيق أجرة المثل على جميع أوقافنا في السودان., Predicted Gloss: gloss.7079, Correct Gloss: gloss.7078\n",
            "Context: فقـد ظهـرت بنـت فـي الثانيـة عشـرة مـن العمـر ،, Predicted Gloss: gloss.1818, Correct Gloss: gloss.1801\n",
            "Context: مقامرون غربيينِ بَدأئؤ بإسْتِعْمال الإحصائياتِ لأنهم أرادوا أَنْ يَعْرفوا معلومات اكثر دقّةً عن تخمينات الإحتمالاتِ في منضدةِ القمارَ وهذا قادَ بدوره إلى تطويرِ ' نظرية إلاحتمال ،, Predicted Gloss: gloss.4590, Correct Gloss: gloss.4589\n",
            "Context: ما ينبغي تنفيذه عند وجود خلل أو عند الطوارئ, Predicted Gloss: gloss.6748, Correct Gloss: gloss.6747"
          ]
        },
        {
          "output_type": "stream",
          "name": "stderr",
          "text": [
            "Evaluating:  87%|████████▋ | 3912/4496 [00:08<00:01, 410.04pair/s]"
          ]
        },
        {
          "output_type": "stream",
          "name": "stdout",
          "text": [
            "\n",
            "Context: المجلس الأعلى للحج والعمرة،, Predicted Gloss: gloss.11434, Correct Gloss: gloss.11433\n",
            "Context: إنخفضت مشاركة القوى العاملة في موريتانيا على مدى العقدين الماضيين من 50., Predicted Gloss: gloss.4777, Correct Gloss: gloss.4775\n",
            "Context: من كليّة الطب البشري في جامعة تشرين, Predicted Gloss: gloss.2256, Correct Gloss: gloss.2242\n",
            "Context: مما أدى إلى تدمير عدد من المباني المجاورة للهدف في المنطقة،, Predicted Gloss: gloss.1618, Correct Gloss: gloss.1619\n",
            "Context: هو أحد المهرجانات التي تقام لاستقبال الربيع،, Predicted Gloss: gloss.8261, Correct Gloss: gloss.8260\n",
            "Context: إنخفضت مشاركة القوى العاملة في موريتانيا على مدى العقدين الماضيين من 50., Predicted Gloss: gloss.2709, Correct Gloss: gloss.2710\n",
            "Context: كُلِّ ذٰلِكَ مِن أَجْلِ المُحافَظَةِ عَلَى سَلامَة الإِنْسانِ وَصِحَّته فَقالَ عَلَيهِ الصَلاةِ وَالسَلامِ «غسل الجُمْعَةَ واجِبِ عَلَى كُلِّ محتلم»., Predicted Gloss: gloss.14788, Correct Gloss: gloss.14786\n",
            "Context: والأعضاء الرئيسة ثلاثة كما سنبين بعد هذا والبارد منها واحد وهو الدماغ ., Predicted Gloss: gloss.4042, Correct Gloss: gloss.4038\n",
            "Context: ان الشكل النقطي يعتبر اسلوب جذاب ومختصر لاجل وصف البيانات العددية وعندما تكون مجموعة البيانات ولسبب ما صغيرة او عندما تكون ذات عدد قليل ., Predicted Gloss: gloss.4940, Correct Gloss: gloss.4939\n",
            "Context: أحدهما يتعلق بالاختصاص أي بتوزيع السلطة القضائية التي تملكها الدولة في المحاكم المختلفة التابعة لها سواء بحسب قيمة الدعوى،, Predicted Gloss: gloss.4017, Correct Gloss: gloss.4016\n",
            "Context: وبذلك تَعْني الإحصائياتُ مجموعاً أَو مجموعة الأرقامِ العدديةِ التي تتَعلّقَ أحدهما بالآخر عدد السياراتِ المباعة في سَنَة معيّنة لا يُمكنُ أَنْ تَعتبر إحصائية ُ،, Predicted Gloss: gloss.4123, Correct Gloss: gloss.4124\n",
            "Context: وأضحى لسورية موقع سياسي مُُهم كونها قلب العروبة النابض وجبهة المواجهة مع العدو الصهيوني والحامل الأساس للمقاومة ضد الهيمنة الاستعمارية على الوطن العربي ومقدراته وثرواته،, Predicted Gloss: gloss.1180, Correct Gloss: gloss.1179\n",
            "Context: حيث أن أرض نجد كانت في السابق أكثر صلاحية للسكن والاستقرار من حيث خصوبة الأرض ووفرة المياه, Predicted Gloss: gloss.2189, Correct Gloss: gloss.2190\n",
            "Context: مع مراعاة الفوارق بالنسبة إلى احتساب بدية المواعيد التي اشتملت عليها الأحكام النظامية المذكورة ., Predicted Gloss: gloss.3100, Correct Gloss: gloss.3101\n",
            "Context: 1-2 بعض الاساسيات الاحصائية, Predicted Gloss: gloss.4585, Correct Gloss: gloss.4584\n",
            "Context: أجهزة السلطة المحلية\t23, Predicted Gloss: gloss.3552, Correct Gloss: gloss.3550\n",
            "Context: وبدأ الغزو الاجنبي عبر هضبة ايران وتركيا في المشرق العربي ومن اوربا عبر المغرب العربي وبذلك بدأت مرحلة الغزو والأستعمار التي استمرت حتى القرن العشرين تعرض خلالها الوطن العربي لغزوات متعددة من المغول والفرس والعثمانيين والاوربيين وغيرهم ., Predicted Gloss: gloss.8309, Correct Gloss: gloss.8308\n",
            "Context: تسري أحكام (نظام نزع ملكية العقارات للمنفعة العامة) ،, Predicted Gloss: gloss.11781, Correct Gloss: gloss.11780\n",
            "Context: أرجلهـم كان عليهــم أن يتنّقّلــوا عــدة مــرات بيــن الشــاحنة والبيــت الشــتوي وهــم ينقلــون علــى الزّلّجــات مــا أعــدّوه وأحضـروه مـن حاجـات للصيـد., Predicted Gloss: gloss.12575, Correct Gloss: gloss.12574\n",
            "Context: ولكن جعله كأخر علاج بين الزوجين بالنظر إلى خطورته على الأسرة والأبناء والمجتمع ككل،, Predicted Gloss: gloss.1050, Correct Gloss: gloss.1049\n",
            "Context: هو الرجل المسـتغرب وجوده هنـا،, Predicted Gloss: gloss.2642, Correct Gloss: gloss.2641\n",
            "Context: علم المملكة هو اللواء الأحمر الذي يتوسطه نجم أخضر خماسي الفروع., Predicted Gloss: gloss.5941, Correct Gloss: gloss.5940\n",
            "Context: قربت من الاعتدال الحقيقي وأما باعتبار كل عضو في نفسه إلا عضوا واحدا وهو الجلد على ما نصفه بعد ., Predicted Gloss: gloss.6143, Correct Gloss: gloss.6142\n",
            "Context: فقال له الهرمزان وهو ملك الاهواز وقد اسر عند فتوح فارس وحمل الى عمر واسلم على يديه أن للعجم حسابا يسمونه ماه روز ويسندونه الى من غلب عليهم الاكاسرة فعربوا لفظة ماه روز بمورخ ومصدره التاريخ واستعملوه في وجوه التصريف, Predicted Gloss: gloss.12758, Correct Gloss: gloss.12756\n",
            "Context: ولذلك نحن بصفتنا بشرًا أنشأنا الحكومات التي تنظم حق الأفراد في الحرية والملكية (1)., Predicted Gloss: gloss.7181, Correct Gloss: gloss.7179\n"
          ]
        },
        {
          "output_type": "stream",
          "name": "stderr",
          "text": [
            "Evaluating:  89%|████████▉ | 3997/4496 [00:08<00:01, 410.77pair/s]"
          ]
        },
        {
          "output_type": "stream",
          "name": "stdout",
          "text": [
            "Context: ووجه بعد اللقاء الجهات المعنية الى تأجيل إقامة الدورة للمتطوعات لحين مخاطبة وزارة الأوقاف والشؤون الإسلامية في هذا الشأن كما وعد بأن العمل على التحاق أولى دفعات المتقدمات للجيش الكويتي سيكون بعد وصول رد هيئة الافتاء الرسمي والنظر فيما يتضمنه من أحكام وضوابط وشروط يتم أخذها بعين الاعتبار والعمل بمقتضاها., Predicted Gloss: gloss.13580, Correct Gloss: gloss.13579\n",
            "Context: فقد قسم دستور عام 1925 العراق إلى مناطق إدارية وأوجب تعيين هذه المناطق وأنواعها وأسماؤها وكيفية تأسيس واختصاص موظفيها وألقابهم بقانون خاص., Predicted Gloss: gloss.2356, Correct Gloss: gloss.2355\n",
            "Context: وفي المقدمة (سليمان بن يعت) وكان بمثابة دليل للقافلة., Predicted Gloss: gloss.12829, Correct Gloss: gloss.12825\n",
            "Context: الصادر بالأمر الملكي رقم (أ/٩٠) وتاريخ ٢٧ / ٨ / ١٤١٢ هـ., Predicted Gloss: gloss.10193, Correct Gloss: gloss.10192\n",
            "Context: الآثار والعاديات التي اكتشفوها في بلادنا بينما نحن في غفلة عنها وعن المنقبين وكل ما عثروا عليه منقوش على الحجارة أو الصخر أو الآجر أو الفخار أو ما ضاهي هذه المواد من مشوية في النار أو غير مشوية في النار أو غير مشوية أو مقطوعة من مقالعها ومدافنها أو غير ذلك., Predicted Gloss: gloss.11015, Correct Gloss: gloss.11014\n",
            "Context: وبعـد التحـول إلـى الأبجديـة الكيريليـة عـام 1938 نشـطت الحركـة الأدبيـة الشيشــانية وظهــر كتــاب يعتبــرون مــن رواد الأدب الشيشــاني فــي الفتــرة الســوفيتية،, Predicted Gloss: gloss.10279, Correct Gloss: gloss.10278\n",
            "Context: الفصل الأول, Predicted Gloss: gloss.1599, Correct Gloss: gloss.1590\n",
            "Context: فقال له الهرمزان وهو ملك الاهواز وقد اسر عند فتوح فارس وحمل الى عمر واسلم على يديه أن للعجم حسابا يسمونه ماه روز ويسندونه الى من غلب عليهم الاكاسرة فعربوا لفظة ماه روز بمورخ ومصدره التاريخ واستعملوه في وجوه التصريف, Predicted Gloss: gloss.12755, Correct Gloss: gloss.12744\n",
            "Context: كان الكاتب يحتاج إلى أشياء منها نحو ما يكتب بالألف والياء وإلى شيء من المقصور والممدود ولو كلف الكاتب ما ذكره من ذكره لجعل الأصعب طريقا للأسهل والأشق مفتاحا للأهون وفي طباع الناس النفار عما ألزمهم من جميع هذه الأشياء, Predicted Gloss: gloss.9440, Correct Gloss: gloss.9439\n",
            "Context: وإلى عمادة كلية الزراعة ممثلة بالأستاذ الدكتور جرجس مخول, Predicted Gloss: gloss.2327, Correct Gloss: gloss.2329\n",
            "Context: وقد بذلت قصارى جهدي في استعمال الكتب البلاغية في تحليل شواهد الحديث الشريف والتعرف على جماليتها وتأثيرها النفسي في القلوب،, Predicted Gloss: gloss.9621, Correct Gloss: gloss.9620\n",
            "Context: ان تراعى العدالة والمساواة فى فرض الايرادات بحيث لا يطالب الفرد بغير ما يفرضه القانون ولا يفرض عليه اكثر مما تحتمله طاقته وتستدعيه الضرورة., Predicted Gloss: gloss.5433, Correct Gloss: gloss.5432\n",
            "Context: من هنا كان الداعي الأساسي لهذه الدراسةِ., Predicted Gloss: gloss.4291, Correct Gloss: gloss.4290\n",
            "Context: مقطع عرضي في فروة الرأس يُظهر جريبات الشعر مع الغدد الدهنية, Predicted Gloss: gloss.3066, Correct Gloss: gloss.3065\n",
            "Context: تقدّم القصة القصيرة والقصيرة جدًا رؤيةً اجتماعيةً بعيدًا عن جفاف التنظير وصخب التوجيه،, Predicted Gloss: gloss.290, Correct Gloss: gloss.289\n",
            "Context: منذ منتصف تسعينيات القرن الماضي زاد اهتمام المسوقين و الباحثين ببيئة العمل الافتراضية و المجتمعات الافتراضية على شبكة الإنترنت و تطبيقاتها و ما تشكل لهم من بيئة ممتازة للترويج لِ منتجاتهم و زيادة الوعي بعلاماتهم التجارية و الاستفادة من آراء زبائنهم و شكاويهم و زيادة تواصلهم مع شرائحهم المستقطبة من قبل الشركات لهدف تحسين جودة خدماتهم و منتجاتهم و العديد من التطبيقات الأخرى ., Predicted Gloss: gloss.7934, Correct Gloss: gloss.7933\n",
            "Context: حب الشباب هو مشكلة شائعةً جدًا،, Predicted Gloss: gloss.6162, Correct Gloss: gloss.6161\n",
            "Context: Chickenpox) يُسبّب هذا المرض طفحًا جلديًا على هيئة بثور،, Predicted Gloss: gloss.1092, Correct Gloss: gloss.1091\n",
            "Context: الفصل الاول الغزو الاجنبي والمقاومة العربية تعريف الغزو الاجنبي واسبابه:, Predicted Gloss: gloss.2369, Correct Gloss: gloss.2368\n",
            "Context: وأعرب البيان عن تعازيه لأسر الضحايا الذين سقطوا في التفجيرات الانتحارية التي نفذها تنظيم القاعدة, Predicted Gloss: gloss.14805, Correct Gloss: gloss.14797\n",
            "Context: للطوائف المختلفة حق تأسيس المدارس لتعليم أفرادها بلغاتها الخاصة،, Predicted Gloss: gloss.1411, Correct Gloss: gloss.1412\n",
            "Context: والعمل على تشجيع الاستثمار ونشر ثقافة الاستثمار نحو مزيد من ثقافة اقتصاد السوق وتفعيل الشراكة بين القطاعين العام والخاص حيث لم يرتق الاخير للقيام بدوره, Predicted Gloss: gloss.5216, Correct Gloss: gloss.5215\n",
            "Context: ورقتان من ورق الغار., Predicted Gloss: gloss.13420, Correct Gloss: gloss.13418\n",
            "Context: والتظلم من قرارات اللجان والأجهزة الإدارية الصادرة بشأنها- على حالات نزع ملكية العقارات للمنفعة العامة السابقة لنفاذه التي وردت أو ترد بها شكاوى بعدم اتباع الإجراءات النظامية بشأنها،, Predicted Gloss: gloss.11781, Correct Gloss: gloss.11780\n",
            "Context: لوحة أجهزة القياس أضواء ومؤشرات التحذير., Predicted Gloss: gloss.6711, Correct Gloss: gloss.6709\n",
            "Context: وأوضح العلماء أن المواد الجديدة هي عبارة عن خليط معدني من التيتانيوم والنيوبيوم،, Predicted Gloss: gloss.6071, Correct Gloss: gloss.6069\n",
            "Context: يحاول أن يتجاهل الدعوات الرسمية المتواترة التي تشير بين الحين والآخر, إلا أن الحكومة لم يعد بمقدورها الاستمرار بالدور الأبوي الذي تأخذ به منذ عقود, وثانيا:, Predicted Gloss: gloss.4773, Correct Gloss: gloss.4765\n",
            "Context: تُوجد في الأعضاء التناسلية في كلا الجنسين لدى الفئران والجرذان., Predicted Gloss: gloss.5585, Correct Gloss: gloss.5586\n"
          ]
        },
        {
          "output_type": "stream",
          "name": "stderr",
          "text": [
            "Evaluating:  91%|█████████ | 4080/4496 [00:08<00:01, 398.76pair/s]"
          ]
        },
        {
          "output_type": "stream",
          "name": "stdout",
          "text": [
            "Context: عَنْ الْمُوَاجَهَةِ عَيْنِيٌّ وَفِي الْقَافِ ثَلَاثُ لُغَاتٍ وَالضَّمُّ أَعْلَاهَا وَقَوْلُهُ إلَى أَسْفَلِ الذَّقَنِ بِفَتْحِ الذَّالِ الْمُعْجَمَةِ وَالْقَافِ وَهُوَ مُجْتَمَعُ لَحْيَيْهِ ( قَوْلُهُ فِي الْمَتْنِ وَيَدَيْهِ بِمِرْفَقَيْهِ ) وَمَا بَيْنَهُمَا مِنْ الْأَصَابِعِ وَالْيَدِ الزَّائِدَتَيْنِ وَيَغْسِلُ الْأَقْطَعُ مَا بَقِيَ مِنْ مَحَلِّ الْفَرْضِ حَتَّى طَرَفَ الْعُضْوِ., Predicted Gloss: gloss.12116, Correct Gloss: gloss.12115\n",
            "Context: جعلتنا نحن القراء نلتمسُ نبرات الألم وعبارات الأمل،, Predicted Gloss: gloss.1116, Correct Gloss: gloss.1115\n",
            "Context: والعلم الذي يتعامل مع تحديد المعدلات لانتقال الطاقة هذه هو علم انتقال الحرارة ., Predicted Gloss: gloss.7464, Correct Gloss: gloss.7465\n",
            "Context: الفصل الاول الغزو الاجنبي والمقاومة العربية تعريف الغزو الاجنبي واسبابه:, Predicted Gloss: gloss.8302, Correct Gloss: gloss.8301\n",
            "Context: فالعينة الطبقيّة تُخفّضُ من خطأِ المعاينة كما ان العينة الطبقية المستحَصل عليها ( تَقسم المجتمع إلى مجموعاتِ غيرِ متَدَاخُلة) وإطار العينات مستند على عامل او البعضِ من ُ العواملِ وبعد ذلك يتم إخْتياَر بَعْض العناصرِ مِنْ كُلّ طبقة مِنْ الطبقاتِ وتدعى َعينة طبقيّة ،, Predicted Gloss: gloss.5556, Correct Gloss: gloss.5555\n",
            "Context: وهذا التعريف يحتوي على ثلاثة مصطلحات أساسية ترتبط ارتباطاً وثيقاً بمفهوم التراث العمراني, فتعرف المباني التراثية بأنها \"تلك المباني التي تعطينا الشعور بالإعجاب وتجعلنا بحاجة إلى معرفة المزيد عن الناس الذين سكنوها وعن ثقافتهم, وفيها قيم جمالية, ومعمارية وتاريخية وأثرية واقتصادية واجتماعية وسياسية\" (Feilden, 1994, P1) وتتسم المباني التاريخية بأنها تحظى بقبول مجتمعي وتفاعل إيجابي من قبل المجتمع من جهة, وأنها تعبر عن ظاهرة ثقافية واجتماعية معبرة عن ظواهر مادية ومعنوية أو فكرية في حقبة زمنية معينة من جهة أخرى., Predicted Gloss: gloss.1050, Correct Gloss: gloss.1049\n",
            "Context: وهنا يكون للعب دور بارز ومهم في حياة الطفل لأنه يمنحه حيزاً من الوقت للبحث والاكتشاف., Predicted Gloss: gloss.6361, Correct Gloss: gloss.6364\n",
            "Context: استثناءً من أحكام نظام مكافحة جرائم الإرهاب وتمويله ،, Predicted Gloss: gloss.3100, Correct Gloss: gloss.3102\n",
            "Context: تقدم مشاريع الديار القطرية للمجتمع منافع اجتماعية واقتصادية وبيئية مميزة ومستدامة ., Predicted Gloss: gloss.10216, Correct Gloss: gloss.10220\n",
            "Context: سينتهي بك الأمر إلى ستة رؤوس حمراء وتسعة زرقاء وتسعة صفراء ., Predicted Gloss: gloss.6018, Correct Gloss: gloss.6008\n",
            "Context: كيفية تطعيم الأطفال توجد طرق عديدة لإعطاء التطعيمات للأطفال،, Predicted Gloss: gloss.380, Correct Gloss: gloss.379\n",
            "Context: ومن الجدير بالذكر أنّها قد تُسبب آثار جانبية شديدة،, Predicted Gloss: gloss.987, Correct Gloss: gloss.986\n",
            "Context: ثمّ يَأْخذُ كُلّ K عنصر بانتظام ., Predicted Gloss: gloss.5546, Correct Gloss: gloss.5544\n",
            "Context: ص 3), وهي أيضاً \"الحيزات الحضارية المتجانسة التي تزخر بمجموعة من المفردات التراثية الواقعة تحت مسمى القانون الخاص بحماية الآثار, فهي ذات ملامح عمرانية متجانسة نابعة من قيم ديناميكية وإستاتيكية تعبر عن خصائص المجتمع حيث نجد القيم العمرانية إلى جانب العادات والتقاليد\" (الدواخلي, 1996:, Predicted Gloss: gloss.7594, Correct Gloss: gloss.7595\n",
            "Context: الإحصاء كموضوع له تاريخ طويل جداً حيث إنّ أصلَ الإحصاء يُشارُ إليه مِن قِبل الكلمة نفسها والتي تَبْدو بأنها إشتقّتْ أمّا مِنْ الكلمةِ اللاتينيةِ أَو مِنْ الكلمةِ الإيطاليةِ 'Statista' أَو قَدْ يَكُون مِنْ الكلمةِ الألمانيةِ ' Statistik ' وإنّ معنى كُلّ هذه الكلماتِ تدل على الحالة السياسية ('political state') ., Predicted Gloss: gloss.4585, Correct Gloss: gloss.4584\n",
            "Context: أرجلهـم كان عليهــم أن يتنّقّلــوا عــدة مــرات بيــن الشــاحنة والبيــت الشــتوي وهــم ينقلــون علــى الزّلّجــات مــا أعــدّوه وأحضـروه مـن حاجـات للصيـد., Predicted Gloss: gloss.9532, Correct Gloss: gloss.9529\n",
            "Context: وفيه تناولت تعريف الحديث الشريف لغة واصطلاحاً،, Predicted Gloss: gloss.3783, Correct Gloss: gloss.3782\n",
            "Context: وتتميـز أعمالهـم بالصيغـة الشـاعرية والفلسـفية المسـتوحاة مـن تاريـخ وتقاليـد الشـعب الشيشـاني., Predicted Gloss: gloss.5660, Correct Gloss: gloss.5653\n",
            "Context: لا تزال هذه التجارب في مراحلها الأولى،, Predicted Gloss: gloss.1633, Correct Gloss: gloss.1634\n",
            "Context: وتُشكّل هذه العناصر اللبنات الأساسية للمنهاج،, Predicted Gloss: gloss.10619, Correct Gloss: gloss.10620\n",
            "Context: إن ظروف و حيثيات تعاقد المؤسسة مع مورد وحيد تختلف عن الظروف و الحيثيات المرافقة للتوريد المتعدد, كما أن نتائج و آثار هذا التعاقد بقي مجهولا على أداء سلسلة التوريد ( وبالحد الادنى غير مقاس) و بالتالي على أداء المنظمة ككل., Predicted Gloss: gloss.1102, Correct Gloss: gloss.1101\n",
            "Context: ونسأله تعالى أن يرزقكم النصر على عدوكم ويردكم إلى دياركم ويختم بالصالحات أعمالنا وأعمالكم،, Predicted Gloss: gloss.3682, Correct Gloss: gloss.3681\n",
            "Context: تمارس وزارة الداخلية ( ومن ثم رئاسة أمن الدولة بعد مباشرتها لمهامها ) اختصاص التحقيق في الجرائم المنصوص عليها في نظام مكافحة جرائم الإرهاب وتمويله إلى حين توافر الإمكانات اللازمة للنيابة العامة لمباشرة اختصاصاتها وفق ما تتفق عليه مع رئاسة أمن الدولة ،, Predicted Gloss: gloss.5398, Correct Gloss: gloss.5401\n",
            "Context: وقـد منحتـه قوتـه البدنيـة وحكمتـه،, Predicted Gloss: gloss.9778, Correct Gloss: gloss.9777\n",
            "Context: وتحت الاشراف المباشر لوزير الحكم المحلي،, Predicted Gloss: gloss.3731, Correct Gloss: gloss.3714\n",
            "Context: وعـاد سـريعًاً برفقـة امـرأة،, Predicted Gloss: gloss.2403, Correct Gloss: gloss.2401\n",
            "Context: حيث إنها افضل طريقة لمنع انتشار الأوبئة بالاضافة الى التعقيم المستمر ومياه الشرب النظيفة،, Predicted Gloss: gloss.728, Correct Gloss: gloss.727\n",
            "Context: ويعلن الشيخ (الحكم) انطلاق مباراة الهوكي فوق الرمال\"., Predicted Gloss: gloss.3731, Correct Gloss: gloss.3713\n",
            "Context: وباستخدام مجموعات البيانات المدرَّبة هذه،, Predicted Gloss: gloss.3013, Correct Gloss: gloss.3012\n"
          ]
        },
        {
          "output_type": "stream",
          "name": "stderr",
          "text": [
            "\rEvaluating:  92%|█████████▏| 4121/4496 [00:09<00:01, 367.74pair/s]"
          ]
        },
        {
          "output_type": "stream",
          "name": "stdout",
          "text": [
            "Context: وأعرب \" اخريص \" عن استغرابه من التحجج بالحرب في أوكرانيا مع أن المحصول المزمع توريده لليبيا منها مازال في طور الزراعة،, Predicted Gloss: gloss.7124, Correct Gloss: gloss.7122\n",
            "Context: بسم الله الرحمن الرحيم, Predicted Gloss: gloss.11773, Correct Gloss: gloss.11772\n",
            "Context: كما أنَّ استخدام الحيوانات يعود علينا بفوائد كثيرة كالغذاء والنقل وصناعات الأدوية،, Predicted Gloss: gloss.6257, Correct Gloss: gloss.6253\n",
            "Context: أغمضـت عينيهـا ثـم فتحتهمـا مجـددًاً., Predicted Gloss: gloss.6855, Correct Gloss: gloss.6851\n",
            "Context: ونطوف في الولايات نقول أن مشاكل السودان خاصة في مناطق النزاعات القبلية والجهوية لا تحل الا بالدين والنبي صلى الله عليه وسلم عندما بعث وجد الشتات بين القبائل فجمعه وحل النزاع بينهم واجتمعت جميع الأعراق بفضل الدين ولا تحل مشاكلنا إلا بغرس القيم الشرعية في مجتمعاتنا بمختلف الطوائف والأشكال والسحنات هذه المسائل نعتبرها إضافة للسودان وعنصر من عناصر القوة الموجودة في مجتمعاتنا وبيئاتنا وطوائفنا المختلفة مفترض ان تكون عناصر قوة ولكنها الآن أصبحت عناصر ضعف وأسباب لإشكالات ونزاعات وتفرق مجتمعاتنا بسبب الحروبات والخلافات ولذلك لن تحل هذه الإشكالات إلا بنشر قيم الدين في هذه المجتمعات., Predicted Gloss: gloss.8118, Correct Gloss: gloss.8088\n",
            "Context: المملكة الأردنية الهاشمية رقم الإيداع لدى دائرة المكتبة الوطنية, Predicted Gloss: gloss.4608, Correct Gloss: gloss.4612\n",
            "Context: أشـدِّد فـي الكتـاب علـى تـورُّط المصلحـة السياسـية والاقتصاديـة القويـة فـي التهريـب ،, Predicted Gloss: gloss.4077, Correct Gloss: gloss.4074\n",
            "Context: انتقال الحرارة بالتوصيل :, Predicted Gloss: gloss.576, Correct Gloss: gloss.578\n",
            "Context: تذكروا التاريخ الرياضي الجميل والبطولات التي حققناها في الألعاب الرياضية المختلفة التي أصبحت بعيدة عن ضجيج وصخب كرة القدم وتقبع في زاوية التهميش منزوية والجمهور نسى الألعاب الأخرى التي كانت ذات يوم صاحبة الشعبية الثانية والإداريين أهملوا الاكتشاف،, Predicted Gloss: gloss.2748, Correct Gloss: gloss.2749\n",
            "Context: فكانت لهم اخبار وقصص يتناقلونها بصورة شفهية ،, Predicted Gloss: gloss.3314, Correct Gloss: gloss.3316\n",
            "Context: و في هذا الإطار, دعا السيد بلعيد, إلى ضرورة \"تعميم استعمال اللغة العربية في مختلف العلوم وفي كل مناحي الحياة, وتشجيع الباحثين وتحفيزهم معنويا وماديا للأبداع بالعربية إلى جانب ضرورة الإهتمام بالبحوث التربوية والعلمية والترجمية تحقيقا للأمن الثقافي و تفعيل المجامع والمؤسسات والمجالس العليا ومراكز البحوث العاملة على تطوير اللغة العربية بمنهجيات حديثة\"., Predicted Gloss: gloss.1684, Correct Gloss: gloss.1685\n",
            "Context: كالكهرباء وشبكات المياه والهاتف والغاز والصرف الصحي والخطوط الحديدة والطرق العامة ونحوها،, Predicted Gloss: gloss.752, Correct Gloss: gloss.733\n",
            "Context: تمتلك الغدد الدُهنية هيكل عُنَيبي شَبيه بالتوت كثير الفصوص،, Predicted Gloss: gloss.6227, Correct Gloss: gloss.6225\n",
            "Context: فقد خلص الباحث إلى بعض النتائج منها اتسام الأداء التمثيلي للشخصية الخيالية في عينة البحث بطابع المبالغة في الكثير من تفاصيل أداء الممثل للشخصية وإبراز معالمها., Predicted Gloss: gloss.14178, Correct Gloss: gloss.14177\n",
            "Context: في حين أنه في كائنات أخرى،, Predicted Gloss: gloss.787, Correct Gloss: gloss.786\n",
            "Context: (2) توجد فروق ذات دلالة إحصائية بين متوسطات درجات مجموعتي الدراسة (التجريبية والضابطة) في اختبار التفكير الابتكارى فى هندسة الدائرة لصالح المجموعة التجريبية يرجع إلى نمط البرنامج المستخدم القائم على تكنولوجيا الوسائط المتعددة التفاعلية عند مستوى دلالة 0., Predicted Gloss: gloss.1611, Correct Gloss: gloss.1614\n",
            "Context: يقول ياقوت الحموي في كتابه معجم البلدان «حَجْرٌ بالفتح يقال حجَرْت عليه حجْراً إذا منعته فهو محجور والحِجر بالكسر بمعنى واحد, Predicted Gloss: gloss.8720, Correct Gloss: gloss.8719\n",
            "Context: و تواصلت أشغال الملتقى باستعراض عديد المداخلات على غرار \"النحو العربي والمنطق الرياضي\", إيقاع اللغة مقاربة في موسيقية اللغة العربية\", الطوبونوميا والعلوم قراءة عابرة للتخصصات في ظل نظم المعلومات الجغرافية\", \"مقاربات فيزيائية للصوت اللغوي في التراث اللساني العربي\"., Predicted Gloss: gloss.9383, Correct Gloss: gloss.9381\n",
            "Context: مقتدٍ برسول الرّحمة والخير (( اللهم صلّ على محمد و آله أجمعين وعجّل فرجهم)), Predicted Gloss: gloss.3835, Correct Gloss: gloss.3834\n",
            "Context: وفي الختام هذه رسالة أبلغوني إياها فأنا حرمت من إقامة المعارض بالخيام وأمامي اليوم خيمة, Predicted Gloss: gloss.8261, Correct Gloss: gloss.8266\n",
            "Context: تابع التلوين خارج المثلث بحيث تلون رأس أي مثلث - يشترك مع المثلث الأساسي بضلع مشترك - بلون مختلف عن لوني الرأسين المشتركين ., Predicted Gloss: gloss.6018, Correct Gloss: gloss.6008\n"
          ]
        },
        {
          "output_type": "stream",
          "name": "stderr",
          "text": [
            "Evaluating:  93%|█████████▎| 4200/4496 [00:09<00:00, 367.57pair/s]"
          ]
        },
        {
          "output_type": "stream",
          "name": "stdout",
          "text": [
            "Context: ‮ ‬والمكوّنات الأساسيّة لهوّيّتها،, Predicted Gloss: gloss.10702, Correct Gloss: gloss.10703\n",
            "Context: كما أتقدم بخالص شكري وأمتناني إلى عمادة كلية الهندسة التقنية ممثلة بالدكتورة ميساء شاش لما قدمته وما زالت تقدمه لي ولكامل زملائي في الكلية من دعم وتشجيع للمضي بشعلة العلم والمعرفة في وطننا الحبيب, وأشكر العمادة لإتاحة الفرصة لي لإكمال دراستي هذه والتي كان لها الفضل بتذليل المصاعب التي واجهتني, كما وأشكر أعضاء الهيئة التعليمية في الكلية وفي قسم المكننة الزرعية على كامل الدعم وعلى النصائح والإرشادات التي قدموها لي لإغناء هذا البحث., Predicted Gloss: gloss.3633, Correct Gloss: gloss.3631\n",
            "Context: كل ما شيده الإنسان من مدن وقرى وأحياء ومبانٍ وحدائق ذات قيمة تاريخية أثرية, أو معمارية, أو عمرانية, أو اقتصادية, أو تاريخية, أو علمية, أو ثقافية, أو وظيفية, ويتم تحيدها وتصنيفها وفقاً لما يلي:, Predicted Gloss: gloss.10834, Correct Gloss: gloss.10833\n",
            "Context: وقد تكون هذه الثعابين مصنوعة من خشب أو حجر أو فضة،, Predicted Gloss: gloss.11704, Correct Gloss: gloss.11693\n",
            "Context: على الجميع أن يتحملوا متضامنين التكاليف الناتجة عن الكوارث التي تصيب البلاد., Predicted Gloss: gloss.432, Correct Gloss: gloss.434\n",
            "Context: خارطة تظهر أبرز المعارك التي وقعت أثناء حُرُوب الرَّدة وفيها موقع معركة اليمامة التي وقعت في عقرباء بالقرب من حجر, Predicted Gloss: gloss.2983, Correct Gloss: gloss.2982\n",
            "Context: ولم تظهر في أعمال أو لقاءات تليفزيونية ،, Predicted Gloss: gloss.2619, Correct Gloss: gloss.2614\n",
            "Context: وينظر الآن للتراث العمراني بشكل متزايد ليس فقط باعتباره ذكريات مهمة من الماضي تساعد على تشكيل إحساسنا بالهوية والمكان, Predicted Gloss: gloss.10726, Correct Gloss: gloss.10720\n",
            "Context: كوجود مرض معين وكذلك المنتج اما تالف او صالح عند الفحص و نتيجة الطالب النهائية اما نجاح او فشل ،, Predicted Gloss: gloss.4801, Correct Gloss: gloss.4803\n",
            "Context: هذا التعريفِ يُمْكِنُ أَنْ يُؤْخَذَ كتعريف شامل مِنْ الإحصائياتِ لان أكثر خصائصِ الإحصائياتِ غطّي بواسطته ., Predicted Gloss: gloss.372, Correct Gloss: gloss.371\n",
            "Context: واصفة أي تدخلات إيرانية في شؤون الدول, Predicted Gloss: gloss.3985, Correct Gloss: gloss.3968\n",
            "Context: - من الصعبُ جداً للعقل البشري التعامل مع حجم كبير مِنْ الأرقامِ العدديةِ ،, Predicted Gloss: gloss.4797, Correct Gloss: gloss.4796\n",
            "Context: مِمَّا يُؤدِّي إلى بُطءٍ في الإنتاج،, Predicted Gloss: gloss.3307, Correct Gloss: gloss.3306\n",
            "Context: العلامة Bluetooth هي علامة تجارية مسجلة لشركة Bluetooth SIG, Inc., Predicted Gloss: gloss.2774, Correct Gloss: gloss.2772\n",
            "Context: دراسة أعدت لنيل درجة الماجستير في قسم هندسة القوى الميكانيكية, Predicted Gloss: gloss.2323, Correct Gloss: gloss.2322\n",
            "Context: والله لئن قتلتموه لأتخذنه حناناً., Predicted Gloss: gloss.2072, Correct Gloss: gloss.2071\n",
            "Context: كحصان بشري،, Predicted Gloss: gloss.11582, Correct Gloss: gloss.11577\n",
            "Context: فالمؤدي لا يمتلك مهارات جسمانية أو صوتية تصب في بناء الشخصية الافتراضية., Predicted Gloss: gloss.8164, Correct Gloss: gloss.8163\n",
            "Context: ٣٦٧ نظام ضمان السلامة السابقة للتصادم PCS., Predicted Gloss: gloss.3268, Correct Gloss: gloss.3267\n",
            "Context: إعداد طالب الدراسات العليا, Predicted Gloss: gloss.235, Correct Gloss: gloss.236\n"
          ]
        },
        {
          "output_type": "stream",
          "name": "stderr",
          "text": [
            "Evaluating:  95%|█████████▌| 4278/4496 [00:09<00:00, 366.02pair/s]"
          ]
        },
        {
          "output_type": "stream",
          "name": "stdout",
          "text": [
            "Context: ومن المعلوم أنَّ علم المعاني هو أكثر العلوم غزارة من جانب المادة العلمية إذ يشتمل على ثمانية فنون في حين يشتمل علم البيان على ثلاثة فنون،, Predicted Gloss: gloss.4760, Correct Gloss: gloss.4764\n",
            "Context: حيـث انضـم إلـى جمعيـة النـاس الأحـرار،, Predicted Gloss: gloss.6424, Correct Gloss: gloss.6423\n",
            "Context: العد لذلك الصفِّ والمُرفَقُ بعلامات الحصرِ ( ) يمثل قيمة الوسيط ., Predicted Gloss: gloss.2562, Correct Gloss: gloss.2564\n",
            "Context: يرتبط كل عنصر من المجال بالعنصر الذي يزيد عليه قيمة بمقدار 2 من المدى., Predicted Gloss: gloss.3094, Correct Gloss: gloss.3089\n",
            "Context: تصحيح إيمانه ثم معرفة ما يصلح به فرض عينه كأحكام الصلاة والطهارة والصيام., Predicted Gloss: gloss.5976, Correct Gloss: gloss.5970\n",
            "Context: نضيع أعمارنا في خرافات حب ونسكن عصرا مهانا ؟, Predicted Gloss: gloss.15402, Correct Gloss: gloss.15394\n",
            "Context: مع ملاحظة أن المعالج في الهاتف الجديد هو 1., Predicted Gloss: gloss.10597, Correct Gloss: gloss.10601\n",
            "Context: تقييم كتاب الفيزياء للصف التاسع الأساسي في الأردن في ضوء معايير المحتوى العالمية للتربية العلمية, Predicted Gloss: gloss.1777, Correct Gloss: gloss.1774\n",
            "Context: التطعيم ضد شلل الأطفال (الجرعة الصفرية):, Predicted Gloss: gloss.354, Correct Gloss: gloss.353\n",
            "Context: وكانت البيانات الاولية من ادارة الصرف الاجنبي الحكومية قد اظهرت فائضا في الحساب الجاري قدره 61., Predicted Gloss: gloss.2619, Correct Gloss: gloss.2614\n",
            "Context: (3) البرنامج المستخدم له فعالية فى تنمية مهارات التفكير الابتكاري فى الهندسة لدى التلاميذ حيث كانت قيمة مربع, Predicted Gloss: gloss.8150, Correct Gloss: gloss.8149\n",
            "Context: Meningococcla Conjugate quadrivalent) واختصارًا MCV4 عمر 12 شهر شلل الأطفال الفموي الثلاثي الفيروسي البكتيريا العقدية الرئوية الحمى الشوكية الرباعي المقترن عمر 18 شهر شلل الأطفال الفموي الثلاثي البكتيري المستدمية النزلية الثلاثي الفيروسي جدري الماء الالتهاب الكبدي أ عمر 24 شهر الالتهاب الكبدي أ عند دخول الصف الأول الابتدائي شلل الأطفال الفموي الثلاثي البكتيري وربما يُعطى الثنائي البكتيري الثلاثي الفيروسي جدري الماء, Predicted Gloss: gloss.1110, Correct Gloss: gloss.1105\n",
            "Context: ويعود هذا بشكل كبير إلى آليتها الإمراضية غير المؤكدة تماماً،, Predicted Gloss: gloss.536, Correct Gloss: gloss.537\n",
            "Context: الحمد لله رب العالمين،, Predicted Gloss: gloss.2541, Correct Gloss: gloss.2540\n",
            "Context: وتشمل المباني ذات الأهمية التاريخية والأثرية والفنية والعلمية والاجتماعية بما فيها الزخارف والأثاث الثابت المرتبط بها والبيئة المرتبطة بها., Predicted Gloss: gloss.10845, Correct Gloss: gloss.10840\n",
            "Context: مواد وطرائق البحث\t25, Predicted Gloss: gloss.3916, Correct Gloss: gloss.3918\n",
            "Context: و أشارت المتحدثة في إفتتاح التظاهرة أن المجلس الأعلى للغة العربية من خلال اختيار إشكالية الملتقى يهدف إلى \"الاستئناس بما كتب حول الدراسات البينية مستهديا بموضوعات هذا الحقل المعرفي الذي يسعى إلى جمع ما تشظى من العلوم والمعارف في محاولة منه لإعادة ربط جسور المعرفة فيما بينها لتكون اللغة نافذة العقل والروح\"., Predicted Gloss: gloss.2399, Correct Gloss: gloss.2396\n",
            "Context: إعداد طالبة الدّراسات العليا, Predicted Gloss: gloss.235, Correct Gloss: gloss.236\n",
            "Context: 6\tتوزع أفراد العيّنة حسب الفئات العمرية\t36, Predicted Gloss: gloss.812, Correct Gloss: gloss.814\n",
            "Context: أن المملكة المغربية قررت مطالبة السفير السوري المعتمد لديها بمغادرة المملكة باعتباره شخصا غير مرغوب فيه ., Predicted Gloss: gloss.7977, Correct Gloss: gloss.7976\n",
            "Context: شعار المملكة:, Predicted Gloss: gloss.7444, Correct Gloss: gloss.7443\n",
            "Context: كما أنه يجب تطوير التطبيقات من أجل توفير المعلومات الكافية لسلطة التخطيط لاتخاذ قرار مستنير بشأن الأثر المحتمل على التراث العمراني., Predicted Gloss: gloss.4940, Correct Gloss: gloss.4939\n",
            "Context: تتكون لديه الرغبة الجامحة في صنع عالمه الخاص به والتعايش معه دون أن يكون هناك أية ضوابط أو قوانين تعمل على رسم الخطوط الرئيسة التي من شأنها أن تجعل من ذلك العالم المتخيل من قبله خيالاً لا يخضع لأي أسس أو قوانين،, Predicted Gloss: gloss.2967, Correct Gloss: gloss.2965\n"
          ]
        },
        {
          "output_type": "stream",
          "name": "stderr",
          "text": [
            "Evaluating:  97%|█████████▋| 4349/4496 [00:09<00:00, 310.31pair/s]"
          ]
        },
        {
          "output_type": "stream",
          "name": "stdout",
          "text": [
            "Context: محتويات ١ تطعيمات الأطفال ٢ فوائد تطعيم الأطفال ٣ الأمراض التي تُغطى بالتطعيمات ٤ أنواع تطعيمات الأطفال ٥ كيفية تطعيم الأطفال ٦ الآثار الجانبية لتطعيمات الأطفال ٧ جدول التطعيمات في بعض الدول العربية ٨ فيديو تعريف المطاعيم وكيفية التعامل معها ٩ المراجع ما هي تطعيمات الأطفال تطعيمات الأطفال تُعد المطاعيم التي تُعطى للأطفال وسيلة لخلق مناعة تجاه بعض الأمراض التي من الممكن أن تصيبهم،, Predicted Gloss: gloss.351, Correct Gloss: gloss.349\n",
            "Context: اما الاستجابة الترتيبية (ordinal response) فهي عبارة عن متغيرات مصنفة (categories) والتي تمتلك ثلاث او اكثر من مستويات الاستجابة بامكانية ترتيب طبيعية مثل الاجابه لسوال الاستبانه لا اتفق تماما ،, Predicted Gloss: gloss.4925, Correct Gloss: gloss.4922\n",
            "Context: نظـرت نيكـول إلـي وتسـّنّى لـي أن أفهـم أنهـا تريـد أن تتدخـل مـن دون أن تعـرف كيـف., Predicted Gloss: gloss.5123, Correct Gloss: gloss.5129\n",
            "Context: 1-2-2-7- محتوى التربة من الكربونات الكلية\t16, Predicted Gloss: gloss.351, Correct Gloss: gloss.349\n",
            "Context: عروض الفرقة الوطنية لمسرح الطفل في دائرة السينما والمسرح،, Predicted Gloss: gloss.14237, Correct Gloss: gloss.14233\n",
            "Context: والتظلم من قرارات اللجان والأجهزة الإدارية الصادرة بشأنها- على حالات نزع ملكية العقارات للمنفعة العامة السابقة لنفاذه التي وردت أو ترد بها شكاوى بعدم اتباع الإجراءات النظامية بشأنها،, Predicted Gloss: gloss.2639, Correct Gloss: gloss.2636\n",
            "Context: تطورت اللغات عبر آلاف السنين لتلبي احتياجات الإنسان, Predicted Gloss: gloss.206, Correct Gloss: gloss.205\n",
            "Context: لكـن لا يمكـن القـول إنهـا نالـت فـي هـذا الأدب الاهتمـام الـذي تسـتحقه تجربـة اسـتعمارية دامـت أكثـر مـن قـرن واختتمـت بحـرب شـعواء عــادت للجزائــر بلقــب بلــد المليــون شــهيد., Predicted Gloss: gloss.2323, Correct Gloss: gloss.2322\n",
            "Context: والقاعدة الصغرى مساوية لعرض اللون الأبيض،, Predicted Gloss: gloss.2693, Correct Gloss: gloss.2669\n",
            "Context: واجه الفريق تحديًا كبيرًا في المباراة النهائية, Predicted Gloss: gloss.204, Correct Gloss: gloss.200\n",
            "Context: وتتولى الشبكة التوليدية إنتاج مخرجاتٍ اصطناعية كالصور مثلًا،, Predicted Gloss: gloss.3307, Correct Gloss: gloss.3306\n",
            "Context: مؤيدة بأحكام قضائية بذلك،, Predicted Gloss: gloss.3731, Correct Gloss: gloss.3713\n",
            "Context: كانت الخوارزميات أكثر قدرة على تعلّم ما يمكن البحث عنه في صور علم الأمراض., Predicted Gloss: gloss.3115, Correct Gloss: gloss.3113\n",
            "Context: وهو حامي حمى الدين،, Predicted Gloss: gloss.4111, Correct Gloss: gloss.4110\n",
            "Context: وأبدى المستشار لدى رئيس الجمهورية المكلف بالثقافة والسمعي البصري, أحمد راشدي, إعجابه أيضا بهذا العمل معتبرا أنه \"مختلف عما شاهدناه سابقا\" وأن \"مثل هذا النوع من الأفلام هي التي يجب تشجيعها\"., Predicted Gloss: gloss.345, Correct Gloss: gloss.346\n",
            "Context: ولا يتحمل المعهد أية مسؤولية جراء هذا العمل)), Predicted Gloss: gloss.7681, Correct Gloss: gloss.7680\n",
            "Context: قربت من الاعتدال الحقيقي وأما باعتبار كل عضو في نفسه إلا عضوا واحدا وهو الجلد على ما نصفه بعد ., Predicted Gloss: gloss.3258, Correct Gloss: gloss.3256\n",
            "Context: وفي عام جرت سلسلة تفجيرات في مجمعات سكنية يقطنها أغلبية من المقيمون عرفت إحداها بتفجيرات مجمع المحيا السكني خلفت في مجملها قتيل و مصاب وأعلنت الجهات الأمنية السعودية مسؤولية تنظيم القاعدة عنها, Predicted Gloss: gloss.3682, Correct Gloss: gloss.3679\n",
            "Context: من اين تأخذون الألفاظ العامية؟, Predicted Gloss: gloss.15777, Correct Gloss: gloss.15776\n"
          ]
        },
        {
          "output_type": "stream",
          "name": "stderr",
          "text": [
            "\rEvaluating:  97%|█████████▋| 4381/4496 [00:09<00:00, 307.34pair/s]"
          ]
        },
        {
          "output_type": "stream",
          "name": "stdout",
          "text": [
            "Context: لكن ومن خلال استخدام البيانات المصطنعة المدربة على مجموعات بيانات أكبر بكثير،, Predicted Gloss: gloss.3013, Correct Gloss: gloss.3012\n",
            "Context: ولذلك فقد اتفق على أن تستخدم في حسابها وحدة خاصة هي السنة الضوئية Light Year وهي المسافة التي يقطعها الضوء \"وسرعته 300 ألف كيلو متر في الثانية\" في سنة كاملة،, Predicted Gloss: gloss.11242, Correct Gloss: gloss.11246\n",
            "Context: ‮ ‬حتّى الحروب التّحريريّة من الاستعمار،, Predicted Gloss: gloss.8471, Correct Gloss: gloss.8472\n",
            "Context: هـو “شـعلة الحطـب” برنـار،, Predicted Gloss: gloss.10345, Correct Gloss: gloss.10344\n",
            "Context: الدستور حسبما ورد في تقرير اللجنة الوطنية للإحصاء., Predicted Gloss: gloss.8858, Correct Gloss: gloss.8857\n",
            "Context: التقويم يعني بيان السنة والشهر واليوم وضبطها ., Predicted Gloss: gloss.8170, Correct Gloss: gloss.8169\n",
            "Context: ومـن يريـد أن يطالـع مـا يكتـب عـن مشـاهد القتـال المتواصـل., Predicted Gloss: gloss.1864, Correct Gloss: gloss.1861\n",
            "Context: لا يمكن منح الكائنات الحية حريات طبيعية مطلقة دون ضوابط, Predicted Gloss: gloss.4742, Correct Gloss: gloss.4740\n",
            "Context: من المنطقي أن تقوم المؤسسات بالبحث عن أفضل الموردين القادرين على تلبية متطلبات المؤسسة من بضائع أو خدمات بأقل الأسعار وأفضل جودة ضمن الوقت المطلوب و الشروط اللوجستية المرغوبة, ولكن تطور متطلبات الأعمال و اختلاف رغبات الزبائن و الظروف السوقية سريعة التطور أوجبت على العديد من المؤسسات اللجوء إلى التعاقد مصدر وحيد يتميز بقدرته على تلبية احتياجات المؤسسة دونًا عن باقي الموردين في السوق., Predicted Gloss: gloss.4792, Correct Gloss: gloss.4791\n",
            "Context: وَإِنَّا لَجَاعِلُونَ مَا عَلَيْهَا صَعِيدًا جُرُزًا, Predicted Gloss: gloss.1050, Correct Gloss: gloss.1049\n",
            "Context: ولا يحل له أن ينظر إلى مسلم بنظرة تؤذيه إلا أن يكون فاسقاً فيجب هجرانه ويجب عليه حفظ جميع جوارحه ما استطاع., Predicted Gloss: gloss.5123, Correct Gloss: gloss.5129\n",
            "Context: ويعيـش فـي بـلاد حـرة وغنيـة مثـل أمريـكا؟, Predicted Gloss: gloss.13791, Correct Gloss: gloss.13790\n",
            "Context: إننا قصرنا في تحرير العبارة فما كل قارئٍ يحتاج إلى الإنشاء البديع ولا يرى العلماء إننا عدلنا عن طريقهم زهداً أو كراهة وإنما نقدم كل عدد بعبارات ومواضيع تخالف ما تقدمها ترويحاً للنفوس وترويجاً لبضاعة الأدب., Predicted Gloss: gloss.2344, Correct Gloss: gloss.2342\n",
            "Context: ومن ثمّ رفع القطع من الزيت ونقلها على ورق المطبخ وتركها إلى أن تصبح باردة., Predicted Gloss: gloss.8439, Correct Gloss: gloss.8440\n",
            "Context: تطلـع حواليـه،, Predicted Gloss: gloss.14271, Correct Gloss: gloss.14270\n",
            "Context: والقسم الأول هو الاعتدال الذي للإنسان بالقياس إلى سائر الكائنات وهو شيء له عرض وليس منحصرا في حد وليس ذلك أيضا كيف اتفق بل له في الإفراط والتفريط حدان إذا خرج عنهما بطل المزاج عن أن يكون مزاج إنسان ., Predicted Gloss: gloss.2260, Correct Gloss: gloss.2263"
          ]
        },
        {
          "output_type": "stream",
          "name": "stderr",
          "text": [
            "Evaluating:  99%|█████████▉| 4442/4496 [00:10<00:00, 279.47pair/s]"
          ]
        },
        {
          "output_type": "stream",
          "name": "stdout",
          "text": [
            "\n",
            "Context: قـوات بقيـادة قائـد جيـش منطقـة قـازان سـتولنيك إيفـان موراشـكين الـذي أعـدم مـن قبـض عليهـم،, Predicted Gloss: gloss.9010, Correct Gloss: gloss.9009\n",
            "Context: كان يتكلم بالرأى فيخطئ ويصيب ., Predicted Gloss: gloss.432, Correct Gloss: gloss.431\n",
            "Context: طريـق الحريـر ., Predicted Gloss: gloss.14707, Correct Gloss: gloss.14701\n",
            "Context: كبلاد الهند التي تضمّ مجموعةً من العادات الغريبة التي تسجّلها أعين الكاميرات،, Predicted Gloss: gloss.2774, Correct Gloss: gloss.2772\n",
            "Context: الهدف هو إنشاء منتجات وعمليات وسياسات – طرق جديدة للحياة – تتكيف بشكل جيد مع الحياة على الأرض على المدى الطويل., Predicted Gloss: gloss.5449, Correct Gloss: gloss.5448\n",
            "Context: بنغازي 27 فبراير 2022 م ( وال ) - تتجه أنظار العالم هذه الأيام نحو الأزمة التي اندلعت بين روسيا وأوكرانيا والتوترات الحاصلة في المنطقة إثر الاجتياح الروسي للأراضي الأوكرانية والتي تنذر بوقوع أزمات اقتصادية في العالم أجمع ،, Predicted Gloss: gloss.2983, Correct Gloss: gloss.2982\n",
            "Context: 470), وهذا الفهم في كثير من الأحيان لا يشمل المناطق السكنية التاريخية ومراكز المدن التاريخية التي تمثل تراثاً عمرانياً, بالإضافة إلى ذلك, قد يكون هناك عناصر غير ملموسة من التراث العمراني مثل العادات والمعتقدات والتي تؤدي دوراً أساسياً لتوضيح استخدام الفضاء والبيئة العمرانية., Predicted Gloss: gloss.8164, Correct Gloss: gloss.8163\n",
            "Context: والآخر خاص ببيان الإجراءات التي تتبع في رفع الدعوى للمحكمة المختصة بالنظر والفصل فيها, Predicted Gloss: gloss.1411, Correct Gloss: gloss.1408\n",
            "Context: لماذا نحاول ملكا, Predicted Gloss: gloss.3434, Correct Gloss: gloss.3433\n",
            "Context: التطعيم ضد شلل الأطفال (الجرعة الأولى):, Predicted Gloss: gloss.898, Correct Gloss: gloss.897\n",
            "Context: - بافتراض توفر البيانات التالية عن المتغير X_i والذي يمثل كمية المبيعات الشهرية لشركة الصناعات الالكترونية من الاجهزة الكهربائية, Predicted Gloss: gloss.5245, Correct Gloss: gloss.5244\n",
            "Context: فعلى الرغم من عدم وجود نظريةٍ عامة تحدد أسبابها (7,8)؛, Predicted Gloss: gloss.2642, Correct Gloss: gloss.2641\n",
            "Context: فـكأن “المؤسّسـة” الأدبيـة الفرنسـية قـد أحجمـت بكاملهـا عـن معالجـة هـذه الحـرب،, Predicted Gloss: gloss.2268, Correct Gloss: gloss.2269\n",
            "Context: فَما رَوضَةٌ بِالحَزنِ طَيِّبَةُ الثرى يَمُجُّ النَدى جَثجاثُها وَعِرارُهـا, Predicted Gloss: gloss.12143, Correct Gloss: gloss.12141\n",
            "Context: فاهتموا بتتبع حياة الرسول محمد) ( وسيرته واحاديثه وبحروب التحرير التي خاضها العرب المسلمون ضد الفرس والروم ،, Predicted Gloss: gloss.8123, Correct Gloss: gloss.8121\n",
            "Context: على سمو نائب رئيس مجلس الوزراء والوزراء ورؤساء الأجهزة المعنية المستقلة – كل فيما يخصه – تنفيذ مرسومنا هذا ., Predicted Gloss: gloss.4042, Correct Gloss: gloss.4038\n",
            "Context: فكُلّ إدارة رسمية في الماضي تجَمعَ وتحلّلَ البياناتَ ،, Predicted Gloss: gloss.4777, Correct Gloss: gloss.4775\n",
            "Context: واستطاع المخرج في هذا العمل الناطق بالقبائلية من أن ينقل المشاهد إلى عوالم جميلة تميز منطقة القبائل كالطبيعة الساحرة لجبالها وتراثها الموسيقي ولباسها التقليدي وعاداتها وتقاليدها غير أنه يندد في نفس الوقت بنفاق متدينيها وعالمها الذكوري القاسي ومعاناة نسائها ووجعهن الصامت., Predicted Gloss: gloss.9543, Correct Gloss: gloss.9542\n",
            "Context: أدى اليمين الدستورية أمام الرئيس بشار الأسد أمس،, Predicted Gloss: gloss.4042, Correct Gloss: gloss.4038\n",
            "Context: المملكة الأردنية الهاشمية رقم الإيداع لدى دائرة المكتبة الوطنية, Predicted Gloss: gloss.3789, Correct Gloss: gloss.3786\n",
            "Context: ٢٢٢ ذاكرة موضع القيادة., Predicted Gloss: gloss.6129, Correct Gloss: gloss.6128\n",
            "Context: بعض التوزيعات المستمرة ( التوزيع المنتظم ،, Predicted Gloss: gloss.4709, Correct Gloss: gloss.4707\n",
            "Context: توجهت الأبحاث العلمية في الآونة الأخيرة إلى موضوع التصاميم المستوحاة من المخلوقات في الطبيعة وخاصة في مجال العلوم الهندسية والعلوم التقنية., Predicted Gloss: gloss.4742, Correct Gloss: gloss.4741\n",
            "Context: او استخدام صيغة سترجس (sturges) وتوصف بالاتي, Predicted Gloss: gloss.5660, Correct Gloss: gloss.5651\n",
            "Context: و في هذا الإطار, دعا السيد بلعيد, إلى ضرورة \"تعميم استعمال اللغة العربية في مختلف العلوم وفي كل مناحي الحياة, وتشجيع الباحثين وتحفيزهم معنويا وماديا للأبداع بالعربية إلى جانب ضرورة الإهتمام بالبحوث التربوية والعلمية والترجمية تحقيقا للأمن الثقافي و تفعيل المجامع والمؤسسات والمجالس العليا ومراكز البحوث العاملة على تطوير اللغة العربية بمنهجيات حديثة\"., Predicted Gloss: gloss.470, Correct Gloss: gloss.471\n"
          ]
        },
        {
          "output_type": "stream",
          "name": "stderr",
          "text": [
            "Evaluating: 100%|██████████| 4496/4496 [00:10<00:00, 439.19pair/s]"
          ]
        },
        {
          "output_type": "stream",
          "name": "stdout",
          "text": [
            "Context: وتطال أعناقهم إلى تواريخ الأمم الخالية،, Predicted Gloss: gloss.10992, Correct Gloss: gloss.10988\n",
            "Context: وفــي مطلــع الثلاثينــات نشــرت أول روايــة شيشــانية بقلــم ســعيد بــادروف., Predicted Gloss: gloss.1599, Correct Gloss: gloss.1590\n",
            "Context: ذلك إلى أن يبلغ الملك سن الرشد،, Predicted Gloss: gloss.9745, Correct Gloss: gloss.9743\n",
            "Context: وباعتباره وسيلة الأنظمة التعليمية لتشكيل الخبرات التربوية؛, Predicted Gloss: gloss.10674, Correct Gloss: gloss.10664\n",
            "Context: وعرفه (أبراهامز) عندما قدم النظرية البلاغية للفولكلور:, Predicted Gloss: gloss.5543, Correct Gloss: gloss.5538\n",
            "Context: وهي صفات للاستجابة الثنائية والتي توضح بصورة ادق بالمثال التالي ., Predicted Gloss: gloss.5332, Correct Gloss: gloss.5328\n",
            "Context: ان متغير بيانات الاستجابه الثنائية (binary response) يمتلك حالتين فقط مثل وجود او عدم الصفة ،, Predicted Gloss: gloss.5332, Correct Gloss: gloss.5328\n",
            "Evaluation Completed - Elapsed Time: 10.25s\n",
            "Test Accuracy: 0.6815\n"
          ]
        },
        {
          "output_type": "stream",
          "name": "stderr",
          "text": [
            "\n"
          ]
        }
      ]
    }
  ]
}